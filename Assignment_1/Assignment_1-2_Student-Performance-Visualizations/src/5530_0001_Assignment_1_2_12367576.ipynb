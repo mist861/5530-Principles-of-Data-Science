{
  "nbformat": 4,
  "nbformat_minor": 0,
  "metadata": {
    "colab": {
      "provenance": []
    },
    "kernelspec": {
      "name": "python3",
      "display_name": "Python 3"
    },
    "language_info": {
      "name": "python"
    }
  },
  "cells": [
    {
      "cell_type": "markdown",
      "source": [
        "# Student Performance - Visualizations"
      ],
      "metadata": {
        "id": "Pbk_sqDW5eLg"
      }
    },
    {
      "cell_type": "markdown",
      "source": [
        "### Import Packages"
      ],
      "metadata": {
        "id": "xKPRgSKc5tda"
      }
    },
    {
      "cell_type": "code",
      "execution_count": 1,
      "metadata": {
        "id": "WYqtbfJI5PeQ",
        "colab": {
          "base_uri": "https://localhost:8080/"
        },
        "outputId": "3aa978ac-f6dd-48ca-c77a-f87f0c8311c7"
      },
      "outputs": [
        {
          "output_type": "stream",
          "name": "stdout",
          "text": [
            "Collecting kaleido\n",
            "  Downloading kaleido-0.2.1-py2.py3-none-manylinux1_x86_64.whl (79.9 MB)\n",
            "\u001b[2K     \u001b[90m━━━━━━━━━━━━━━━━━━━━━━━━━━━━━━━━━━━━━━━━\u001b[0m \u001b[32m79.9/79.9 MB\u001b[0m \u001b[31m5.3 MB/s\u001b[0m eta \u001b[36m0:00:00\u001b[0m\n",
            "\u001b[?25hInstalling collected packages: kaleido\n",
            "Successfully installed kaleido-0.2.1\n"
          ]
        }
      ],
      "source": [
        "import os\n",
        "import pandas as pd\n",
        "import numpy as np\n",
        "import plotly.express as px\n",
        "import plotly.tools as tls\n",
        "import plotly.graph_objects as go\n",
        "from plotly.subplots import make_subplots\n",
        "from plotly.offline import plot\n",
        "!pip install -U kaleido\n",
        "import kaleido"
      ]
    },
    {
      "cell_type": "markdown",
      "source": [
        "### Create Directory Structure"
      ],
      "metadata": {
        "id": "Q-i8lYjN59ea"
      }
    },
    {
      "cell_type": "code",
      "source": [
        "# Define Directories and Dataset\n",
        "parent_dir = 'Assignment_1-2_Student-Performance-Visualizations'\n",
        "data_raw_dir = 'data_raw'\n",
        "data_clean_dir = 'data_clean'\n",
        "results_dir = 'results'\n",
        "source_dir = 'src'\n",
        "dataset = 'StudentsPerformance'\n",
        "\n",
        "# Create Directories\n",
        "os.mkdir(f'./{parent_dir}')\n",
        "os.mkdir(f'./{parent_dir}/{data_raw_dir}')\n",
        "os.mkdir(f'./{parent_dir}/{data_clean_dir}')\n",
        "os.mkdir(f'./{parent_dir}/{results_dir}')\n",
        "os.mkdir(f'./{parent_dir}/{source_dir}')"
      ],
      "metadata": {
        "id": "MKoEXu3q5-62"
      },
      "execution_count": 2,
      "outputs": []
    },
    {
      "cell_type": "markdown",
      "source": [
        "## Data Collection"
      ],
      "metadata": {
        "id": "5AS5qzoY6mNV"
      }
    },
    {
      "cell_type": "markdown",
      "source": [
        "The dataset was provided in a CSV:\n",
        "\n",
        "StudentsPerformance.csv\n",
        "\n",
        "At this point, upload or copy StudentsPerformance.csv into:"
      ],
      "metadata": {
        "id": "4JZimJ3O84sg"
      }
    },
    {
      "cell_type": "code",
      "source": [
        "print(f'./{parent_dir}/{data_raw_dir}')"
      ],
      "metadata": {
        "colab": {
          "base_uri": "https://localhost:8080/"
        },
        "id": "Q84NS58o6pl3",
        "outputId": "0403ee00-ea83-4e67-d106-a56aeac13d06"
      },
      "execution_count": 3,
      "outputs": [
        {
          "output_type": "stream",
          "name": "stdout",
          "text": [
            "./Assignment_1-2_Student-Performance-Visualizations/data_raw\n"
          ]
        }
      ]
    },
    {
      "cell_type": "markdown",
      "source": [
        "Then, create a README"
      ],
      "metadata": {
        "id": "iIFyfRvA-Hzw"
      }
    },
    {
      "cell_type": "code",
      "source": [
        "with open(f'./{parent_dir}/{data_raw_dir}/README.md', \"w\") as file: # Create a (mostly) empty README\n",
        "    file.write(\"Raw Data Metadata\")"
      ],
      "metadata": {
        "id": "QZ_kulIK-q59"
      },
      "execution_count": 4,
      "outputs": []
    },
    {
      "cell_type": "markdown",
      "source": [
        "**The README will need to be manually updated with the appropriate field data.**"
      ],
      "metadata": {
        "id": "U2xNhYGE-8U0"
      }
    },
    {
      "cell_type": "markdown",
      "source": [
        "### Import the Dataset"
      ],
      "metadata": {
        "id": "_4CWTXeJ9ZpF"
      }
    },
    {
      "cell_type": "code",
      "source": [
        "# Create the Dataframe\n",
        "data_raw = pd.read_csv(f'./{parent_dir}/{data_raw_dir}/{dataset}.csv')\n",
        "data_raw.head(15)"
      ],
      "metadata": {
        "colab": {
          "base_uri": "https://localhost:8080/",
          "height": 519
        },
        "id": "hNia4DKC9bOR",
        "outputId": "94957c77-0d5f-4438-9e7e-da806ee8b495"
      },
      "execution_count": 29,
      "outputs": [
        {
          "output_type": "execute_result",
          "data": {
            "text/plain": [
              "    gender race/ethnicity parental level of education         lunch  \\\n",
              "0   female        group B           bachelor's degree      standard   \n",
              "1   female        group C                some college      standard   \n",
              "2   female        group B             master's degree      standard   \n",
              "3     male        group A          associate's degree  free/reduced   \n",
              "4     male        group C                some college      standard   \n",
              "5   female        group B          associate's degree      standard   \n",
              "6   female        group B                some college      standard   \n",
              "7     male        group B                some college  free/reduced   \n",
              "8     male        group D                 high school  free/reduced   \n",
              "9   female        group B                 high school  free/reduced   \n",
              "10    male        group C          associate's degree      standard   \n",
              "11    male        group D          associate's degree      standard   \n",
              "12  female        group B                 high school      standard   \n",
              "13    male        group A                some college      standard   \n",
              "14  female        group A             master's degree      standard   \n",
              "\n",
              "   test preparation course  math score  reading score  writing score  \n",
              "0                     none          72             72             74  \n",
              "1                completed          69             90             88  \n",
              "2                     none          90             95             93  \n",
              "3                     none          47             57             44  \n",
              "4                     none          76             78             75  \n",
              "5                     none          71             83             78  \n",
              "6                completed          88             95             92  \n",
              "7                     none          40             43             39  \n",
              "8                completed          64             64             67  \n",
              "9                     none          38             60             50  \n",
              "10                    none          58             54             52  \n",
              "11                    none          40             52             43  \n",
              "12                    none          65             81             73  \n",
              "13               completed          78             72             70  \n",
              "14                    none          50             53             58  "
            ],
            "text/html": [
              "\n",
              "  <div id=\"df-f580ed94-d938-4558-8e76-321db394f6d0\" class=\"colab-df-container\">\n",
              "    <div>\n",
              "<style scoped>\n",
              "    .dataframe tbody tr th:only-of-type {\n",
              "        vertical-align: middle;\n",
              "    }\n",
              "\n",
              "    .dataframe tbody tr th {\n",
              "        vertical-align: top;\n",
              "    }\n",
              "\n",
              "    .dataframe thead th {\n",
              "        text-align: right;\n",
              "    }\n",
              "</style>\n",
              "<table border=\"1\" class=\"dataframe\">\n",
              "  <thead>\n",
              "    <tr style=\"text-align: right;\">\n",
              "      <th></th>\n",
              "      <th>gender</th>\n",
              "      <th>race/ethnicity</th>\n",
              "      <th>parental level of education</th>\n",
              "      <th>lunch</th>\n",
              "      <th>test preparation course</th>\n",
              "      <th>math score</th>\n",
              "      <th>reading score</th>\n",
              "      <th>writing score</th>\n",
              "    </tr>\n",
              "  </thead>\n",
              "  <tbody>\n",
              "    <tr>\n",
              "      <th>0</th>\n",
              "      <td>female</td>\n",
              "      <td>group B</td>\n",
              "      <td>bachelor's degree</td>\n",
              "      <td>standard</td>\n",
              "      <td>none</td>\n",
              "      <td>72</td>\n",
              "      <td>72</td>\n",
              "      <td>74</td>\n",
              "    </tr>\n",
              "    <tr>\n",
              "      <th>1</th>\n",
              "      <td>female</td>\n",
              "      <td>group C</td>\n",
              "      <td>some college</td>\n",
              "      <td>standard</td>\n",
              "      <td>completed</td>\n",
              "      <td>69</td>\n",
              "      <td>90</td>\n",
              "      <td>88</td>\n",
              "    </tr>\n",
              "    <tr>\n",
              "      <th>2</th>\n",
              "      <td>female</td>\n",
              "      <td>group B</td>\n",
              "      <td>master's degree</td>\n",
              "      <td>standard</td>\n",
              "      <td>none</td>\n",
              "      <td>90</td>\n",
              "      <td>95</td>\n",
              "      <td>93</td>\n",
              "    </tr>\n",
              "    <tr>\n",
              "      <th>3</th>\n",
              "      <td>male</td>\n",
              "      <td>group A</td>\n",
              "      <td>associate's degree</td>\n",
              "      <td>free/reduced</td>\n",
              "      <td>none</td>\n",
              "      <td>47</td>\n",
              "      <td>57</td>\n",
              "      <td>44</td>\n",
              "    </tr>\n",
              "    <tr>\n",
              "      <th>4</th>\n",
              "      <td>male</td>\n",
              "      <td>group C</td>\n",
              "      <td>some college</td>\n",
              "      <td>standard</td>\n",
              "      <td>none</td>\n",
              "      <td>76</td>\n",
              "      <td>78</td>\n",
              "      <td>75</td>\n",
              "    </tr>\n",
              "    <tr>\n",
              "      <th>5</th>\n",
              "      <td>female</td>\n",
              "      <td>group B</td>\n",
              "      <td>associate's degree</td>\n",
              "      <td>standard</td>\n",
              "      <td>none</td>\n",
              "      <td>71</td>\n",
              "      <td>83</td>\n",
              "      <td>78</td>\n",
              "    </tr>\n",
              "    <tr>\n",
              "      <th>6</th>\n",
              "      <td>female</td>\n",
              "      <td>group B</td>\n",
              "      <td>some college</td>\n",
              "      <td>standard</td>\n",
              "      <td>completed</td>\n",
              "      <td>88</td>\n",
              "      <td>95</td>\n",
              "      <td>92</td>\n",
              "    </tr>\n",
              "    <tr>\n",
              "      <th>7</th>\n",
              "      <td>male</td>\n",
              "      <td>group B</td>\n",
              "      <td>some college</td>\n",
              "      <td>free/reduced</td>\n",
              "      <td>none</td>\n",
              "      <td>40</td>\n",
              "      <td>43</td>\n",
              "      <td>39</td>\n",
              "    </tr>\n",
              "    <tr>\n",
              "      <th>8</th>\n",
              "      <td>male</td>\n",
              "      <td>group D</td>\n",
              "      <td>high school</td>\n",
              "      <td>free/reduced</td>\n",
              "      <td>completed</td>\n",
              "      <td>64</td>\n",
              "      <td>64</td>\n",
              "      <td>67</td>\n",
              "    </tr>\n",
              "    <tr>\n",
              "      <th>9</th>\n",
              "      <td>female</td>\n",
              "      <td>group B</td>\n",
              "      <td>high school</td>\n",
              "      <td>free/reduced</td>\n",
              "      <td>none</td>\n",
              "      <td>38</td>\n",
              "      <td>60</td>\n",
              "      <td>50</td>\n",
              "    </tr>\n",
              "    <tr>\n",
              "      <th>10</th>\n",
              "      <td>male</td>\n",
              "      <td>group C</td>\n",
              "      <td>associate's degree</td>\n",
              "      <td>standard</td>\n",
              "      <td>none</td>\n",
              "      <td>58</td>\n",
              "      <td>54</td>\n",
              "      <td>52</td>\n",
              "    </tr>\n",
              "    <tr>\n",
              "      <th>11</th>\n",
              "      <td>male</td>\n",
              "      <td>group D</td>\n",
              "      <td>associate's degree</td>\n",
              "      <td>standard</td>\n",
              "      <td>none</td>\n",
              "      <td>40</td>\n",
              "      <td>52</td>\n",
              "      <td>43</td>\n",
              "    </tr>\n",
              "    <tr>\n",
              "      <th>12</th>\n",
              "      <td>female</td>\n",
              "      <td>group B</td>\n",
              "      <td>high school</td>\n",
              "      <td>standard</td>\n",
              "      <td>none</td>\n",
              "      <td>65</td>\n",
              "      <td>81</td>\n",
              "      <td>73</td>\n",
              "    </tr>\n",
              "    <tr>\n",
              "      <th>13</th>\n",
              "      <td>male</td>\n",
              "      <td>group A</td>\n",
              "      <td>some college</td>\n",
              "      <td>standard</td>\n",
              "      <td>completed</td>\n",
              "      <td>78</td>\n",
              "      <td>72</td>\n",
              "      <td>70</td>\n",
              "    </tr>\n",
              "    <tr>\n",
              "      <th>14</th>\n",
              "      <td>female</td>\n",
              "      <td>group A</td>\n",
              "      <td>master's degree</td>\n",
              "      <td>standard</td>\n",
              "      <td>none</td>\n",
              "      <td>50</td>\n",
              "      <td>53</td>\n",
              "      <td>58</td>\n",
              "    </tr>\n",
              "  </tbody>\n",
              "</table>\n",
              "</div>\n",
              "    <div class=\"colab-df-buttons\">\n",
              "\n",
              "  <div class=\"colab-df-container\">\n",
              "    <button class=\"colab-df-convert\" onclick=\"convertToInteractive('df-f580ed94-d938-4558-8e76-321db394f6d0')\"\n",
              "            title=\"Convert this dataframe to an interactive table.\"\n",
              "            style=\"display:none;\">\n",
              "\n",
              "  <svg xmlns=\"http://www.w3.org/2000/svg\" height=\"24px\" viewBox=\"0 -960 960 960\">\n",
              "    <path d=\"M120-120v-720h720v720H120Zm60-500h600v-160H180v160Zm220 220h160v-160H400v160Zm0 220h160v-160H400v160ZM180-400h160v-160H180v160Zm440 0h160v-160H620v160ZM180-180h160v-160H180v160Zm440 0h160v-160H620v160Z\"/>\n",
              "  </svg>\n",
              "    </button>\n",
              "\n",
              "  <style>\n",
              "    .colab-df-container {\n",
              "      display:flex;\n",
              "      gap: 12px;\n",
              "    }\n",
              "\n",
              "    .colab-df-convert {\n",
              "      background-color: #E8F0FE;\n",
              "      border: none;\n",
              "      border-radius: 50%;\n",
              "      cursor: pointer;\n",
              "      display: none;\n",
              "      fill: #1967D2;\n",
              "      height: 32px;\n",
              "      padding: 0 0 0 0;\n",
              "      width: 32px;\n",
              "    }\n",
              "\n",
              "    .colab-df-convert:hover {\n",
              "      background-color: #E2EBFA;\n",
              "      box-shadow: 0px 1px 2px rgba(60, 64, 67, 0.3), 0px 1px 3px 1px rgba(60, 64, 67, 0.15);\n",
              "      fill: #174EA6;\n",
              "    }\n",
              "\n",
              "    .colab-df-buttons div {\n",
              "      margin-bottom: 4px;\n",
              "    }\n",
              "\n",
              "    [theme=dark] .colab-df-convert {\n",
              "      background-color: #3B4455;\n",
              "      fill: #D2E3FC;\n",
              "    }\n",
              "\n",
              "    [theme=dark] .colab-df-convert:hover {\n",
              "      background-color: #434B5C;\n",
              "      box-shadow: 0px 1px 3px 1px rgba(0, 0, 0, 0.15);\n",
              "      filter: drop-shadow(0px 1px 2px rgba(0, 0, 0, 0.3));\n",
              "      fill: #FFFFFF;\n",
              "    }\n",
              "  </style>\n",
              "\n",
              "    <script>\n",
              "      const buttonEl =\n",
              "        document.querySelector('#df-f580ed94-d938-4558-8e76-321db394f6d0 button.colab-df-convert');\n",
              "      buttonEl.style.display =\n",
              "        google.colab.kernel.accessAllowed ? 'block' : 'none';\n",
              "\n",
              "      async function convertToInteractive(key) {\n",
              "        const element = document.querySelector('#df-f580ed94-d938-4558-8e76-321db394f6d0');\n",
              "        const dataTable =\n",
              "          await google.colab.kernel.invokeFunction('convertToInteractive',\n",
              "                                                    [key], {});\n",
              "        if (!dataTable) return;\n",
              "\n",
              "        const docLinkHtml = 'Like what you see? Visit the ' +\n",
              "          '<a target=\"_blank\" href=https://colab.research.google.com/notebooks/data_table.ipynb>data table notebook</a>'\n",
              "          + ' to learn more about interactive tables.';\n",
              "        element.innerHTML = '';\n",
              "        dataTable['output_type'] = 'display_data';\n",
              "        await google.colab.output.renderOutput(dataTable, element);\n",
              "        const docLink = document.createElement('div');\n",
              "        docLink.innerHTML = docLinkHtml;\n",
              "        element.appendChild(docLink);\n",
              "      }\n",
              "    </script>\n",
              "  </div>\n",
              "\n",
              "\n",
              "<div id=\"df-513a61a0-ffea-4a25-b688-608b83454049\">\n",
              "  <button class=\"colab-df-quickchart\" onclick=\"quickchart('df-513a61a0-ffea-4a25-b688-608b83454049')\"\n",
              "            title=\"Suggest charts\"\n",
              "            style=\"display:none;\">\n",
              "\n",
              "<svg xmlns=\"http://www.w3.org/2000/svg\" height=\"24px\"viewBox=\"0 0 24 24\"\n",
              "     width=\"24px\">\n",
              "    <g>\n",
              "        <path d=\"M19 3H5c-1.1 0-2 .9-2 2v14c0 1.1.9 2 2 2h14c1.1 0 2-.9 2-2V5c0-1.1-.9-2-2-2zM9 17H7v-7h2v7zm4 0h-2V7h2v10zm4 0h-2v-4h2v4z\"/>\n",
              "    </g>\n",
              "</svg>\n",
              "  </button>\n",
              "\n",
              "<style>\n",
              "  .colab-df-quickchart {\n",
              "      --bg-color: #E8F0FE;\n",
              "      --fill-color: #1967D2;\n",
              "      --hover-bg-color: #E2EBFA;\n",
              "      --hover-fill-color: #174EA6;\n",
              "      --disabled-fill-color: #AAA;\n",
              "      --disabled-bg-color: #DDD;\n",
              "  }\n",
              "\n",
              "  [theme=dark] .colab-df-quickchart {\n",
              "      --bg-color: #3B4455;\n",
              "      --fill-color: #D2E3FC;\n",
              "      --hover-bg-color: #434B5C;\n",
              "      --hover-fill-color: #FFFFFF;\n",
              "      --disabled-bg-color: #3B4455;\n",
              "      --disabled-fill-color: #666;\n",
              "  }\n",
              "\n",
              "  .colab-df-quickchart {\n",
              "    background-color: var(--bg-color);\n",
              "    border: none;\n",
              "    border-radius: 50%;\n",
              "    cursor: pointer;\n",
              "    display: none;\n",
              "    fill: var(--fill-color);\n",
              "    height: 32px;\n",
              "    padding: 0;\n",
              "    width: 32px;\n",
              "  }\n",
              "\n",
              "  .colab-df-quickchart:hover {\n",
              "    background-color: var(--hover-bg-color);\n",
              "    box-shadow: 0 1px 2px rgba(60, 64, 67, 0.3), 0 1px 3px 1px rgba(60, 64, 67, 0.15);\n",
              "    fill: var(--button-hover-fill-color);\n",
              "  }\n",
              "\n",
              "  .colab-df-quickchart-complete:disabled,\n",
              "  .colab-df-quickchart-complete:disabled:hover {\n",
              "    background-color: var(--disabled-bg-color);\n",
              "    fill: var(--disabled-fill-color);\n",
              "    box-shadow: none;\n",
              "  }\n",
              "\n",
              "  .colab-df-spinner {\n",
              "    border: 2px solid var(--fill-color);\n",
              "    border-color: transparent;\n",
              "    border-bottom-color: var(--fill-color);\n",
              "    animation:\n",
              "      spin 1s steps(1) infinite;\n",
              "  }\n",
              "\n",
              "  @keyframes spin {\n",
              "    0% {\n",
              "      border-color: transparent;\n",
              "      border-bottom-color: var(--fill-color);\n",
              "      border-left-color: var(--fill-color);\n",
              "    }\n",
              "    20% {\n",
              "      border-color: transparent;\n",
              "      border-left-color: var(--fill-color);\n",
              "      border-top-color: var(--fill-color);\n",
              "    }\n",
              "    30% {\n",
              "      border-color: transparent;\n",
              "      border-left-color: var(--fill-color);\n",
              "      border-top-color: var(--fill-color);\n",
              "      border-right-color: var(--fill-color);\n",
              "    }\n",
              "    40% {\n",
              "      border-color: transparent;\n",
              "      border-right-color: var(--fill-color);\n",
              "      border-top-color: var(--fill-color);\n",
              "    }\n",
              "    60% {\n",
              "      border-color: transparent;\n",
              "      border-right-color: var(--fill-color);\n",
              "    }\n",
              "    80% {\n",
              "      border-color: transparent;\n",
              "      border-right-color: var(--fill-color);\n",
              "      border-bottom-color: var(--fill-color);\n",
              "    }\n",
              "    90% {\n",
              "      border-color: transparent;\n",
              "      border-bottom-color: var(--fill-color);\n",
              "    }\n",
              "  }\n",
              "</style>\n",
              "\n",
              "  <script>\n",
              "    async function quickchart(key) {\n",
              "      const quickchartButtonEl =\n",
              "        document.querySelector('#' + key + ' button');\n",
              "      quickchartButtonEl.disabled = true;  // To prevent multiple clicks.\n",
              "      quickchartButtonEl.classList.add('colab-df-spinner');\n",
              "      try {\n",
              "        const charts = await google.colab.kernel.invokeFunction(\n",
              "            'suggestCharts', [key], {});\n",
              "      } catch (error) {\n",
              "        console.error('Error during call to suggestCharts:', error);\n",
              "      }\n",
              "      quickchartButtonEl.classList.remove('colab-df-spinner');\n",
              "      quickchartButtonEl.classList.add('colab-df-quickchart-complete');\n",
              "    }\n",
              "    (() => {\n",
              "      let quickchartButtonEl =\n",
              "        document.querySelector('#df-513a61a0-ffea-4a25-b688-608b83454049 button');\n",
              "      quickchartButtonEl.style.display =\n",
              "        google.colab.kernel.accessAllowed ? 'block' : 'none';\n",
              "    })();\n",
              "  </script>\n",
              "</div>\n",
              "\n",
              "    </div>\n",
              "  </div>\n"
            ],
            "application/vnd.google.colaboratory.intrinsic+json": {
              "type": "dataframe",
              "variable_name": "data_raw",
              "summary": "{\n  \"name\": \"data_raw\",\n  \"rows\": 1000,\n  \"fields\": [\n    {\n      \"column\": \"gender\",\n      \"properties\": {\n        \"dtype\": \"category\",\n        \"num_unique_values\": 2,\n        \"samples\": [\n          \"male\",\n          \"female\"\n        ],\n        \"semantic_type\": \"\",\n        \"description\": \"\"\n      }\n    },\n    {\n      \"column\": \"race/ethnicity\",\n      \"properties\": {\n        \"dtype\": \"category\",\n        \"num_unique_values\": 5,\n        \"samples\": [\n          \"group C\",\n          \"group E\"\n        ],\n        \"semantic_type\": \"\",\n        \"description\": \"\"\n      }\n    },\n    {\n      \"column\": \"parental level of education\",\n      \"properties\": {\n        \"dtype\": \"category\",\n        \"num_unique_values\": 6,\n        \"samples\": [\n          \"bachelor's degree\",\n          \"some college\"\n        ],\n        \"semantic_type\": \"\",\n        \"description\": \"\"\n      }\n    },\n    {\n      \"column\": \"lunch\",\n      \"properties\": {\n        \"dtype\": \"category\",\n        \"num_unique_values\": 2,\n        \"samples\": [\n          \"free/reduced\",\n          \"standard\"\n        ],\n        \"semantic_type\": \"\",\n        \"description\": \"\"\n      }\n    },\n    {\n      \"column\": \"test preparation course\",\n      \"properties\": {\n        \"dtype\": \"category\",\n        \"num_unique_values\": 2,\n        \"samples\": [\n          \"completed\",\n          \"none\"\n        ],\n        \"semantic_type\": \"\",\n        \"description\": \"\"\n      }\n    },\n    {\n      \"column\": \"math score\",\n      \"properties\": {\n        \"dtype\": \"number\",\n        \"std\": 15,\n        \"min\": 0,\n        \"max\": 100,\n        \"num_unique_values\": 81,\n        \"samples\": [\n          55,\n          72\n        ],\n        \"semantic_type\": \"\",\n        \"description\": \"\"\n      }\n    },\n    {\n      \"column\": \"reading score\",\n      \"properties\": {\n        \"dtype\": \"number\",\n        \"std\": 14,\n        \"min\": 17,\n        \"max\": 100,\n        \"num_unique_values\": 72,\n        \"samples\": [\n          78,\n          23\n        ],\n        \"semantic_type\": \"\",\n        \"description\": \"\"\n      }\n    },\n    {\n      \"column\": \"writing score\",\n      \"properties\": {\n        \"dtype\": \"number\",\n        \"std\": 15,\n        \"min\": 10,\n        \"max\": 100,\n        \"num_unique_values\": 77,\n        \"samples\": [\n          75,\n          76\n        ],\n        \"semantic_type\": \"\",\n        \"description\": \"\"\n      }\n    }\n  ]\n}"
            }
          },
          "metadata": {},
          "execution_count": 29
        }
      ]
    },
    {
      "cell_type": "markdown",
      "source": [
        "## Data Processing/Cleaning"
      ],
      "metadata": {
        "id": "Yj3DYFuv_Nvc"
      }
    },
    {
      "cell_type": "code",
      "source": [
        "# Check for NaNs\n",
        "data_raw.isna().sum()"
      ],
      "metadata": {
        "colab": {
          "base_uri": "https://localhost:8080/"
        },
        "id": "sT5YjCzS_qj_",
        "outputId": "8051a5d4-1be5-47cf-9cc1-b7d775339283"
      },
      "execution_count": 30,
      "outputs": [
        {
          "output_type": "execute_result",
          "data": {
            "text/plain": [
              "gender                         0\n",
              "race/ethnicity                 0\n",
              "parental level of education    0\n",
              "lunch                          0\n",
              "test preparation course        0\n",
              "math score                     0\n",
              "reading score                  0\n",
              "writing score                  0\n",
              "dtype: int64"
            ]
          },
          "metadata": {},
          "execution_count": 30
        }
      ]
    },
    {
      "cell_type": "markdown",
      "source": [
        "Since there are no NaNs and the data doesn't appear to need to be scaled, let's instead just add an \"average score\" column"
      ],
      "metadata": {
        "id": "r87rdaQjekIB"
      }
    },
    {
      "cell_type": "code",
      "source": [
        "# Create a new dataframe\n",
        "data_clean = data_raw\n",
        "\n",
        "# Calculate row-wise average of the math, reading, and writing scores\n",
        "data_clean['average score'] = data_clean[['math score', 'reading score', 'writing score']].mean(axis=1)\n",
        "\n",
        "# Confirm there are no NaNs in the cleaned dataframe\n",
        "data_clean.head(15)"
      ],
      "metadata": {
        "colab": {
          "base_uri": "https://localhost:8080/",
          "height": 519
        },
        "id": "KAtVRFV9_bFG",
        "outputId": "c81ad228-e321-4c7d-c91a-2cb19d2fb4e7"
      },
      "execution_count": 31,
      "outputs": [
        {
          "output_type": "execute_result",
          "data": {
            "text/plain": [
              "    gender race/ethnicity parental level of education         lunch  \\\n",
              "0   female        group B           bachelor's degree      standard   \n",
              "1   female        group C                some college      standard   \n",
              "2   female        group B             master's degree      standard   \n",
              "3     male        group A          associate's degree  free/reduced   \n",
              "4     male        group C                some college      standard   \n",
              "5   female        group B          associate's degree      standard   \n",
              "6   female        group B                some college      standard   \n",
              "7     male        group B                some college  free/reduced   \n",
              "8     male        group D                 high school  free/reduced   \n",
              "9   female        group B                 high school  free/reduced   \n",
              "10    male        group C          associate's degree      standard   \n",
              "11    male        group D          associate's degree      standard   \n",
              "12  female        group B                 high school      standard   \n",
              "13    male        group A                some college      standard   \n",
              "14  female        group A             master's degree      standard   \n",
              "\n",
              "   test preparation course  math score  reading score  writing score  \\\n",
              "0                     none          72             72             74   \n",
              "1                completed          69             90             88   \n",
              "2                     none          90             95             93   \n",
              "3                     none          47             57             44   \n",
              "4                     none          76             78             75   \n",
              "5                     none          71             83             78   \n",
              "6                completed          88             95             92   \n",
              "7                     none          40             43             39   \n",
              "8                completed          64             64             67   \n",
              "9                     none          38             60             50   \n",
              "10                    none          58             54             52   \n",
              "11                    none          40             52             43   \n",
              "12                    none          65             81             73   \n",
              "13               completed          78             72             70   \n",
              "14                    none          50             53             58   \n",
              "\n",
              "    average score  \n",
              "0       72.666667  \n",
              "1       82.333333  \n",
              "2       92.666667  \n",
              "3       49.333333  \n",
              "4       76.333333  \n",
              "5       77.333333  \n",
              "6       91.666667  \n",
              "7       40.666667  \n",
              "8       65.000000  \n",
              "9       49.333333  \n",
              "10      54.666667  \n",
              "11      45.000000  \n",
              "12      73.000000  \n",
              "13      73.333333  \n",
              "14      53.666667  "
            ],
            "text/html": [
              "\n",
              "  <div id=\"df-33030067-b313-446e-bbd1-dc2714a5417d\" class=\"colab-df-container\">\n",
              "    <div>\n",
              "<style scoped>\n",
              "    .dataframe tbody tr th:only-of-type {\n",
              "        vertical-align: middle;\n",
              "    }\n",
              "\n",
              "    .dataframe tbody tr th {\n",
              "        vertical-align: top;\n",
              "    }\n",
              "\n",
              "    .dataframe thead th {\n",
              "        text-align: right;\n",
              "    }\n",
              "</style>\n",
              "<table border=\"1\" class=\"dataframe\">\n",
              "  <thead>\n",
              "    <tr style=\"text-align: right;\">\n",
              "      <th></th>\n",
              "      <th>gender</th>\n",
              "      <th>race/ethnicity</th>\n",
              "      <th>parental level of education</th>\n",
              "      <th>lunch</th>\n",
              "      <th>test preparation course</th>\n",
              "      <th>math score</th>\n",
              "      <th>reading score</th>\n",
              "      <th>writing score</th>\n",
              "      <th>average score</th>\n",
              "    </tr>\n",
              "  </thead>\n",
              "  <tbody>\n",
              "    <tr>\n",
              "      <th>0</th>\n",
              "      <td>female</td>\n",
              "      <td>group B</td>\n",
              "      <td>bachelor's degree</td>\n",
              "      <td>standard</td>\n",
              "      <td>none</td>\n",
              "      <td>72</td>\n",
              "      <td>72</td>\n",
              "      <td>74</td>\n",
              "      <td>72.666667</td>\n",
              "    </tr>\n",
              "    <tr>\n",
              "      <th>1</th>\n",
              "      <td>female</td>\n",
              "      <td>group C</td>\n",
              "      <td>some college</td>\n",
              "      <td>standard</td>\n",
              "      <td>completed</td>\n",
              "      <td>69</td>\n",
              "      <td>90</td>\n",
              "      <td>88</td>\n",
              "      <td>82.333333</td>\n",
              "    </tr>\n",
              "    <tr>\n",
              "      <th>2</th>\n",
              "      <td>female</td>\n",
              "      <td>group B</td>\n",
              "      <td>master's degree</td>\n",
              "      <td>standard</td>\n",
              "      <td>none</td>\n",
              "      <td>90</td>\n",
              "      <td>95</td>\n",
              "      <td>93</td>\n",
              "      <td>92.666667</td>\n",
              "    </tr>\n",
              "    <tr>\n",
              "      <th>3</th>\n",
              "      <td>male</td>\n",
              "      <td>group A</td>\n",
              "      <td>associate's degree</td>\n",
              "      <td>free/reduced</td>\n",
              "      <td>none</td>\n",
              "      <td>47</td>\n",
              "      <td>57</td>\n",
              "      <td>44</td>\n",
              "      <td>49.333333</td>\n",
              "    </tr>\n",
              "    <tr>\n",
              "      <th>4</th>\n",
              "      <td>male</td>\n",
              "      <td>group C</td>\n",
              "      <td>some college</td>\n",
              "      <td>standard</td>\n",
              "      <td>none</td>\n",
              "      <td>76</td>\n",
              "      <td>78</td>\n",
              "      <td>75</td>\n",
              "      <td>76.333333</td>\n",
              "    </tr>\n",
              "    <tr>\n",
              "      <th>5</th>\n",
              "      <td>female</td>\n",
              "      <td>group B</td>\n",
              "      <td>associate's degree</td>\n",
              "      <td>standard</td>\n",
              "      <td>none</td>\n",
              "      <td>71</td>\n",
              "      <td>83</td>\n",
              "      <td>78</td>\n",
              "      <td>77.333333</td>\n",
              "    </tr>\n",
              "    <tr>\n",
              "      <th>6</th>\n",
              "      <td>female</td>\n",
              "      <td>group B</td>\n",
              "      <td>some college</td>\n",
              "      <td>standard</td>\n",
              "      <td>completed</td>\n",
              "      <td>88</td>\n",
              "      <td>95</td>\n",
              "      <td>92</td>\n",
              "      <td>91.666667</td>\n",
              "    </tr>\n",
              "    <tr>\n",
              "      <th>7</th>\n",
              "      <td>male</td>\n",
              "      <td>group B</td>\n",
              "      <td>some college</td>\n",
              "      <td>free/reduced</td>\n",
              "      <td>none</td>\n",
              "      <td>40</td>\n",
              "      <td>43</td>\n",
              "      <td>39</td>\n",
              "      <td>40.666667</td>\n",
              "    </tr>\n",
              "    <tr>\n",
              "      <th>8</th>\n",
              "      <td>male</td>\n",
              "      <td>group D</td>\n",
              "      <td>high school</td>\n",
              "      <td>free/reduced</td>\n",
              "      <td>completed</td>\n",
              "      <td>64</td>\n",
              "      <td>64</td>\n",
              "      <td>67</td>\n",
              "      <td>65.000000</td>\n",
              "    </tr>\n",
              "    <tr>\n",
              "      <th>9</th>\n",
              "      <td>female</td>\n",
              "      <td>group B</td>\n",
              "      <td>high school</td>\n",
              "      <td>free/reduced</td>\n",
              "      <td>none</td>\n",
              "      <td>38</td>\n",
              "      <td>60</td>\n",
              "      <td>50</td>\n",
              "      <td>49.333333</td>\n",
              "    </tr>\n",
              "    <tr>\n",
              "      <th>10</th>\n",
              "      <td>male</td>\n",
              "      <td>group C</td>\n",
              "      <td>associate's degree</td>\n",
              "      <td>standard</td>\n",
              "      <td>none</td>\n",
              "      <td>58</td>\n",
              "      <td>54</td>\n",
              "      <td>52</td>\n",
              "      <td>54.666667</td>\n",
              "    </tr>\n",
              "    <tr>\n",
              "      <th>11</th>\n",
              "      <td>male</td>\n",
              "      <td>group D</td>\n",
              "      <td>associate's degree</td>\n",
              "      <td>standard</td>\n",
              "      <td>none</td>\n",
              "      <td>40</td>\n",
              "      <td>52</td>\n",
              "      <td>43</td>\n",
              "      <td>45.000000</td>\n",
              "    </tr>\n",
              "    <tr>\n",
              "      <th>12</th>\n",
              "      <td>female</td>\n",
              "      <td>group B</td>\n",
              "      <td>high school</td>\n",
              "      <td>standard</td>\n",
              "      <td>none</td>\n",
              "      <td>65</td>\n",
              "      <td>81</td>\n",
              "      <td>73</td>\n",
              "      <td>73.000000</td>\n",
              "    </tr>\n",
              "    <tr>\n",
              "      <th>13</th>\n",
              "      <td>male</td>\n",
              "      <td>group A</td>\n",
              "      <td>some college</td>\n",
              "      <td>standard</td>\n",
              "      <td>completed</td>\n",
              "      <td>78</td>\n",
              "      <td>72</td>\n",
              "      <td>70</td>\n",
              "      <td>73.333333</td>\n",
              "    </tr>\n",
              "    <tr>\n",
              "      <th>14</th>\n",
              "      <td>female</td>\n",
              "      <td>group A</td>\n",
              "      <td>master's degree</td>\n",
              "      <td>standard</td>\n",
              "      <td>none</td>\n",
              "      <td>50</td>\n",
              "      <td>53</td>\n",
              "      <td>58</td>\n",
              "      <td>53.666667</td>\n",
              "    </tr>\n",
              "  </tbody>\n",
              "</table>\n",
              "</div>\n",
              "    <div class=\"colab-df-buttons\">\n",
              "\n",
              "  <div class=\"colab-df-container\">\n",
              "    <button class=\"colab-df-convert\" onclick=\"convertToInteractive('df-33030067-b313-446e-bbd1-dc2714a5417d')\"\n",
              "            title=\"Convert this dataframe to an interactive table.\"\n",
              "            style=\"display:none;\">\n",
              "\n",
              "  <svg xmlns=\"http://www.w3.org/2000/svg\" height=\"24px\" viewBox=\"0 -960 960 960\">\n",
              "    <path d=\"M120-120v-720h720v720H120Zm60-500h600v-160H180v160Zm220 220h160v-160H400v160Zm0 220h160v-160H400v160ZM180-400h160v-160H180v160Zm440 0h160v-160H620v160ZM180-180h160v-160H180v160Zm440 0h160v-160H620v160Z\"/>\n",
              "  </svg>\n",
              "    </button>\n",
              "\n",
              "  <style>\n",
              "    .colab-df-container {\n",
              "      display:flex;\n",
              "      gap: 12px;\n",
              "    }\n",
              "\n",
              "    .colab-df-convert {\n",
              "      background-color: #E8F0FE;\n",
              "      border: none;\n",
              "      border-radius: 50%;\n",
              "      cursor: pointer;\n",
              "      display: none;\n",
              "      fill: #1967D2;\n",
              "      height: 32px;\n",
              "      padding: 0 0 0 0;\n",
              "      width: 32px;\n",
              "    }\n",
              "\n",
              "    .colab-df-convert:hover {\n",
              "      background-color: #E2EBFA;\n",
              "      box-shadow: 0px 1px 2px rgba(60, 64, 67, 0.3), 0px 1px 3px 1px rgba(60, 64, 67, 0.15);\n",
              "      fill: #174EA6;\n",
              "    }\n",
              "\n",
              "    .colab-df-buttons div {\n",
              "      margin-bottom: 4px;\n",
              "    }\n",
              "\n",
              "    [theme=dark] .colab-df-convert {\n",
              "      background-color: #3B4455;\n",
              "      fill: #D2E3FC;\n",
              "    }\n",
              "\n",
              "    [theme=dark] .colab-df-convert:hover {\n",
              "      background-color: #434B5C;\n",
              "      box-shadow: 0px 1px 3px 1px rgba(0, 0, 0, 0.15);\n",
              "      filter: drop-shadow(0px 1px 2px rgba(0, 0, 0, 0.3));\n",
              "      fill: #FFFFFF;\n",
              "    }\n",
              "  </style>\n",
              "\n",
              "    <script>\n",
              "      const buttonEl =\n",
              "        document.querySelector('#df-33030067-b313-446e-bbd1-dc2714a5417d button.colab-df-convert');\n",
              "      buttonEl.style.display =\n",
              "        google.colab.kernel.accessAllowed ? 'block' : 'none';\n",
              "\n",
              "      async function convertToInteractive(key) {\n",
              "        const element = document.querySelector('#df-33030067-b313-446e-bbd1-dc2714a5417d');\n",
              "        const dataTable =\n",
              "          await google.colab.kernel.invokeFunction('convertToInteractive',\n",
              "                                                    [key], {});\n",
              "        if (!dataTable) return;\n",
              "\n",
              "        const docLinkHtml = 'Like what you see? Visit the ' +\n",
              "          '<a target=\"_blank\" href=https://colab.research.google.com/notebooks/data_table.ipynb>data table notebook</a>'\n",
              "          + ' to learn more about interactive tables.';\n",
              "        element.innerHTML = '';\n",
              "        dataTable['output_type'] = 'display_data';\n",
              "        await google.colab.output.renderOutput(dataTable, element);\n",
              "        const docLink = document.createElement('div');\n",
              "        docLink.innerHTML = docLinkHtml;\n",
              "        element.appendChild(docLink);\n",
              "      }\n",
              "    </script>\n",
              "  </div>\n",
              "\n",
              "\n",
              "<div id=\"df-e28c09b8-ef3a-465f-b116-3f85b25b5728\">\n",
              "  <button class=\"colab-df-quickchart\" onclick=\"quickchart('df-e28c09b8-ef3a-465f-b116-3f85b25b5728')\"\n",
              "            title=\"Suggest charts\"\n",
              "            style=\"display:none;\">\n",
              "\n",
              "<svg xmlns=\"http://www.w3.org/2000/svg\" height=\"24px\"viewBox=\"0 0 24 24\"\n",
              "     width=\"24px\">\n",
              "    <g>\n",
              "        <path d=\"M19 3H5c-1.1 0-2 .9-2 2v14c0 1.1.9 2 2 2h14c1.1 0 2-.9 2-2V5c0-1.1-.9-2-2-2zM9 17H7v-7h2v7zm4 0h-2V7h2v10zm4 0h-2v-4h2v4z\"/>\n",
              "    </g>\n",
              "</svg>\n",
              "  </button>\n",
              "\n",
              "<style>\n",
              "  .colab-df-quickchart {\n",
              "      --bg-color: #E8F0FE;\n",
              "      --fill-color: #1967D2;\n",
              "      --hover-bg-color: #E2EBFA;\n",
              "      --hover-fill-color: #174EA6;\n",
              "      --disabled-fill-color: #AAA;\n",
              "      --disabled-bg-color: #DDD;\n",
              "  }\n",
              "\n",
              "  [theme=dark] .colab-df-quickchart {\n",
              "      --bg-color: #3B4455;\n",
              "      --fill-color: #D2E3FC;\n",
              "      --hover-bg-color: #434B5C;\n",
              "      --hover-fill-color: #FFFFFF;\n",
              "      --disabled-bg-color: #3B4455;\n",
              "      --disabled-fill-color: #666;\n",
              "  }\n",
              "\n",
              "  .colab-df-quickchart {\n",
              "    background-color: var(--bg-color);\n",
              "    border: none;\n",
              "    border-radius: 50%;\n",
              "    cursor: pointer;\n",
              "    display: none;\n",
              "    fill: var(--fill-color);\n",
              "    height: 32px;\n",
              "    padding: 0;\n",
              "    width: 32px;\n",
              "  }\n",
              "\n",
              "  .colab-df-quickchart:hover {\n",
              "    background-color: var(--hover-bg-color);\n",
              "    box-shadow: 0 1px 2px rgba(60, 64, 67, 0.3), 0 1px 3px 1px rgba(60, 64, 67, 0.15);\n",
              "    fill: var(--button-hover-fill-color);\n",
              "  }\n",
              "\n",
              "  .colab-df-quickchart-complete:disabled,\n",
              "  .colab-df-quickchart-complete:disabled:hover {\n",
              "    background-color: var(--disabled-bg-color);\n",
              "    fill: var(--disabled-fill-color);\n",
              "    box-shadow: none;\n",
              "  }\n",
              "\n",
              "  .colab-df-spinner {\n",
              "    border: 2px solid var(--fill-color);\n",
              "    border-color: transparent;\n",
              "    border-bottom-color: var(--fill-color);\n",
              "    animation:\n",
              "      spin 1s steps(1) infinite;\n",
              "  }\n",
              "\n",
              "  @keyframes spin {\n",
              "    0% {\n",
              "      border-color: transparent;\n",
              "      border-bottom-color: var(--fill-color);\n",
              "      border-left-color: var(--fill-color);\n",
              "    }\n",
              "    20% {\n",
              "      border-color: transparent;\n",
              "      border-left-color: var(--fill-color);\n",
              "      border-top-color: var(--fill-color);\n",
              "    }\n",
              "    30% {\n",
              "      border-color: transparent;\n",
              "      border-left-color: var(--fill-color);\n",
              "      border-top-color: var(--fill-color);\n",
              "      border-right-color: var(--fill-color);\n",
              "    }\n",
              "    40% {\n",
              "      border-color: transparent;\n",
              "      border-right-color: var(--fill-color);\n",
              "      border-top-color: var(--fill-color);\n",
              "    }\n",
              "    60% {\n",
              "      border-color: transparent;\n",
              "      border-right-color: var(--fill-color);\n",
              "    }\n",
              "    80% {\n",
              "      border-color: transparent;\n",
              "      border-right-color: var(--fill-color);\n",
              "      border-bottom-color: var(--fill-color);\n",
              "    }\n",
              "    90% {\n",
              "      border-color: transparent;\n",
              "      border-bottom-color: var(--fill-color);\n",
              "    }\n",
              "  }\n",
              "</style>\n",
              "\n",
              "  <script>\n",
              "    async function quickchart(key) {\n",
              "      const quickchartButtonEl =\n",
              "        document.querySelector('#' + key + ' button');\n",
              "      quickchartButtonEl.disabled = true;  // To prevent multiple clicks.\n",
              "      quickchartButtonEl.classList.add('colab-df-spinner');\n",
              "      try {\n",
              "        const charts = await google.colab.kernel.invokeFunction(\n",
              "            'suggestCharts', [key], {});\n",
              "      } catch (error) {\n",
              "        console.error('Error during call to suggestCharts:', error);\n",
              "      }\n",
              "      quickchartButtonEl.classList.remove('colab-df-spinner');\n",
              "      quickchartButtonEl.classList.add('colab-df-quickchart-complete');\n",
              "    }\n",
              "    (() => {\n",
              "      let quickchartButtonEl =\n",
              "        document.querySelector('#df-e28c09b8-ef3a-465f-b116-3f85b25b5728 button');\n",
              "      quickchartButtonEl.style.display =\n",
              "        google.colab.kernel.accessAllowed ? 'block' : 'none';\n",
              "    })();\n",
              "  </script>\n",
              "</div>\n",
              "\n",
              "    </div>\n",
              "  </div>\n"
            ],
            "application/vnd.google.colaboratory.intrinsic+json": {
              "type": "dataframe",
              "variable_name": "data_clean",
              "summary": "{\n  \"name\": \"data_clean\",\n  \"rows\": 1000,\n  \"fields\": [\n    {\n      \"column\": \"gender\",\n      \"properties\": {\n        \"dtype\": \"category\",\n        \"num_unique_values\": 2,\n        \"samples\": [\n          \"male\",\n          \"female\"\n        ],\n        \"semantic_type\": \"\",\n        \"description\": \"\"\n      }\n    },\n    {\n      \"column\": \"race/ethnicity\",\n      \"properties\": {\n        \"dtype\": \"category\",\n        \"num_unique_values\": 5,\n        \"samples\": [\n          \"group C\",\n          \"group E\"\n        ],\n        \"semantic_type\": \"\",\n        \"description\": \"\"\n      }\n    },\n    {\n      \"column\": \"parental level of education\",\n      \"properties\": {\n        \"dtype\": \"category\",\n        \"num_unique_values\": 6,\n        \"samples\": [\n          \"bachelor's degree\",\n          \"some college\"\n        ],\n        \"semantic_type\": \"\",\n        \"description\": \"\"\n      }\n    },\n    {\n      \"column\": \"lunch\",\n      \"properties\": {\n        \"dtype\": \"category\",\n        \"num_unique_values\": 2,\n        \"samples\": [\n          \"free/reduced\",\n          \"standard\"\n        ],\n        \"semantic_type\": \"\",\n        \"description\": \"\"\n      }\n    },\n    {\n      \"column\": \"test preparation course\",\n      \"properties\": {\n        \"dtype\": \"category\",\n        \"num_unique_values\": 2,\n        \"samples\": [\n          \"completed\",\n          \"none\"\n        ],\n        \"semantic_type\": \"\",\n        \"description\": \"\"\n      }\n    },\n    {\n      \"column\": \"math score\",\n      \"properties\": {\n        \"dtype\": \"number\",\n        \"std\": 15,\n        \"min\": 0,\n        \"max\": 100,\n        \"num_unique_values\": 81,\n        \"samples\": [\n          55,\n          72\n        ],\n        \"semantic_type\": \"\",\n        \"description\": \"\"\n      }\n    },\n    {\n      \"column\": \"reading score\",\n      \"properties\": {\n        \"dtype\": \"number\",\n        \"std\": 14,\n        \"min\": 17,\n        \"max\": 100,\n        \"num_unique_values\": 72,\n        \"samples\": [\n          78,\n          23\n        ],\n        \"semantic_type\": \"\",\n        \"description\": \"\"\n      }\n    },\n    {\n      \"column\": \"writing score\",\n      \"properties\": {\n        \"dtype\": \"number\",\n        \"std\": 15,\n        \"min\": 10,\n        \"max\": 100,\n        \"num_unique_values\": 77,\n        \"samples\": [\n          75,\n          76\n        ],\n        \"semantic_type\": \"\",\n        \"description\": \"\"\n      }\n    },\n    {\n      \"column\": \"average score\",\n      \"properties\": {\n        \"dtype\": \"number\",\n        \"std\": 14.257325984669144,\n        \"min\": 9.0,\n        \"max\": 100.0,\n        \"num_unique_values\": 194,\n        \"samples\": [\n          83.33333333333333,\n          26.0\n        ],\n        \"semantic_type\": \"\",\n        \"description\": \"\"\n      }\n    }\n  ]\n}"
            }
          },
          "metadata": {},
          "execution_count": 31
        }
      ]
    },
    {
      "cell_type": "code",
      "source": [
        "# Save the new dataframe as a csv\n",
        "data_clean.to_csv(f'./{parent_dir}/{data_clean_dir}/{dataset}_clean.csv')"
      ],
      "metadata": {
        "id": "ERqp8_8sAFth"
      },
      "execution_count": 8,
      "outputs": []
    },
    {
      "cell_type": "markdown",
      "source": [
        "## Data Analysis"
      ],
      "metadata": {
        "id": "5eY_fHtuAqTm"
      }
    },
    {
      "cell_type": "markdown",
      "source": [
        "Let's start by comparing how many of the students are in the various groups with some pie charts"
      ],
      "metadata": {
        "id": "87sN1Lwwf6gt"
      }
    },
    {
      "cell_type": "code",
      "source": [
        "# Define an array to be used while saving all of these\n",
        "fig_list = {}\n",
        "\n",
        "# Define the overall subplot figure\n",
        "pie_fig = make_subplots(rows=1, cols=4, specs=[[{\"type\": \"pie\"}, {\"type\": \"pie\"}, {\"type\": \"pie\"}, {\"type\": \"pie\"}]], subplot_titles=('Percentage of Male/Female Samples','Percentage of Ethnicity Samples','Percentage of Parental Education Samples','Percentage of Lunch Samples'))\n",
        "\n",
        "#Define the subplots\n",
        "\n",
        "pie_figures = [px.pie(data_clean,values=data_clean.value_counts().values, names='gender',title='Percentage of Male/Female Samples'),\n",
        "            px.pie(data_clean,values=data_clean.value_counts().values, names='race/ethnicity',title='Percentage of Ethnicity Samples'),\n",
        "            px.pie(data_clean,values=data_clean.value_counts().values, names='parental level of education',title='Percentage of Parental Education Samples'),\n",
        "            px.pie(data_clean,values=data_clean.value_counts().values, names='lunch',title='Percentage of Lunch Samples')]\n",
        "\n",
        "# Convert the subplots to traces (because make_sublots works with go and not px, dang) and append the traces to the overall figure\n",
        "\n",
        "for i, figure in enumerate(pie_figures):\n",
        "    for trace in range(len(figure[\"data\"])):\n",
        "        pie_fig.append_trace(figure[\"data\"][trace], row=1, col=1+i)\n",
        "\n",
        "# So that we don't forget this later\n",
        "fig_list.update({'pie_fig':pie_fig})\n",
        "\n",
        "# Show the figure\n",
        "pie_fig.show()"
      ],
      "metadata": {
        "colab": {
          "base_uri": "https://localhost:8080/",
          "height": 542
        },
        "id": "da4NfV9of5y-",
        "outputId": "b175e477-ebcb-4941-9571-1931de655bc2"
      },
      "execution_count": 32,
      "outputs": [
        {
          "output_type": "display_data",
          "data": {
            "text/html": [
              "<html>\n",
              "<head><meta charset=\"utf-8\" /></head>\n",
              "<body>\n",
              "    <div>            <script src=\"https://cdnjs.cloudflare.com/ajax/libs/mathjax/2.7.5/MathJax.js?config=TeX-AMS-MML_SVG\"></script><script type=\"text/javascript\">if (window.MathJax && window.MathJax.Hub && window.MathJax.Hub.Config) {window.MathJax.Hub.Config({SVG: {font: \"STIX-Web\"}});}</script>                <script type=\"text/javascript\">window.PlotlyConfig = {MathJaxConfig: 'local'};</script>\n",
              "        <script charset=\"utf-8\" src=\"https://cdn.plot.ly/plotly-2.24.1.min.js\"></script>                <div id=\"3cec95ca-4d03-4e9f-8895-2040778b5a03\" class=\"plotly-graph-div\" style=\"height:525px; width:100%;\"></div>            <script type=\"text/javascript\">                                    window.PLOTLYENV=window.PLOTLYENV || {};                                    if (document.getElementById(\"3cec95ca-4d03-4e9f-8895-2040778b5a03\")) {                    Plotly.newPlot(                        \"3cec95ca-4d03-4e9f-8895-2040778b5a03\",                        [{\"domain\":{\"x\":[0.0,0.2125],\"y\":[0.0,1.0]},\"hovertemplate\":\"gender=%{label}\\u003cbr\\u003evalue=%{value}\\u003cextra\\u003e\\u003c\\u002fextra\\u003e\",\"labels\":[\"female\",\"female\",\"female\",\"male\",\"male\",\"female\",\"female\",\"male\",\"male\",\"female\",\"male\",\"male\",\"female\",\"male\",\"female\",\"female\",\"male\",\"female\",\"male\",\"female\",\"male\",\"female\",\"male\",\"female\",\"male\",\"male\",\"male\",\"female\",\"male\",\"female\",\"female\",\"female\",\"female\",\"male\",\"male\",\"male\",\"female\",\"female\",\"female\",\"male\",\"male\",\"female\",\"female\",\"male\",\"female\",\"male\",\"female\",\"female\",\"female\",\"male\",\"male\",\"male\",\"male\",\"male\",\"female\",\"female\",\"female\",\"male\",\"male\",\"female\",\"male\",\"male\",\"male\",\"female\",\"female\",\"male\",\"male\",\"female\",\"male\",\"female\",\"female\",\"male\",\"female\",\"male\",\"male\",\"male\",\"male\",\"male\",\"female\",\"female\",\"female\",\"male\",\"male\",\"male\",\"male\",\"female\",\"female\",\"female\",\"female\",\"female\",\"female\",\"male\",\"male\",\"male\",\"female\",\"male\",\"male\",\"female\",\"female\",\"female\",\"male\",\"male\",\"female\",\"male\",\"male\",\"female\",\"female\",\"male\",\"female\",\"female\",\"female\",\"male\",\"male\",\"female\",\"female\",\"male\",\"female\",\"female\",\"female\",\"female\",\"female\",\"male\",\"female\",\"male\",\"male\",\"female\",\"male\",\"male\",\"male\",\"female\",\"male\",\"male\",\"male\",\"female\",\"male\",\"male\",\"male\",\"male\",\"female\",\"male\",\"female\",\"female\",\"female\",\"male\",\"male\",\"female\",\"male\",\"male\",\"female\",\"male\",\"male\",\"male\",\"female\",\"male\",\"male\",\"female\",\"female\",\"male\",\"female\",\"male\",\"male\",\"female\",\"male\",\"male\",\"female\",\"female\",\"male\",\"female\",\"female\",\"female\",\"male\",\"male\",\"female\",\"female\",\"female\",\"female\",\"female\",\"female\",\"female\",\"female\",\"male\",\"female\",\"female\",\"female\",\"male\",\"male\",\"male\",\"male\",\"male\",\"female\",\"female\",\"male\",\"female\",\"male\",\"female\",\"male\",\"male\",\"male\",\"female\",\"female\",\"female\",\"female\",\"male\",\"female\",\"male\",\"male\",\"male\",\"male\",\"female\",\"female\",\"male\",\"male\",\"female\",\"male\",\"male\",\"male\",\"female\",\"female\",\"male\",\"male\",\"female\",\"male\",\"female\",\"male\",\"female\",\"female\",\"female\",\"male\",\"male\",\"female\",\"male\",\"male\",\"female\",\"male\",\"male\",\"male\",\"male\",\"female\",\"male\",\"male\",\"male\",\"female\",\"female\",\"male\",\"male\",\"male\",\"male\",\"female\",\"female\",\"male\",\"male\",\"female\",\"female\",\"male\",\"male\",\"female\",\"female\",\"male\",\"female\",\"female\",\"female\",\"male\",\"female\",\"female\",\"male\",\"male\",\"female\",\"female\",\"female\",\"female\",\"male\",\"male\",\"female\",\"female\",\"male\",\"male\",\"female\",\"female\",\"female\",\"male\",\"male\",\"male\",\"female\",\"female\",\"female\",\"male\",\"male\",\"female\",\"male\",\"male\",\"male\",\"male\",\"male\",\"female\",\"male\",\"male\",\"male\",\"male\",\"male\",\"male\",\"male\",\"male\",\"female\",\"male\",\"female\",\"male\",\"male\",\"male\",\"female\",\"female\",\"female\",\"male\",\"male\",\"female\",\"female\",\"male\",\"female\",\"male\",\"male\",\"female\",\"female\",\"female\",\"female\",\"female\",\"female\",\"female\",\"male\",\"male\",\"male\",\"female\",\"male\",\"male\",\"male\",\"male\",\"female\",\"female\",\"male\",\"male\",\"female\",\"female\",\"male\",\"female\",\"female\",\"male\",\"male\",\"female\",\"male\",\"female\",\"male\",\"male\",\"female\",\"male\",\"female\",\"female\",\"female\",\"female\",\"male\",\"female\",\"male\",\"female\",\"female\",\"male\",\"female\",\"female\",\"male\",\"male\",\"male\",\"male\",\"female\",\"female\",\"male\",\"female\",\"male\",\"female\",\"female\",\"male\",\"female\",\"female\",\"female\",\"male\",\"female\",\"male\",\"male\",\"female\",\"female\",\"female\",\"female\",\"female\",\"female\",\"male\",\"male\",\"female\",\"male\",\"male\",\"female\",\"male\",\"female\",\"female\",\"male\",\"male\",\"female\",\"male\",\"female\",\"female\",\"female\",\"female\",\"male\",\"female\",\"female\",\"male\",\"female\",\"male\",\"male\",\"male\",\"female\",\"male\",\"male\",\"male\",\"male\",\"male\",\"female\",\"female\",\"female\",\"female\",\"male\",\"female\",\"male\",\"male\",\"male\",\"male\",\"male\",\"female\",\"male\",\"female\",\"male\",\"male\",\"male\",\"male\",\"male\",\"male\",\"female\",\"female\",\"female\",\"female\",\"male\",\"female\",\"male\",\"male\",\"male\",\"male\",\"female\",\"female\",\"female\",\"male\",\"female\",\"male\",\"female\",\"male\",\"female\",\"male\",\"male\",\"male\",\"female\",\"female\",\"male\",\"female\",\"female\",\"male\",\"female\",\"male\",\"female\",\"female\",\"female\",\"female\",\"female\",\"female\",\"male\",\"male\",\"female\",\"male\",\"male\",\"female\",\"male\",\"male\",\"female\",\"male\",\"male\",\"female\",\"male\",\"male\",\"female\",\"female\",\"female\",\"female\",\"female\",\"male\",\"female\",\"female\",\"female\",\"male\",\"female\",\"female\",\"male\",\"female\",\"female\",\"female\",\"male\",\"male\",\"male\",\"female\",\"male\",\"male\",\"male\",\"female\",\"female\",\"female\",\"female\",\"female\",\"female\",\"female\",\"male\",\"female\",\"male\",\"male\",\"male\",\"male\",\"male\",\"female\",\"female\",\"female\",\"female\",\"female\",\"male\",\"female\",\"male\",\"female\",\"male\",\"female\",\"male\",\"male\",\"male\",\"male\",\"female\",\"female\",\"female\",\"male\",\"female\",\"male\",\"female\",\"male\",\"male\",\"male\",\"female\",\"male\",\"male\",\"female\",\"female\",\"male\",\"female\",\"male\",\"female\",\"female\",\"male\",\"female\",\"male\",\"male\",\"female\",\"female\",\"male\",\"male\",\"male\",\"male\",\"female\",\"female\",\"female\",\"male\",\"male\",\"female\",\"female\",\"female\",\"female\",\"female\",\"female\",\"female\",\"female\",\"female\",\"female\",\"female\",\"female\",\"female\",\"male\",\"male\",\"male\",\"female\",\"female\",\"female\",\"male\",\"male\",\"female\",\"female\",\"female\",\"female\",\"female\",\"male\",\"male\",\"male\",\"female\",\"female\",\"female\",\"female\",\"male\",\"female\",\"male\",\"female\",\"female\",\"female\",\"female\",\"male\",\"male\",\"male\",\"female\",\"male\",\"male\",\"male\",\"female\",\"male\",\"male\",\"male\",\"male\",\"female\",\"male\",\"male\",\"female\",\"female\",\"male\",\"male\",\"female\",\"female\",\"male\",\"female\",\"male\",\"female\",\"female\",\"female\",\"male\",\"female\",\"female\",\"female\",\"female\",\"female\",\"male\",\"female\",\"female\",\"female\",\"female\",\"female\",\"male\",\"male\",\"female\",\"male\",\"male\",\"male\",\"female\",\"female\",\"male\",\"female\",\"female\",\"female\",\"male\",\"male\",\"female\",\"male\",\"female\",\"female\",\"female\",\"female\",\"female\",\"female\",\"male\",\"male\",\"female\",\"male\",\"male\",\"female\",\"male\",\"female\",\"male\",\"male\",\"male\",\"male\",\"female\",\"female\",\"female\",\"female\",\"female\",\"female\",\"female\",\"female\",\"female\",\"male\",\"female\",\"female\",\"male\",\"female\",\"female\",\"male\",\"male\",\"male\",\"male\",\"female\",\"male\",\"female\",\"female\",\"male\",\"female\",\"female\",\"male\",\"female\",\"female\",\"male\",\"female\",\"male\",\"female\",\"male\",\"male\",\"male\",\"female\",\"male\",\"female\",\"male\",\"female\",\"male\",\"female\",\"male\",\"female\",\"male\",\"male\",\"female\",\"male\",\"male\",\"male\",\"female\",\"female\",\"female\",\"male\",\"male\",\"male\",\"male\",\"female\",\"male\",\"male\",\"male\",\"male\",\"female\",\"male\",\"female\",\"male\",\"male\",\"female\",\"male\",\"female\",\"female\",\"male\",\"female\",\"male\",\"female\",\"female\",\"male\",\"female\",\"male\",\"male\",\"male\",\"female\",\"female\",\"male\",\"female\",\"female\",\"female\",\"female\",\"male\",\"female\",\"female\",\"female\",\"female\",\"male\",\"female\",\"female\",\"female\",\"male\",\"female\",\"female\",\"female\",\"male\",\"male\",\"female\",\"female\",\"male\",\"female\",\"male\",\"female\",\"male\",\"male\",\"female\",\"female\",\"female\",\"male\",\"female\",\"female\",\"male\",\"male\",\"male\",\"male\",\"female\",\"male\",\"female\",\"male\",\"female\",\"male\",\"female\",\"female\",\"female\",\"female\",\"male\",\"female\",\"female\",\"male\",\"female\",\"female\",\"female\",\"male\",\"female\",\"female\",\"male\",\"female\",\"male\",\"female\",\"male\",\"female\",\"male\",\"female\",\"female\",\"male\",\"female\",\"male\",\"female\",\"male\",\"male\",\"male\",\"female\",\"male\",\"male\",\"female\",\"female\",\"male\",\"male\",\"female\",\"male\",\"female\",\"male\",\"male\",\"female\",\"female\",\"male\",\"female\",\"male\",\"male\",\"male\",\"male\",\"male\",\"male\",\"male\",\"female\",\"male\",\"male\",\"female\",\"male\",\"male\",\"male\",\"female\",\"female\",\"male\",\"female\",\"female\",\"male\",\"female\",\"female\",\"female\",\"male\",\"female\",\"male\",\"female\",\"female\",\"female\",\"male\",\"female\",\"female\",\"male\",\"female\",\"male\",\"female\",\"male\",\"female\",\"female\",\"female\",\"female\",\"male\",\"male\",\"female\",\"female\",\"male\",\"male\",\"female\",\"female\",\"female\",\"female\",\"female\",\"male\",\"female\",\"female\",\"male\",\"male\",\"female\",\"male\",\"female\",\"male\",\"male\",\"male\",\"female\",\"male\",\"female\",\"male\",\"male\",\"male\",\"male\",\"male\",\"male\",\"male\",\"female\",\"male\",\"male\",\"male\",\"female\",\"male\",\"male\",\"female\",\"female\",\"male\",\"female\",\"male\",\"female\",\"male\",\"female\",\"female\",\"male\",\"female\",\"male\",\"male\",\"female\",\"female\",\"male\",\"female\",\"female\",\"female\",\"female\",\"male\",\"female\",\"male\",\"male\",\"female\",\"female\",\"female\",\"male\",\"female\",\"female\",\"female\",\"female\",\"male\",\"male\",\"male\",\"female\",\"female\",\"male\",\"male\",\"female\",\"female\",\"male\",\"female\",\"male\",\"female\",\"female\",\"male\",\"female\",\"female\",\"female\",\"male\",\"female\",\"male\",\"female\",\"female\",\"female\"],\"legendgroup\":\"\",\"name\":\"\",\"showlegend\":true,\"values\":[1,1,1,1,1,1,1,1,1,1,1,1,1,1,1,1,1,1,1,1,1,1,1,1,1,1,1,1,1,1,1,1,1,1,1,1,1,1,1,1,1,1,1,1,1,1,1,1,1,1,1,1,1,1,1,1,1,1,1,1,1,1,1,1,1,1,1,1,1,1,1,1,1,1,1,1,1,1,1,1,1,1,1,1,1,1,1,1,1,1,1,1,1,1,1,1,1,1,1,1,1,1,1,1,1,1,1,1,1,1,1,1,1,1,1,1,1,1,1,1,1,1,1,1,1,1,1,1,1,1,1,1,1,1,1,1,1,1,1,1,1,1,1,1,1,1,1,1,1,1,1,1,1,1,1,1,1,1,1,1,1,1,1,1,1,1,1,1,1,1,1,1,1,1,1,1,1,1,1,1,1,1,1,1,1,1,1,1,1,1,1,1,1,1,1,1,1,1,1,1,1,1,1,1,1,1,1,1,1,1,1,1,1,1,1,1,1,1,1,1,1,1,1,1,1,1,1,1,1,1,1,1,1,1,1,1,1,1,1,1,1,1,1,1,1,1,1,1,1,1,1,1,1,1,1,1,1,1,1,1,1,1,1,1,1,1,1,1,1,1,1,1,1,1,1,1,1,1,1,1,1,1,1,1,1,1,1,1,1,1,1,1,1,1,1,1,1,1,1,1,1,1,1,1,1,1,1,1,1,1,1,1,1,1,1,1,1,1,1,1,1,1,1,1,1,1,1,1,1,1,1,1,1,1,1,1,1,1,1,1,1,1,1,1,1,1,1,1,1,1,1,1,1,1,1,1,1,1,1,1,1,1,1,1,1,1,1,1,1,1,1,1,1,1,1,1,1,1,1,1,1,1,1,1,1,1,1,1,1,1,1,1,1,1,1,1,1,1,1,1,1,1,1,1,1,1,1,1,1,1,1,1,1,1,1,1,1,1,1,1,1,1,1,1,1,1,1,1,1,1,1,1,1,1,1,1,1,1,1,1,1,1,1,1,1,1,1,1,1,1,1,1,1,1,1,1,1,1,1,1,1,1,1,1,1,1,1,1,1,1,1,1,1,1,1,1,1,1,1,1,1,1,1,1,1,1,1,1,1,1,1,1,1,1,1,1,1,1,1,1,1,1,1,1,1,1,1,1,1,1,1,1,1,1,1,1,1,1,1,1,1,1,1,1,1,1,1,1,1,1,1,1,1,1,1,1,1,1,1,1,1,1,1,1,1,1,1,1,1,1,1,1,1,1,1,1,1,1,1,1,1,1,1,1,1,1,1,1,1,1,1,1,1,1,1,1,1,1,1,1,1,1,1,1,1,1,1,1,1,1,1,1,1,1,1,1,1,1,1,1,1,1,1,1,1,1,1,1,1,1,1,1,1,1,1,1,1,1,1,1,1,1,1,1,1,1,1,1,1,1,1,1,1,1,1,1,1,1,1,1,1,1,1,1,1,1,1,1,1,1,1,1,1,1,1,1,1,1,1,1,1,1,1,1,1,1,1,1,1,1,1,1,1,1,1,1,1,1,1,1,1,1,1,1,1,1,1,1,1,1,1,1,1,1,1,1,1,1,1,1,1,1,1,1,1,1,1,1,1,1,1,1,1,1,1,1,1,1,1,1,1,1,1,1,1,1,1,1,1,1,1,1,1,1,1,1,1,1,1,1,1,1,1,1,1,1,1,1,1,1,1,1,1,1,1,1,1,1,1,1,1,1,1,1,1,1,1,1,1,1,1,1,1,1,1,1,1,1,1,1,1,1,1,1,1,1,1,1,1,1,1,1,1,1,1,1,1,1,1,1,1,1,1,1,1,1,1,1,1,1,1,1,1,1,1,1,1,1,1,1,1,1,1,1,1,1,1,1,1,1,1,1,1,1,1,1,1,1,1,1,1,1,1,1,1,1,1,1,1,1,1,1,1,1,1,1,1,1,1,1,1,1,1,1,1,1,1,1,1,1,1,1,1,1,1,1,1,1,1,1,1,1,1,1,1,1,1,1,1,1,1,1,1,1,1,1,1,1,1,1,1,1,1,1,1,1,1,1,1,1,1,1,1,1,1,1,1,1,1,1,1,1,1,1,1,1,1,1,1,1,1,1,1,1,1,1,1,1,1,1,1,1,1,1,1,1,1,1,1,1,1,1,1,1,1,1,1,1,1,1,1,1,1,1,1,1,1,1,1,1,1,1,1,1,1,1,1,1,1,1,1,1,1,1,1,1,1,1,1,1,1,1,1,1,1,1,1,1,1,1],\"type\":\"pie\"},{\"domain\":{\"x\":[0.2625,0.475],\"y\":[0.0,1.0]},\"hovertemplate\":\"race\\u002fethnicity=%{label}\\u003cbr\\u003evalue=%{value}\\u003cextra\\u003e\\u003c\\u002fextra\\u003e\",\"labels\":[\"group B\",\"group C\",\"group B\",\"group A\",\"group C\",\"group B\",\"group B\",\"group B\",\"group D\",\"group B\",\"group C\",\"group D\",\"group B\",\"group A\",\"group A\",\"group C\",\"group C\",\"group B\",\"group C\",\"group C\",\"group D\",\"group B\",\"group D\",\"group C\",\"group D\",\"group A\",\"group B\",\"group C\",\"group C\",\"group D\",\"group D\",\"group B\",\"group E\",\"group D\",\"group E\",\"group E\",\"group D\",\"group D\",\"group D\",\"group B\",\"group C\",\"group C\",\"group B\",\"group B\",\"group E\",\"group B\",\"group A\",\"group C\",\"group D\",\"group C\",\"group E\",\"group E\",\"group C\",\"group D\",\"group C\",\"group C\",\"group E\",\"group D\",\"group D\",\"group C\",\"group E\",\"group A\",\"group A\",\"group C\",\"group D\",\"group B\",\"group D\",\"group C\",\"group B\",\"group C\",\"group D\",\"group D\",\"group A\",\"group C\",\"group C\",\"group B\",\"group E\",\"group A\",\"group D\",\"group E\",\"group B\",\"group B\",\"group A\",\"group E\",\"group D\",\"group C\",\"group C\",\"group D\",\"group A\",\"group D\",\"group C\",\"group C\",\"group C\",\"group C\",\"group B\",\"group C\",\"group B\",\"group E\",\"group D\",\"group D\",\"group B\",\"group D\",\"group D\",\"group B\",\"group C\",\"group C\",\"group D\",\"group E\",\"group B\",\"group B\",\"group D\",\"group C\",\"group A\",\"group D\",\"group E\",\"group C\",\"group B\",\"group D\",\"group D\",\"group C\",\"group C\",\"group B\",\"group C\",\"group D\",\"group E\",\"group B\",\"group B\",\"group D\",\"group D\",\"group A\",\"group D\",\"group C\",\"group E\",\"group C\",\"group D\",\"group C\",\"group B\",\"group E\",\"group C\",\"group D\",\"group D\",\"group C\",\"group E\",\"group A\",\"group D\",\"group C\",\"group B\",\"group C\",\"group D\",\"group E\",\"group A\",\"group A\",\"group B\",\"group D\",\"group D\",\"group C\",\"group E\",\"group B\",\"group B\",\"group D\",\"group B\",\"group E\",\"group B\",\"group C\",\"group E\",\"group C\",\"group C\",\"group B\",\"group B\",\"group C\",\"group A\",\"group E\",\"group D\",\"group C\",\"group C\",\"group C\",\"group B\",\"group C\",\"group B\",\"group D\",\"group C\",\"group C\",\"group E\",\"group D\",\"group C\",\"group C\",\"group E\",\"group D\",\"group B\",\"group C\",\"group E\",\"group D\",\"group B\",\"group D\",\"group C\",\"group D\",\"group C\",\"group E\",\"group B\",\"group B\",\"group C\",\"group D\",\"group C\",\"group B\",\"group C\",\"group D\",\"group E\",\"group E\",\"group B\",\"group B\",\"group D\",\"group C\",\"group C\",\"group C\",\"group E\",\"group B\",\"group E\",\"group C\",\"group B\",\"group B\",\"group D\",\"group B\",\"group C\",\"group D\",\"group B\",\"group E\",\"group C\",\"group D\",\"group A\",\"group C\",\"group D\",\"group C\",\"group B\",\"group E\",\"group C\",\"group D\",\"group D\",\"group D\",\"group B\",\"group C\",\"group D\",\"group E\",\"group D\",\"group E\",\"group D\",\"group C\",\"group E\",\"group B\",\"group B\",\"group C\",\"group A\",\"group D\",\"group B\",\"group D\",\"group D\",\"group E\",\"group C\",\"group C\",\"group B\",\"group C\",\"group C\",\"group C\",\"group C\",\"group E\",\"group D\",\"group D\",\"group C\",\"group D\",\"group D\",\"group E\",\"group C\",\"group C\",\"group D\",\"group D\",\"group B\",\"group C\",\"group C\",\"group E\",\"group C\",\"group B\",\"group D\",\"group D\",\"group D\",\"group D\",\"group B\",\"group B\",\"group E\",\"group B\",\"group B\",\"group E\",\"group C\",\"group D\",\"group C\",\"group E\",\"group D\",\"group B\",\"group A\",\"group E\",\"group C\",\"group D\",\"group A\",\"group D\",\"group C\",\"group B\",\"group C\",\"group A\",\"group E\",\"group C\",\"group B\",\"group D\",\"group B\",\"group B\",\"group D\",\"group C\",\"group C\",\"group C\",\"group D\",\"group C\",\"group B\",\"group D\",\"group C\",\"group E\",\"group C\",\"group C\",\"group C\",\"group C\",\"group C\",\"group A\",\"group C\",\"group B\",\"group C\",\"group C\",\"group E\",\"group B\",\"group C\",\"group B\",\"group D\",\"group C\",\"group B\",\"group D\",\"group C\",\"group C\",\"group B\",\"group D\",\"group D\",\"group C\",\"group B\",\"group C\",\"group D\",\"group E\",\"group B\",\"group E\",\"group C\",\"group C\",\"group C\",\"group B\",\"group A\",\"group C\",\"group D\",\"group D\",\"group B\",\"group B\",\"group C\",\"group D\",\"group C\",\"group A\",\"group C\",\"group C\",\"group A\",\"group D\",\"group E\",\"group C\",\"group D\",\"group D\",\"group D\",\"group E\",\"group D\",\"group D\",\"group A\",\"group A\",\"group B\",\"group C\",\"group C\",\"group E\",\"group A\",\"group E\",\"group E\",\"group C\",\"group D\",\"group D\",\"group E\",\"group D\",\"group E\",\"group C\",\"group C\",\"group A\",\"group B\",\"group C\",\"group B\",\"group D\",\"group C\",\"group A\",\"group A\",\"group D\",\"group C\",\"group C\",\"group B\",\"group B\",\"group D\",\"group D\",\"group D\",\"group E\",\"group D\",\"group B\",\"group C\",\"group E\",\"group C\",\"group C\",\"group D\",\"group E\",\"group C\",\"group D\",\"group D\",\"group A\",\"group B\",\"group C\",\"group C\",\"group C\",\"group A\",\"group C\",\"group C\",\"group C\",\"group C\",\"group A\",\"group C\",\"group C\",\"group D\",\"group D\",\"group C\",\"group D\",\"group C\",\"group D\",\"group A\",\"group B\",\"group A\",\"group C\",\"group D\",\"group C\",\"group B\",\"group B\",\"group C\",\"group E\",\"group C\",\"group C\",\"group C\",\"group C\",\"group D\",\"group D\",\"group E\",\"group B\",\"group C\",\"group B\",\"group E\",\"group C\",\"group A\",\"group C\",\"group D\",\"group A\",\"group A\",\"group C\",\"group C\",\"group C\",\"group C\",\"group D\",\"group B\",\"group D\",\"group E\",\"group D\",\"group D\",\"group E\",\"group B\",\"group D\",\"group C\",\"group A\",\"group B\",\"group C\",\"group D\",\"group C\",\"group B\",\"group A\",\"group A\",\"group C\",\"group C\",\"group C\",\"group B\",\"group D\",\"group C\",\"group D\",\"group B\",\"group E\",\"group D\",\"group B\",\"group C\",\"group E\",\"group D\",\"group B\",\"group A\",\"group B\",\"group C\",\"group C\",\"group D\",\"group A\",\"group D\",\"group B\",\"group B\",\"group C\",\"group D\",\"group E\",\"group D\",\"group B\",\"group D\",\"group C\",\"group D\",\"group C\",\"group C\",\"group E\",\"group C\",\"group C\",\"group D\",\"group C\",\"group C\",\"group C\",\"group E\",\"group E\",\"group B\",\"group C\",\"group C\",\"group D\",\"group E\",\"group A\",\"group C\",\"group D\",\"group C\",\"group D\",\"group D\",\"group E\",\"group A\",\"group C\",\"group C\",\"group C\",\"group C\",\"group B\",\"group B\",\"group D\",\"group E\",\"group C\",\"group C\",\"group C\",\"group B\",\"group D\",\"group D\",\"group C\",\"group C\",\"group D\",\"group B\",\"group B\",\"group E\",\"group D\",\"group B\",\"group D\",\"group B\",\"group A\",\"group C\",\"group C\",\"group E\",\"group A\",\"group A\",\"group B\",\"group B\",\"group D\",\"group D\",\"group E\",\"group D\",\"group D\",\"group D\",\"group C\",\"group A\",\"group C\",\"group C\",\"group A\",\"group C\",\"group A\",\"group E\",\"group E\",\"group C\",\"group C\",\"group B\",\"group A\",\"group D\",\"group D\",\"group D\",\"group C\",\"group E\",\"group D\",\"group D\",\"group C\",\"group C\",\"group C\",\"group E\",\"group B\",\"group D\",\"group C\",\"group C\",\"group C\",\"group A\",\"group C\",\"group E\",\"group D\",\"group D\",\"group C\",\"group C\",\"group B\",\"group C\",\"group A\",\"group E\",\"group D\",\"group B\",\"group D\",\"group D\",\"group C\",\"group D\",\"group B\",\"group B\",\"group C\",\"group D\",\"group A\",\"group B\",\"group D\",\"group E\",\"group D\",\"group D\",\"group D\",\"group B\",\"group E\",\"group B\",\"group B\",\"group D\",\"group E\",\"group B\",\"group D\",\"group C\",\"group A\",\"group D\",\"group A\",\"group B\",\"group B\",\"group C\",\"group D\",\"group D\",\"group D\",\"group C\",\"group C\",\"group D\",\"group C\",\"group D\",\"group C\",\"group C\",\"group B\",\"group C\",\"group D\",\"group C\",\"group D\",\"group C\",\"group C\",\"group D\",\"group B\",\"group E\",\"group C\",\"group D\",\"group D\",\"group D\",\"group B\",\"group B\",\"group C\",\"group B\",\"group E\",\"group E\",\"group D\",\"group A\",\"group E\",\"group C\",\"group E\",\"group C\",\"group D\",\"group C\",\"group D\",\"group C\",\"group A\",\"group D\",\"group C\",\"group E\",\"group B\",\"group A\",\"group D\",\"group B\",\"group A\",\"group D\",\"group C\",\"group D\",\"group D\",\"group C\",\"group E\",\"group D\",\"group D\",\"group B\",\"group B\",\"group C\",\"group C\",\"group C\",\"group E\",\"group C\",\"group D\",\"group B\",\"group C\",\"group B\",\"group E\",\"group E\",\"group E\",\"group D\",\"group C\",\"group B\",\"group A\",\"group C\",\"group D\",\"group E\",\"group C\",\"group C\",\"group B\",\"group D\",\"group C\",\"group D\",\"group A\",\"group C\",\"group C\",\"group B\",\"group D\",\"group D\",\"group C\",\"group C\",\"group B\",\"group D\",\"group E\",\"group C\",\"group C\",\"group C\",\"group E\",\"group D\",\"group E\",\"group D\",\"group B\",\"group C\",\"group D\",\"group D\",\"group B\",\"group D\",\"group B\",\"group C\",\"group B\",\"group D\",\"group A\",\"group B\",\"group D\",\"group B\",\"group C\",\"group B\",\"group B\",\"group B\",\"group C\",\"group A\",\"group E\",\"group D\",\"group B\",\"group B\",\"group C\",\"group C\",\"group B\",\"group E\",\"group B\",\"group C\",\"group C\",\"group B\",\"group D\",\"group D\",\"group E\",\"group B\",\"group E\",\"group D\",\"group E\",\"group E\",\"group C\",\"group C\",\"group C\",\"group E\",\"group B\",\"group C\",\"group A\",\"group D\",\"group E\",\"group C\",\"group B\",\"group A\",\"group A\",\"group C\",\"group E\",\"group C\",\"group B\",\"group A\",\"group D\",\"group B\",\"group C\",\"group A\",\"group D\",\"group E\",\"group B\",\"group C\",\"group C\",\"group C\",\"group C\",\"group D\",\"group B\",\"group A\",\"group C\",\"group A\",\"group B\",\"group B\",\"group C\",\"group E\",\"group A\",\"group B\",\"group C\",\"group D\",\"group C\",\"group B\",\"group B\",\"group D\",\"group E\",\"group C\",\"group D\",\"group C\",\"group D\",\"group C\",\"group A\",\"group E\",\"group E\",\"group C\",\"group B\",\"group B\",\"group C\",\"group B\",\"group C\",\"group C\",\"group E\",\"group D\",\"group C\",\"group C\",\"group D\",\"group C\",\"group B\",\"group E\",\"group C\",\"group B\",\"group C\",\"group B\",\"group E\",\"group C\",\"group C\",\"group D\",\"group C\",\"group D\",\"group D\",\"group C\",\"group E\",\"group B\",\"group D\",\"group E\",\"group C\",\"group E\",\"group C\",\"group D\",\"group D\",\"group E\",\"group E\",\"group A\",\"group D\",\"group E\",\"group E\",\"group B\",\"group B\",\"group D\",\"group D\",\"group D\",\"group C\",\"group A\",\"group D\",\"group D\",\"group D\",\"group B\",\"group D\",\"group C\",\"group E\",\"group D\",\"group A\",\"group C\",\"group C\",\"group B\",\"group E\",\"group E\",\"group C\",\"group C\",\"group B\",\"group D\",\"group C\",\"group D\",\"group B\",\"group D\",\"group E\",\"group E\",\"group D\",\"group E\",\"group C\",\"group C\",\"group D\",\"group D\",\"group C\",\"group C\",\"group D\",\"group A\",\"group E\",\"group D\",\"group D\",\"group C\",\"group D\",\"group C\",\"group A\",\"group B\",\"group C\",\"group B\",\"group D\",\"group B\",\"group E\",\"group E\",\"group D\",\"group E\",\"group C\",\"group C\",\"group E\",\"group C\",\"group D\",\"group D\",\"group C\",\"group A\",\"group D\",\"group E\",\"group C\",\"group D\",\"group D\",\"group A\",\"group C\",\"group E\",\"group B\",\"group D\",\"group C\",\"group A\",\"group D\",\"group A\",\"group C\",\"group B\",\"group C\",\"group D\",\"group C\",\"group B\",\"group D\",\"group B\",\"group A\",\"group C\",\"group A\",\"group C\",\"group E\",\"group A\",\"group D\",\"group E\",\"group B\",\"group D\",\"group D\",\"group A\",\"group E\",\"group C\",\"group C\",\"group D\",\"group D\"],\"legendgroup\":\"\",\"name\":\"\",\"showlegend\":true,\"values\":[1,1,1,1,1,1,1,1,1,1,1,1,1,1,1,1,1,1,1,1,1,1,1,1,1,1,1,1,1,1,1,1,1,1,1,1,1,1,1,1,1,1,1,1,1,1,1,1,1,1,1,1,1,1,1,1,1,1,1,1,1,1,1,1,1,1,1,1,1,1,1,1,1,1,1,1,1,1,1,1,1,1,1,1,1,1,1,1,1,1,1,1,1,1,1,1,1,1,1,1,1,1,1,1,1,1,1,1,1,1,1,1,1,1,1,1,1,1,1,1,1,1,1,1,1,1,1,1,1,1,1,1,1,1,1,1,1,1,1,1,1,1,1,1,1,1,1,1,1,1,1,1,1,1,1,1,1,1,1,1,1,1,1,1,1,1,1,1,1,1,1,1,1,1,1,1,1,1,1,1,1,1,1,1,1,1,1,1,1,1,1,1,1,1,1,1,1,1,1,1,1,1,1,1,1,1,1,1,1,1,1,1,1,1,1,1,1,1,1,1,1,1,1,1,1,1,1,1,1,1,1,1,1,1,1,1,1,1,1,1,1,1,1,1,1,1,1,1,1,1,1,1,1,1,1,1,1,1,1,1,1,1,1,1,1,1,1,1,1,1,1,1,1,1,1,1,1,1,1,1,1,1,1,1,1,1,1,1,1,1,1,1,1,1,1,1,1,1,1,1,1,1,1,1,1,1,1,1,1,1,1,1,1,1,1,1,1,1,1,1,1,1,1,1,1,1,1,1,1,1,1,1,1,1,1,1,1,1,1,1,1,1,1,1,1,1,1,1,1,1,1,1,1,1,1,1,1,1,1,1,1,1,1,1,1,1,1,1,1,1,1,1,1,1,1,1,1,1,1,1,1,1,1,1,1,1,1,1,1,1,1,1,1,1,1,1,1,1,1,1,1,1,1,1,1,1,1,1,1,1,1,1,1,1,1,1,1,1,1,1,1,1,1,1,1,1,1,1,1,1,1,1,1,1,1,1,1,1,1,1,1,1,1,1,1,1,1,1,1,1,1,1,1,1,1,1,1,1,1,1,1,1,1,1,1,1,1,1,1,1,1,1,1,1,1,1,1,1,1,1,1,1,1,1,1,1,1,1,1,1,1,1,1,1,1,1,1,1,1,1,1,1,1,1,1,1,1,1,1,1,1,1,1,1,1,1,1,1,1,1,1,1,1,1,1,1,1,1,1,1,1,1,1,1,1,1,1,1,1,1,1,1,1,1,1,1,1,1,1,1,1,1,1,1,1,1,1,1,1,1,1,1,1,1,1,1,1,1,1,1,1,1,1,1,1,1,1,1,1,1,1,1,1,1,1,1,1,1,1,1,1,1,1,1,1,1,1,1,1,1,1,1,1,1,1,1,1,1,1,1,1,1,1,1,1,1,1,1,1,1,1,1,1,1,1,1,1,1,1,1,1,1,1,1,1,1,1,1,1,1,1,1,1,1,1,1,1,1,1,1,1,1,1,1,1,1,1,1,1,1,1,1,1,1,1,1,1,1,1,1,1,1,1,1,1,1,1,1,1,1,1,1,1,1,1,1,1,1,1,1,1,1,1,1,1,1,1,1,1,1,1,1,1,1,1,1,1,1,1,1,1,1,1,1,1,1,1,1,1,1,1,1,1,1,1,1,1,1,1,1,1,1,1,1,1,1,1,1,1,1,1,1,1,1,1,1,1,1,1,1,1,1,1,1,1,1,1,1,1,1,1,1,1,1,1,1,1,1,1,1,1,1,1,1,1,1,1,1,1,1,1,1,1,1,1,1,1,1,1,1,1,1,1,1,1,1,1,1,1,1,1,1,1,1,1,1,1,1,1,1,1,1,1,1,1,1,1,1,1,1,1,1,1,1,1,1,1,1,1,1,1,1,1,1,1,1,1,1,1,1,1,1,1,1,1,1,1,1,1,1,1,1,1,1,1,1,1,1,1,1,1,1,1,1,1,1,1,1,1,1,1,1,1,1,1,1,1,1,1,1,1,1,1,1,1,1,1,1,1,1,1,1,1,1,1,1,1,1,1,1,1,1,1,1,1,1,1,1,1,1,1,1,1,1,1,1,1,1,1,1,1,1,1,1,1,1,1,1,1,1,1,1,1,1,1,1,1,1,1,1,1,1,1,1,1,1,1,1,1,1,1,1,1,1,1,1,1,1,1,1,1,1,1,1,1,1,1,1,1,1,1,1,1,1,1,1,1,1,1,1,1,1,1,1,1,1,1,1,1,1,1,1,1,1,1,1,1,1,1,1],\"type\":\"pie\"},{\"domain\":{\"x\":[0.525,0.7375],\"y\":[0.0,1.0]},\"hovertemplate\":\"parental level of education=%{label}\\u003cbr\\u003evalue=%{value}\\u003cextra\\u003e\\u003c\\u002fextra\\u003e\",\"labels\":[\"bachelor's degree\",\"some college\",\"master's degree\",\"associate's degree\",\"some college\",\"associate's degree\",\"some college\",\"some college\",\"high school\",\"high school\",\"associate's degree\",\"associate's degree\",\"high school\",\"some college\",\"master's degree\",\"some high school\",\"high school\",\"some high school\",\"master's degree\",\"associate's degree\",\"high school\",\"some college\",\"some college\",\"some high school\",\"bachelor's degree\",\"master's degree\",\"some college\",\"bachelor's degree\",\"high school\",\"master's degree\",\"some college\",\"some college\",\"master's degree\",\"some college\",\"some college\",\"associate's degree\",\"associate's degree\",\"some high school\",\"associate's degree\",\"associate's degree\",\"associate's degree\",\"associate's degree\",\"associate's degree\",\"some college\",\"associate's degree\",\"associate's degree\",\"associate's degree\",\"high school\",\"associate's degree\",\"high school\",\"some college\",\"associate's degree\",\"some college\",\"high school\",\"some high school\",\"high school\",\"associate's degree\",\"associate's degree\",\"some college\",\"some high school\",\"bachelor's degree\",\"some high school\",\"associate's degree\",\"associate's degree\",\"some high school\",\"some high school\",\"some high school\",\"some college\",\"associate's degree\",\"associate's degree\",\"some college\",\"some college\",\"associate's degree\",\"some high school\",\"some high school\",\"associate's degree\",\"some high school\",\"bachelor's degree\",\"some high school\",\"master's degree\",\"associate's degree\",\"high school\",\"some college\",\"associate's degree\",\"high school\",\"some college\",\"some college\",\"associate's degree\",\"some college\",\"some high school\",\"bachelor's degree\",\"high school\",\"high school\",\"associate's degree\",\"some college\",\"associate's degree\",\"some high school\",\"some college\",\"some college\",\"bachelor's degree\",\"some college\",\"bachelor's degree\",\"associate's degree\",\"high school\",\"some college\",\"some college\",\"master's degree\",\"associate's degree\",\"associate's degree\",\"some high school\",\"associate's degree\",\"high school\",\"associate's degree\",\"some college\",\"bachelor's degree\",\"high school\",\"bachelor's degree\",\"bachelor's degree\",\"some high school\",\"some college\",\"bachelor's degree\",\"associate's degree\",\"some college\",\"high school\",\"some college\",\"high school\",\"some high school\",\"some college\",\"master's degree\",\"bachelor's degree\",\"master's degree\",\"some high school\",\"some college\",\"some college\",\"bachelor's degree\",\"bachelor's degree\",\"some high school\",\"high school\",\"associate's degree\",\"some college\",\"some high school\",\"some college\",\"some college\",\"high school\",\"some college\",\"some college\",\"some high school\",\"associate's degree\",\"bachelor's degree\",\"associate's degree\",\"some high school\",\"bachelor's degree\",\"associate's degree\",\"bachelor's degree\",\"some high school\",\"some college\",\"high school\",\"some college\",\"associate's degree\",\"associate's degree\",\"associate's degree\",\"some college\",\"master's degree\",\"high school\",\"master's degree\",\"bachelor's degree\",\"high school\",\"master's degree\",\"high school\",\"some college\",\"high school\",\"some high school\",\"some college\",\"associate's degree\",\"bachelor's degree\",\"master's degree\",\"high school\",\"associate's degree\",\"master's degree\",\"some high school\",\"master's degree\",\"some college\",\"high school\",\"associate's degree\",\"some high school\",\"associate's degree\",\"high school\",\"some high school\",\"some high school\",\"bachelor's degree\",\"associate's degree\",\"some college\",\"some high school\",\"some college\",\"master's degree\",\"associate's degree\",\"some high school\",\"high school\",\"some college\",\"bachelor's degree\",\"associate's degree\",\"some college\",\"associate's degree\",\"associate's degree\",\"some college\",\"some high school\",\"bachelor's degree\",\"high school\",\"some college\",\"some college\",\"some high school\",\"some college\",\"high school\",\"associate's degree\",\"high school\",\"some high school\",\"associate's degree\",\"high school\",\"high school\",\"some high school\",\"high school\",\"associate's degree\",\"some high school\",\"some high school\",\"associate's degree\",\"master's degree\",\"some college\",\"high school\",\"some high school\",\"some college\",\"some college\",\"associate's degree\",\"bachelor's degree\",\"some high school\",\"bachelor's degree\",\"associate's degree\",\"bachelor's degree\",\"some high school\",\"some college\",\"associate's degree\",\"high school\",\"bachelor's degree\",\"high school\",\"some college\",\"some high school\",\"associate's degree\",\"associate's degree\",\"high school\",\"high school\",\"high school\",\"some high school\",\"some college\",\"some high school\",\"master's degree\",\"high school\",\"some college\",\"associate's degree\",\"associate's degree\",\"some college\",\"master's degree\",\"some high school\",\"some college\",\"some high school\",\"high school\",\"high school\",\"some high school\",\"bachelor's degree\",\"high school\",\"associate's degree\",\"some college\",\"bachelor's degree\",\"some college\",\"associate's degree\",\"some college\",\"some college\",\"bachelor's degree\",\"some high school\",\"high school\",\"some high school\",\"bachelor's degree\",\"high school\",\"high school\",\"bachelor's degree\",\"some college\",\"some high school\",\"associate's degree\",\"associate's degree\",\"some high school\",\"bachelor's degree\",\"some high school\",\"associate's degree\",\"some high school\",\"some high school\",\"bachelor's degree\",\"high school\",\"associate's degree\",\"some high school\",\"associate's degree\",\"high school\",\"associate's degree\",\"some college\",\"some high school\",\"associate's degree\",\"associate's degree\",\"associate's degree\",\"some college\",\"some college\",\"some high school\",\"associate's degree\",\"high school\",\"associate's degree\",\"bachelor's degree\",\"bachelor's degree\",\"associate's degree\",\"bachelor's degree\",\"high school\",\"master's degree\",\"associate's degree\",\"bachelor's degree\",\"associate's degree\",\"high school\",\"high school\",\"some college\",\"some high school\",\"high school\",\"some college\",\"some college\",\"some college\",\"associate's degree\",\"some high school\",\"high school\",\"associate's degree\",\"associate's degree\",\"associate's degree\",\"bachelor's degree\",\"some college\",\"some high school\",\"associate's degree\",\"some high school\",\"some high school\",\"high school\",\"high school\",\"high school\",\"associate's degree\",\"some college\",\"high school\",\"some college\",\"bachelor's degree\",\"high school\",\"associate's degree\",\"bachelor's degree\",\"some college\",\"some college\",\"associate's degree\",\"some college\",\"bachelor's degree\",\"associate's degree\",\"some college\",\"some college\",\"some college\",\"high school\",\"some high school\",\"some college\",\"some high school\",\"some college\",\"bachelor's degree\",\"high school\",\"bachelor's degree\",\"some high school\",\"some high school\",\"some college\",\"some college\",\"some high school\",\"some college\",\"bachelor's degree\",\"associate's degree\",\"some high school\",\"master's degree\",\"some high school\",\"bachelor's degree\",\"associate's degree\",\"associate's degree\",\"master's degree\",\"some high school\",\"some high school\",\"some college\",\"bachelor's degree\",\"associate's degree\",\"high school\",\"master's degree\",\"some high school\",\"some college\",\"some college\",\"associate's degree\",\"some high school\",\"high school\",\"high school\",\"associate's degree\",\"some high school\",\"some high school\",\"some high school\",\"some college\",\"some college\",\"high school\",\"high school\",\"some high school\",\"associate's degree\",\"associate's degree\",\"high school\",\"associate's degree\",\"master's degree\",\"some college\",\"associate's degree\",\"some high school\",\"bachelor's degree\",\"high school\",\"bachelor's degree\",\"associate's degree\",\"some college\",\"high school\",\"associate's degree\",\"high school\",\"master's degree\",\"some high school\",\"some college\",\"some college\",\"bachelor's degree\",\"some high school\",\"some high school\",\"some high school\",\"associate's degree\",\"high school\",\"high school\",\"some high school\",\"some high school\",\"some college\",\"associate's degree\",\"associate's degree\",\"high school\",\"some high school\",\"some college\",\"high school\",\"some high school\",\"associate's degree\",\"some high school\",\"some high school\",\"some college\",\"high school\",\"high school\",\"associate's degree\",\"some college\",\"some college\",\"associate's degree\",\"some college\",\"associate's degree\",\"bachelor's degree\",\"bachelor's degree\",\"associate's degree\",\"bachelor's degree\",\"high school\",\"bachelor's degree\",\"some college\",\"some college\",\"some college\",\"bachelor's degree\",\"some college\",\"associate's degree\",\"high school\",\"high school\",\"some college\",\"associate's degree\",\"high school\",\"associate's degree\",\"some high school\",\"associate's degree\",\"bachelor's degree\",\"bachelor's degree\",\"associate's degree\",\"master's degree\",\"associate's degree\",\"high school\",\"associate's degree\",\"some college\",\"high school\",\"associate's degree\",\"high school\",\"some college\",\"associate's degree\",\"some high school\",\"associate's degree\",\"associate's degree\",\"associate's degree\",\"some college\",\"bachelor's degree\",\"high school\",\"high school\",\"some college\",\"some college\",\"some high school\",\"some college\",\"master's degree\",\"associate's degree\",\"some college\",\"associate's degree\",\"master's degree\",\"some high school\",\"high school\",\"bachelor's degree\",\"master's degree\",\"bachelor's degree\",\"some college\",\"some high school\",\"some high school\",\"some high school\",\"master's degree\",\"some high school\",\"some college\",\"some college\",\"some high school\",\"high school\",\"some college\",\"associate's degree\",\"bachelor's degree\",\"master's degree\",\"high school\",\"some college\",\"some high school\",\"high school\",\"bachelor's degree\",\"associate's degree\",\"associate's degree\",\"some high school\",\"associate's degree\",\"associate's degree\",\"high school\",\"bachelor's degree\",\"associate's degree\",\"high school\",\"bachelor's degree\",\"associate's degree\",\"high school\",\"associate's degree\",\"associate's degree\",\"associate's degree\",\"master's degree\",\"some high school\",\"some high school\",\"high school\",\"high school\",\"master's degree\",\"some high school\",\"bachelor's degree\",\"associate's degree\",\"some college\",\"associate's degree\",\"some college\",\"associate's degree\",\"master's degree\",\"associate's degree\",\"some high school\",\"some college\",\"some college\",\"bachelor's degree\",\"some college\",\"bachelor's degree\",\"associate's degree\",\"bachelor's degree\",\"master's degree\",\"high school\",\"bachelor's degree\",\"some college\",\"bachelor's degree\",\"some college\",\"high school\",\"high school\",\"associate's degree\",\"some college\",\"high school\",\"some college\",\"master's degree\",\"some high school\",\"some high school\",\"bachelor's degree\",\"associate's degree\",\"some college\",\"associate's degree\",\"high school\",\"bachelor's degree\",\"some college\",\"some high school\",\"some college\",\"some high school\",\"bachelor's degree\",\"high school\",\"bachelor's degree\",\"bachelor's degree\",\"high school\",\"some high school\",\"high school\",\"some high school\",\"master's degree\",\"high school\",\"some college\",\"high school\",\"master's degree\",\"some high school\",\"associate's degree\",\"master's degree\",\"some college\",\"associate's degree\",\"some college\",\"some college\",\"bachelor's degree\",\"associate's degree\",\"associate's degree\",\"high school\",\"bachelor's degree\",\"bachelor's degree\",\"master's degree\",\"associate's degree\",\"high school\",\"bachelor's degree\",\"high school\",\"some college\",\"bachelor's degree\",\"some college\",\"associate's degree\",\"associate's degree\",\"some college\",\"some high school\",\"some college\",\"high school\",\"bachelor's degree\",\"high school\",\"some high school\",\"high school\",\"high school\",\"some high school\",\"some college\",\"associate's degree\",\"high school\",\"associate's degree\",\"some high school\",\"high school\",\"high school\",\"bachelor's degree\",\"associate's degree\",\"high school\",\"high school\",\"some college\",\"some high school\",\"high school\",\"some college\",\"associate's degree\",\"some high school\",\"some college\",\"associate's degree\",\"some high school\",\"associate's degree\",\"associate's degree\",\"some college\",\"some high school\",\"some college\",\"high school\",\"associate's degree\",\"some high school\",\"some college\",\"bachelor's degree\",\"some college\",\"associate's degree\",\"high school\",\"associate's degree\",\"some college\",\"associate's degree\",\"high school\",\"some college\",\"some college\",\"some high school\",\"associate's degree\",\"some college\",\"high school\",\"high school\",\"high school\",\"some high school\",\"some college\",\"master's degree\",\"some college\",\"associate's degree\",\"high school\",\"some college\",\"associate's degree\",\"associate's degree\",\"bachelor's degree\",\"associate's degree\",\"some high school\",\"some college\",\"associate's degree\",\"bachelor's degree\",\"associate's degree\",\"high school\",\"bachelor's degree\",\"some high school\",\"bachelor's degree\",\"some college\",\"some high school\",\"bachelor's degree\",\"high school\",\"some college\",\"high school\",\"associate's degree\",\"some college\",\"some high school\",\"some college\",\"master's degree\",\"some high school\",\"associate's degree\",\"associate's degree\",\"associate's degree\",\"high school\",\"associate's degree\",\"some college\",\"some high school\",\"some high school\",\"high school\",\"some college\",\"some college\",\"associate's degree\",\"some high school\",\"high school\",\"some college\",\"associate's degree\",\"some high school\",\"some college\",\"some high school\",\"some college\",\"master's degree\",\"associate's degree\",\"some college\",\"associate's degree\",\"high school\",\"bachelor's degree\",\"associate's degree\",\"high school\",\"associate's degree\",\"some college\",\"associate's degree\",\"high school\",\"some college\",\"bachelor's degree\",\"some college\",\"some high school\",\"some college\",\"master's degree\",\"some high school\",\"associate's degree\",\"associate's degree\",\"some college\",\"bachelor's degree\",\"some college\",\"some college\",\"high school\",\"some high school\",\"some high school\",\"high school\",\"some college\",\"high school\",\"high school\",\"high school\",\"some high school\",\"some college\",\"high school\",\"bachelor's degree\",\"some high school\",\"bachelor's degree\",\"some college\",\"some high school\",\"high school\",\"some college\",\"some college\",\"associate's degree\",\"associate's degree\",\"master's degree\",\"high school\",\"associate's degree\",\"bachelor's degree\",\"some high school\",\"some high school\",\"some college\",\"associate's degree\",\"master's degree\",\"high school\",\"some college\",\"high school\",\"some high school\",\"high school\",\"associate's degree\",\"high school\",\"associate's degree\",\"some college\",\"associate's degree\",\"some high school\",\"some high school\",\"associate's degree\",\"some college\",\"some college\",\"some college\",\"some college\",\"high school\",\"high school\",\"bachelor's degree\",\"some high school\",\"high school\",\"master's degree\",\"some high school\",\"high school\",\"some high school\",\"bachelor's degree\",\"bachelor's degree\",\"high school\",\"some high school\",\"some high school\",\"bachelor's degree\",\"some college\",\"high school\",\"some high school\",\"high school\",\"associate's degree\",\"some high school\",\"some high school\",\"some high school\",\"some college\",\"bachelor's degree\",\"bachelor's degree\",\"high school\",\"some college\",\"high school\",\"high school\",\"high school\",\"associate's degree\",\"associate's degree\",\"high school\",\"some high school\",\"high school\",\"some college\",\"some high school\",\"master's degree\",\"master's degree\",\"high school\",\"high school\",\"associate's degree\",\"master's degree\",\"high school\",\"some college\",\"some high school\",\"some high school\",\"bachelor's degree\",\"some college\",\"bachelor's degree\",\"high school\",\"associate's degree\",\"associate's degree\",\"master's degree\",\"bachelor's degree\",\"some college\",\"associate's degree\",\"some college\",\"high school\",\"associate's degree\",\"associate's degree\",\"associate's degree\",\"high school\",\"some college\",\"associate's degree\",\"associate's degree\",\"bachelor's degree\",\"some college\",\"some college\",\"some high school\",\"some high school\",\"associate's degree\",\"bachelor's degree\",\"bachelor's degree\",\"high school\",\"bachelor's degree\",\"associate's degree\",\"associate's degree\",\"associate's degree\",\"high school\",\"some college\",\"high school\",\"some college\",\"associate's degree\",\"master's degree\",\"some high school\",\"associate's degree\",\"some high school\",\"high school\",\"some high school\",\"associate's degree\",\"some high school\",\"master's degree\",\"master's degree\",\"high school\",\"bachelor's degree\",\"some high school\",\"some college\",\"high school\",\"some college\",\"bachelor's degree\",\"bachelor's degree\",\"bachelor's degree\",\"some college\",\"bachelor's degree\",\"bachelor's degree\",\"associate's degree\",\"some college\",\"bachelor's degree\",\"high school\",\"associate's degree\",\"some college\",\"high school\",\"high school\",\"high school\",\"associate's degree\",\"high school\",\"some high school\",\"associate's degree\",\"high school\",\"associate's degree\",\"some high school\",\"some college\",\"some college\",\"associate's degree\",\"bachelor's degree\",\"associate's degree\",\"some college\",\"associate's degree\",\"high school\",\"some college\",\"some high school\",\"master's degree\",\"master's degree\",\"high school\",\"some high school\",\"high school\",\"associate's degree\",\"high school\",\"some college\",\"some high school\",\"high school\",\"high school\",\"some college\",\"some high school\",\"high school\",\"some college\",\"associate's degree\",\"some college\",\"master's degree\",\"high school\",\"high school\",\"some college\",\"some high school\",\"associate's degree\",\"some high school\",\"some college\",\"some college\",\"some high school\",\"some college\",\"associate's degree\",\"bachelor's degree\",\"bachelor's degree\",\"some high school\",\"high school\",\"some college\",\"some college\",\"some college\",\"some college\",\"associate's degree\",\"high school\",\"associate's degree\",\"high school\",\"some high school\",\"some high school\",\"some college\",\"some high school\",\"high school\",\"associate's degree\",\"some high school\",\"some high school\",\"some college\",\"high school\",\"some high school\",\"associate's degree\",\"bachelor's degree\",\"high school\",\"master's degree\",\"high school\",\"high school\",\"some college\",\"some college\"],\"legendgroup\":\"\",\"name\":\"\",\"showlegend\":true,\"values\":[1,1,1,1,1,1,1,1,1,1,1,1,1,1,1,1,1,1,1,1,1,1,1,1,1,1,1,1,1,1,1,1,1,1,1,1,1,1,1,1,1,1,1,1,1,1,1,1,1,1,1,1,1,1,1,1,1,1,1,1,1,1,1,1,1,1,1,1,1,1,1,1,1,1,1,1,1,1,1,1,1,1,1,1,1,1,1,1,1,1,1,1,1,1,1,1,1,1,1,1,1,1,1,1,1,1,1,1,1,1,1,1,1,1,1,1,1,1,1,1,1,1,1,1,1,1,1,1,1,1,1,1,1,1,1,1,1,1,1,1,1,1,1,1,1,1,1,1,1,1,1,1,1,1,1,1,1,1,1,1,1,1,1,1,1,1,1,1,1,1,1,1,1,1,1,1,1,1,1,1,1,1,1,1,1,1,1,1,1,1,1,1,1,1,1,1,1,1,1,1,1,1,1,1,1,1,1,1,1,1,1,1,1,1,1,1,1,1,1,1,1,1,1,1,1,1,1,1,1,1,1,1,1,1,1,1,1,1,1,1,1,1,1,1,1,1,1,1,1,1,1,1,1,1,1,1,1,1,1,1,1,1,1,1,1,1,1,1,1,1,1,1,1,1,1,1,1,1,1,1,1,1,1,1,1,1,1,1,1,1,1,1,1,1,1,1,1,1,1,1,1,1,1,1,1,1,1,1,1,1,1,1,1,1,1,1,1,1,1,1,1,1,1,1,1,1,1,1,1,1,1,1,1,1,1,1,1,1,1,1,1,1,1,1,1,1,1,1,1,1,1,1,1,1,1,1,1,1,1,1,1,1,1,1,1,1,1,1,1,1,1,1,1,1,1,1,1,1,1,1,1,1,1,1,1,1,1,1,1,1,1,1,1,1,1,1,1,1,1,1,1,1,1,1,1,1,1,1,1,1,1,1,1,1,1,1,1,1,1,1,1,1,1,1,1,1,1,1,1,1,1,1,1,1,1,1,1,1,1,1,1,1,1,1,1,1,1,1,1,1,1,1,1,1,1,1,1,1,1,1,1,1,1,1,1,1,1,1,1,1,1,1,1,1,1,1,1,1,1,1,1,1,1,1,1,1,1,1,1,1,1,1,1,1,1,1,1,1,1,1,1,1,1,1,1,1,1,1,1,1,1,1,1,1,1,1,1,1,1,1,1,1,1,1,1,1,1,1,1,1,1,1,1,1,1,1,1,1,1,1,1,1,1,1,1,1,1,1,1,1,1,1,1,1,1,1,1,1,1,1,1,1,1,1,1,1,1,1,1,1,1,1,1,1,1,1,1,1,1,1,1,1,1,1,1,1,1,1,1,1,1,1,1,1,1,1,1,1,1,1,1,1,1,1,1,1,1,1,1,1,1,1,1,1,1,1,1,1,1,1,1,1,1,1,1,1,1,1,1,1,1,1,1,1,1,1,1,1,1,1,1,1,1,1,1,1,1,1,1,1,1,1,1,1,1,1,1,1,1,1,1,1,1,1,1,1,1,1,1,1,1,1,1,1,1,1,1,1,1,1,1,1,1,1,1,1,1,1,1,1,1,1,1,1,1,1,1,1,1,1,1,1,1,1,1,1,1,1,1,1,1,1,1,1,1,1,1,1,1,1,1,1,1,1,1,1,1,1,1,1,1,1,1,1,1,1,1,1,1,1,1,1,1,1,1,1,1,1,1,1,1,1,1,1,1,1,1,1,1,1,1,1,1,1,1,1,1,1,1,1,1,1,1,1,1,1,1,1,1,1,1,1,1,1,1,1,1,1,1,1,1,1,1,1,1,1,1,1,1,1,1,1,1,1,1,1,1,1,1,1,1,1,1,1,1,1,1,1,1,1,1,1,1,1,1,1,1,1,1,1,1,1,1,1,1,1,1,1,1,1,1,1,1,1,1,1,1,1,1,1,1,1,1,1,1,1,1,1,1,1,1,1,1,1,1,1,1,1,1,1,1,1,1,1,1,1,1,1,1,1,1,1,1,1,1,1,1,1,1,1,1,1,1,1,1,1,1,1,1,1,1,1,1,1,1,1,1,1,1,1,1,1,1,1,1,1,1,1,1,1,1,1,1,1,1,1,1,1,1,1,1,1,1,1,1,1,1,1,1,1,1,1,1,1,1,1,1,1,1,1,1,1,1,1,1,1,1,1,1,1,1,1,1,1,1,1,1,1,1,1,1,1,1,1,1,1,1,1,1,1,1,1,1,1,1,1,1,1,1,1,1,1,1,1,1,1,1,1,1,1],\"type\":\"pie\"},{\"domain\":{\"x\":[0.7875,1.0],\"y\":[0.0,1.0]},\"hovertemplate\":\"lunch=%{label}\\u003cbr\\u003evalue=%{value}\\u003cextra\\u003e\\u003c\\u002fextra\\u003e\",\"labels\":[\"standard\",\"standard\",\"standard\",\"free\\u002freduced\",\"standard\",\"standard\",\"standard\",\"free\\u002freduced\",\"free\\u002freduced\",\"free\\u002freduced\",\"standard\",\"standard\",\"standard\",\"standard\",\"standard\",\"standard\",\"standard\",\"free\\u002freduced\",\"free\\u002freduced\",\"free\\u002freduced\",\"standard\",\"free\\u002freduced\",\"standard\",\"standard\",\"free\\u002freduced\",\"free\\u002freduced\",\"standard\",\"standard\",\"standard\",\"standard\",\"standard\",\"standard\",\"free\\u002freduced\",\"standard\",\"standard\",\"standard\",\"standard\",\"free\\u002freduced\",\"free\\u002freduced\",\"free\\u002freduced\",\"free\\u002freduced\",\"standard\",\"standard\",\"free\\u002freduced\",\"free\\u002freduced\",\"standard\",\"standard\",\"standard\",\"free\\u002freduced\",\"standard\",\"standard\",\"free\\u002freduced\",\"standard\",\"standard\",\"free\\u002freduced\",\"free\\u002freduced\",\"standard\",\"standard\",\"standard\",\"free\\u002freduced\",\"free\\u002freduced\",\"free\\u002freduced\",\"free\\u002freduced\",\"standard\",\"standard\",\"standard\",\"free\\u002freduced\",\"standard\",\"free\\u002freduced\",\"standard\",\"free\\u002freduced\",\"standard\",\"free\\u002freduced\",\"free\\u002freduced\",\"standard\",\"free\\u002freduced\",\"standard\",\"standard\",\"standard\",\"standard\",\"standard\",\"free\\u002freduced\",\"free\\u002freduced\",\"standard\",\"free\\u002freduced\",\"standard\",\"free\\u002freduced\",\"standard\",\"standard\",\"standard\",\"standard\",\"free\\u002freduced\",\"standard\",\"free\\u002freduced\",\"standard\",\"free\\u002freduced\",\"standard\",\"standard\",\"free\\u002freduced\",\"standard\",\"standard\",\"standard\",\"standard\",\"standard\",\"standard\",\"standard\",\"standard\",\"standard\",\"free\\u002freduced\",\"standard\",\"free\\u002freduced\",\"standard\",\"standard\",\"standard\",\"standard\",\"standard\",\"free\\u002freduced\",\"standard\",\"standard\",\"standard\",\"standard\",\"standard\",\"standard\",\"free\\u002freduced\",\"standard\",\"standard\",\"standard\",\"standard\",\"standard\",\"standard\",\"standard\",\"free\\u002freduced\",\"free\\u002freduced\",\"standard\",\"free\\u002freduced\",\"standard\",\"standard\",\"standard\",\"standard\",\"standard\",\"standard\",\"free\\u002freduced\",\"free\\u002freduced\",\"standard\",\"standard\",\"free\\u002freduced\",\"standard\",\"free\\u002freduced\",\"standard\",\"free\\u002freduced\",\"standard\",\"standard\",\"standard\",\"standard\",\"standard\",\"standard\",\"free\\u002freduced\",\"free\\u002freduced\",\"standard\",\"free\\u002freduced\",\"free\\u002freduced\",\"free\\u002freduced\",\"free\\u002freduced\",\"standard\",\"standard\",\"standard\",\"free\\u002freduced\",\"free\\u002freduced\",\"standard\",\"free\\u002freduced\",\"standard\",\"standard\",\"standard\",\"standard\",\"free\\u002freduced\",\"standard\",\"free\\u002freduced\",\"standard\",\"free\\u002freduced\",\"standard\",\"free\\u002freduced\",\"free\\u002freduced\",\"standard\",\"standard\",\"free\\u002freduced\",\"free\\u002freduced\",\"standard\",\"standard\",\"free\\u002freduced\",\"standard\",\"standard\",\"standard\",\"standard\",\"standard\",\"standard\",\"standard\",\"free\\u002freduced\",\"free\\u002freduced\",\"free\\u002freduced\",\"free\\u002freduced\",\"standard\",\"free\\u002freduced\",\"standard\",\"standard\",\"standard\",\"standard\",\"standard\",\"standard\",\"free\\u002freduced\",\"free\\u002freduced\",\"free\\u002freduced\",\"free\\u002freduced\",\"free\\u002freduced\",\"free\\u002freduced\",\"standard\",\"standard\",\"free\\u002freduced\",\"free\\u002freduced\",\"free\\u002freduced\",\"standard\",\"standard\",\"standard\",\"free\\u002freduced\",\"standard\",\"standard\",\"free\\u002freduced\",\"standard\",\"standard\",\"free\\u002freduced\",\"standard\",\"standard\",\"standard\",\"standard\",\"standard\",\"standard\",\"standard\",\"free\\u002freduced\",\"standard\",\"standard\",\"standard\",\"free\\u002freduced\",\"standard\",\"standard\",\"standard\",\"standard\",\"standard\",\"standard\",\"standard\",\"standard\",\"standard\",\"standard\",\"free\\u002freduced\",\"standard\",\"standard\",\"standard\",\"standard\",\"free\\u002freduced\",\"standard\",\"standard\",\"free\\u002freduced\",\"free\\u002freduced\",\"standard\",\"free\\u002freduced\",\"standard\",\"standard\",\"free\\u002freduced\",\"standard\",\"standard\",\"standard\",\"free\\u002freduced\",\"standard\",\"standard\",\"free\\u002freduced\",\"standard\",\"standard\",\"standard\",\"standard\",\"standard\",\"free\\u002freduced\",\"free\\u002freduced\",\"standard\",\"standard\",\"free\\u002freduced\",\"free\\u002freduced\",\"standard\",\"standard\",\"standard\",\"standard\",\"free\\u002freduced\",\"standard\",\"standard\",\"standard\",\"standard\",\"standard\",\"free\\u002freduced\",\"free\\u002freduced\",\"standard\",\"standard\",\"free\\u002freduced\",\"free\\u002freduced\",\"free\\u002freduced\",\"free\\u002freduced\",\"standard\",\"standard\",\"standard\",\"standard\",\"standard\",\"standard\",\"free\\u002freduced\",\"free\\u002freduced\",\"standard\",\"standard\",\"standard\",\"free\\u002freduced\",\"standard\",\"standard\",\"standard\",\"standard\",\"standard\",\"free\\u002freduced\",\"free\\u002freduced\",\"standard\",\"standard\",\"free\\u002freduced\",\"free\\u002freduced\",\"standard\",\"standard\",\"free\\u002freduced\",\"standard\",\"standard\",\"standard\",\"standard\",\"standard\",\"standard\",\"standard\",\"free\\u002freduced\",\"standard\",\"standard\",\"free\\u002freduced\",\"free\\u002freduced\",\"free\\u002freduced\",\"standard\",\"standard\",\"standard\",\"standard\",\"standard\",\"standard\",\"standard\",\"free\\u002freduced\",\"standard\",\"standard\",\"standard\",\"standard\",\"standard\",\"standard\",\"standard\",\"standard\",\"free\\u002freduced\",\"free\\u002freduced\",\"standard\",\"standard\",\"standard\",\"standard\",\"free\\u002freduced\",\"standard\",\"free\\u002freduced\",\"standard\",\"free\\u002freduced\",\"free\\u002freduced\",\"standard\",\"standard\",\"free\\u002freduced\",\"standard\",\"standard\",\"standard\",\"free\\u002freduced\",\"standard\",\"free\\u002freduced\",\"standard\",\"standard\",\"standard\",\"standard\",\"free\\u002freduced\",\"free\\u002freduced\",\"free\\u002freduced\",\"standard\",\"standard\",\"free\\u002freduced\",\"standard\",\"standard\",\"free\\u002freduced\",\"standard\",\"standard\",\"standard\",\"standard\",\"free\\u002freduced\",\"free\\u002freduced\",\"standard\",\"standard\",\"standard\",\"standard\",\"standard\",\"free\\u002freduced\",\"standard\",\"standard\",\"standard\",\"standard\",\"standard\",\"free\\u002freduced\",\"standard\",\"standard\",\"standard\",\"standard\",\"standard\",\"free\\u002freduced\",\"standard\",\"standard\",\"standard\",\"standard\",\"free\\u002freduced\",\"free\\u002freduced\",\"standard\",\"free\\u002freduced\",\"standard\",\"free\\u002freduced\",\"free\\u002freduced\",\"standard\",\"free\\u002freduced\",\"free\\u002freduced\",\"free\\u002freduced\",\"free\\u002freduced\",\"standard\",\"standard\",\"free\\u002freduced\",\"standard\",\"free\\u002freduced\",\"standard\",\"free\\u002freduced\",\"standard\",\"standard\",\"standard\",\"standard\",\"free\\u002freduced\",\"standard\",\"free\\u002freduced\",\"standard\",\"free\\u002freduced\",\"standard\",\"standard\",\"standard\",\"free\\u002freduced\",\"standard\",\"free\\u002freduced\",\"free\\u002freduced\",\"free\\u002freduced\",\"free\\u002freduced\",\"standard\",\"free\\u002freduced\",\"standard\",\"standard\",\"free\\u002freduced\",\"free\\u002freduced\",\"standard\",\"free\\u002freduced\",\"standard\",\"standard\",\"free\\u002freduced\",\"free\\u002freduced\",\"free\\u002freduced\",\"standard\",\"standard\",\"standard\",\"standard\",\"standard\",\"standard\",\"standard\",\"standard\",\"standard\",\"standard\",\"standard\",\"standard\",\"free\\u002freduced\",\"free\\u002freduced\",\"standard\",\"standard\",\"standard\",\"free\\u002freduced\",\"free\\u002freduced\",\"standard\",\"free\\u002freduced\",\"free\\u002freduced\",\"standard\",\"standard\",\"standard\",\"standard\",\"standard\",\"standard\",\"free\\u002freduced\",\"standard\",\"standard\",\"standard\",\"standard\",\"free\\u002freduced\",\"standard\",\"free\\u002freduced\",\"standard\",\"standard\",\"free\\u002freduced\",\"standard\",\"standard\",\"standard\",\"standard\",\"free\\u002freduced\",\"standard\",\"free\\u002freduced\",\"standard\",\"standard\",\"standard\",\"standard\",\"free\\u002freduced\",\"standard\",\"standard\",\"standard\",\"free\\u002freduced\",\"standard\",\"standard\",\"free\\u002freduced\",\"free\\u002freduced\",\"free\\u002freduced\",\"standard\",\"standard\",\"standard\",\"standard\",\"standard\",\"standard\",\"free\\u002freduced\",\"standard\",\"standard\",\"standard\",\"standard\",\"standard\",\"free\\u002freduced\",\"standard\",\"standard\",\"standard\",\"free\\u002freduced\",\"standard\",\"standard\",\"free\\u002freduced\",\"standard\",\"free\\u002freduced\",\"free\\u002freduced\",\"standard\",\"free\\u002freduced\",\"standard\",\"free\\u002freduced\",\"standard\",\"free\\u002freduced\",\"free\\u002freduced\",\"standard\",\"standard\",\"standard\",\"standard\",\"free\\u002freduced\",\"free\\u002freduced\",\"standard\",\"free\\u002freduced\",\"free\\u002freduced\",\"free\\u002freduced\",\"free\\u002freduced\",\"standard\",\"standard\",\"standard\",\"free\\u002freduced\",\"standard\",\"free\\u002freduced\",\"standard\",\"standard\",\"free\\u002freduced\",\"standard\",\"standard\",\"standard\",\"free\\u002freduced\",\"standard\",\"standard\",\"standard\",\"standard\",\"free\\u002freduced\",\"standard\",\"standard\",\"free\\u002freduced\",\"standard\",\"standard\",\"standard\",\"standard\",\"standard\",\"free\\u002freduced\",\"standard\",\"standard\",\"standard\",\"standard\",\"standard\",\"standard\",\"free\\u002freduced\",\"free\\u002freduced\",\"standard\",\"standard\",\"free\\u002freduced\",\"standard\",\"standard\",\"free\\u002freduced\",\"standard\",\"standard\",\"standard\",\"standard\",\"standard\",\"standard\",\"standard\",\"standard\",\"free\\u002freduced\",\"free\\u002freduced\",\"free\\u002freduced\",\"free\\u002freduced\",\"standard\",\"free\\u002freduced\",\"standard\",\"free\\u002freduced\",\"standard\",\"free\\u002freduced\",\"standard\",\"standard\",\"standard\",\"standard\",\"standard\",\"standard\",\"standard\",\"free\\u002freduced\",\"standard\",\"standard\",\"standard\",\"standard\",\"free\\u002freduced\",\"free\\u002freduced\",\"standard\",\"standard\",\"standard\",\"standard\",\"free\\u002freduced\",\"standard\",\"standard\",\"free\\u002freduced\",\"standard\",\"standard\",\"standard\",\"standard\",\"standard\",\"free\\u002freduced\",\"standard\",\"free\\u002freduced\",\"standard\",\"free\\u002freduced\",\"standard\",\"free\\u002freduced\",\"standard\",\"standard\",\"free\\u002freduced\",\"free\\u002freduced\",\"free\\u002freduced\",\"standard\",\"standard\",\"free\\u002freduced\",\"free\\u002freduced\",\"standard\",\"standard\",\"standard\",\"standard\",\"standard\",\"standard\",\"free\\u002freduced\",\"free\\u002freduced\",\"standard\",\"standard\",\"standard\",\"free\\u002freduced\",\"standard\",\"standard\",\"standard\",\"free\\u002freduced\",\"free\\u002freduced\",\"free\\u002freduced\",\"standard\",\"free\\u002freduced\",\"free\\u002freduced\",\"standard\",\"standard\",\"free\\u002freduced\",\"standard\",\"standard\",\"standard\",\"free\\u002freduced\",\"standard\",\"standard\",\"standard\",\"standard\",\"free\\u002freduced\",\"free\\u002freduced\",\"standard\",\"standard\",\"standard\",\"free\\u002freduced\",\"standard\",\"standard\",\"standard\",\"standard\",\"standard\",\"free\\u002freduced\",\"standard\",\"standard\",\"standard\",\"free\\u002freduced\",\"free\\u002freduced\",\"free\\u002freduced\",\"free\\u002freduced\",\"standard\",\"standard\",\"standard\",\"standard\",\"standard\",\"free\\u002freduced\",\"standard\",\"free\\u002freduced\",\"free\\u002freduced\",\"standard\",\"standard\",\"free\\u002freduced\",\"standard\",\"standard\",\"free\\u002freduced\",\"standard\",\"free\\u002freduced\",\"standard\",\"free\\u002freduced\",\"standard\",\"standard\",\"free\\u002freduced\",\"standard\",\"standard\",\"standard\",\"free\\u002freduced\",\"standard\",\"standard\",\"standard\",\"free\\u002freduced\",\"standard\",\"free\\u002freduced\",\"standard\",\"standard\",\"free\\u002freduced\",\"free\\u002freduced\",\"standard\",\"free\\u002freduced\",\"standard\",\"standard\",\"standard\",\"standard\",\"standard\",\"standard\",\"standard\",\"standard\",\"free\\u002freduced\",\"standard\",\"standard\",\"free\\u002freduced\",\"free\\u002freduced\",\"standard\",\"free\\u002freduced\",\"standard\",\"free\\u002freduced\",\"standard\",\"standard\",\"free\\u002freduced\",\"standard\",\"free\\u002freduced\",\"standard\",\"standard\",\"standard\",\"free\\u002freduced\",\"standard\",\"free\\u002freduced\",\"free\\u002freduced\",\"standard\",\"free\\u002freduced\",\"free\\u002freduced\",\"standard\",\"standard\",\"free\\u002freduced\",\"standard\",\"free\\u002freduced\",\"standard\",\"standard\",\"standard\",\"standard\",\"standard\",\"standard\",\"standard\",\"free\\u002freduced\",\"free\\u002freduced\",\"free\\u002freduced\",\"standard\",\"standard\",\"standard\",\"free\\u002freduced\",\"standard\",\"standard\",\"standard\",\"standard\",\"standard\",\"free\\u002freduced\",\"free\\u002freduced\",\"standard\",\"standard\",\"free\\u002freduced\",\"free\\u002freduced\",\"free\\u002freduced\",\"free\\u002freduced\",\"standard\",\"free\\u002freduced\",\"standard\",\"free\\u002freduced\",\"standard\",\"free\\u002freduced\",\"free\\u002freduced\",\"standard\",\"standard\",\"standard\",\"standard\",\"standard\",\"standard\",\"free\\u002freduced\",\"standard\",\"free\\u002freduced\",\"standard\",\"free\\u002freduced\",\"free\\u002freduced\",\"free\\u002freduced\",\"standard\",\"standard\",\"standard\",\"standard\",\"standard\",\"standard\",\"standard\",\"standard\",\"standard\",\"standard\",\"standard\",\"free\\u002freduced\",\"standard\",\"standard\",\"free\\u002freduced\",\"standard\",\"free\\u002freduced\",\"free\\u002freduced\",\"standard\",\"standard\",\"standard\",\"free\\u002freduced\",\"standard\",\"free\\u002freduced\",\"free\\u002freduced\",\"standard\",\"standard\",\"standard\",\"free\\u002freduced\",\"free\\u002freduced\",\"free\\u002freduced\",\"standard\",\"standard\",\"standard\",\"standard\",\"standard\",\"standard\",\"free\\u002freduced\",\"free\\u002freduced\",\"standard\",\"standard\",\"standard\",\"free\\u002freduced\",\"free\\u002freduced\",\"free\\u002freduced\",\"standard\",\"standard\",\"free\\u002freduced\",\"standard\",\"standard\",\"free\\u002freduced\",\"free\\u002freduced\",\"free\\u002freduced\",\"standard\",\"standard\",\"standard\",\"standard\",\"free\\u002freduced\",\"free\\u002freduced\",\"free\\u002freduced\",\"standard\",\"standard\",\"standard\",\"free\\u002freduced\",\"standard\",\"free\\u002freduced\",\"standard\",\"standard\",\"free\\u002freduced\",\"free\\u002freduced\",\"standard\",\"standard\",\"standard\",\"standard\",\"standard\",\"free\\u002freduced\",\"free\\u002freduced\",\"standard\",\"free\\u002freduced\",\"free\\u002freduced\",\"standard\",\"free\\u002freduced\",\"free\\u002freduced\",\"free\\u002freduced\",\"free\\u002freduced\",\"free\\u002freduced\",\"free\\u002freduced\",\"free\\u002freduced\",\"free\\u002freduced\",\"standard\",\"free\\u002freduced\",\"standard\",\"free\\u002freduced\",\"standard\",\"standard\",\"free\\u002freduced\",\"standard\",\"standard\",\"free\\u002freduced\",\"standard\",\"standard\",\"standard\",\"free\\u002freduced\",\"free\\u002freduced\",\"free\\u002freduced\",\"standard\",\"standard\",\"free\\u002freduced\",\"standard\",\"standard\",\"standard\",\"standard\",\"standard\",\"standard\",\"standard\",\"standard\",\"free\\u002freduced\",\"standard\",\"free\\u002freduced\",\"standard\",\"standard\",\"standard\",\"standard\",\"standard\",\"standard\",\"standard\",\"standard\",\"free\\u002freduced\",\"free\\u002freduced\",\"standard\",\"standard\",\"free\\u002freduced\",\"standard\",\"standard\",\"standard\",\"free\\u002freduced\",\"standard\",\"standard\",\"standard\",\"standard\",\"standard\",\"standard\",\"standard\",\"free\\u002freduced\",\"free\\u002freduced\",\"free\\u002freduced\",\"standard\",\"free\\u002freduced\",\"free\\u002freduced\",\"standard\",\"standard\",\"free\\u002freduced\",\"free\\u002freduced\",\"standard\",\"free\\u002freduced\"],\"legendgroup\":\"\",\"name\":\"\",\"showlegend\":true,\"values\":[1,1,1,1,1,1,1,1,1,1,1,1,1,1,1,1,1,1,1,1,1,1,1,1,1,1,1,1,1,1,1,1,1,1,1,1,1,1,1,1,1,1,1,1,1,1,1,1,1,1,1,1,1,1,1,1,1,1,1,1,1,1,1,1,1,1,1,1,1,1,1,1,1,1,1,1,1,1,1,1,1,1,1,1,1,1,1,1,1,1,1,1,1,1,1,1,1,1,1,1,1,1,1,1,1,1,1,1,1,1,1,1,1,1,1,1,1,1,1,1,1,1,1,1,1,1,1,1,1,1,1,1,1,1,1,1,1,1,1,1,1,1,1,1,1,1,1,1,1,1,1,1,1,1,1,1,1,1,1,1,1,1,1,1,1,1,1,1,1,1,1,1,1,1,1,1,1,1,1,1,1,1,1,1,1,1,1,1,1,1,1,1,1,1,1,1,1,1,1,1,1,1,1,1,1,1,1,1,1,1,1,1,1,1,1,1,1,1,1,1,1,1,1,1,1,1,1,1,1,1,1,1,1,1,1,1,1,1,1,1,1,1,1,1,1,1,1,1,1,1,1,1,1,1,1,1,1,1,1,1,1,1,1,1,1,1,1,1,1,1,1,1,1,1,1,1,1,1,1,1,1,1,1,1,1,1,1,1,1,1,1,1,1,1,1,1,1,1,1,1,1,1,1,1,1,1,1,1,1,1,1,1,1,1,1,1,1,1,1,1,1,1,1,1,1,1,1,1,1,1,1,1,1,1,1,1,1,1,1,1,1,1,1,1,1,1,1,1,1,1,1,1,1,1,1,1,1,1,1,1,1,1,1,1,1,1,1,1,1,1,1,1,1,1,1,1,1,1,1,1,1,1,1,1,1,1,1,1,1,1,1,1,1,1,1,1,1,1,1,1,1,1,1,1,1,1,1,1,1,1,1,1,1,1,1,1,1,1,1,1,1,1,1,1,1,1,1,1,1,1,1,1,1,1,1,1,1,1,1,1,1,1,1,1,1,1,1,1,1,1,1,1,1,1,1,1,1,1,1,1,1,1,1,1,1,1,1,1,1,1,1,1,1,1,1,1,1,1,1,1,1,1,1,1,1,1,1,1,1,1,1,1,1,1,1,1,1,1,1,1,1,1,1,1,1,1,1,1,1,1,1,1,1,1,1,1,1,1,1,1,1,1,1,1,1,1,1,1,1,1,1,1,1,1,1,1,1,1,1,1,1,1,1,1,1,1,1,1,1,1,1,1,1,1,1,1,1,1,1,1,1,1,1,1,1,1,1,1,1,1,1,1,1,1,1,1,1,1,1,1,1,1,1,1,1,1,1,1,1,1,1,1,1,1,1,1,1,1,1,1,1,1,1,1,1,1,1,1,1,1,1,1,1,1,1,1,1,1,1,1,1,1,1,1,1,1,1,1,1,1,1,1,1,1,1,1,1,1,1,1,1,1,1,1,1,1,1,1,1,1,1,1,1,1,1,1,1,1,1,1,1,1,1,1,1,1,1,1,1,1,1,1,1,1,1,1,1,1,1,1,1,1,1,1,1,1,1,1,1,1,1,1,1,1,1,1,1,1,1,1,1,1,1,1,1,1,1,1,1,1,1,1,1,1,1,1,1,1,1,1,1,1,1,1,1,1,1,1,1,1,1,1,1,1,1,1,1,1,1,1,1,1,1,1,1,1,1,1,1,1,1,1,1,1,1,1,1,1,1,1,1,1,1,1,1,1,1,1,1,1,1,1,1,1,1,1,1,1,1,1,1,1,1,1,1,1,1,1,1,1,1,1,1,1,1,1,1,1,1,1,1,1,1,1,1,1,1,1,1,1,1,1,1,1,1,1,1,1,1,1,1,1,1,1,1,1,1,1,1,1,1,1,1,1,1,1,1,1,1,1,1,1,1,1,1,1,1,1,1,1,1,1,1,1,1,1,1,1,1,1,1,1,1,1,1,1,1,1,1,1,1,1,1,1,1,1,1,1,1,1,1,1,1,1,1,1,1,1,1,1,1,1,1,1,1,1,1,1,1,1,1,1,1,1,1,1,1,1,1,1,1,1,1,1,1,1,1,1,1,1,1,1,1,1,1,1,1,1,1,1,1,1,1,1,1,1,1,1,1,1,1,1,1,1,1,1,1,1,1,1,1,1,1,1,1,1,1,1,1,1,1,1,1,1,1,1,1,1,1,1,1,1,1,1,1,1,1,1,1,1,1,1,1,1,1,1,1,1,1,1,1,1,1,1,1,1,1,1,1,1],\"type\":\"pie\"}],                        {\"template\":{\"data\":{\"histogram2dcontour\":[{\"type\":\"histogram2dcontour\",\"colorbar\":{\"outlinewidth\":0,\"ticks\":\"\"},\"colorscale\":[[0.0,\"#0d0887\"],[0.1111111111111111,\"#46039f\"],[0.2222222222222222,\"#7201a8\"],[0.3333333333333333,\"#9c179e\"],[0.4444444444444444,\"#bd3786\"],[0.5555555555555556,\"#d8576b\"],[0.6666666666666666,\"#ed7953\"],[0.7777777777777778,\"#fb9f3a\"],[0.8888888888888888,\"#fdca26\"],[1.0,\"#f0f921\"]]}],\"choropleth\":[{\"type\":\"choropleth\",\"colorbar\":{\"outlinewidth\":0,\"ticks\":\"\"}}],\"histogram2d\":[{\"type\":\"histogram2d\",\"colorbar\":{\"outlinewidth\":0,\"ticks\":\"\"},\"colorscale\":[[0.0,\"#0d0887\"],[0.1111111111111111,\"#46039f\"],[0.2222222222222222,\"#7201a8\"],[0.3333333333333333,\"#9c179e\"],[0.4444444444444444,\"#bd3786\"],[0.5555555555555556,\"#d8576b\"],[0.6666666666666666,\"#ed7953\"],[0.7777777777777778,\"#fb9f3a\"],[0.8888888888888888,\"#fdca26\"],[1.0,\"#f0f921\"]]}],\"heatmap\":[{\"type\":\"heatmap\",\"colorbar\":{\"outlinewidth\":0,\"ticks\":\"\"},\"colorscale\":[[0.0,\"#0d0887\"],[0.1111111111111111,\"#46039f\"],[0.2222222222222222,\"#7201a8\"],[0.3333333333333333,\"#9c179e\"],[0.4444444444444444,\"#bd3786\"],[0.5555555555555556,\"#d8576b\"],[0.6666666666666666,\"#ed7953\"],[0.7777777777777778,\"#fb9f3a\"],[0.8888888888888888,\"#fdca26\"],[1.0,\"#f0f921\"]]}],\"heatmapgl\":[{\"type\":\"heatmapgl\",\"colorbar\":{\"outlinewidth\":0,\"ticks\":\"\"},\"colorscale\":[[0.0,\"#0d0887\"],[0.1111111111111111,\"#46039f\"],[0.2222222222222222,\"#7201a8\"],[0.3333333333333333,\"#9c179e\"],[0.4444444444444444,\"#bd3786\"],[0.5555555555555556,\"#d8576b\"],[0.6666666666666666,\"#ed7953\"],[0.7777777777777778,\"#fb9f3a\"],[0.8888888888888888,\"#fdca26\"],[1.0,\"#f0f921\"]]}],\"contourcarpet\":[{\"type\":\"contourcarpet\",\"colorbar\":{\"outlinewidth\":0,\"ticks\":\"\"}}],\"contour\":[{\"type\":\"contour\",\"colorbar\":{\"outlinewidth\":0,\"ticks\":\"\"},\"colorscale\":[[0.0,\"#0d0887\"],[0.1111111111111111,\"#46039f\"],[0.2222222222222222,\"#7201a8\"],[0.3333333333333333,\"#9c179e\"],[0.4444444444444444,\"#bd3786\"],[0.5555555555555556,\"#d8576b\"],[0.6666666666666666,\"#ed7953\"],[0.7777777777777778,\"#fb9f3a\"],[0.8888888888888888,\"#fdca26\"],[1.0,\"#f0f921\"]]}],\"surface\":[{\"type\":\"surface\",\"colorbar\":{\"outlinewidth\":0,\"ticks\":\"\"},\"colorscale\":[[0.0,\"#0d0887\"],[0.1111111111111111,\"#46039f\"],[0.2222222222222222,\"#7201a8\"],[0.3333333333333333,\"#9c179e\"],[0.4444444444444444,\"#bd3786\"],[0.5555555555555556,\"#d8576b\"],[0.6666666666666666,\"#ed7953\"],[0.7777777777777778,\"#fb9f3a\"],[0.8888888888888888,\"#fdca26\"],[1.0,\"#f0f921\"]]}],\"mesh3d\":[{\"type\":\"mesh3d\",\"colorbar\":{\"outlinewidth\":0,\"ticks\":\"\"}}],\"scatter\":[{\"fillpattern\":{\"fillmode\":\"overlay\",\"size\":10,\"solidity\":0.2},\"type\":\"scatter\"}],\"parcoords\":[{\"type\":\"parcoords\",\"line\":{\"colorbar\":{\"outlinewidth\":0,\"ticks\":\"\"}}}],\"scatterpolargl\":[{\"type\":\"scatterpolargl\",\"marker\":{\"colorbar\":{\"outlinewidth\":0,\"ticks\":\"\"}}}],\"bar\":[{\"error_x\":{\"color\":\"#2a3f5f\"},\"error_y\":{\"color\":\"#2a3f5f\"},\"marker\":{\"line\":{\"color\":\"#E5ECF6\",\"width\":0.5},\"pattern\":{\"fillmode\":\"overlay\",\"size\":10,\"solidity\":0.2}},\"type\":\"bar\"}],\"scattergeo\":[{\"type\":\"scattergeo\",\"marker\":{\"colorbar\":{\"outlinewidth\":0,\"ticks\":\"\"}}}],\"scatterpolar\":[{\"type\":\"scatterpolar\",\"marker\":{\"colorbar\":{\"outlinewidth\":0,\"ticks\":\"\"}}}],\"histogram\":[{\"marker\":{\"pattern\":{\"fillmode\":\"overlay\",\"size\":10,\"solidity\":0.2}},\"type\":\"histogram\"}],\"scattergl\":[{\"type\":\"scattergl\",\"marker\":{\"colorbar\":{\"outlinewidth\":0,\"ticks\":\"\"}}}],\"scatter3d\":[{\"type\":\"scatter3d\",\"line\":{\"colorbar\":{\"outlinewidth\":0,\"ticks\":\"\"}},\"marker\":{\"colorbar\":{\"outlinewidth\":0,\"ticks\":\"\"}}}],\"scattermapbox\":[{\"type\":\"scattermapbox\",\"marker\":{\"colorbar\":{\"outlinewidth\":0,\"ticks\":\"\"}}}],\"scatterternary\":[{\"type\":\"scatterternary\",\"marker\":{\"colorbar\":{\"outlinewidth\":0,\"ticks\":\"\"}}}],\"scattercarpet\":[{\"type\":\"scattercarpet\",\"marker\":{\"colorbar\":{\"outlinewidth\":0,\"ticks\":\"\"}}}],\"carpet\":[{\"aaxis\":{\"endlinecolor\":\"#2a3f5f\",\"gridcolor\":\"white\",\"linecolor\":\"white\",\"minorgridcolor\":\"white\",\"startlinecolor\":\"#2a3f5f\"},\"baxis\":{\"endlinecolor\":\"#2a3f5f\",\"gridcolor\":\"white\",\"linecolor\":\"white\",\"minorgridcolor\":\"white\",\"startlinecolor\":\"#2a3f5f\"},\"type\":\"carpet\"}],\"table\":[{\"cells\":{\"fill\":{\"color\":\"#EBF0F8\"},\"line\":{\"color\":\"white\"}},\"header\":{\"fill\":{\"color\":\"#C8D4E3\"},\"line\":{\"color\":\"white\"}},\"type\":\"table\"}],\"barpolar\":[{\"marker\":{\"line\":{\"color\":\"#E5ECF6\",\"width\":0.5},\"pattern\":{\"fillmode\":\"overlay\",\"size\":10,\"solidity\":0.2}},\"type\":\"barpolar\"}],\"pie\":[{\"automargin\":true,\"type\":\"pie\"}]},\"layout\":{\"autotypenumbers\":\"strict\",\"colorway\":[\"#636efa\",\"#EF553B\",\"#00cc96\",\"#ab63fa\",\"#FFA15A\",\"#19d3f3\",\"#FF6692\",\"#B6E880\",\"#FF97FF\",\"#FECB52\"],\"font\":{\"color\":\"#2a3f5f\"},\"hovermode\":\"closest\",\"hoverlabel\":{\"align\":\"left\"},\"paper_bgcolor\":\"white\",\"plot_bgcolor\":\"#E5ECF6\",\"polar\":{\"bgcolor\":\"#E5ECF6\",\"angularaxis\":{\"gridcolor\":\"white\",\"linecolor\":\"white\",\"ticks\":\"\"},\"radialaxis\":{\"gridcolor\":\"white\",\"linecolor\":\"white\",\"ticks\":\"\"}},\"ternary\":{\"bgcolor\":\"#E5ECF6\",\"aaxis\":{\"gridcolor\":\"white\",\"linecolor\":\"white\",\"ticks\":\"\"},\"baxis\":{\"gridcolor\":\"white\",\"linecolor\":\"white\",\"ticks\":\"\"},\"caxis\":{\"gridcolor\":\"white\",\"linecolor\":\"white\",\"ticks\":\"\"}},\"coloraxis\":{\"colorbar\":{\"outlinewidth\":0,\"ticks\":\"\"}},\"colorscale\":{\"sequential\":[[0.0,\"#0d0887\"],[0.1111111111111111,\"#46039f\"],[0.2222222222222222,\"#7201a8\"],[0.3333333333333333,\"#9c179e\"],[0.4444444444444444,\"#bd3786\"],[0.5555555555555556,\"#d8576b\"],[0.6666666666666666,\"#ed7953\"],[0.7777777777777778,\"#fb9f3a\"],[0.8888888888888888,\"#fdca26\"],[1.0,\"#f0f921\"]],\"sequentialminus\":[[0.0,\"#0d0887\"],[0.1111111111111111,\"#46039f\"],[0.2222222222222222,\"#7201a8\"],[0.3333333333333333,\"#9c179e\"],[0.4444444444444444,\"#bd3786\"],[0.5555555555555556,\"#d8576b\"],[0.6666666666666666,\"#ed7953\"],[0.7777777777777778,\"#fb9f3a\"],[0.8888888888888888,\"#fdca26\"],[1.0,\"#f0f921\"]],\"diverging\":[[0,\"#8e0152\"],[0.1,\"#c51b7d\"],[0.2,\"#de77ae\"],[0.3,\"#f1b6da\"],[0.4,\"#fde0ef\"],[0.5,\"#f7f7f7\"],[0.6,\"#e6f5d0\"],[0.7,\"#b8e186\"],[0.8,\"#7fbc41\"],[0.9,\"#4d9221\"],[1,\"#276419\"]]},\"xaxis\":{\"gridcolor\":\"white\",\"linecolor\":\"white\",\"ticks\":\"\",\"title\":{\"standoff\":15},\"zerolinecolor\":\"white\",\"automargin\":true,\"zerolinewidth\":2},\"yaxis\":{\"gridcolor\":\"white\",\"linecolor\":\"white\",\"ticks\":\"\",\"title\":{\"standoff\":15},\"zerolinecolor\":\"white\",\"automargin\":true,\"zerolinewidth\":2},\"scene\":{\"xaxis\":{\"backgroundcolor\":\"#E5ECF6\",\"gridcolor\":\"white\",\"linecolor\":\"white\",\"showbackground\":true,\"ticks\":\"\",\"zerolinecolor\":\"white\",\"gridwidth\":2},\"yaxis\":{\"backgroundcolor\":\"#E5ECF6\",\"gridcolor\":\"white\",\"linecolor\":\"white\",\"showbackground\":true,\"ticks\":\"\",\"zerolinecolor\":\"white\",\"gridwidth\":2},\"zaxis\":{\"backgroundcolor\":\"#E5ECF6\",\"gridcolor\":\"white\",\"linecolor\":\"white\",\"showbackground\":true,\"ticks\":\"\",\"zerolinecolor\":\"white\",\"gridwidth\":2}},\"shapedefaults\":{\"line\":{\"color\":\"#2a3f5f\"}},\"annotationdefaults\":{\"arrowcolor\":\"#2a3f5f\",\"arrowhead\":0,\"arrowwidth\":1},\"geo\":{\"bgcolor\":\"white\",\"landcolor\":\"#E5ECF6\",\"subunitcolor\":\"white\",\"showland\":true,\"showlakes\":true,\"lakecolor\":\"white\"},\"title\":{\"x\":0.05},\"mapbox\":{\"style\":\"light\"}}},\"annotations\":[{\"font\":{\"size\":16},\"showarrow\":false,\"text\":\"Percentage of Male\\u002fFemale Samples\",\"x\":0.10625,\"xanchor\":\"center\",\"xref\":\"paper\",\"y\":1.0,\"yanchor\":\"bottom\",\"yref\":\"paper\"},{\"font\":{\"size\":16},\"showarrow\":false,\"text\":\"Percentage of Ethnicity Samples\",\"x\":0.36875,\"xanchor\":\"center\",\"xref\":\"paper\",\"y\":1.0,\"yanchor\":\"bottom\",\"yref\":\"paper\"},{\"font\":{\"size\":16},\"showarrow\":false,\"text\":\"Percentage of Parental Education Samples\",\"x\":0.6312500000000001,\"xanchor\":\"center\",\"xref\":\"paper\",\"y\":1.0,\"yanchor\":\"bottom\",\"yref\":\"paper\"},{\"font\":{\"size\":16},\"showarrow\":false,\"text\":\"Percentage of Lunch Samples\",\"x\":0.89375,\"xanchor\":\"center\",\"xref\":\"paper\",\"y\":1.0,\"yanchor\":\"bottom\",\"yref\":\"paper\"}]},                        {\"responsive\": true}                    ).then(function(){\n",
              "                            \n",
              "var gd = document.getElementById('3cec95ca-4d03-4e9f-8895-2040778b5a03');\n",
              "var x = new MutationObserver(function (mutations, observer) {{\n",
              "        var display = window.getComputedStyle(gd).display;\n",
              "        if (!display || display === 'none') {{\n",
              "            console.log([gd, 'removed!']);\n",
              "            Plotly.purge(gd);\n",
              "            observer.disconnect();\n",
              "        }}\n",
              "}});\n",
              "\n",
              "// Listen for the removal of the full notebook cells\n",
              "var notebookContainer = gd.closest('#notebook-container');\n",
              "if (notebookContainer) {{\n",
              "    x.observe(notebookContainer, {childList: true});\n",
              "}}\n",
              "\n",
              "// Listen for the clearing of the current output cell\n",
              "var outputEl = gd.closest('.output');\n",
              "if (outputEl) {{\n",
              "    x.observe(outputEl, {childList: true});\n",
              "}}\n",
              "\n",
              "                        })                };                            </script>        </div>\n",
              "</body>\n",
              "</html>"
            ]
          },
          "metadata": {}
        }
      ]
    },
    {
      "cell_type": "markdown",
      "source": [
        "Regardless of the messy legend (an unfortunate drawback of Plotly's make_subplots), this lets us better see the class distributions, which can help us see if any of the classes are potentially imbalanced."
      ],
      "metadata": {
        "id": "18GygHLNl0JY"
      }
    },
    {
      "cell_type": "markdown",
      "source": [
        "Now let's try vizualizing the data with the labels. Let's do a scatter plot, showing male/female in the ethnicity groups against the average score."
      ],
      "metadata": {
        "id": "SMYemdzQmTAy"
      }
    },
    {
      "cell_type": "code",
      "source": [
        "# Define the scatter figure\n",
        "scatter_fig = px.scatter(data_clean,x='race/ethnicity', y='average score', color='gender',title='Male vs Female Average Scores of Ethnicity Groups')\n",
        "scatter_fig.update_xaxes(categoryorder='category ascending') # To sort the categories alphabetically\n",
        "\n",
        "# So that we don't forget this later\n",
        "fig_list.update({'scatter_fig':scatter_fig})\n",
        "\n",
        "# Show the scatter figure\n",
        "scatter_fig.show()"
      ],
      "metadata": {
        "colab": {
          "base_uri": "https://localhost:8080/",
          "height": 542
        },
        "id": "ilVJ6JBKmlQR",
        "outputId": "edc021ee-13fd-4387-91ab-bd20dc30f89b"
      },
      "execution_count": 33,
      "outputs": [
        {
          "output_type": "display_data",
          "data": {
            "text/html": [
              "<html>\n",
              "<head><meta charset=\"utf-8\" /></head>\n",
              "<body>\n",
              "    <div>            <script src=\"https://cdnjs.cloudflare.com/ajax/libs/mathjax/2.7.5/MathJax.js?config=TeX-AMS-MML_SVG\"></script><script type=\"text/javascript\">if (window.MathJax && window.MathJax.Hub && window.MathJax.Hub.Config) {window.MathJax.Hub.Config({SVG: {font: \"STIX-Web\"}});}</script>                <script type=\"text/javascript\">window.PlotlyConfig = {MathJaxConfig: 'local'};</script>\n",
              "        <script charset=\"utf-8\" src=\"https://cdn.plot.ly/plotly-2.24.1.min.js\"></script>                <div id=\"06114724-9717-4f9f-95f1-2781e47572d6\" class=\"plotly-graph-div\" style=\"height:525px; width:100%;\"></div>            <script type=\"text/javascript\">                                    window.PLOTLYENV=window.PLOTLYENV || {};                                    if (document.getElementById(\"06114724-9717-4f9f-95f1-2781e47572d6\")) {                    Plotly.newPlot(                        \"06114724-9717-4f9f-95f1-2781e47572d6\",                        [{\"hovertemplate\":\"gender=female\\u003cbr\\u003erace\\u002fethnicity=%{x}\\u003cbr\\u003eaverage score=%{y}\\u003cextra\\u003e\\u003c\\u002fextra\\u003e\",\"legendgroup\":\"female\",\"marker\":{\"color\":\"#636efa\",\"symbol\":\"circle\"},\"mode\":\"markers\",\"name\":\"female\",\"orientation\":\"v\",\"showlegend\":true,\"x\":[\"group B\",\"group C\",\"group B\",\"group B\",\"group B\",\"group B\",\"group B\",\"group A\",\"group C\",\"group B\",\"group C\",\"group B\",\"group C\",\"group C\",\"group D\",\"group D\",\"group B\",\"group E\",\"group D\",\"group D\",\"group D\",\"group C\",\"group B\",\"group E\",\"group A\",\"group C\",\"group D\",\"group C\",\"group C\",\"group E\",\"group C\",\"group C\",\"group D\",\"group C\",\"group C\",\"group D\",\"group A\",\"group D\",\"group E\",\"group B\",\"group C\",\"group C\",\"group D\",\"group A\",\"group D\",\"group C\",\"group B\",\"group E\",\"group D\",\"group D\",\"group D\",\"group C\",\"group D\",\"group B\",\"group B\",\"group D\",\"group D\",\"group E\",\"group B\",\"group D\",\"group D\",\"group C\",\"group C\",\"group C\",\"group B\",\"group A\",\"group C\",\"group C\",\"group D\",\"group C\",\"group E\",\"group C\",\"group D\",\"group B\",\"group C\",\"group E\",\"group B\",\"group E\",\"group E\",\"group C\",\"group B\",\"group B\",\"group C\",\"group D\",\"group C\",\"group C\",\"group C\",\"group B\",\"group C\",\"group B\",\"group D\",\"group C\",\"group E\",\"group D\",\"group C\",\"group E\",\"group B\",\"group C\",\"group B\",\"group B\",\"group C\",\"group D\",\"group B\",\"group B\",\"group B\",\"group C\",\"group E\",\"group C\",\"group D\",\"group C\",\"group B\",\"group E\",\"group C\",\"group C\",\"group B\",\"group D\",\"group E\",\"group D\",\"group B\",\"group B\",\"group D\",\"group B\",\"group E\",\"group C\",\"group B\",\"group C\",\"group C\",\"group C\",\"group E\",\"group C\",\"group D\",\"group D\",\"group E\",\"group D\",\"group D\",\"group C\",\"group E\",\"group C\",\"group D\",\"group D\",\"group B\",\"group B\",\"group E\",\"group C\",\"group C\",\"group B\",\"group D\",\"group B\",\"group C\",\"group C\",\"group D\",\"group D\",\"group C\",\"group E\",\"group C\",\"group C\",\"group C\",\"group C\",\"group B\",\"group C\",\"group B\",\"group B\",\"group D\",\"group C\",\"group B\",\"group C\",\"group C\",\"group B\",\"group C\",\"group C\",\"group C\",\"group B\",\"group C\",\"group D\",\"group B\",\"group C\",\"group D\",\"group A\",\"group D\",\"group C\",\"group D\",\"group D\",\"group D\",\"group D\",\"group A\",\"group B\",\"group E\",\"group A\",\"group E\",\"group E\",\"group C\",\"group D\",\"group D\",\"group C\",\"group B\",\"group C\",\"group C\",\"group A\",\"group D\",\"group C\",\"group C\",\"group B\",\"group D\",\"group D\",\"group C\",\"group C\",\"group D\",\"group D\",\"group A\",\"group C\",\"group C\",\"group A\",\"group C\",\"group D\",\"group A\",\"group B\",\"group C\",\"group C\",\"group E\",\"group C\",\"group C\",\"group D\",\"group E\",\"group E\",\"group C\",\"group C\",\"group D\",\"group A\",\"group C\",\"group C\",\"group C\",\"group D\",\"group B\",\"group D\",\"group D\",\"group D\",\"group B\",\"group C\",\"group A\",\"group C\",\"group C\",\"group C\",\"group B\",\"group C\",\"group D\",\"group B\",\"group D\",\"group B\",\"group E\",\"group D\",\"group B\",\"group C\",\"group B\",\"group B\",\"group C\",\"group D\",\"group E\",\"group D\",\"group B\",\"group C\",\"group C\",\"group D\",\"group C\",\"group C\",\"group C\",\"group E\",\"group C\",\"group D\",\"group C\",\"group D\",\"group D\",\"group A\",\"group C\",\"group B\",\"group C\",\"group C\",\"group B\",\"group D\",\"group C\",\"group D\",\"group E\",\"group D\",\"group C\",\"group C\",\"group E\",\"group B\",\"group B\",\"group D\",\"group D\",\"group E\",\"group D\",\"group D\",\"group D\",\"group C\",\"group A\",\"group C\",\"group C\",\"group A\",\"group E\",\"group C\",\"group C\",\"group D\",\"group D\",\"group D\",\"group C\",\"group E\",\"group C\",\"group C\",\"group E\",\"group B\",\"group C\",\"group C\",\"group A\",\"group C\",\"group E\",\"group C\",\"group E\",\"group C\",\"group B\",\"group C\",\"group B\",\"group D\",\"group D\",\"group D\",\"group B\",\"group E\",\"group B\",\"group D\",\"group E\",\"group B\",\"group D\",\"group A\",\"group D\",\"group A\",\"group B\",\"group B\",\"group D\",\"group D\",\"group C\",\"group C\",\"group C\",\"group B\",\"group C\",\"group C\",\"group C\",\"group D\",\"group B\",\"group E\",\"group C\",\"group D\",\"group C\",\"group E\",\"group C\",\"group E\",\"group C\",\"group D\",\"group C\",\"group D\",\"group C\",\"group A\",\"group D\",\"group E\",\"group B\",\"group D\",\"group B\",\"group D\",\"group E\",\"group D\",\"group B\",\"group B\",\"group C\",\"group C\",\"group C\",\"group B\",\"group E\",\"group D\",\"group B\",\"group C\",\"group E\",\"group B\",\"group A\",\"group C\",\"group C\",\"group C\",\"group C\",\"group E\",\"group D\",\"group C\",\"group D\",\"group B\",\"group B\",\"group C\",\"group D\",\"group B\",\"group C\",\"group B\",\"group B\",\"group C\",\"group A\",\"group D\",\"group B\",\"group B\",\"group C\",\"group B\",\"group E\",\"group B\",\"group C\",\"group B\",\"group D\",\"group B\",\"group E\",\"group E\",\"group C\",\"group E\",\"group B\",\"group C\",\"group D\",\"group E\",\"group C\",\"group C\",\"group A\",\"group B\",\"group C\",\"group A\",\"group D\",\"group B\",\"group C\",\"group C\",\"group C\",\"group D\",\"group A\",\"group C\",\"group B\",\"group C\",\"group A\",\"group C\",\"group D\",\"group B\",\"group D\",\"group C\",\"group A\",\"group E\",\"group B\",\"group C\",\"group C\",\"group E\",\"group C\",\"group C\",\"group C\",\"group D\",\"group D\",\"group E\",\"group B\",\"group E\",\"group C\",\"group E\",\"group D\",\"group E\",\"group E\",\"group A\",\"group E\",\"group E\",\"group B\",\"group D\",\"group C\",\"group A\",\"group D\",\"group D\",\"group D\",\"group C\",\"group A\",\"group C\",\"group C\",\"group B\",\"group E\",\"group C\",\"group C\",\"group C\",\"group B\",\"group D\",\"group C\",\"group E\",\"group D\",\"group B\",\"group C\",\"group D\",\"group E\",\"group D\",\"group E\",\"group C\",\"group D\",\"group D\",\"group A\",\"group D\",\"group E\",\"group C\",\"group D\",\"group E\",\"group B\",\"group D\",\"group A\",\"group D\",\"group A\",\"group C\",\"group C\",\"group B\",\"group A\",\"group C\",\"group C\",\"group A\",\"group D\",\"group B\",\"group D\",\"group D\",\"group E\",\"group C\",\"group D\",\"group D\"],\"xaxis\":\"x\",\"y\":[72.66666666666667,82.33333333333333,92.66666666666667,77.33333333333333,91.66666666666667,49.333333333333336,73.0,53.666666666666664,74.0,26.0,57.666666666666664,70.0,71.66666666666667,70.33333333333333,69.0,72.33333333333333,63.0,64.33333333333333,79.33333333333333,57.666666666666664,84.33333333333333,66.33333333333333,58.666666666666664,53.333333333333336,60.666666666666664,71.0,69.0,80.66666666666667,39.0,84.33333333333333,9.0,73.33333333333333,58.666666666666664,68.66666666666667,53.333333333333336,64.66666666666667,46.666666666666664,69.0,66.0,48.666666666666664,78.33333333333333,82.33333333333333,72.0,65.0,80.33333333333333,70.33333333333333,85.66666666666667,68.33333333333333,62.333333333333336,64.66666666666667,88.33333333333333,65.66666666666667,95.66666666666667,66.0,68.66666666666667,88.0,54.333333333333336,99.66666666666667,80.66666666666667,79.66666666666667,58.333333333333336,63.0,86.66666666666667,91.33333333333333,89.33333333333333,50.333333333333336,80.0,64.0,73.0,61.666666666666664,50.333333333333336,31.333333333333332,74.66666666666667,65.0,82.33333333333333,72.66666666666667,78.0,82.66666666666667,88.0,98.66666666666667,70.66666666666667,76.33333333333333,70.66666666666667,82.0,66.66666666666667,49.333333333333336,86.33333333333333,52.666666666666664,75.0,61.333333333333336,99.0,58.666666666666664,49.0,68.0,84.0,66.66666666666667,64.0,79.33333333333333,51.0,77.66666666666667,79.0,74.33333333333333,64.66666666666667,77.0,61.666666666666664,54.666666666666664,85.66666666666667,38.333333333333336,66.0,60.666666666666664,63.666666666666664,51.666666666666664,71.66666666666667,92.33333333333333,78.66666666666667,66.0,82.0,54.333333333333336,65.33333333333333,63.666666666666664,79.0,66.66666666666667,68.33333333333333,68.33333333333333,74.33333333333333,75.66666666666667,73.33333333333333,48.333333333333336,94.0,73.0,72.66666666666667,91.66666666666667,72.33333333333333,52.666666666666664,68.66666666666667,90.0,65.66666666666667,77.0,78.66666666666667,75.33333333333333,43.0,79.33333333333333,71.0,77.33333333333333,77.33333333333333,63.666666666666664,52.666666666666664,76.33333333333333,68.0,66.0,83.33333333333333,61.333333333333336,76.66666666666667,80.0,77.33333333333333,49.666666666666664,43.333333333333336,88.66666666666667,49.0,90.33333333333333,65.0,29.666666666666668,50.0,65.66666666666667,73.0,75.66666666666667,88.66666666666667,62.0,73.66666666666667,53.666666666666664,66.66666666666667,67.66666666666667,59.0,86.33333333333333,59.666666666666664,56.0,31.0,55.333333333333336,80.66666666666667,62.666666666666664,91.66666666666667,67.33333333333333,84.0,93.33333333333333,77.0,83.0,44.0,41.333333333333336,72.66666666666667,69.0,67.33333333333333,63.333333333333336,74.0,72.0,60.0,89.66666666666667,60.0,56.333333333333336,95.66666666666667,58.333333333333336,68.0,79.66666666666667,55.0,71.66666666666667,67.33333333333333,89.33333333333333,59.666666666666664,57.333333333333336,74.66666666666667,63.666666666666664,67.66666666666667,52.0,75.66666666666667,79.66666666666667,67.0,77.33333333333333,72.66666666666667,78.0,96.33333333333333,72.0,58.666666666666664,85.66666666666667,100.0,72.33333333333333,86.0,87.33333333333333,31.666666666666668,83.33333333333333,86.0,68.66666666666667,79.33333333333333,62.333333333333336,90.33333333333333,76.66666666666667,63.0,55.666666666666664,51.666666666666664,69.66666666666667,75.33333333333333,66.0,85.33333333333333,86.33333333333333,62.0,51.333333333333336,71.0,67.66666666666667,78.33333333333333,91.0,92.0,51.0,81.33333333333333,88.33333333333333,59.0,89.33333333333333,82.66666666666667,82.33333333333333,71.0,74.0,74.66666666666667,87.0,44.0,39.0,68.66666666666667,69.33333333333333,51.333333333333336,87.0,77.33333333333333,59.666666666666664,79.0,88.66666666666667,64.33333333333333,96.33333333333333,64.33333333333333,46.0,34.666666666666664,68.66666666666667,64.33333333333333,76.0,70.33333333333333,74.33333333333333,97.33333333333333,70.0,57.0,60.0,75.33333333333333,87.0,54.0,60.666666666666664,91.33333333333333,78.66666666666667,71.33333333333333,76.0,74.33333333333333,72.33333333333333,67.0,56.333333333333336,61.0,59.666666666666664,74.33333333333333,97.0,69.0,73.0,76.0,59.0,29.333333333333332,78.0,83.66666666666667,50.666666666666664,62.333333333333336,62.0,61.0,72.0,89.33333333333333,66.66666666666667,40.0,50.0,60.333333333333336,50.0,73.66666666666667,82.66666666666667,76.0,86.66666666666667,74.33333333333333,84.0,77.33333333333333,77.66666666666667,75.66666666666667,64.66666666666667,64.66666666666667,52.666666666666664,76.33333333333333,74.66666666666667,89.66666666666667,69.66666666666667,77.0,65.33333333333333,53.666666666666664,65.0,67.0,56.666666666666664,69.0,83.0,70.0,74.33333333333333,77.66666666666667,74.66666666666667,60.0,75.66666666666667,76.0,71.0,37.666666666666664,97.66666666666667,51.666666666666664,75.66666666666667,73.66666666666667,75.66666666666667,56.0,84.66666666666667,82.33333333333333,67.0,71.33333333333333,80.66666666666667,65.33333333333333,64.66666666666667,62.0,53.666666666666664,83.33333333333333,99.0,68.0,85.66666666666667,97.0,75.33333333333333,68.0,84.0,72.33333333333333,83.0,75.0,90.0,56.0,64.0,50.0,82.33333333333333,68.0,56.333333333333336,84.0,90.33333333333333,58.666666666666664,63.0,53.333333333333336,62.333333333333336,72.66666666666667,70.0,71.33333333333333,63.666666666666664,73.0,54.0,69.33333333333333,40.666666666666664,77.66666666666667,53.0,83.66666666666667,81.0,57.666666666666664,42.333333333333336,76.0,29.666666666666668,59.333333333333336,56.666666666666664,65.33333333333333,48.333333333333336,66.0,78.33333333333333,54.666666666666664,92.0,84.66666666666667,75.66666666666667,71.0,42.0,61.666666666666664,78.33333333333333,56.0,66.66666666666667,85.33333333333333,89.0,87.0,80.0,52.666666666666664,64.66666666666667,70.0,78.66666666666667,59.333333333333336,83.0,82.66666666666667,66.0,78.66666666666667,72.0,45.666666666666664,34.333333333333336,56.333333333333336,66.33333333333333,64.0,88.33333333333333,96.66666666666667,75.0,56.0,84.66666666666667,74.0,72.66666666666667,55.333333333333336,70.33333333333333,71.33333333333333,70.33333333333333,69.33333333333333,52.0,72.66666666666667,96.0,69.33333333333333,87.33333333333333,87.33333333333333,63.333333333333336,63.333333333333336,34.666666666666664,73.33333333333333,75.0,75.0,41.0,97.66666666666667,78.33333333333333,84.66666666666667,71.33333333333333,78.33333333333333,59.666666666666664,58.333333333333336,54.0,68.0,52.333333333333336,71.33333333333333,44.666666666666664,61.333333333333336,65.66666666666667,51.666666666666664,57.333333333333336,88.33333333333333,62.333333333333336,57.666666666666664,55.666666666666664,68.33333333333333,78.33333333333333,73.33333333333333,66.66666666666667,97.33333333333333,55.666666666666664,59.333333333333336,51.666666666666664,100.0,72.0,68.0,70.33333333333333,79.66666666666667,96.33333333333333,54.333333333333336,58.333333333333336,61.333333333333336,74.33333333333333,93.33333333333333,18.333333333333332,85.33333333333333,77.0,50.0,44.666666666666664,78.66666666666667,75.0,69.0,69.33333333333333,94.0,65.0,74.33333333333333,83.0],\"yaxis\":\"y\",\"type\":\"scatter\"},{\"hovertemplate\":\"gender=male\\u003cbr\\u003erace\\u002fethnicity=%{x}\\u003cbr\\u003eaverage score=%{y}\\u003cextra\\u003e\\u003c\\u002fextra\\u003e\",\"legendgroup\":\"male\",\"marker\":{\"color\":\"#EF553B\",\"symbol\":\"circle\"},\"mode\":\"markers\",\"name\":\"male\",\"orientation\":\"v\",\"showlegend\":true,\"x\":[\"group A\",\"group C\",\"group B\",\"group D\",\"group C\",\"group D\",\"group A\",\"group C\",\"group C\",\"group D\",\"group D\",\"group D\",\"group A\",\"group B\",\"group C\",\"group D\",\"group E\",\"group E\",\"group B\",\"group C\",\"group B\",\"group B\",\"group C\",\"group E\",\"group E\",\"group C\",\"group D\",\"group D\",\"group D\",\"group E\",\"group A\",\"group A\",\"group B\",\"group D\",\"group B\",\"group D\",\"group C\",\"group C\",\"group B\",\"group E\",\"group A\",\"group B\",\"group A\",\"group E\",\"group D\",\"group C\",\"group C\",\"group C\",\"group C\",\"group B\",\"group B\",\"group D\",\"group B\",\"group C\",\"group E\",\"group C\",\"group A\",\"group C\",\"group B\",\"group D\",\"group E\",\"group B\",\"group D\",\"group D\",\"group D\",\"group C\",\"group E\",\"group D\",\"group C\",\"group B\",\"group E\",\"group D\",\"group A\",\"group D\",\"group B\",\"group C\",\"group E\",\"group A\",\"group A\",\"group D\",\"group D\",\"group B\",\"group D\",\"group B\",\"group B\",\"group C\",\"group C\",\"group A\",\"group E\",\"group C\",\"group C\",\"group C\",\"group E\",\"group D\",\"group B\",\"group D\",\"group D\",\"group D\",\"group C\",\"group E\",\"group C\",\"group C\",\"group D\",\"group E\",\"group E\",\"group D\",\"group C\",\"group C\",\"group E\",\"group B\",\"group B\",\"group B\",\"group B\",\"group D\",\"group D\",\"group A\",\"group D\",\"group C\",\"group E\",\"group C\",\"group D\",\"group D\",\"group B\",\"group C\",\"group D\",\"group E\",\"group D\",\"group C\",\"group E\",\"group C\",\"group A\",\"group D\",\"group D\",\"group C\",\"group C\",\"group D\",\"group D\",\"group C\",\"group C\",\"group B\",\"group C\",\"group B\",\"group D\",\"group D\",\"group B\",\"group E\",\"group B\",\"group E\",\"group C\",\"group D\",\"group C\",\"group D\",\"group B\",\"group A\",\"group E\",\"group C\",\"group D\",\"group A\",\"group D\",\"group B\",\"group A\",\"group E\",\"group C\",\"group B\",\"group D\",\"group C\",\"group C\",\"group B\",\"group C\",\"group A\",\"group C\",\"group C\",\"group C\",\"group E\",\"group B\",\"group D\",\"group C\",\"group C\",\"group D\",\"group D\",\"group B\",\"group D\",\"group E\",\"group E\",\"group A\",\"group D\",\"group B\",\"group C\",\"group A\",\"group C\",\"group C\",\"group E\",\"group D\",\"group E\",\"group A\",\"group C\",\"group C\",\"group D\",\"group E\",\"group E\",\"group C\",\"group A\",\"group B\",\"group D\",\"group A\",\"group B\",\"group D\",\"group E\",\"group D\",\"group B\",\"group E\",\"group C\",\"group C\",\"group D\",\"group E\",\"group B\",\"group C\",\"group C\",\"group A\",\"group C\",\"group C\",\"group C\",\"group C\",\"group C\",\"group D\",\"group D\",\"group C\",\"group D\",\"group A\",\"group D\",\"group C\",\"group B\",\"group B\",\"group C\",\"group C\",\"group D\",\"group B\",\"group C\",\"group B\",\"group A\",\"group A\",\"group C\",\"group E\",\"group D\",\"group E\",\"group B\",\"group C\",\"group A\",\"group C\",\"group D\",\"group B\",\"group A\",\"group D\",\"group E\",\"group C\",\"group A\",\"group B\",\"group C\",\"group D\",\"group A\",\"group D\",\"group D\",\"group D\",\"group C\",\"group C\",\"group E\",\"group C\",\"group E\",\"group B\",\"group C\",\"group E\",\"group A\",\"group C\",\"group D\",\"group E\",\"group C\",\"group C\",\"group C\",\"group B\",\"group D\",\"group E\",\"group C\",\"group D\",\"group C\",\"group B\",\"group B\",\"group B\",\"group D\",\"group B\",\"group A\",\"group A\",\"group A\",\"group C\",\"group A\",\"group E\",\"group B\",\"group A\",\"group D\",\"group D\",\"group C\",\"group D\",\"group C\",\"group D\",\"group D\",\"group C\",\"group B\",\"group C\",\"group A\",\"group D\",\"group B\",\"group D\",\"group D\",\"group D\",\"group B\",\"group D\",\"group A\",\"group E\",\"group D\",\"group B\",\"group C\",\"group C\",\"group D\",\"group D\",\"group C\",\"group C\",\"group D\",\"group C\",\"group D\",\"group D\",\"group D\",\"group D\",\"group B\",\"group B\",\"group B\",\"group E\",\"group D\",\"group A\",\"group E\",\"group C\",\"group A\",\"group A\",\"group D\",\"group C\",\"group D\",\"group C\",\"group D\",\"group C\",\"group E\",\"group D\",\"group C\",\"group B\",\"group E\",\"group E\",\"group C\",\"group A\",\"group D\",\"group C\",\"group C\",\"group D\",\"group C\",\"group D\",\"group B\",\"group D\",\"group D\",\"group C\",\"group B\",\"group D\",\"group E\",\"group C\",\"group C\",\"group D\",\"group E\",\"group B\",\"group D\",\"group D\",\"group B\",\"group A\",\"group B\",\"group D\",\"group B\",\"group E\",\"group C\",\"group C\",\"group D\",\"group E\",\"group D\",\"group E\",\"group C\",\"group C\",\"group A\",\"group C\",\"group B\",\"group A\",\"group A\",\"group E\",\"group B\",\"group D\",\"group E\",\"group C\",\"group B\",\"group A\",\"group B\",\"group E\",\"group B\",\"group C\",\"group B\",\"group E\",\"group C\",\"group D\",\"group D\",\"group C\",\"group E\",\"group C\",\"group B\",\"group B\",\"group C\",\"group D\",\"group C\",\"group D\",\"group C\",\"group B\",\"group E\",\"group C\",\"group B\",\"group B\",\"group E\",\"group C\",\"group D\",\"group C\",\"group C\",\"group D\",\"group C\",\"group D\",\"group D\",\"group B\",\"group D\",\"group D\",\"group D\",\"group B\",\"group E\",\"group D\",\"group E\",\"group B\",\"group D\",\"group D\",\"group D\",\"group E\",\"group E\",\"group E\",\"group C\",\"group D\",\"group D\",\"group C\",\"group C\",\"group D\",\"group A\",\"group D\",\"group D\",\"group C\",\"group C\",\"group A\",\"group B\",\"group B\",\"group E\",\"group C\",\"group E\",\"group C\",\"group C\",\"group D\",\"group A\",\"group C\",\"group C\",\"group B\",\"group C\",\"group D\",\"group D\",\"group B\",\"group A\",\"group E\",\"group E\",\"group A\",\"group C\"],\"xaxis\":\"x\",\"y\":[49.333333333333336,76.33333333333333,40.666666666666664,65.0,54.666666666666664,45.0,73.33333333333333,87.66666666666667,44.666666666666664,66.0,50.333333333333336,75.0,73.0,59.333333333333336,68.33333333333333,40.0,88.66666666666667,80.33333333333333,56.666666666666664,56.666666666666664,63.333333333333336,58.666666666666664,82.66666666666667,52.0,71.33333333333333,46.333333333333336,80.33333333333333,52.0,58.333333333333336,75.0,37.333333333333336,59.333333333333336,64.0,39.666666666666664,58.333333333333336,60.333333333333336,58.0,46.333333333333336,41.0,26.0,79.66666666666667,46.333333333333336,50.333333333333336,66.33333333333333,38.333333333333336,32.333333333333336,73.66666666666667,46.0,80.33333333333333,64.33333333333333,71.0,72.0,50.333333333333336,91.33333333333333,64.33333333333333,55.333333333333336,51.333333333333336,78.33333333333333,90.66666666666667,58.666666666666664,78.66666666666667,69.0,72.0,79.33333333333333,85.0,43.333333333333336,77.0,76.0,53.666666666666664,48.666666666666664,60.333333333333336,67.0,49.0,79.66666666666667,82.33333333333333,69.0,97.66666666666667,66.0,70.66666666666667,50.0,63.333333333333336,60.0,64.0,78.0,51.333333333333336,51.333333333333336,51.666666666666664,73.0,86.66666666666667,68.33333333333333,48.666666666666664,65.66666666666667,73.66666666666667,65.33333333333333,48.333333333333336,79.33333333333333,67.0,56.0,64.33333333333333,54.0,71.66666666666667,47.333333333333336,74.33333333333333,68.66666666666667,79.0,79.33333333333333,30.0,55.666666666666664,86.33333333333333,80.66666666666667,71.0,57.666666666666664,81.66666666666667,80.33333333333333,53.666666666666664,68.0,68.66666666666667,43.666666666666664,85.66666666666667,83.0,77.33333333333333,65.33333333333333,52.333333333333336,81.33333333333333,69.0,51.0,72.66666666666667,77.33333333333333,79.66666666666667,60.333333333333336,48.333333333333336,77.33333333333333,52.666666666666664,77.33333333333333,78.66666666666667,72.33333333333333,47.333333333333336,64.33333333333333,49.666666666666664,83.0,78.0,62.0,49.0,46.333333333333336,81.66666666666667,89.0,79.66666666666667,76.66666666666667,71.33333333333333,76.33333333333333,60.0,78.33333333333333,63.0,43.333333333333336,71.0,45.333333333333336,84.0,80.0,54.0,73.33333333333333,68.33333333333333,89.0,49.0,61.0,65.33333333333333,67.33333333333333,77.66666666666667,67.66666666666667,61.333333333333336,23.333333333333332,78.0,64.0,39.666666666666664,57.0,83.0,71.66666666666667,47.666666666666664,57.0,68.66666666666667,73.0,60.0,71.66666666666667,79.0,58.333333333333336,61.666666666666664,60.666666666666664,82.33333333333333,59.0,55.666666666666664,60.0,62.666666666666664,77.33333333333333,73.33333333333333,43.333333333333336,64.0,94.0,77.0,72.66666666666667,66.33333333333333,70.0,55.666666666666664,44.666666666666664,64.66666666666667,57.666666666666664,46.333333333333336,64.33333333333333,85.33333333333333,81.66666666666667,65.66666666666667,65.66666666666667,75.33333333333333,71.0,71.33333333333333,63.0,55.666666666666664,38.0,85.0,68.33333333333333,59.0,61.666666666666664,63.0,57.333333333333336,68.33333333333333,50.333333333333336,69.0,71.33333333333333,59.0,86.33333333333333,78.0,65.0,82.33333333333333,45.0,75.33333333333333,57.333333333333336,46.666666666666664,51.666666666666664,68.33333333333333,55.333333333333336,51.0,65.0,68.0,80.33333333333333,68.0,73.33333333333333,71.33333333333333,70.66666666666667,65.66666666666667,52.333333333333336,71.66666666666667,54.666666666666664,58.0,81.0,66.0,73.0,59.333333333333336,68.0,56.0,78.0,73.33333333333333,52.333333333333336,54.333333333333336,57.333333333333336,61.333333333333336,54.333333333333336,51.333333333333336,62.333333333333336,59.0,60.333333333333336,70.0,56.333333333333336,74.0,91.66666666666667,70.66666666666667,80.33333333333333,80.33333333333333,67.66666666666667,73.33333333333333,73.33333333333333,88.33333333333333,67.66666666666667,46.0,64.66666666666667,67.0,92.66666666666667,48.333333333333336,45.333333333333336,52.666666666666664,67.66666666666667,72.0,93.0,49.333333333333336,54.666666666666664,56.333333333333336,61.0,66.66666666666667,23.0,51.666666666666664,56.0,87.66666666666667,69.66666666666667,64.0,91.66666666666667,83.0,86.66666666666667,68.66666666666667,60.333333333333336,53.666666666666664,94.0,98.66666666666667,67.33333333333333,51.666666666666664,50.666666666666664,67.0,68.0,82.66666666666667,69.66666666666667,78.66666666666667,48.0,65.0,53.333333333333336,69.33333333333333,65.33333333333333,87.33333333333333,74.66666666666667,67.33333333333333,68.66666666666667,69.33333333333333,76.66666666666667,53.0,78.0,61.333333333333336,62.666666666666664,57.0,65.33333333333333,76.0,76.0,51.666666666666664,88.66666666666667,63.666666666666664,86.0,66.33333333333333,38.666666666666664,59.0,85.0,89.0,82.0,74.33333333333333,81.33333333333333,57.666666666666664,46.666666666666664,43.666666666666664,75.33333333333333,58.666666666666664,43.0,48.0,48.666666666666664,61.0,85.0,75.0,58.666666666666664,75.0,52.333333333333336,75.0,71.66666666666667,67.0,85.66666666666667,69.33333333333333,68.33333333333333,77.0,55.333333333333336,55.0,70.0,74.33333333333333,81.66666666666667,60.666666666666664,66.0,58.333333333333336,49.666666666666664,74.0,63.666666666666664,87.0,83.66666666666667,64.66666666666667,69.66666666666667,83.33333333333333,70.0,61.0,69.33333333333333,76.33333333333333,76.66666666666667,78.0,54.666666666666664,39.333333333333336,47.0,82.33333333333333,89.0,69.0,50.666666666666664,62.333333333333336,58.333333333333336,60.666666666666664,51.0,64.66666666666667,56.0,57.666666666666664,75.66666666666667,86.33333333333333,87.0,56.0,74.66666666666667,68.33333333333333,70.0,60.333333333333336,69.33333333333333,49.0,77.33333333333333,39.666666666666664,93.66666666666667,84.0,54.666666666666664,48.0,74.66666666666667,50.333333333333336,54.666666666666664,81.33333333333333,87.33333333333333,70.0,82.33333333333333,57.333333333333336,64.33333333333333,48.333333333333336,61.666666666666664,47.666666666666664,79.0,30.666666666666668,61.333333333333336,86.0,80.66666666666667,52.0,68.0,46.666666666666664,100.0,92.66666666666667,68.66666666666667,68.0,71.0,66.0,57.333333333333336,44.333333333333336,70.33333333333333,60.333333333333336,68.33333333333333,73.0,91.66666666666667,63.666666666666664,59.0,83.66666666666667,71.33333333333333,70.0,70.33333333333333,61.333333333333336,81.33333333333333,50.333333333333336,79.33333333333333,54.666666666666664,63.666666666666664,84.0,75.66666666666667,62.333333333333336,66.0,62.0,73.0,60.666666666666664,61.666666666666664,48.0,79.0,83.33333333333333,54.0,77.33333333333333,80.66666666666667,62.666666666666664,57.333333333333336],\"yaxis\":\"y\",\"type\":\"scatter\"}],                        {\"template\":{\"data\":{\"histogram2dcontour\":[{\"type\":\"histogram2dcontour\",\"colorbar\":{\"outlinewidth\":0,\"ticks\":\"\"},\"colorscale\":[[0.0,\"#0d0887\"],[0.1111111111111111,\"#46039f\"],[0.2222222222222222,\"#7201a8\"],[0.3333333333333333,\"#9c179e\"],[0.4444444444444444,\"#bd3786\"],[0.5555555555555556,\"#d8576b\"],[0.6666666666666666,\"#ed7953\"],[0.7777777777777778,\"#fb9f3a\"],[0.8888888888888888,\"#fdca26\"],[1.0,\"#f0f921\"]]}],\"choropleth\":[{\"type\":\"choropleth\",\"colorbar\":{\"outlinewidth\":0,\"ticks\":\"\"}}],\"histogram2d\":[{\"type\":\"histogram2d\",\"colorbar\":{\"outlinewidth\":0,\"ticks\":\"\"},\"colorscale\":[[0.0,\"#0d0887\"],[0.1111111111111111,\"#46039f\"],[0.2222222222222222,\"#7201a8\"],[0.3333333333333333,\"#9c179e\"],[0.4444444444444444,\"#bd3786\"],[0.5555555555555556,\"#d8576b\"],[0.6666666666666666,\"#ed7953\"],[0.7777777777777778,\"#fb9f3a\"],[0.8888888888888888,\"#fdca26\"],[1.0,\"#f0f921\"]]}],\"heatmap\":[{\"type\":\"heatmap\",\"colorbar\":{\"outlinewidth\":0,\"ticks\":\"\"},\"colorscale\":[[0.0,\"#0d0887\"],[0.1111111111111111,\"#46039f\"],[0.2222222222222222,\"#7201a8\"],[0.3333333333333333,\"#9c179e\"],[0.4444444444444444,\"#bd3786\"],[0.5555555555555556,\"#d8576b\"],[0.6666666666666666,\"#ed7953\"],[0.7777777777777778,\"#fb9f3a\"],[0.8888888888888888,\"#fdca26\"],[1.0,\"#f0f921\"]]}],\"heatmapgl\":[{\"type\":\"heatmapgl\",\"colorbar\":{\"outlinewidth\":0,\"ticks\":\"\"},\"colorscale\":[[0.0,\"#0d0887\"],[0.1111111111111111,\"#46039f\"],[0.2222222222222222,\"#7201a8\"],[0.3333333333333333,\"#9c179e\"],[0.4444444444444444,\"#bd3786\"],[0.5555555555555556,\"#d8576b\"],[0.6666666666666666,\"#ed7953\"],[0.7777777777777778,\"#fb9f3a\"],[0.8888888888888888,\"#fdca26\"],[1.0,\"#f0f921\"]]}],\"contourcarpet\":[{\"type\":\"contourcarpet\",\"colorbar\":{\"outlinewidth\":0,\"ticks\":\"\"}}],\"contour\":[{\"type\":\"contour\",\"colorbar\":{\"outlinewidth\":0,\"ticks\":\"\"},\"colorscale\":[[0.0,\"#0d0887\"],[0.1111111111111111,\"#46039f\"],[0.2222222222222222,\"#7201a8\"],[0.3333333333333333,\"#9c179e\"],[0.4444444444444444,\"#bd3786\"],[0.5555555555555556,\"#d8576b\"],[0.6666666666666666,\"#ed7953\"],[0.7777777777777778,\"#fb9f3a\"],[0.8888888888888888,\"#fdca26\"],[1.0,\"#f0f921\"]]}],\"surface\":[{\"type\":\"surface\",\"colorbar\":{\"outlinewidth\":0,\"ticks\":\"\"},\"colorscale\":[[0.0,\"#0d0887\"],[0.1111111111111111,\"#46039f\"],[0.2222222222222222,\"#7201a8\"],[0.3333333333333333,\"#9c179e\"],[0.4444444444444444,\"#bd3786\"],[0.5555555555555556,\"#d8576b\"],[0.6666666666666666,\"#ed7953\"],[0.7777777777777778,\"#fb9f3a\"],[0.8888888888888888,\"#fdca26\"],[1.0,\"#f0f921\"]]}],\"mesh3d\":[{\"type\":\"mesh3d\",\"colorbar\":{\"outlinewidth\":0,\"ticks\":\"\"}}],\"scatter\":[{\"fillpattern\":{\"fillmode\":\"overlay\",\"size\":10,\"solidity\":0.2},\"type\":\"scatter\"}],\"parcoords\":[{\"type\":\"parcoords\",\"line\":{\"colorbar\":{\"outlinewidth\":0,\"ticks\":\"\"}}}],\"scatterpolargl\":[{\"type\":\"scatterpolargl\",\"marker\":{\"colorbar\":{\"outlinewidth\":0,\"ticks\":\"\"}}}],\"bar\":[{\"error_x\":{\"color\":\"#2a3f5f\"},\"error_y\":{\"color\":\"#2a3f5f\"},\"marker\":{\"line\":{\"color\":\"#E5ECF6\",\"width\":0.5},\"pattern\":{\"fillmode\":\"overlay\",\"size\":10,\"solidity\":0.2}},\"type\":\"bar\"}],\"scattergeo\":[{\"type\":\"scattergeo\",\"marker\":{\"colorbar\":{\"outlinewidth\":0,\"ticks\":\"\"}}}],\"scatterpolar\":[{\"type\":\"scatterpolar\",\"marker\":{\"colorbar\":{\"outlinewidth\":0,\"ticks\":\"\"}}}],\"histogram\":[{\"marker\":{\"pattern\":{\"fillmode\":\"overlay\",\"size\":10,\"solidity\":0.2}},\"type\":\"histogram\"}],\"scattergl\":[{\"type\":\"scattergl\",\"marker\":{\"colorbar\":{\"outlinewidth\":0,\"ticks\":\"\"}}}],\"scatter3d\":[{\"type\":\"scatter3d\",\"line\":{\"colorbar\":{\"outlinewidth\":0,\"ticks\":\"\"}},\"marker\":{\"colorbar\":{\"outlinewidth\":0,\"ticks\":\"\"}}}],\"scattermapbox\":[{\"type\":\"scattermapbox\",\"marker\":{\"colorbar\":{\"outlinewidth\":0,\"ticks\":\"\"}}}],\"scatterternary\":[{\"type\":\"scatterternary\",\"marker\":{\"colorbar\":{\"outlinewidth\":0,\"ticks\":\"\"}}}],\"scattercarpet\":[{\"type\":\"scattercarpet\",\"marker\":{\"colorbar\":{\"outlinewidth\":0,\"ticks\":\"\"}}}],\"carpet\":[{\"aaxis\":{\"endlinecolor\":\"#2a3f5f\",\"gridcolor\":\"white\",\"linecolor\":\"white\",\"minorgridcolor\":\"white\",\"startlinecolor\":\"#2a3f5f\"},\"baxis\":{\"endlinecolor\":\"#2a3f5f\",\"gridcolor\":\"white\",\"linecolor\":\"white\",\"minorgridcolor\":\"white\",\"startlinecolor\":\"#2a3f5f\"},\"type\":\"carpet\"}],\"table\":[{\"cells\":{\"fill\":{\"color\":\"#EBF0F8\"},\"line\":{\"color\":\"white\"}},\"header\":{\"fill\":{\"color\":\"#C8D4E3\"},\"line\":{\"color\":\"white\"}},\"type\":\"table\"}],\"barpolar\":[{\"marker\":{\"line\":{\"color\":\"#E5ECF6\",\"width\":0.5},\"pattern\":{\"fillmode\":\"overlay\",\"size\":10,\"solidity\":0.2}},\"type\":\"barpolar\"}],\"pie\":[{\"automargin\":true,\"type\":\"pie\"}]},\"layout\":{\"autotypenumbers\":\"strict\",\"colorway\":[\"#636efa\",\"#EF553B\",\"#00cc96\",\"#ab63fa\",\"#FFA15A\",\"#19d3f3\",\"#FF6692\",\"#B6E880\",\"#FF97FF\",\"#FECB52\"],\"font\":{\"color\":\"#2a3f5f\"},\"hovermode\":\"closest\",\"hoverlabel\":{\"align\":\"left\"},\"paper_bgcolor\":\"white\",\"plot_bgcolor\":\"#E5ECF6\",\"polar\":{\"bgcolor\":\"#E5ECF6\",\"angularaxis\":{\"gridcolor\":\"white\",\"linecolor\":\"white\",\"ticks\":\"\"},\"radialaxis\":{\"gridcolor\":\"white\",\"linecolor\":\"white\",\"ticks\":\"\"}},\"ternary\":{\"bgcolor\":\"#E5ECF6\",\"aaxis\":{\"gridcolor\":\"white\",\"linecolor\":\"white\",\"ticks\":\"\"},\"baxis\":{\"gridcolor\":\"white\",\"linecolor\":\"white\",\"ticks\":\"\"},\"caxis\":{\"gridcolor\":\"white\",\"linecolor\":\"white\",\"ticks\":\"\"}},\"coloraxis\":{\"colorbar\":{\"outlinewidth\":0,\"ticks\":\"\"}},\"colorscale\":{\"sequential\":[[0.0,\"#0d0887\"],[0.1111111111111111,\"#46039f\"],[0.2222222222222222,\"#7201a8\"],[0.3333333333333333,\"#9c179e\"],[0.4444444444444444,\"#bd3786\"],[0.5555555555555556,\"#d8576b\"],[0.6666666666666666,\"#ed7953\"],[0.7777777777777778,\"#fb9f3a\"],[0.8888888888888888,\"#fdca26\"],[1.0,\"#f0f921\"]],\"sequentialminus\":[[0.0,\"#0d0887\"],[0.1111111111111111,\"#46039f\"],[0.2222222222222222,\"#7201a8\"],[0.3333333333333333,\"#9c179e\"],[0.4444444444444444,\"#bd3786\"],[0.5555555555555556,\"#d8576b\"],[0.6666666666666666,\"#ed7953\"],[0.7777777777777778,\"#fb9f3a\"],[0.8888888888888888,\"#fdca26\"],[1.0,\"#f0f921\"]],\"diverging\":[[0,\"#8e0152\"],[0.1,\"#c51b7d\"],[0.2,\"#de77ae\"],[0.3,\"#f1b6da\"],[0.4,\"#fde0ef\"],[0.5,\"#f7f7f7\"],[0.6,\"#e6f5d0\"],[0.7,\"#b8e186\"],[0.8,\"#7fbc41\"],[0.9,\"#4d9221\"],[1,\"#276419\"]]},\"xaxis\":{\"gridcolor\":\"white\",\"linecolor\":\"white\",\"ticks\":\"\",\"title\":{\"standoff\":15},\"zerolinecolor\":\"white\",\"automargin\":true,\"zerolinewidth\":2},\"yaxis\":{\"gridcolor\":\"white\",\"linecolor\":\"white\",\"ticks\":\"\",\"title\":{\"standoff\":15},\"zerolinecolor\":\"white\",\"automargin\":true,\"zerolinewidth\":2},\"scene\":{\"xaxis\":{\"backgroundcolor\":\"#E5ECF6\",\"gridcolor\":\"white\",\"linecolor\":\"white\",\"showbackground\":true,\"ticks\":\"\",\"zerolinecolor\":\"white\",\"gridwidth\":2},\"yaxis\":{\"backgroundcolor\":\"#E5ECF6\",\"gridcolor\":\"white\",\"linecolor\":\"white\",\"showbackground\":true,\"ticks\":\"\",\"zerolinecolor\":\"white\",\"gridwidth\":2},\"zaxis\":{\"backgroundcolor\":\"#E5ECF6\",\"gridcolor\":\"white\",\"linecolor\":\"white\",\"showbackground\":true,\"ticks\":\"\",\"zerolinecolor\":\"white\",\"gridwidth\":2}},\"shapedefaults\":{\"line\":{\"color\":\"#2a3f5f\"}},\"annotationdefaults\":{\"arrowcolor\":\"#2a3f5f\",\"arrowhead\":0,\"arrowwidth\":1},\"geo\":{\"bgcolor\":\"white\",\"landcolor\":\"#E5ECF6\",\"subunitcolor\":\"white\",\"showland\":true,\"showlakes\":true,\"lakecolor\":\"white\"},\"title\":{\"x\":0.05},\"mapbox\":{\"style\":\"light\"}}},\"xaxis\":{\"anchor\":\"y\",\"domain\":[0.0,1.0],\"title\":{\"text\":\"race\\u002fethnicity\"},\"categoryorder\":\"category ascending\"},\"yaxis\":{\"anchor\":\"x\",\"domain\":[0.0,1.0],\"title\":{\"text\":\"average score\"}},\"legend\":{\"title\":{\"text\":\"gender\"},\"tracegroupgap\":0},\"title\":{\"text\":\"Male vs Female Average Scores of Ethnicity Groups\"}},                        {\"responsive\": true}                    ).then(function(){\n",
              "                            \n",
              "var gd = document.getElementById('06114724-9717-4f9f-95f1-2781e47572d6');\n",
              "var x = new MutationObserver(function (mutations, observer) {{\n",
              "        var display = window.getComputedStyle(gd).display;\n",
              "        if (!display || display === 'none') {{\n",
              "            console.log([gd, 'removed!']);\n",
              "            Plotly.purge(gd);\n",
              "            observer.disconnect();\n",
              "        }}\n",
              "}});\n",
              "\n",
              "// Listen for the removal of the full notebook cells\n",
              "var notebookContainer = gd.closest('#notebook-container');\n",
              "if (notebookContainer) {{\n",
              "    x.observe(notebookContainer, {childList: true});\n",
              "}}\n",
              "\n",
              "// Listen for the clearing of the current output cell\n",
              "var outputEl = gd.closest('.output');\n",
              "if (outputEl) {{\n",
              "    x.observe(outputEl, {childList: true});\n",
              "}}\n",
              "\n",
              "                        })                };                            </script>        </div>\n",
              "</body>\n",
              "</html>"
            ]
          },
          "metadata": {}
        }
      ]
    },
    {
      "cell_type": "markdown",
      "source": [
        "You'll notice that this isn't *super* useful, as there are not that many groups but there are lots and lots of results, all very close together.  It does show us the overal distribution of scores, and that groups D and E maybe *very slightly* have higher scores, but it's honestly pretty inconclusize."
      ],
      "metadata": {
        "id": "02pJJrLKodL-"
      }
    },
    {
      "cell_type": "markdown",
      "source": [
        "Next let's try a histogram, comparing the same values but averaging the average scores."
      ],
      "metadata": {
        "id": "fX8_qgj_pDnW"
      }
    },
    {
      "cell_type": "code",
      "source": [
        "# Define the overall subplot figure\n",
        "hist_fig = make_subplots(rows=1, cols=2, subplot_titles=('Average Score of Race/Ethnicity Samples','Average Score of Male/Female Samples'))\n",
        "\n",
        "#Define the subplots\n",
        "\n",
        "hist_figures = [px.histogram(data_clean,x=data_clean['race/ethnicity'].unique(), y=data_clean.groupby('race/ethnicity')['average score'].mean()),\n",
        "            px.histogram(data_clean,x=data_clean['gender'].unique(), y=data_clean.groupby('gender')['average score'].mean())]\n",
        "\n",
        "# Convert the subplots to traces (because make_sublots works with go and not px, dang) and append the traces to the overall figure\n",
        "\n",
        "for i, figure in enumerate(hist_figures):\n",
        "    for trace in range(len(figure[\"data\"])):\n",
        "        hist_fig.append_trace(figure[\"data\"][trace], row=1, col=1+i)\n",
        "\n",
        "# For some reason beyond my understanding, make_subplots doesn't work with plotly express with faceted, string labels, unless you do this:\n",
        "hist_fig.update_traces(bingroup=None)\n",
        "hist_fig.update_xaxes(categoryorder='category ascending') # To sort the categories alphabetically\n",
        "\n",
        "# So that we don't forget this later\n",
        "fig_list.update({'hist_fig':hist_fig})\n",
        "\n",
        "# Show the figure\n",
        "hist_fig.show()"
      ],
      "metadata": {
        "colab": {
          "base_uri": "https://localhost:8080/",
          "height": 542
        },
        "id": "UXlKBJG0pM7c",
        "outputId": "b27f0805-1eb6-4c7f-e7bd-196015ad91bc"
      },
      "execution_count": 34,
      "outputs": [
        {
          "output_type": "display_data",
          "data": {
            "text/html": [
              "<html>\n",
              "<head><meta charset=\"utf-8\" /></head>\n",
              "<body>\n",
              "    <div>            <script src=\"https://cdnjs.cloudflare.com/ajax/libs/mathjax/2.7.5/MathJax.js?config=TeX-AMS-MML_SVG\"></script><script type=\"text/javascript\">if (window.MathJax && window.MathJax.Hub && window.MathJax.Hub.Config) {window.MathJax.Hub.Config({SVG: {font: \"STIX-Web\"}});}</script>                <script type=\"text/javascript\">window.PlotlyConfig = {MathJaxConfig: 'local'};</script>\n",
              "        <script charset=\"utf-8\" src=\"https://cdn.plot.ly/plotly-2.24.1.min.js\"></script>                <div id=\"e75b63ca-18b3-40fc-a60f-401c11627a03\" class=\"plotly-graph-div\" style=\"height:525px; width:100%;\"></div>            <script type=\"text/javascript\">                                    window.PLOTLYENV=window.PLOTLYENV || {};                                    if (document.getElementById(\"e75b63ca-18b3-40fc-a60f-401c11627a03\")) {                    Plotly.newPlot(                        \"e75b63ca-18b3-40fc-a60f-401c11627a03\",                        [{\"alignmentgroup\":\"True\",\"histfunc\":\"sum\",\"hovertemplate\":\"x=%{x}\\u003cbr\\u003esum of y=%{y}\\u003cextra\\u003e\\u003c\\u002fextra\\u003e\",\"legendgroup\":\"\",\"marker\":{\"color\":\"#636efa\",\"pattern\":{\"shape\":\"\"}},\"name\":\"\",\"offsetgroup\":\"\",\"orientation\":\"v\",\"showlegend\":false,\"x\":[\"group B\",\"group C\",\"group A\",\"group D\",\"group E\"],\"xaxis\":\"x\",\"y\":[62.99250936329587,65.46842105263158,67.13166144200628,69.1793893129771,72.75238095238096],\"yaxis\":\"y\",\"type\":\"histogram\"},{\"alignmentgroup\":\"True\",\"histfunc\":\"sum\",\"hovertemplate\":\"x=%{x}\\u003cbr\\u003esum of y=%{y}\\u003cextra\\u003e\\u003c\\u002fextra\\u003e\",\"legendgroup\":\"\",\"marker\":{\"color\":\"#636efa\",\"pattern\":{\"shape\":\"\"}},\"name\":\"\",\"offsetgroup\":\"\",\"orientation\":\"v\",\"showlegend\":false,\"x\":[\"female\",\"male\"],\"xaxis\":\"x2\",\"y\":[69.56949806949807,65.8374827109267],\"yaxis\":\"y2\",\"type\":\"histogram\"}],                        {\"template\":{\"data\":{\"histogram2dcontour\":[{\"type\":\"histogram2dcontour\",\"colorbar\":{\"outlinewidth\":0,\"ticks\":\"\"},\"colorscale\":[[0.0,\"#0d0887\"],[0.1111111111111111,\"#46039f\"],[0.2222222222222222,\"#7201a8\"],[0.3333333333333333,\"#9c179e\"],[0.4444444444444444,\"#bd3786\"],[0.5555555555555556,\"#d8576b\"],[0.6666666666666666,\"#ed7953\"],[0.7777777777777778,\"#fb9f3a\"],[0.8888888888888888,\"#fdca26\"],[1.0,\"#f0f921\"]]}],\"choropleth\":[{\"type\":\"choropleth\",\"colorbar\":{\"outlinewidth\":0,\"ticks\":\"\"}}],\"histogram2d\":[{\"type\":\"histogram2d\",\"colorbar\":{\"outlinewidth\":0,\"ticks\":\"\"},\"colorscale\":[[0.0,\"#0d0887\"],[0.1111111111111111,\"#46039f\"],[0.2222222222222222,\"#7201a8\"],[0.3333333333333333,\"#9c179e\"],[0.4444444444444444,\"#bd3786\"],[0.5555555555555556,\"#d8576b\"],[0.6666666666666666,\"#ed7953\"],[0.7777777777777778,\"#fb9f3a\"],[0.8888888888888888,\"#fdca26\"],[1.0,\"#f0f921\"]]}],\"heatmap\":[{\"type\":\"heatmap\",\"colorbar\":{\"outlinewidth\":0,\"ticks\":\"\"},\"colorscale\":[[0.0,\"#0d0887\"],[0.1111111111111111,\"#46039f\"],[0.2222222222222222,\"#7201a8\"],[0.3333333333333333,\"#9c179e\"],[0.4444444444444444,\"#bd3786\"],[0.5555555555555556,\"#d8576b\"],[0.6666666666666666,\"#ed7953\"],[0.7777777777777778,\"#fb9f3a\"],[0.8888888888888888,\"#fdca26\"],[1.0,\"#f0f921\"]]}],\"heatmapgl\":[{\"type\":\"heatmapgl\",\"colorbar\":{\"outlinewidth\":0,\"ticks\":\"\"},\"colorscale\":[[0.0,\"#0d0887\"],[0.1111111111111111,\"#46039f\"],[0.2222222222222222,\"#7201a8\"],[0.3333333333333333,\"#9c179e\"],[0.4444444444444444,\"#bd3786\"],[0.5555555555555556,\"#d8576b\"],[0.6666666666666666,\"#ed7953\"],[0.7777777777777778,\"#fb9f3a\"],[0.8888888888888888,\"#fdca26\"],[1.0,\"#f0f921\"]]}],\"contourcarpet\":[{\"type\":\"contourcarpet\",\"colorbar\":{\"outlinewidth\":0,\"ticks\":\"\"}}],\"contour\":[{\"type\":\"contour\",\"colorbar\":{\"outlinewidth\":0,\"ticks\":\"\"},\"colorscale\":[[0.0,\"#0d0887\"],[0.1111111111111111,\"#46039f\"],[0.2222222222222222,\"#7201a8\"],[0.3333333333333333,\"#9c179e\"],[0.4444444444444444,\"#bd3786\"],[0.5555555555555556,\"#d8576b\"],[0.6666666666666666,\"#ed7953\"],[0.7777777777777778,\"#fb9f3a\"],[0.8888888888888888,\"#fdca26\"],[1.0,\"#f0f921\"]]}],\"surface\":[{\"type\":\"surface\",\"colorbar\":{\"outlinewidth\":0,\"ticks\":\"\"},\"colorscale\":[[0.0,\"#0d0887\"],[0.1111111111111111,\"#46039f\"],[0.2222222222222222,\"#7201a8\"],[0.3333333333333333,\"#9c179e\"],[0.4444444444444444,\"#bd3786\"],[0.5555555555555556,\"#d8576b\"],[0.6666666666666666,\"#ed7953\"],[0.7777777777777778,\"#fb9f3a\"],[0.8888888888888888,\"#fdca26\"],[1.0,\"#f0f921\"]]}],\"mesh3d\":[{\"type\":\"mesh3d\",\"colorbar\":{\"outlinewidth\":0,\"ticks\":\"\"}}],\"scatter\":[{\"fillpattern\":{\"fillmode\":\"overlay\",\"size\":10,\"solidity\":0.2},\"type\":\"scatter\"}],\"parcoords\":[{\"type\":\"parcoords\",\"line\":{\"colorbar\":{\"outlinewidth\":0,\"ticks\":\"\"}}}],\"scatterpolargl\":[{\"type\":\"scatterpolargl\",\"marker\":{\"colorbar\":{\"outlinewidth\":0,\"ticks\":\"\"}}}],\"bar\":[{\"error_x\":{\"color\":\"#2a3f5f\"},\"error_y\":{\"color\":\"#2a3f5f\"},\"marker\":{\"line\":{\"color\":\"#E5ECF6\",\"width\":0.5},\"pattern\":{\"fillmode\":\"overlay\",\"size\":10,\"solidity\":0.2}},\"type\":\"bar\"}],\"scattergeo\":[{\"type\":\"scattergeo\",\"marker\":{\"colorbar\":{\"outlinewidth\":0,\"ticks\":\"\"}}}],\"scatterpolar\":[{\"type\":\"scatterpolar\",\"marker\":{\"colorbar\":{\"outlinewidth\":0,\"ticks\":\"\"}}}],\"histogram\":[{\"marker\":{\"pattern\":{\"fillmode\":\"overlay\",\"size\":10,\"solidity\":0.2}},\"type\":\"histogram\"}],\"scattergl\":[{\"type\":\"scattergl\",\"marker\":{\"colorbar\":{\"outlinewidth\":0,\"ticks\":\"\"}}}],\"scatter3d\":[{\"type\":\"scatter3d\",\"line\":{\"colorbar\":{\"outlinewidth\":0,\"ticks\":\"\"}},\"marker\":{\"colorbar\":{\"outlinewidth\":0,\"ticks\":\"\"}}}],\"scattermapbox\":[{\"type\":\"scattermapbox\",\"marker\":{\"colorbar\":{\"outlinewidth\":0,\"ticks\":\"\"}}}],\"scatterternary\":[{\"type\":\"scatterternary\",\"marker\":{\"colorbar\":{\"outlinewidth\":0,\"ticks\":\"\"}}}],\"scattercarpet\":[{\"type\":\"scattercarpet\",\"marker\":{\"colorbar\":{\"outlinewidth\":0,\"ticks\":\"\"}}}],\"carpet\":[{\"aaxis\":{\"endlinecolor\":\"#2a3f5f\",\"gridcolor\":\"white\",\"linecolor\":\"white\",\"minorgridcolor\":\"white\",\"startlinecolor\":\"#2a3f5f\"},\"baxis\":{\"endlinecolor\":\"#2a3f5f\",\"gridcolor\":\"white\",\"linecolor\":\"white\",\"minorgridcolor\":\"white\",\"startlinecolor\":\"#2a3f5f\"},\"type\":\"carpet\"}],\"table\":[{\"cells\":{\"fill\":{\"color\":\"#EBF0F8\"},\"line\":{\"color\":\"white\"}},\"header\":{\"fill\":{\"color\":\"#C8D4E3\"},\"line\":{\"color\":\"white\"}},\"type\":\"table\"}],\"barpolar\":[{\"marker\":{\"line\":{\"color\":\"#E5ECF6\",\"width\":0.5},\"pattern\":{\"fillmode\":\"overlay\",\"size\":10,\"solidity\":0.2}},\"type\":\"barpolar\"}],\"pie\":[{\"automargin\":true,\"type\":\"pie\"}]},\"layout\":{\"autotypenumbers\":\"strict\",\"colorway\":[\"#636efa\",\"#EF553B\",\"#00cc96\",\"#ab63fa\",\"#FFA15A\",\"#19d3f3\",\"#FF6692\",\"#B6E880\",\"#FF97FF\",\"#FECB52\"],\"font\":{\"color\":\"#2a3f5f\"},\"hovermode\":\"closest\",\"hoverlabel\":{\"align\":\"left\"},\"paper_bgcolor\":\"white\",\"plot_bgcolor\":\"#E5ECF6\",\"polar\":{\"bgcolor\":\"#E5ECF6\",\"angularaxis\":{\"gridcolor\":\"white\",\"linecolor\":\"white\",\"ticks\":\"\"},\"radialaxis\":{\"gridcolor\":\"white\",\"linecolor\":\"white\",\"ticks\":\"\"}},\"ternary\":{\"bgcolor\":\"#E5ECF6\",\"aaxis\":{\"gridcolor\":\"white\",\"linecolor\":\"white\",\"ticks\":\"\"},\"baxis\":{\"gridcolor\":\"white\",\"linecolor\":\"white\",\"ticks\":\"\"},\"caxis\":{\"gridcolor\":\"white\",\"linecolor\":\"white\",\"ticks\":\"\"}},\"coloraxis\":{\"colorbar\":{\"outlinewidth\":0,\"ticks\":\"\"}},\"colorscale\":{\"sequential\":[[0.0,\"#0d0887\"],[0.1111111111111111,\"#46039f\"],[0.2222222222222222,\"#7201a8\"],[0.3333333333333333,\"#9c179e\"],[0.4444444444444444,\"#bd3786\"],[0.5555555555555556,\"#d8576b\"],[0.6666666666666666,\"#ed7953\"],[0.7777777777777778,\"#fb9f3a\"],[0.8888888888888888,\"#fdca26\"],[1.0,\"#f0f921\"]],\"sequentialminus\":[[0.0,\"#0d0887\"],[0.1111111111111111,\"#46039f\"],[0.2222222222222222,\"#7201a8\"],[0.3333333333333333,\"#9c179e\"],[0.4444444444444444,\"#bd3786\"],[0.5555555555555556,\"#d8576b\"],[0.6666666666666666,\"#ed7953\"],[0.7777777777777778,\"#fb9f3a\"],[0.8888888888888888,\"#fdca26\"],[1.0,\"#f0f921\"]],\"diverging\":[[0,\"#8e0152\"],[0.1,\"#c51b7d\"],[0.2,\"#de77ae\"],[0.3,\"#f1b6da\"],[0.4,\"#fde0ef\"],[0.5,\"#f7f7f7\"],[0.6,\"#e6f5d0\"],[0.7,\"#b8e186\"],[0.8,\"#7fbc41\"],[0.9,\"#4d9221\"],[1,\"#276419\"]]},\"xaxis\":{\"gridcolor\":\"white\",\"linecolor\":\"white\",\"ticks\":\"\",\"title\":{\"standoff\":15},\"zerolinecolor\":\"white\",\"automargin\":true,\"zerolinewidth\":2},\"yaxis\":{\"gridcolor\":\"white\",\"linecolor\":\"white\",\"ticks\":\"\",\"title\":{\"standoff\":15},\"zerolinecolor\":\"white\",\"automargin\":true,\"zerolinewidth\":2},\"scene\":{\"xaxis\":{\"backgroundcolor\":\"#E5ECF6\",\"gridcolor\":\"white\",\"linecolor\":\"white\",\"showbackground\":true,\"ticks\":\"\",\"zerolinecolor\":\"white\",\"gridwidth\":2},\"yaxis\":{\"backgroundcolor\":\"#E5ECF6\",\"gridcolor\":\"white\",\"linecolor\":\"white\",\"showbackground\":true,\"ticks\":\"\",\"zerolinecolor\":\"white\",\"gridwidth\":2},\"zaxis\":{\"backgroundcolor\":\"#E5ECF6\",\"gridcolor\":\"white\",\"linecolor\":\"white\",\"showbackground\":true,\"ticks\":\"\",\"zerolinecolor\":\"white\",\"gridwidth\":2}},\"shapedefaults\":{\"line\":{\"color\":\"#2a3f5f\"}},\"annotationdefaults\":{\"arrowcolor\":\"#2a3f5f\",\"arrowhead\":0,\"arrowwidth\":1},\"geo\":{\"bgcolor\":\"white\",\"landcolor\":\"#E5ECF6\",\"subunitcolor\":\"white\",\"showland\":true,\"showlakes\":true,\"lakecolor\":\"white\"},\"title\":{\"x\":0.05},\"mapbox\":{\"style\":\"light\"}}},\"xaxis\":{\"anchor\":\"y\",\"domain\":[0.0,0.45],\"categoryorder\":\"category ascending\"},\"yaxis\":{\"anchor\":\"x\",\"domain\":[0.0,1.0]},\"xaxis2\":{\"anchor\":\"y2\",\"domain\":[0.55,1.0],\"categoryorder\":\"category ascending\"},\"yaxis2\":{\"anchor\":\"x2\",\"domain\":[0.0,1.0]},\"annotations\":[{\"font\":{\"size\":16},\"showarrow\":false,\"text\":\"Average Score of Race\\u002fEthnicity Samples\",\"x\":0.225,\"xanchor\":\"center\",\"xref\":\"paper\",\"y\":1.0,\"yanchor\":\"bottom\",\"yref\":\"paper\"},{\"font\":{\"size\":16},\"showarrow\":false,\"text\":\"Average Score of Male\\u002fFemale Samples\",\"x\":0.775,\"xanchor\":\"center\",\"xref\":\"paper\",\"y\":1.0,\"yanchor\":\"bottom\",\"yref\":\"paper\"}]},                        {\"responsive\": true}                    ).then(function(){\n",
              "                            \n",
              "var gd = document.getElementById('e75b63ca-18b3-40fc-a60f-401c11627a03');\n",
              "var x = new MutationObserver(function (mutations, observer) {{\n",
              "        var display = window.getComputedStyle(gd).display;\n",
              "        if (!display || display === 'none') {{\n",
              "            console.log([gd, 'removed!']);\n",
              "            Plotly.purge(gd);\n",
              "            observer.disconnect();\n",
              "        }}\n",
              "}});\n",
              "\n",
              "// Listen for the removal of the full notebook cells\n",
              "var notebookContainer = gd.closest('#notebook-container');\n",
              "if (notebookContainer) {{\n",
              "    x.observe(notebookContainer, {childList: true});\n",
              "}}\n",
              "\n",
              "// Listen for the clearing of the current output cell\n",
              "var outputEl = gd.closest('.output');\n",
              "if (outputEl) {{\n",
              "    x.observe(outputEl, {childList: true});\n",
              "}}\n",
              "\n",
              "                        })                };                            </script>        </div>\n",
              "</body>\n",
              "</html>"
            ]
          },
          "metadata": {}
        }
      ]
    },
    {
      "cell_type": "markdown",
      "source": [
        "This shows us, much more concretely, that both samples in group E and female samples do have a very slightly higher average score.  But since this score is an average of an average, and is likely not significantly higher, let's plot some of the raw scores."
      ],
      "metadata": {
        "id": "xMqBrQT8sx5o"
      }
    },
    {
      "cell_type": "code",
      "source": [
        "# Annoyingly, plotly's sort doesn't apply to grouped bars, those have to be sorted before building the figure\n",
        "data_clean['race/ethnicity'] = pd.Categorical(data_clean['race/ethnicity'], [\"group A\", \"group B\", \"group C\", \"group D\", \"group E\"])\n",
        "data_clean.sort_values(['race/ethnicity'], inplace = True)\n",
        "\n",
        "# Define the figures\n",
        "math_hist_fig = px.histogram(data_clean, x=\"gender\", y=\"math score\", color='race/ethnicity', barmode='group', title=\"Average Math Scores\",\n",
        "             histfunc='avg') # I learned about histfunc after the above but I'm leaving the above alone just because\n",
        "\n",
        "read_hist_fig = px.histogram(data_clean, x=\"gender\", y=\"reading score\", color='race/ethnicity', barmode='group', title=\"Average Reading Scores\",\n",
        "             histfunc='avg') # I learned about histfunc after the above but I'm leaving the above alone just because\n",
        "\n",
        "write_hist_fig = px.histogram(data_clean, x=\"gender\", y=\"writing score\", color='race/ethnicity', barmode='group', title=\"Average Writing Scores\",\n",
        "             histfunc='avg') # I learned about histfunc after the above but I'm leaving the above alone just because\n",
        "\n",
        "# So that we don't forget these later\n",
        "fig_list.update({'math_hist_fig':math_hist_fig})\n",
        "fig_list.update({'read_hist_fig':read_hist_fig})\n",
        "fig_list.update({'write_hist_fig':write_hist_fig})\n",
        "\n",
        "# Sort the category orders\n",
        "math_hist_fig.update_xaxes(categoryorder='category ascending')\n",
        "read_hist_fig.update_xaxes(categoryorder='category ascending')\n",
        "write_hist_fig.update_xaxes(categoryorder='category ascending')\n",
        "\n",
        "#Show the figures\n",
        "math_hist_fig.show() # I'm sure I could figure out how to make this with make_subplots, but it's so funky\n",
        "read_hist_fig.show()\n",
        "write_hist_fig.show()"
      ],
      "metadata": {
        "colab": {
          "base_uri": "https://localhost:8080/",
          "height": 1000
        },
        "id": "0objQDyHtxZs",
        "outputId": "1a016b5d-e846-4e0f-9cd0-63d0cec22cfc"
      },
      "execution_count": 40,
      "outputs": [
        {
          "output_type": "display_data",
          "data": {
            "text/html": [
              "<html>\n",
              "<head><meta charset=\"utf-8\" /></head>\n",
              "<body>\n",
              "    <div>            <script src=\"https://cdnjs.cloudflare.com/ajax/libs/mathjax/2.7.5/MathJax.js?config=TeX-AMS-MML_SVG\"></script><script type=\"text/javascript\">if (window.MathJax && window.MathJax.Hub && window.MathJax.Hub.Config) {window.MathJax.Hub.Config({SVG: {font: \"STIX-Web\"}});}</script>                <script type=\"text/javascript\">window.PlotlyConfig = {MathJaxConfig: 'local'};</script>\n",
              "        <script charset=\"utf-8\" src=\"https://cdn.plot.ly/plotly-2.24.1.min.js\"></script>                <div id=\"a05f54fb-02b6-46d2-ac52-f07e63374e86\" class=\"plotly-graph-div\" style=\"height:525px; width:100%;\"></div>            <script type=\"text/javascript\">                                    window.PLOTLYENV=window.PLOTLYENV || {};                                    if (document.getElementById(\"a05f54fb-02b6-46d2-ac52-f07e63374e86\")) {                    Plotly.newPlot(                        \"a05f54fb-02b6-46d2-ac52-f07e63374e86\",                        [{\"alignmentgroup\":\"True\",\"bingroup\":\"x\",\"histfunc\":\"avg\",\"hovertemplate\":\"race\\u002fethnicity=group A\\u003cbr\\u003egender=%{x}\\u003cbr\\u003eavg of math score=%{y}\\u003cextra\\u003e\\u003c\\u002fextra\\u003e\",\"legendgroup\":\"group A\",\"marker\":{\"color\":\"#636efa\",\"pattern\":{\"shape\":\"\"}},\"name\":\"group A\",\"offsetgroup\":\"group A\",\"orientation\":\"v\",\"showlegend\":true,\"x\":[\"female\",\"male\",\"male\",\"male\",\"female\",\"male\",\"male\",\"male\",\"female\",\"female\",\"female\",\"male\",\"female\",\"female\",\"female\",\"male\",\"female\",\"male\",\"male\",\"male\",\"male\",\"male\",\"male\",\"male\",\"female\",\"female\",\"male\",\"female\",\"female\",\"male\",\"male\",\"male\",\"female\",\"female\",\"female\",\"male\",\"female\",\"male\",\"female\",\"male\",\"male\",\"male\",\"female\",\"male\",\"male\",\"female\",\"female\",\"male\",\"female\",\"male\",\"male\",\"male\",\"male\",\"male\",\"female\",\"male\",\"male\",\"female\",\"male\",\"male\",\"male\",\"female\",\"female\",\"female\",\"female\",\"male\",\"female\",\"female\",\"male\",\"male\",\"male\",\"male\",\"male\",\"female\",\"male\",\"female\",\"male\",\"male\",\"male\",\"male\",\"female\",\"female\",\"male\",\"male\",\"female\",\"male\",\"male\",\"female\",\"male\"],\"xaxis\":\"x\",\"y\":[72,75,47,48,50,68,53,67,65,49,68,78,50,51,34,45,59,47,63,51,79,87,59,53,47,48,73,59,38,62,65,100,44,59,82,57,45,71,78,71,66,61,55,55,57,44,61,62,61,61,40,91,77,46,54,81,54,53,39,62,69,37,85,92,55,53,71,69,97,72,28,66,80,77,64,75,68,50,49,75,56,58,63,64,65,79,58,41,72],\"yaxis\":\"y\",\"type\":\"histogram\"},{\"alignmentgroup\":\"True\",\"bingroup\":\"x\",\"histfunc\":\"avg\",\"hovertemplate\":\"race\\u002fethnicity=group B\\u003cbr\\u003egender=%{x}\\u003cbr\\u003eavg of math score=%{y}\\u003cextra\\u003e\\u003c\\u002fextra\\u003e\",\"legendgroup\":\"group B\",\"marker\":{\"color\":\"#EF553B\",\"pattern\":{\"shape\":\"\"}},\"name\":\"group B\",\"offsetgroup\":\"group B\",\"orientation\":\"v\",\"showlegend\":true,\"x\":[\"female\",\"male\",\"female\",\"female\",\"male\",\"male\",\"female\",\"female\",\"male\",\"male\",\"female\",\"male\",\"female\",\"male\",\"male\",\"female\",\"female\",\"male\",\"female\",\"male\",\"female\",\"male\",\"female\",\"female\",\"female\",\"female\",\"female\",\"male\",\"female\",\"female\",\"male\",\"female\",\"female\",\"female\",\"female\",\"female\",\"male\",\"male\",\"female\",\"female\",\"male\",\"female\",\"female\",\"female\",\"male\",\"male\",\"female\",\"female\",\"female\",\"male\",\"male\",\"male\",\"female\",\"male\",\"male\",\"female\",\"male\",\"female\",\"female\",\"female\",\"female\",\"female\",\"female\",\"female\",\"female\",\"male\",\"female\",\"male\",\"female\",\"male\",\"female\",\"male\",\"male\",\"male\",\"female\",\"male\",\"female\",\"male\",\"female\",\"female\",\"female\",\"male\",\"female\",\"male\",\"female\",\"female\",\"male\",\"male\",\"female\",\"male\",\"male\",\"female\",\"male\",\"male\",\"female\",\"female\",\"male\",\"male\",\"female\",\"female\",\"female\",\"male\",\"female\",\"female\",\"male\",\"female\",\"female\",\"female\",\"male\",\"female\",\"male\",\"female\",\"female\",\"male\",\"male\",\"male\",\"male\",\"female\",\"female\",\"male\",\"female\",\"male\",\"male\",\"female\",\"female\",\"male\",\"female\",\"female\",\"female\",\"female\",\"male\",\"male\",\"male\",\"male\",\"male\",\"female\",\"male\",\"male\",\"male\",\"female\",\"female\",\"male\",\"female\",\"male\",\"female\",\"female\",\"male\",\"female\",\"female\",\"male\",\"female\",\"male\",\"female\",\"female\",\"male\",\"female\",\"male\",\"female\",\"female\",\"male\",\"female\",\"male\",\"male\",\"male\",\"male\",\"female\",\"male\",\"male\",\"male\",\"female\",\"female\",\"female\",\"male\",\"male\",\"male\",\"female\",\"female\",\"female\",\"male\",\"female\",\"male\",\"male\",\"female\",\"female\",\"female\",\"female\",\"male\",\"male\",\"male\",\"female\"],\"xaxis\":\"x\",\"y\":[54,66,66,52,64,52,49,24,73,91,46,61,68,67,60,52,46,65,8,59,58,76,66,49,53,73,19,41,48,42,63,82,82,74,32,90,66,69,77,54,55,82,62,94,74,57,57,62,54,44,60,79,45,91,69,65,40,47,90,74,58,65,71,18,88,47,38,84,78,48,59,88,57,79,63,49,75,82,61,58,75,49,87,82,70,52,49,60,65,51,65,79,72,81,63,77,87,36,65,52,97,81,77,69,58,52,61,41,58,37,63,73,53,74,80,67,90,67,64,54,76,68,94,80,58,85,60,71,61,23,62,52,73,88,61,70,59,82,75,60,58,88,67,59,50,77,62,62,73,55,50,70,72,57,62,67,79,59,65,87,67,61,54,66,72,66,60,73,69,50,72,76,30,65,47,68,48,81,71,74,87,63,58,60,40,53,62,48,48,53],\"yaxis\":\"y\",\"type\":\"histogram\"},{\"alignmentgroup\":\"True\",\"bingroup\":\"x\",\"histfunc\":\"avg\",\"hovertemplate\":\"race\\u002fethnicity=group C\\u003cbr\\u003egender=%{x}\\u003cbr\\u003eavg of math score=%{y}\\u003cextra\\u003e\\u003c\\u002fextra\\u003e\",\"legendgroup\":\"group C\",\"marker\":{\"color\":\"#00cc96\",\"pattern\":{\"shape\":\"\"}},\"name\":\"group C\",\"offsetgroup\":\"group C\",\"orientation\":\"v\",\"showlegend\":true,\"x\":[\"female\",\"male\",\"male\",\"male\",\"female\",\"male\",\"female\",\"male\",\"female\",\"female\",\"female\",\"female\",\"male\",\"male\",\"female\",\"male\",\"male\",\"female\",\"male\",\"female\",\"female\",\"female\",\"male\",\"male\",\"female\",\"female\",\"female\",\"male\",\"female\",\"male\",\"female\",\"female\",\"male\",\"male\",\"male\",\"male\",\"male\",\"male\",\"male\",\"female\",\"female\",\"female\",\"female\",\"female\",\"male\",\"male\",\"female\",\"female\",\"male\",\"female\",\"male\",\"male\",\"female\",\"male\",\"male\",\"male\",\"female\",\"male\",\"male\",\"male\",\"female\",\"female\",\"female\",\"female\",\"male\",\"male\",\"female\",\"male\",\"male\",\"female\",\"female\",\"female\",\"male\",\"female\",\"male\",\"female\",\"female\",\"female\",\"female\",\"female\",\"female\",\"female\",\"male\",\"male\",\"male\",\"male\",\"female\",\"male\",\"male\",\"female\",\"female\",\"male\",\"male\",\"male\",\"female\",\"male\",\"female\",\"male\",\"female\",\"female\",\"female\",\"male\",\"male\",\"female\",\"male\",\"female\",\"male\",\"male\",\"male\",\"female\",\"female\",\"female\",\"female\",\"female\",\"female\",\"female\",\"female\",\"female\",\"male\",\"female\",\"female\",\"female\",\"male\",\"female\",\"female\",\"male\",\"female\",\"male\",\"male\",\"female\",\"male\",\"female\",\"male\",\"female\",\"female\",\"male\",\"male\",\"female\",\"female\",\"male\",\"female\",\"female\",\"male\",\"male\",\"female\",\"male\",\"male\",\"male\",\"female\",\"female\",\"female\",\"female\",\"female\",\"male\",\"female\",\"male\",\"male\",\"male\",\"female\",\"female\",\"female\",\"female\",\"female\",\"male\",\"male\",\"female\",\"female\",\"female\",\"female\",\"female\",\"female\",\"male\",\"female\",\"female\",\"female\",\"female\",\"male\",\"male\",\"female\",\"male\",\"female\",\"male\",\"female\",\"male\",\"male\",\"female\",\"female\",\"female\",\"male\",\"male\",\"female\",\"female\",\"male\",\"male\",\"female\",\"female\",\"female\",\"female\",\"female\",\"female\",\"male\",\"male\",\"female\",\"male\",\"female\",\"male\",\"female\",\"male\",\"female\",\"female\",\"male\",\"male\",\"female\",\"female\",\"female\",\"female\",\"male\",\"female\",\"male\",\"male\",\"female\",\"male\",\"male\",\"male\",\"female\",\"female\",\"male\",\"female\",\"female\",\"female\",\"female\",\"male\",\"male\",\"male\",\"female\",\"male\",\"male\",\"female\",\"female\",\"female\",\"male\",\"female\",\"female\",\"male\",\"male\",\"female\",\"male\",\"female\",\"female\",\"male\",\"male\",\"male\",\"male\",\"female\",\"male\",\"female\",\"female\",\"male\",\"female\",\"female\",\"male\",\"female\",\"male\",\"female\",\"male\",\"female\",\"male\",\"female\",\"male\",\"female\",\"female\",\"female\",\"female\",\"male\",\"female\",\"male\",\"female\",\"female\",\"female\",\"male\",\"male\",\"female\",\"male\",\"female\",\"female\",\"female\",\"female\",\"male\",\"female\",\"female\",\"male\",\"female\",\"male\",\"female\",\"male\",\"female\",\"male\",\"female\",\"female\",\"female\",\"male\",\"female\",\"male\",\"female\",\"female\",\"female\",\"female\",\"female\",\"male\",\"female\",\"male\",\"female\",\"male\",\"male\",\"female\",\"female\",\"male\",\"female\",\"male\"],\"xaxis\":\"x\",\"y\":[67,59,68,80,43,69,73,82,41,77,44,82,70,61,43,76,85,42,63,65,69,63,62,78,67,77,62,60,55,35,72,88,46,54,83,84,57,71,45,57,52,74,46,67,51,62,71,67,64,59,71,83,66,68,59,86,68,47,91,65,71,83,67,60,49,58,61,40,53,72,43,81,71,47,63,59,96,65,85,85,52,56,73,59,69,61,88,61,79,59,59,74,71,52,51,58,77,86,65,35,55,69,68,45,62,61,81,50,64,73,70,42,63,46,59,52,48,52,67,54,70,74,69,65,64,79,44,98,49,63,97,71,58,64,53,83,59,62,48,73,63,75,76,70,65,72,57,90,59,82,54,57,72,67,22,53,87,87,0,70,32,77,66,78,53,79,55,69,29,67,34,84,54,64,52,65,65,91,53,79,50,63,62,76,73,84,35,58,84,91,63,68,98,58,62,62,63,83,65,69,37,73,44,71,81,63,65,75,36,83,43,27,58,76,73,54,78,64,56,77,49,62,70,68,60,91,74,65,86,76,53,49,61,58,65,54,53,77,68,69,79,56,47,70,58,66,51,50,66,79,69,75,62,81,51,59,60,72,39,62,79,81,55,67,61,69,61,63,96,49,64,33,69,67,71,88,53,50,59,53,92,75,82,62,87,91,66,53,65,76,46,54,58,54,50,58,62,92,44,96,66,40,75,85,75,29,74,58,66,65,94,60,93,65,35,67,58,40,73],\"yaxis\":\"y\",\"type\":\"histogram\"},{\"alignmentgroup\":\"True\",\"bingroup\":\"x\",\"histfunc\":\"avg\",\"hovertemplate\":\"race\\u002fethnicity=group D\\u003cbr\\u003egender=%{x}\\u003cbr\\u003eavg of math score=%{y}\\u003cextra\\u003e\\u003c\\u002fextra\\u003e\",\"legendgroup\":\"group D\",\"marker\":{\"color\":\"#ab63fa\",\"pattern\":{\"shape\":\"\"}},\"name\":\"group D\",\"offsetgroup\":\"group D\",\"orientation\":\"v\",\"showlegend\":true,\"x\":[\"female\",\"male\",\"male\",\"female\",\"male\",\"female\",\"male\",\"male\",\"female\",\"female\",\"female\",\"male\",\"female\",\"female\",\"male\",\"female\",\"male\",\"female\",\"male\",\"male\",\"male\",\"male\",\"male\",\"female\",\"male\",\"female\",\"male\",\"female\",\"female\",\"female\",\"male\",\"male\",\"female\",\"female\",\"male\",\"female\",\"female\",\"female\",\"male\",\"female\",\"male\",\"female\",\"male\",\"female\",\"male\",\"male\",\"male\",\"male\",\"female\",\"male\",\"male\",\"male\",\"male\",\"male\",\"male\",\"female\",\"male\",\"female\",\"male\",\"female\",\"male\",\"male\",\"male\",\"female\",\"female\",\"female\",\"female\",\"female\",\"female\",\"male\",\"female\",\"male\",\"female\",\"male\",\"male\",\"male\",\"female\",\"female\",\"male\",\"male\",\"female\",\"female\",\"male\",\"male\",\"female\",\"male\",\"female\",\"male\",\"female\",\"female\",\"male\",\"female\",\"female\",\"male\",\"male\",\"female\",\"male\",\"female\",\"male\",\"female\",\"female\",\"female\",\"male\",\"male\",\"male\",\"female\",\"male\",\"male\",\"male\",\"female\",\"male\",\"male\",\"male\",\"female\",\"female\",\"male\",\"female\",\"female\",\"male\",\"female\",\"male\",\"female\",\"male\",\"female\",\"female\",\"female\",\"male\",\"male\",\"female\",\"male\",\"male\",\"female\",\"male\",\"male\",\"female\",\"male\",\"female\",\"male\",\"male\",\"female\",\"female\",\"male\",\"female\",\"female\",\"male\",\"male\",\"female\",\"female\",\"male\",\"male\",\"male\",\"male\",\"female\",\"male\",\"male\",\"female\",\"male\",\"female\",\"male\",\"female\",\"male\",\"female\",\"female\",\"male\",\"male\",\"male\",\"male\",\"female\",\"male\",\"female\",\"female\",\"male\",\"female\",\"female\",\"male\",\"male\",\"male\",\"female\",\"female\",\"male\",\"male\",\"female\",\"female\",\"female\",\"male\",\"female\",\"male\",\"female\",\"female\",\"female\",\"female\",\"male\",\"female\",\"male\",\"female\",\"female\",\"male\",\"male\",\"female\",\"male\",\"male\",\"male\",\"male\",\"female\",\"male\",\"female\",\"female\",\"female\",\"male\",\"female\",\"male\",\"female\",\"male\",\"male\",\"male\",\"female\",\"female\",\"female\",\"male\",\"male\",\"female\",\"male\",\"female\",\"male\",\"female\",\"male\",\"female\",\"female\",\"male\",\"female\",\"female\",\"male\",\"male\",\"male\",\"female\",\"male\",\"female\",\"male\",\"male\",\"male\",\"male\",\"male\",\"female\",\"female\",\"female\",\"female\",\"female\",\"male\",\"female\",\"female\",\"male\",\"male\",\"female\",\"female\",\"female\",\"female\",\"female\",\"female\",\"female\",\"female\",\"male\",\"male\"],\"xaxis\":\"x\",\"y\":[88,59,62,47,54,59,53,45,73,70,68,86,65,26,40,71,100,69,95,88,69,84,60,54,61,65,88,74,50,47,78,86,76,71,75,75,79,56,73,64,63,97,80,65,76,57,62,76,56,77,61,80,66,42,76,69,81,77,67,49,71,56,90,57,68,63,58,74,40,68,29,63,61,71,76,62,74,66,69,61,59,61,73,80,74,77,55,58,64,82,79,52,63,80,52,59,45,51,74,81,53,69,49,67,84,69,52,81,80,55,64,40,90,73,43,66,85,69,44,59,74,74,41,76,62,80,88,68,69,69,54,85,76,61,39,74,78,78,72,49,48,81,62,52,55,72,89,69,63,72,69,71,48,60,55,73,82,42,70,98,39,67,65,75,55,85,74,64,67,55,59,77,78,63,85,46,77,67,75,70,88,57,93,69,81,65,55,60,77,49,46,44,79,66,62,67,81,69,92,89,75,79,65,77,60,88,71,73,53,79,69,78,89,75,75,65,57,65,68,68,87,71,70,87,52,67,64,35,59,80,58,62,89,88,27,81,79,55,61,80,50,64,68,40,45,77,56,80,51,73,82,74,82,77,80,85,59,51,78,62,73,63],\"yaxis\":\"y\",\"type\":\"histogram\"},{\"alignmentgroup\":\"True\",\"bingroup\":\"x\",\"histfunc\":\"avg\",\"hovertemplate\":\"race\\u002fethnicity=group E\\u003cbr\\u003egender=%{x}\\u003cbr\\u003eavg of math score=%{y}\\u003cextra\\u003e\\u003c\\u002fextra\\u003e\",\"legendgroup\":\"group E\",\"marker\":{\"color\":\"#FFA15A\",\"pattern\":{\"shape\":\"\"}},\"name\":\"group E\",\"offsetgroup\":\"group E\",\"orientation\":\"v\",\"showlegend\":true,\"x\":[\"female\",\"female\",\"male\",\"male\",\"female\",\"female\",\"male\",\"male\",\"female\",\"male\",\"male\",\"male\",\"female\",\"female\",\"female\",\"male\",\"female\",\"male\",\"male\",\"female\",\"male\",\"female\",\"female\",\"female\",\"female\",\"female\",\"male\",\"female\",\"female\",\"female\",\"female\",\"female\",\"female\",\"male\",\"male\",\"female\",\"male\",\"male\",\"male\",\"male\",\"male\",\"female\",\"male\",\"female\",\"male\",\"male\",\"female\",\"male\",\"male\",\"male\",\"female\",\"female\",\"male\",\"female\",\"female\",\"female\",\"female\",\"female\",\"female\",\"male\",\"male\",\"male\",\"male\",\"female\",\"female\",\"female\",\"male\",\"female\",\"female\",\"male\",\"female\",\"male\",\"male\",\"male\",\"male\",\"female\",\"male\",\"male\",\"female\",\"male\",\"female\",\"male\",\"male\",\"male\",\"female\",\"male\",\"female\",\"female\",\"male\",\"female\",\"male\",\"male\",\"male\",\"male\",\"male\",\"female\",\"female\",\"female\",\"female\",\"male\",\"female\",\"male\",\"female\",\"female\",\"male\",\"male\",\"female\",\"male\",\"female\",\"male\",\"female\",\"male\",\"male\",\"female\",\"female\",\"male\",\"male\",\"female\",\"male\",\"male\",\"female\",\"female\",\"female\",\"male\",\"female\",\"male\",\"male\",\"female\",\"male\",\"female\",\"male\",\"female\",\"female\",\"male\",\"male\",\"male\",\"female\",\"male\",\"female\",\"male\"],\"xaxis\":\"x\",\"y\":[70,37,69,84,81,71,78,93,62,90,89,59,77,80,99,68,64,81,68,74,91,76,61,80,53,61,86,79,74,73,59,65,71,90,92,38,46,49,84,66,87,67,73,75,99,71,65,77,85,62,93,64,73,86,85,45,59,32,83,87,87,97,82,87,87,41,76,51,94,80,92,64,100,46,97,42,79,81,99,70,50,87,83,53,57,77,74,82,82,100,72,100,55,70,81,63,66,50,88,94,68,72,62,56,66,74,66,53,95,76,71,94,70,100,72,57,89,57,76,84,100,74,84,68,68,94,30,66,86,75,68,81,73,81,78,85,79,62,57,76],\"yaxis\":\"y\",\"type\":\"histogram\"}],                        {\"template\":{\"data\":{\"histogram2dcontour\":[{\"type\":\"histogram2dcontour\",\"colorbar\":{\"outlinewidth\":0,\"ticks\":\"\"},\"colorscale\":[[0.0,\"#0d0887\"],[0.1111111111111111,\"#46039f\"],[0.2222222222222222,\"#7201a8\"],[0.3333333333333333,\"#9c179e\"],[0.4444444444444444,\"#bd3786\"],[0.5555555555555556,\"#d8576b\"],[0.6666666666666666,\"#ed7953\"],[0.7777777777777778,\"#fb9f3a\"],[0.8888888888888888,\"#fdca26\"],[1.0,\"#f0f921\"]]}],\"choropleth\":[{\"type\":\"choropleth\",\"colorbar\":{\"outlinewidth\":0,\"ticks\":\"\"}}],\"histogram2d\":[{\"type\":\"histogram2d\",\"colorbar\":{\"outlinewidth\":0,\"ticks\":\"\"},\"colorscale\":[[0.0,\"#0d0887\"],[0.1111111111111111,\"#46039f\"],[0.2222222222222222,\"#7201a8\"],[0.3333333333333333,\"#9c179e\"],[0.4444444444444444,\"#bd3786\"],[0.5555555555555556,\"#d8576b\"],[0.6666666666666666,\"#ed7953\"],[0.7777777777777778,\"#fb9f3a\"],[0.8888888888888888,\"#fdca26\"],[1.0,\"#f0f921\"]]}],\"heatmap\":[{\"type\":\"heatmap\",\"colorbar\":{\"outlinewidth\":0,\"ticks\":\"\"},\"colorscale\":[[0.0,\"#0d0887\"],[0.1111111111111111,\"#46039f\"],[0.2222222222222222,\"#7201a8\"],[0.3333333333333333,\"#9c179e\"],[0.4444444444444444,\"#bd3786\"],[0.5555555555555556,\"#d8576b\"],[0.6666666666666666,\"#ed7953\"],[0.7777777777777778,\"#fb9f3a\"],[0.8888888888888888,\"#fdca26\"],[1.0,\"#f0f921\"]]}],\"heatmapgl\":[{\"type\":\"heatmapgl\",\"colorbar\":{\"outlinewidth\":0,\"ticks\":\"\"},\"colorscale\":[[0.0,\"#0d0887\"],[0.1111111111111111,\"#46039f\"],[0.2222222222222222,\"#7201a8\"],[0.3333333333333333,\"#9c179e\"],[0.4444444444444444,\"#bd3786\"],[0.5555555555555556,\"#d8576b\"],[0.6666666666666666,\"#ed7953\"],[0.7777777777777778,\"#fb9f3a\"],[0.8888888888888888,\"#fdca26\"],[1.0,\"#f0f921\"]]}],\"contourcarpet\":[{\"type\":\"contourcarpet\",\"colorbar\":{\"outlinewidth\":0,\"ticks\":\"\"}}],\"contour\":[{\"type\":\"contour\",\"colorbar\":{\"outlinewidth\":0,\"ticks\":\"\"},\"colorscale\":[[0.0,\"#0d0887\"],[0.1111111111111111,\"#46039f\"],[0.2222222222222222,\"#7201a8\"],[0.3333333333333333,\"#9c179e\"],[0.4444444444444444,\"#bd3786\"],[0.5555555555555556,\"#d8576b\"],[0.6666666666666666,\"#ed7953\"],[0.7777777777777778,\"#fb9f3a\"],[0.8888888888888888,\"#fdca26\"],[1.0,\"#f0f921\"]]}],\"surface\":[{\"type\":\"surface\",\"colorbar\":{\"outlinewidth\":0,\"ticks\":\"\"},\"colorscale\":[[0.0,\"#0d0887\"],[0.1111111111111111,\"#46039f\"],[0.2222222222222222,\"#7201a8\"],[0.3333333333333333,\"#9c179e\"],[0.4444444444444444,\"#bd3786\"],[0.5555555555555556,\"#d8576b\"],[0.6666666666666666,\"#ed7953\"],[0.7777777777777778,\"#fb9f3a\"],[0.8888888888888888,\"#fdca26\"],[1.0,\"#f0f921\"]]}],\"mesh3d\":[{\"type\":\"mesh3d\",\"colorbar\":{\"outlinewidth\":0,\"ticks\":\"\"}}],\"scatter\":[{\"fillpattern\":{\"fillmode\":\"overlay\",\"size\":10,\"solidity\":0.2},\"type\":\"scatter\"}],\"parcoords\":[{\"type\":\"parcoords\",\"line\":{\"colorbar\":{\"outlinewidth\":0,\"ticks\":\"\"}}}],\"scatterpolargl\":[{\"type\":\"scatterpolargl\",\"marker\":{\"colorbar\":{\"outlinewidth\":0,\"ticks\":\"\"}}}],\"bar\":[{\"error_x\":{\"color\":\"#2a3f5f\"},\"error_y\":{\"color\":\"#2a3f5f\"},\"marker\":{\"line\":{\"color\":\"#E5ECF6\",\"width\":0.5},\"pattern\":{\"fillmode\":\"overlay\",\"size\":10,\"solidity\":0.2}},\"type\":\"bar\"}],\"scattergeo\":[{\"type\":\"scattergeo\",\"marker\":{\"colorbar\":{\"outlinewidth\":0,\"ticks\":\"\"}}}],\"scatterpolar\":[{\"type\":\"scatterpolar\",\"marker\":{\"colorbar\":{\"outlinewidth\":0,\"ticks\":\"\"}}}],\"histogram\":[{\"marker\":{\"pattern\":{\"fillmode\":\"overlay\",\"size\":10,\"solidity\":0.2}},\"type\":\"histogram\"}],\"scattergl\":[{\"type\":\"scattergl\",\"marker\":{\"colorbar\":{\"outlinewidth\":0,\"ticks\":\"\"}}}],\"scatter3d\":[{\"type\":\"scatter3d\",\"line\":{\"colorbar\":{\"outlinewidth\":0,\"ticks\":\"\"}},\"marker\":{\"colorbar\":{\"outlinewidth\":0,\"ticks\":\"\"}}}],\"scattermapbox\":[{\"type\":\"scattermapbox\",\"marker\":{\"colorbar\":{\"outlinewidth\":0,\"ticks\":\"\"}}}],\"scatterternary\":[{\"type\":\"scatterternary\",\"marker\":{\"colorbar\":{\"outlinewidth\":0,\"ticks\":\"\"}}}],\"scattercarpet\":[{\"type\":\"scattercarpet\",\"marker\":{\"colorbar\":{\"outlinewidth\":0,\"ticks\":\"\"}}}],\"carpet\":[{\"aaxis\":{\"endlinecolor\":\"#2a3f5f\",\"gridcolor\":\"white\",\"linecolor\":\"white\",\"minorgridcolor\":\"white\",\"startlinecolor\":\"#2a3f5f\"},\"baxis\":{\"endlinecolor\":\"#2a3f5f\",\"gridcolor\":\"white\",\"linecolor\":\"white\",\"minorgridcolor\":\"white\",\"startlinecolor\":\"#2a3f5f\"},\"type\":\"carpet\"}],\"table\":[{\"cells\":{\"fill\":{\"color\":\"#EBF0F8\"},\"line\":{\"color\":\"white\"}},\"header\":{\"fill\":{\"color\":\"#C8D4E3\"},\"line\":{\"color\":\"white\"}},\"type\":\"table\"}],\"barpolar\":[{\"marker\":{\"line\":{\"color\":\"#E5ECF6\",\"width\":0.5},\"pattern\":{\"fillmode\":\"overlay\",\"size\":10,\"solidity\":0.2}},\"type\":\"barpolar\"}],\"pie\":[{\"automargin\":true,\"type\":\"pie\"}]},\"layout\":{\"autotypenumbers\":\"strict\",\"colorway\":[\"#636efa\",\"#EF553B\",\"#00cc96\",\"#ab63fa\",\"#FFA15A\",\"#19d3f3\",\"#FF6692\",\"#B6E880\",\"#FF97FF\",\"#FECB52\"],\"font\":{\"color\":\"#2a3f5f\"},\"hovermode\":\"closest\",\"hoverlabel\":{\"align\":\"left\"},\"paper_bgcolor\":\"white\",\"plot_bgcolor\":\"#E5ECF6\",\"polar\":{\"bgcolor\":\"#E5ECF6\",\"angularaxis\":{\"gridcolor\":\"white\",\"linecolor\":\"white\",\"ticks\":\"\"},\"radialaxis\":{\"gridcolor\":\"white\",\"linecolor\":\"white\",\"ticks\":\"\"}},\"ternary\":{\"bgcolor\":\"#E5ECF6\",\"aaxis\":{\"gridcolor\":\"white\",\"linecolor\":\"white\",\"ticks\":\"\"},\"baxis\":{\"gridcolor\":\"white\",\"linecolor\":\"white\",\"ticks\":\"\"},\"caxis\":{\"gridcolor\":\"white\",\"linecolor\":\"white\",\"ticks\":\"\"}},\"coloraxis\":{\"colorbar\":{\"outlinewidth\":0,\"ticks\":\"\"}},\"colorscale\":{\"sequential\":[[0.0,\"#0d0887\"],[0.1111111111111111,\"#46039f\"],[0.2222222222222222,\"#7201a8\"],[0.3333333333333333,\"#9c179e\"],[0.4444444444444444,\"#bd3786\"],[0.5555555555555556,\"#d8576b\"],[0.6666666666666666,\"#ed7953\"],[0.7777777777777778,\"#fb9f3a\"],[0.8888888888888888,\"#fdca26\"],[1.0,\"#f0f921\"]],\"sequentialminus\":[[0.0,\"#0d0887\"],[0.1111111111111111,\"#46039f\"],[0.2222222222222222,\"#7201a8\"],[0.3333333333333333,\"#9c179e\"],[0.4444444444444444,\"#bd3786\"],[0.5555555555555556,\"#d8576b\"],[0.6666666666666666,\"#ed7953\"],[0.7777777777777778,\"#fb9f3a\"],[0.8888888888888888,\"#fdca26\"],[1.0,\"#f0f921\"]],\"diverging\":[[0,\"#8e0152\"],[0.1,\"#c51b7d\"],[0.2,\"#de77ae\"],[0.3,\"#f1b6da\"],[0.4,\"#fde0ef\"],[0.5,\"#f7f7f7\"],[0.6,\"#e6f5d0\"],[0.7,\"#b8e186\"],[0.8,\"#7fbc41\"],[0.9,\"#4d9221\"],[1,\"#276419\"]]},\"xaxis\":{\"gridcolor\":\"white\",\"linecolor\":\"white\",\"ticks\":\"\",\"title\":{\"standoff\":15},\"zerolinecolor\":\"white\",\"automargin\":true,\"zerolinewidth\":2},\"yaxis\":{\"gridcolor\":\"white\",\"linecolor\":\"white\",\"ticks\":\"\",\"title\":{\"standoff\":15},\"zerolinecolor\":\"white\",\"automargin\":true,\"zerolinewidth\":2},\"scene\":{\"xaxis\":{\"backgroundcolor\":\"#E5ECF6\",\"gridcolor\":\"white\",\"linecolor\":\"white\",\"showbackground\":true,\"ticks\":\"\",\"zerolinecolor\":\"white\",\"gridwidth\":2},\"yaxis\":{\"backgroundcolor\":\"#E5ECF6\",\"gridcolor\":\"white\",\"linecolor\":\"white\",\"showbackground\":true,\"ticks\":\"\",\"zerolinecolor\":\"white\",\"gridwidth\":2},\"zaxis\":{\"backgroundcolor\":\"#E5ECF6\",\"gridcolor\":\"white\",\"linecolor\":\"white\",\"showbackground\":true,\"ticks\":\"\",\"zerolinecolor\":\"white\",\"gridwidth\":2}},\"shapedefaults\":{\"line\":{\"color\":\"#2a3f5f\"}},\"annotationdefaults\":{\"arrowcolor\":\"#2a3f5f\",\"arrowhead\":0,\"arrowwidth\":1},\"geo\":{\"bgcolor\":\"white\",\"landcolor\":\"#E5ECF6\",\"subunitcolor\":\"white\",\"showland\":true,\"showlakes\":true,\"lakecolor\":\"white\"},\"title\":{\"x\":0.05},\"mapbox\":{\"style\":\"light\"}}},\"xaxis\":{\"anchor\":\"y\",\"domain\":[0.0,1.0],\"title\":{\"text\":\"gender\"},\"categoryorder\":\"category ascending\"},\"yaxis\":{\"anchor\":\"x\",\"domain\":[0.0,1.0],\"title\":{\"text\":\"avg of math score\"}},\"legend\":{\"title\":{\"text\":\"race\\u002fethnicity\"},\"tracegroupgap\":0},\"title\":{\"text\":\"Average Math Scores\"},\"barmode\":\"group\"},                        {\"responsive\": true}                    ).then(function(){\n",
              "                            \n",
              "var gd = document.getElementById('a05f54fb-02b6-46d2-ac52-f07e63374e86');\n",
              "var x = new MutationObserver(function (mutations, observer) {{\n",
              "        var display = window.getComputedStyle(gd).display;\n",
              "        if (!display || display === 'none') {{\n",
              "            console.log([gd, 'removed!']);\n",
              "            Plotly.purge(gd);\n",
              "            observer.disconnect();\n",
              "        }}\n",
              "}});\n",
              "\n",
              "// Listen for the removal of the full notebook cells\n",
              "var notebookContainer = gd.closest('#notebook-container');\n",
              "if (notebookContainer) {{\n",
              "    x.observe(notebookContainer, {childList: true});\n",
              "}}\n",
              "\n",
              "// Listen for the clearing of the current output cell\n",
              "var outputEl = gd.closest('.output');\n",
              "if (outputEl) {{\n",
              "    x.observe(outputEl, {childList: true});\n",
              "}}\n",
              "\n",
              "                        })                };                            </script>        </div>\n",
              "</body>\n",
              "</html>"
            ]
          },
          "metadata": {}
        },
        {
          "output_type": "display_data",
          "data": {
            "text/html": [
              "<html>\n",
              "<head><meta charset=\"utf-8\" /></head>\n",
              "<body>\n",
              "    <div>            <script src=\"https://cdnjs.cloudflare.com/ajax/libs/mathjax/2.7.5/MathJax.js?config=TeX-AMS-MML_SVG\"></script><script type=\"text/javascript\">if (window.MathJax && window.MathJax.Hub && window.MathJax.Hub.Config) {window.MathJax.Hub.Config({SVG: {font: \"STIX-Web\"}});}</script>                <script type=\"text/javascript\">window.PlotlyConfig = {MathJaxConfig: 'local'};</script>\n",
              "        <script charset=\"utf-8\" src=\"https://cdn.plot.ly/plotly-2.24.1.min.js\"></script>                <div id=\"3aa05457-a9ca-4f66-8dbf-f5a2c0c0472c\" class=\"plotly-graph-div\" style=\"height:525px; width:100%;\"></div>            <script type=\"text/javascript\">                                    window.PLOTLYENV=window.PLOTLYENV || {};                                    if (document.getElementById(\"3aa05457-a9ca-4f66-8dbf-f5a2c0c0472c\")) {                    Plotly.newPlot(                        \"3aa05457-a9ca-4f66-8dbf-f5a2c0c0472c\",                        [{\"alignmentgroup\":\"True\",\"bingroup\":\"x\",\"histfunc\":\"avg\",\"hovertemplate\":\"race\\u002fethnicity=group A\\u003cbr\\u003egender=%{x}\\u003cbr\\u003eavg of reading score=%{y}\\u003cextra\\u003e\\u003c\\u002fextra\\u003e\",\"legendgroup\":\"group A\",\"marker\":{\"color\":\"#636efa\",\"pattern\":{\"shape\":\"\"}},\"name\":\"group A\",\"offsetgroup\":\"group A\",\"orientation\":\"v\",\"showlegend\":true,\"x\":[\"female\",\"male\",\"male\",\"male\",\"female\",\"male\",\"male\",\"male\",\"female\",\"female\",\"female\",\"male\",\"female\",\"female\",\"female\",\"male\",\"female\",\"male\",\"male\",\"male\",\"male\",\"male\",\"male\",\"male\",\"female\",\"female\",\"male\",\"female\",\"female\",\"male\",\"male\",\"male\",\"female\",\"female\",\"female\",\"male\",\"female\",\"male\",\"female\",\"male\",\"male\",\"male\",\"female\",\"male\",\"male\",\"female\",\"female\",\"male\",\"female\",\"male\",\"male\",\"male\",\"male\",\"male\",\"female\",\"male\",\"male\",\"female\",\"male\",\"male\",\"male\",\"female\",\"female\",\"female\",\"female\",\"male\",\"female\",\"female\",\"male\",\"male\",\"male\",\"male\",\"male\",\"female\",\"male\",\"female\",\"male\",\"male\",\"male\",\"male\",\"female\",\"female\",\"male\",\"male\",\"female\",\"male\",\"male\",\"female\",\"male\"],\"xaxis\":\"x\",\"y\":[79,81,57,45,67,72,58,57,70,65,80,72,53,49,48,47,72,49,63,31,82,84,52,54,59,66,74,85,43,72,59,96,45,73,93,51,59,74,87,62,64,62,73,46,43,64,60,67,68,51,55,96,67,41,63,78,53,50,39,61,67,57,90,100,65,43,83,84,92,67,23,68,78,88,50,82,70,47,58,58,58,70,61,60,85,82,60,51,73],\"yaxis\":\"y\",\"type\":\"histogram\"},{\"alignmentgroup\":\"True\",\"bingroup\":\"x\",\"histfunc\":\"avg\",\"hovertemplate\":\"race\\u002fethnicity=group B\\u003cbr\\u003egender=%{x}\\u003cbr\\u003eavg of reading score=%{y}\\u003cextra\\u003e\\u003c\\u002fextra\\u003e\",\"legendgroup\":\"group B\",\"marker\":{\"color\":\"#EF553B\",\"pattern\":{\"shape\":\"\"}},\"name\":\"group B\",\"offsetgroup\":\"group B\",\"orientation\":\"v\",\"showlegend\":true,\"x\":[\"female\",\"male\",\"female\",\"female\",\"male\",\"male\",\"female\",\"female\",\"male\",\"male\",\"female\",\"male\",\"female\",\"male\",\"male\",\"female\",\"female\",\"male\",\"female\",\"male\",\"female\",\"male\",\"female\",\"female\",\"female\",\"female\",\"female\",\"male\",\"female\",\"female\",\"male\",\"female\",\"female\",\"female\",\"female\",\"female\",\"male\",\"male\",\"female\",\"female\",\"male\",\"female\",\"female\",\"female\",\"male\",\"male\",\"female\",\"female\",\"female\",\"male\",\"male\",\"male\",\"female\",\"male\",\"male\",\"female\",\"male\",\"female\",\"female\",\"female\",\"female\",\"female\",\"female\",\"female\",\"female\",\"male\",\"female\",\"male\",\"female\",\"male\",\"female\",\"male\",\"male\",\"male\",\"female\",\"male\",\"female\",\"male\",\"female\",\"female\",\"female\",\"male\",\"female\",\"male\",\"female\",\"female\",\"male\",\"male\",\"female\",\"male\",\"male\",\"female\",\"male\",\"male\",\"female\",\"female\",\"male\",\"male\",\"female\",\"female\",\"female\",\"male\",\"female\",\"female\",\"male\",\"female\",\"female\",\"female\",\"male\",\"female\",\"male\",\"female\",\"female\",\"male\",\"male\",\"male\",\"male\",\"female\",\"female\",\"male\",\"female\",\"male\",\"male\",\"female\",\"female\",\"male\",\"female\",\"female\",\"female\",\"female\",\"male\",\"male\",\"male\",\"male\",\"male\",\"female\",\"male\",\"male\",\"male\",\"female\",\"female\",\"male\",\"female\",\"male\",\"female\",\"female\",\"male\",\"female\",\"female\",\"male\",\"female\",\"male\",\"female\",\"female\",\"male\",\"female\",\"male\",\"female\",\"female\",\"male\",\"female\",\"male\",\"male\",\"male\",\"male\",\"female\",\"male\",\"male\",\"male\",\"female\",\"female\",\"female\",\"male\",\"male\",\"male\",\"female\",\"female\",\"female\",\"male\",\"female\",\"male\",\"male\",\"female\",\"female\",\"female\",\"female\",\"male\",\"male\",\"male\",\"female\"],\"xaxis\":\"x\",\"y\":[64,77,69,67,53,48,52,38,71,96,54,58,83,64,62,70,61,54,24,65,76,62,72,58,58,83,38,39,62,52,67,85,80,72,51,90,65,77,97,61,59,82,62,87,63,56,69,64,65,41,60,67,53,89,54,75,43,49,95,81,61,81,83,32,95,46,60,83,79,52,70,84,48,85,65,53,84,78,86,68,85,45,95,82,64,76,50,44,82,54,66,86,68,73,78,90,85,29,64,65,97,82,82,76,50,66,68,55,57,46,71,76,71,77,76,62,78,86,73,52,85,54,86,86,62,84,72,87,72,44,61,49,56,85,42,75,58,84,68,70,70,75,89,54,67,85,66,67,79,55,53,65,81,67,55,80,60,63,81,84,78,56,54,60,65,74,68,69,70,64,72,94,24,65,43,77,56,91,75,90,90,48,63,70,48,70,63,51,43,66],\"yaxis\":\"y\",\"type\":\"histogram\"},{\"alignmentgroup\":\"True\",\"bingroup\":\"x\",\"histfunc\":\"avg\",\"hovertemplate\":\"race\\u002fethnicity=group C\\u003cbr\\u003egender=%{x}\\u003cbr\\u003eavg of reading score=%{y}\\u003cextra\\u003e\\u003c\\u002fextra\\u003e\",\"legendgroup\":\"group C\",\"marker\":{\"color\":\"#00cc96\",\"pattern\":{\"shape\":\"\"}},\"name\":\"group C\",\"offsetgroup\":\"group C\",\"orientation\":\"v\",\"showlegend\":true,\"x\":[\"female\",\"male\",\"male\",\"male\",\"female\",\"male\",\"female\",\"male\",\"female\",\"female\",\"female\",\"female\",\"male\",\"male\",\"female\",\"male\",\"male\",\"female\",\"male\",\"female\",\"female\",\"female\",\"male\",\"male\",\"female\",\"female\",\"female\",\"male\",\"female\",\"male\",\"female\",\"female\",\"male\",\"male\",\"male\",\"male\",\"male\",\"male\",\"male\",\"female\",\"female\",\"female\",\"female\",\"female\",\"male\",\"male\",\"female\",\"female\",\"male\",\"female\",\"male\",\"male\",\"female\",\"male\",\"male\",\"male\",\"female\",\"male\",\"male\",\"male\",\"female\",\"female\",\"female\",\"female\",\"male\",\"male\",\"female\",\"male\",\"male\",\"female\",\"female\",\"female\",\"male\",\"female\",\"male\",\"female\",\"female\",\"female\",\"female\",\"female\",\"female\",\"female\",\"male\",\"male\",\"male\",\"male\",\"female\",\"male\",\"male\",\"female\",\"female\",\"male\",\"male\",\"male\",\"female\",\"male\",\"female\",\"male\",\"female\",\"female\",\"female\",\"male\",\"male\",\"female\",\"male\",\"female\",\"male\",\"male\",\"male\",\"female\",\"female\",\"female\",\"female\",\"female\",\"female\",\"female\",\"female\",\"female\",\"male\",\"female\",\"female\",\"female\",\"male\",\"female\",\"female\",\"male\",\"female\",\"male\",\"male\",\"female\",\"male\",\"female\",\"male\",\"female\",\"female\",\"male\",\"male\",\"female\",\"female\",\"male\",\"female\",\"female\",\"male\",\"male\",\"female\",\"male\",\"male\",\"male\",\"female\",\"female\",\"female\",\"female\",\"female\",\"male\",\"female\",\"male\",\"male\",\"male\",\"female\",\"female\",\"female\",\"female\",\"female\",\"male\",\"male\",\"female\",\"female\",\"female\",\"female\",\"female\",\"female\",\"male\",\"female\",\"female\",\"female\",\"female\",\"male\",\"male\",\"female\",\"male\",\"female\",\"male\",\"female\",\"male\",\"male\",\"female\",\"female\",\"female\",\"male\",\"male\",\"female\",\"female\",\"male\",\"male\",\"female\",\"female\",\"female\",\"female\",\"female\",\"female\",\"male\",\"male\",\"female\",\"male\",\"female\",\"male\",\"female\",\"male\",\"female\",\"female\",\"male\",\"male\",\"female\",\"female\",\"female\",\"female\",\"male\",\"female\",\"male\",\"male\",\"female\",\"male\",\"male\",\"male\",\"female\",\"female\",\"male\",\"female\",\"female\",\"female\",\"female\",\"male\",\"male\",\"male\",\"female\",\"male\",\"male\",\"female\",\"female\",\"female\",\"male\",\"female\",\"female\",\"male\",\"male\",\"female\",\"male\",\"female\",\"female\",\"male\",\"male\",\"male\",\"male\",\"female\",\"male\",\"female\",\"female\",\"male\",\"female\",\"female\",\"male\",\"female\",\"male\",\"female\",\"male\",\"female\",\"male\",\"female\",\"male\",\"female\",\"female\",\"female\",\"female\",\"male\",\"female\",\"male\",\"female\",\"female\",\"female\",\"male\",\"male\",\"female\",\"male\",\"female\",\"female\",\"female\",\"female\",\"male\",\"female\",\"female\",\"male\",\"female\",\"male\",\"female\",\"male\",\"female\",\"male\",\"female\",\"female\",\"female\",\"male\",\"female\",\"male\",\"female\",\"female\",\"female\",\"female\",\"female\",\"male\",\"female\",\"male\",\"female\",\"male\",\"male\",\"female\",\"female\",\"male\",\"female\",\"male\"],\"xaxis\":\"x\",\"y\":[75,41,60,64,62,77,78,75,46,94,61,90,56,61,51,70,76,62,64,79,84,67,64,77,84,88,76,51,65,28,72,95,43,72,82,80,61,60,52,77,61,75,64,79,52,68,77,84,58,64,66,72,77,65,69,81,67,37,85,67,81,93,75,64,51,61,73,46,51,80,53,91,67,62,60,72,100,86,89,92,58,68,66,60,58,56,93,66,81,54,66,73,74,53,72,55,91,83,69,53,72,71,63,73,67,72,66,48,66,76,89,66,78,58,71,65,58,55,73,59,82,86,63,81,79,79,50,87,51,75,93,71,49,73,62,78,53,67,56,68,73,81,80,75,74,66,54,75,62,93,64,78,80,74,39,37,100,73,17,72,39,90,76,81,58,92,69,90,40,74,42,77,61,85,59,77,58,81,61,77,60,63,74,78,74,87,44,67,87,74,69,86,86,52,69,78,73,85,84,78,56,66,51,79,88,61,72,81,53,83,45,34,75,83,80,48,72,64,61,67,53,55,74,68,75,86,77,69,92,87,72,49,57,55,76,59,52,90,67,73,78,79,54,70,54,83,60,60,74,72,64,69,55,77,56,73,72,67,64,67,76,84,61,81,67,80,60,74,90,63,82,41,75,57,84,89,62,66,71,44,79,82,84,72,89,95,71,39,76,76,42,64,57,58,48,73,65,100,63,96,66,58,72,84,88,29,75,59,59,77,90,68,84,73,61,69,51,59,78],\"yaxis\":\"y\",\"type\":\"histogram\"},{\"alignmentgroup\":\"True\",\"bingroup\":\"x\",\"histfunc\":\"avg\",\"hovertemplate\":\"race\\u002fethnicity=group D\\u003cbr\\u003egender=%{x}\\u003cbr\\u003eavg of reading score=%{y}\\u003cextra\\u003e\\u003c\\u002fextra\\u003e\",\"legendgroup\":\"group D\",\"marker\":{\"color\":\"#ab63fa\",\"pattern\":{\"shape\":\"\"}},\"name\":\"group D\",\"offsetgroup\":\"group D\",\"orientation\":\"v\",\"showlegend\":true,\"x\":[\"female\",\"male\",\"male\",\"female\",\"male\",\"female\",\"male\",\"male\",\"female\",\"female\",\"female\",\"male\",\"female\",\"female\",\"male\",\"female\",\"male\",\"female\",\"male\",\"male\",\"male\",\"male\",\"male\",\"female\",\"male\",\"female\",\"male\",\"female\",\"female\",\"female\",\"male\",\"male\",\"female\",\"female\",\"male\",\"female\",\"female\",\"female\",\"male\",\"female\",\"male\",\"female\",\"male\",\"female\",\"male\",\"male\",\"male\",\"male\",\"female\",\"male\",\"male\",\"male\",\"male\",\"male\",\"male\",\"female\",\"male\",\"female\",\"male\",\"female\",\"male\",\"male\",\"male\",\"female\",\"female\",\"female\",\"female\",\"female\",\"female\",\"male\",\"female\",\"male\",\"female\",\"male\",\"male\",\"male\",\"female\",\"female\",\"male\",\"male\",\"female\",\"female\",\"male\",\"male\",\"female\",\"male\",\"female\",\"male\",\"female\",\"female\",\"male\",\"female\",\"female\",\"male\",\"male\",\"female\",\"male\",\"female\",\"male\",\"female\",\"female\",\"female\",\"male\",\"male\",\"male\",\"female\",\"male\",\"male\",\"male\",\"female\",\"male\",\"male\",\"male\",\"female\",\"female\",\"male\",\"female\",\"female\",\"male\",\"female\",\"male\",\"female\",\"male\",\"female\",\"female\",\"female\",\"male\",\"male\",\"female\",\"male\",\"male\",\"female\",\"male\",\"male\",\"female\",\"male\",\"female\",\"male\",\"male\",\"female\",\"female\",\"male\",\"female\",\"female\",\"male\",\"male\",\"female\",\"female\",\"male\",\"male\",\"male\",\"male\",\"female\",\"male\",\"male\",\"female\",\"male\",\"female\",\"male\",\"female\",\"male\",\"female\",\"female\",\"male\",\"male\",\"male\",\"male\",\"female\",\"male\",\"female\",\"female\",\"male\",\"female\",\"female\",\"male\",\"male\",\"male\",\"female\",\"female\",\"male\",\"male\",\"female\",\"female\",\"female\",\"male\",\"female\",\"male\",\"female\",\"female\",\"female\",\"female\",\"male\",\"female\",\"male\",\"female\",\"female\",\"male\",\"male\",\"female\",\"male\",\"male\",\"male\",\"male\",\"female\",\"male\",\"female\",\"female\",\"female\",\"male\",\"female\",\"male\",\"female\",\"male\",\"male\",\"male\",\"female\",\"female\",\"female\",\"male\",\"male\",\"female\",\"male\",\"female\",\"male\",\"female\",\"male\",\"female\",\"female\",\"male\",\"female\",\"female\",\"male\",\"male\",\"male\",\"female\",\"male\",\"female\",\"male\",\"male\",\"male\",\"male\",\"male\",\"female\",\"female\",\"female\",\"female\",\"female\",\"male\",\"female\",\"female\",\"male\",\"male\",\"female\",\"female\",\"female\",\"female\",\"female\",\"female\",\"female\",\"female\",\"male\",\"male\"],\"xaxis\":\"x\",\"y\":[92,42,67,53,49,67,52,48,79,78,75,73,70,31,42,76,97,74,81,78,60,89,57,60,48,82,73,81,64,58,77,80,72,83,74,90,86,52,68,60,66,100,75,69,64,50,66,83,68,62,55,79,62,39,73,72,75,82,61,57,61,54,87,74,78,73,63,79,59,64,41,55,71,49,71,49,89,78,58,47,58,74,66,68,75,62,64,59,63,95,82,59,80,80,55,78,37,66,71,97,61,77,57,64,84,77,57,72,63,71,64,52,87,75,60,69,86,79,54,70,71,88,52,74,70,92,78,68,77,66,52,91,70,70,52,70,90,81,57,65,58,71,70,59,58,66,100,86,61,79,75,69,54,63,41,92,82,61,63,100,42,84,61,73,47,84,79,76,54,76,72,78,91,64,81,34,68,72,77,70,74,78,100,65,82,78,46,66,77,58,56,51,89,74,72,86,81,70,100,84,74,73,77,89,59,99,71,86,54,89,66,81,88,66,68,81,58,67,59,74,100,66,71,84,57,72,74,55,62,90,67,57,87,77,34,78,84,59,71,75,42,54,71,65,63,86,65,73,58,84,82,74,97,68,90,95,70,63,82,64,70,57],\"yaxis\":\"y\",\"type\":\"histogram\"},{\"alignmentgroup\":\"True\",\"bingroup\":\"x\",\"histfunc\":\"avg\",\"hovertemplate\":\"race\\u002fethnicity=group E\\u003cbr\\u003egender=%{x}\\u003cbr\\u003eavg of reading score=%{y}\\u003cextra\\u003e\\u003c\\u002fextra\\u003e\",\"legendgroup\":\"group E\",\"marker\":{\"color\":\"#FFA15A\",\"pattern\":{\"shape\":\"\"}},\"name\":\"group E\",\"offsetgroup\":\"group E\",\"orientation\":\"v\",\"showlegend\":true,\"x\":[\"female\",\"female\",\"male\",\"male\",\"female\",\"female\",\"male\",\"male\",\"female\",\"male\",\"male\",\"male\",\"female\",\"female\",\"female\",\"male\",\"female\",\"male\",\"male\",\"female\",\"male\",\"female\",\"female\",\"female\",\"female\",\"female\",\"male\",\"female\",\"female\",\"female\",\"female\",\"female\",\"female\",\"male\",\"male\",\"female\",\"male\",\"male\",\"male\",\"male\",\"male\",\"female\",\"male\",\"female\",\"male\",\"male\",\"female\",\"male\",\"male\",\"male\",\"female\",\"female\",\"male\",\"female\",\"female\",\"female\",\"female\",\"female\",\"female\",\"male\",\"male\",\"male\",\"male\",\"female\",\"female\",\"female\",\"male\",\"female\",\"female\",\"male\",\"female\",\"male\",\"male\",\"male\",\"male\",\"female\",\"male\",\"male\",\"female\",\"male\",\"female\",\"male\",\"male\",\"male\",\"female\",\"male\",\"female\",\"female\",\"male\",\"female\",\"male\",\"male\",\"male\",\"male\",\"male\",\"female\",\"female\",\"female\",\"female\",\"male\",\"female\",\"male\",\"female\",\"female\",\"male\",\"male\",\"female\",\"male\",\"female\",\"male\",\"female\",\"male\",\"male\",\"female\",\"female\",\"male\",\"male\",\"female\",\"male\",\"male\",\"female\",\"female\",\"female\",\"male\",\"female\",\"male\",\"male\",\"female\",\"male\",\"female\",\"male\",\"female\",\"female\",\"male\",\"male\",\"male\",\"female\",\"male\",\"female\",\"male\"],\"xaxis\":\"x\",\"y\":[84,45,60,83,86,76,74,90,73,90,76,51,79,83,93,51,62,74,68,76,73,78,64,85,58,58,76,81,79,76,63,75,70,85,87,49,43,52,77,57,74,76,64,86,87,74,73,76,75,56,100,73,67,85,92,56,62,34,86,84,91,82,67,85,94,45,67,51,99,76,100,56,100,43,87,55,74,81,100,55,56,74,80,55,58,69,74,85,62,100,57,100,56,64,75,72,65,50,99,88,70,64,68,72,63,64,74,45,89,62,70,85,68,100,79,56,84,68,71,73,92,81,95,72,76,73,26,74,81,88,60,92,78,80,83,66,88,61,75,71],\"yaxis\":\"y\",\"type\":\"histogram\"}],                        {\"template\":{\"data\":{\"histogram2dcontour\":[{\"type\":\"histogram2dcontour\",\"colorbar\":{\"outlinewidth\":0,\"ticks\":\"\"},\"colorscale\":[[0.0,\"#0d0887\"],[0.1111111111111111,\"#46039f\"],[0.2222222222222222,\"#7201a8\"],[0.3333333333333333,\"#9c179e\"],[0.4444444444444444,\"#bd3786\"],[0.5555555555555556,\"#d8576b\"],[0.6666666666666666,\"#ed7953\"],[0.7777777777777778,\"#fb9f3a\"],[0.8888888888888888,\"#fdca26\"],[1.0,\"#f0f921\"]]}],\"choropleth\":[{\"type\":\"choropleth\",\"colorbar\":{\"outlinewidth\":0,\"ticks\":\"\"}}],\"histogram2d\":[{\"type\":\"histogram2d\",\"colorbar\":{\"outlinewidth\":0,\"ticks\":\"\"},\"colorscale\":[[0.0,\"#0d0887\"],[0.1111111111111111,\"#46039f\"],[0.2222222222222222,\"#7201a8\"],[0.3333333333333333,\"#9c179e\"],[0.4444444444444444,\"#bd3786\"],[0.5555555555555556,\"#d8576b\"],[0.6666666666666666,\"#ed7953\"],[0.7777777777777778,\"#fb9f3a\"],[0.8888888888888888,\"#fdca26\"],[1.0,\"#f0f921\"]]}],\"heatmap\":[{\"type\":\"heatmap\",\"colorbar\":{\"outlinewidth\":0,\"ticks\":\"\"},\"colorscale\":[[0.0,\"#0d0887\"],[0.1111111111111111,\"#46039f\"],[0.2222222222222222,\"#7201a8\"],[0.3333333333333333,\"#9c179e\"],[0.4444444444444444,\"#bd3786\"],[0.5555555555555556,\"#d8576b\"],[0.6666666666666666,\"#ed7953\"],[0.7777777777777778,\"#fb9f3a\"],[0.8888888888888888,\"#fdca26\"],[1.0,\"#f0f921\"]]}],\"heatmapgl\":[{\"type\":\"heatmapgl\",\"colorbar\":{\"outlinewidth\":0,\"ticks\":\"\"},\"colorscale\":[[0.0,\"#0d0887\"],[0.1111111111111111,\"#46039f\"],[0.2222222222222222,\"#7201a8\"],[0.3333333333333333,\"#9c179e\"],[0.4444444444444444,\"#bd3786\"],[0.5555555555555556,\"#d8576b\"],[0.6666666666666666,\"#ed7953\"],[0.7777777777777778,\"#fb9f3a\"],[0.8888888888888888,\"#fdca26\"],[1.0,\"#f0f921\"]]}],\"contourcarpet\":[{\"type\":\"contourcarpet\",\"colorbar\":{\"outlinewidth\":0,\"ticks\":\"\"}}],\"contour\":[{\"type\":\"contour\",\"colorbar\":{\"outlinewidth\":0,\"ticks\":\"\"},\"colorscale\":[[0.0,\"#0d0887\"],[0.1111111111111111,\"#46039f\"],[0.2222222222222222,\"#7201a8\"],[0.3333333333333333,\"#9c179e\"],[0.4444444444444444,\"#bd3786\"],[0.5555555555555556,\"#d8576b\"],[0.6666666666666666,\"#ed7953\"],[0.7777777777777778,\"#fb9f3a\"],[0.8888888888888888,\"#fdca26\"],[1.0,\"#f0f921\"]]}],\"surface\":[{\"type\":\"surface\",\"colorbar\":{\"outlinewidth\":0,\"ticks\":\"\"},\"colorscale\":[[0.0,\"#0d0887\"],[0.1111111111111111,\"#46039f\"],[0.2222222222222222,\"#7201a8\"],[0.3333333333333333,\"#9c179e\"],[0.4444444444444444,\"#bd3786\"],[0.5555555555555556,\"#d8576b\"],[0.6666666666666666,\"#ed7953\"],[0.7777777777777778,\"#fb9f3a\"],[0.8888888888888888,\"#fdca26\"],[1.0,\"#f0f921\"]]}],\"mesh3d\":[{\"type\":\"mesh3d\",\"colorbar\":{\"outlinewidth\":0,\"ticks\":\"\"}}],\"scatter\":[{\"fillpattern\":{\"fillmode\":\"overlay\",\"size\":10,\"solidity\":0.2},\"type\":\"scatter\"}],\"parcoords\":[{\"type\":\"parcoords\",\"line\":{\"colorbar\":{\"outlinewidth\":0,\"ticks\":\"\"}}}],\"scatterpolargl\":[{\"type\":\"scatterpolargl\",\"marker\":{\"colorbar\":{\"outlinewidth\":0,\"ticks\":\"\"}}}],\"bar\":[{\"error_x\":{\"color\":\"#2a3f5f\"},\"error_y\":{\"color\":\"#2a3f5f\"},\"marker\":{\"line\":{\"color\":\"#E5ECF6\",\"width\":0.5},\"pattern\":{\"fillmode\":\"overlay\",\"size\":10,\"solidity\":0.2}},\"type\":\"bar\"}],\"scattergeo\":[{\"type\":\"scattergeo\",\"marker\":{\"colorbar\":{\"outlinewidth\":0,\"ticks\":\"\"}}}],\"scatterpolar\":[{\"type\":\"scatterpolar\",\"marker\":{\"colorbar\":{\"outlinewidth\":0,\"ticks\":\"\"}}}],\"histogram\":[{\"marker\":{\"pattern\":{\"fillmode\":\"overlay\",\"size\":10,\"solidity\":0.2}},\"type\":\"histogram\"}],\"scattergl\":[{\"type\":\"scattergl\",\"marker\":{\"colorbar\":{\"outlinewidth\":0,\"ticks\":\"\"}}}],\"scatter3d\":[{\"type\":\"scatter3d\",\"line\":{\"colorbar\":{\"outlinewidth\":0,\"ticks\":\"\"}},\"marker\":{\"colorbar\":{\"outlinewidth\":0,\"ticks\":\"\"}}}],\"scattermapbox\":[{\"type\":\"scattermapbox\",\"marker\":{\"colorbar\":{\"outlinewidth\":0,\"ticks\":\"\"}}}],\"scatterternary\":[{\"type\":\"scatterternary\",\"marker\":{\"colorbar\":{\"outlinewidth\":0,\"ticks\":\"\"}}}],\"scattercarpet\":[{\"type\":\"scattercarpet\",\"marker\":{\"colorbar\":{\"outlinewidth\":0,\"ticks\":\"\"}}}],\"carpet\":[{\"aaxis\":{\"endlinecolor\":\"#2a3f5f\",\"gridcolor\":\"white\",\"linecolor\":\"white\",\"minorgridcolor\":\"white\",\"startlinecolor\":\"#2a3f5f\"},\"baxis\":{\"endlinecolor\":\"#2a3f5f\",\"gridcolor\":\"white\",\"linecolor\":\"white\",\"minorgridcolor\":\"white\",\"startlinecolor\":\"#2a3f5f\"},\"type\":\"carpet\"}],\"table\":[{\"cells\":{\"fill\":{\"color\":\"#EBF0F8\"},\"line\":{\"color\":\"white\"}},\"header\":{\"fill\":{\"color\":\"#C8D4E3\"},\"line\":{\"color\":\"white\"}},\"type\":\"table\"}],\"barpolar\":[{\"marker\":{\"line\":{\"color\":\"#E5ECF6\",\"width\":0.5},\"pattern\":{\"fillmode\":\"overlay\",\"size\":10,\"solidity\":0.2}},\"type\":\"barpolar\"}],\"pie\":[{\"automargin\":true,\"type\":\"pie\"}]},\"layout\":{\"autotypenumbers\":\"strict\",\"colorway\":[\"#636efa\",\"#EF553B\",\"#00cc96\",\"#ab63fa\",\"#FFA15A\",\"#19d3f3\",\"#FF6692\",\"#B6E880\",\"#FF97FF\",\"#FECB52\"],\"font\":{\"color\":\"#2a3f5f\"},\"hovermode\":\"closest\",\"hoverlabel\":{\"align\":\"left\"},\"paper_bgcolor\":\"white\",\"plot_bgcolor\":\"#E5ECF6\",\"polar\":{\"bgcolor\":\"#E5ECF6\",\"angularaxis\":{\"gridcolor\":\"white\",\"linecolor\":\"white\",\"ticks\":\"\"},\"radialaxis\":{\"gridcolor\":\"white\",\"linecolor\":\"white\",\"ticks\":\"\"}},\"ternary\":{\"bgcolor\":\"#E5ECF6\",\"aaxis\":{\"gridcolor\":\"white\",\"linecolor\":\"white\",\"ticks\":\"\"},\"baxis\":{\"gridcolor\":\"white\",\"linecolor\":\"white\",\"ticks\":\"\"},\"caxis\":{\"gridcolor\":\"white\",\"linecolor\":\"white\",\"ticks\":\"\"}},\"coloraxis\":{\"colorbar\":{\"outlinewidth\":0,\"ticks\":\"\"}},\"colorscale\":{\"sequential\":[[0.0,\"#0d0887\"],[0.1111111111111111,\"#46039f\"],[0.2222222222222222,\"#7201a8\"],[0.3333333333333333,\"#9c179e\"],[0.4444444444444444,\"#bd3786\"],[0.5555555555555556,\"#d8576b\"],[0.6666666666666666,\"#ed7953\"],[0.7777777777777778,\"#fb9f3a\"],[0.8888888888888888,\"#fdca26\"],[1.0,\"#f0f921\"]],\"sequentialminus\":[[0.0,\"#0d0887\"],[0.1111111111111111,\"#46039f\"],[0.2222222222222222,\"#7201a8\"],[0.3333333333333333,\"#9c179e\"],[0.4444444444444444,\"#bd3786\"],[0.5555555555555556,\"#d8576b\"],[0.6666666666666666,\"#ed7953\"],[0.7777777777777778,\"#fb9f3a\"],[0.8888888888888888,\"#fdca26\"],[1.0,\"#f0f921\"]],\"diverging\":[[0,\"#8e0152\"],[0.1,\"#c51b7d\"],[0.2,\"#de77ae\"],[0.3,\"#f1b6da\"],[0.4,\"#fde0ef\"],[0.5,\"#f7f7f7\"],[0.6,\"#e6f5d0\"],[0.7,\"#b8e186\"],[0.8,\"#7fbc41\"],[0.9,\"#4d9221\"],[1,\"#276419\"]]},\"xaxis\":{\"gridcolor\":\"white\",\"linecolor\":\"white\",\"ticks\":\"\",\"title\":{\"standoff\":15},\"zerolinecolor\":\"white\",\"automargin\":true,\"zerolinewidth\":2},\"yaxis\":{\"gridcolor\":\"white\",\"linecolor\":\"white\",\"ticks\":\"\",\"title\":{\"standoff\":15},\"zerolinecolor\":\"white\",\"automargin\":true,\"zerolinewidth\":2},\"scene\":{\"xaxis\":{\"backgroundcolor\":\"#E5ECF6\",\"gridcolor\":\"white\",\"linecolor\":\"white\",\"showbackground\":true,\"ticks\":\"\",\"zerolinecolor\":\"white\",\"gridwidth\":2},\"yaxis\":{\"backgroundcolor\":\"#E5ECF6\",\"gridcolor\":\"white\",\"linecolor\":\"white\",\"showbackground\":true,\"ticks\":\"\",\"zerolinecolor\":\"white\",\"gridwidth\":2},\"zaxis\":{\"backgroundcolor\":\"#E5ECF6\",\"gridcolor\":\"white\",\"linecolor\":\"white\",\"showbackground\":true,\"ticks\":\"\",\"zerolinecolor\":\"white\",\"gridwidth\":2}},\"shapedefaults\":{\"line\":{\"color\":\"#2a3f5f\"}},\"annotationdefaults\":{\"arrowcolor\":\"#2a3f5f\",\"arrowhead\":0,\"arrowwidth\":1},\"geo\":{\"bgcolor\":\"white\",\"landcolor\":\"#E5ECF6\",\"subunitcolor\":\"white\",\"showland\":true,\"showlakes\":true,\"lakecolor\":\"white\"},\"title\":{\"x\":0.05},\"mapbox\":{\"style\":\"light\"}}},\"xaxis\":{\"anchor\":\"y\",\"domain\":[0.0,1.0],\"title\":{\"text\":\"gender\"},\"categoryorder\":\"category ascending\"},\"yaxis\":{\"anchor\":\"x\",\"domain\":[0.0,1.0],\"title\":{\"text\":\"avg of reading score\"}},\"legend\":{\"title\":{\"text\":\"race\\u002fethnicity\"},\"tracegroupgap\":0},\"title\":{\"text\":\"Average Reading Scores\"},\"barmode\":\"group\"},                        {\"responsive\": true}                    ).then(function(){\n",
              "                            \n",
              "var gd = document.getElementById('3aa05457-a9ca-4f66-8dbf-f5a2c0c0472c');\n",
              "var x = new MutationObserver(function (mutations, observer) {{\n",
              "        var display = window.getComputedStyle(gd).display;\n",
              "        if (!display || display === 'none') {{\n",
              "            console.log([gd, 'removed!']);\n",
              "            Plotly.purge(gd);\n",
              "            observer.disconnect();\n",
              "        }}\n",
              "}});\n",
              "\n",
              "// Listen for the removal of the full notebook cells\n",
              "var notebookContainer = gd.closest('#notebook-container');\n",
              "if (notebookContainer) {{\n",
              "    x.observe(notebookContainer, {childList: true});\n",
              "}}\n",
              "\n",
              "// Listen for the clearing of the current output cell\n",
              "var outputEl = gd.closest('.output');\n",
              "if (outputEl) {{\n",
              "    x.observe(outputEl, {childList: true});\n",
              "}}\n",
              "\n",
              "                        })                };                            </script>        </div>\n",
              "</body>\n",
              "</html>"
            ]
          },
          "metadata": {}
        },
        {
          "output_type": "display_data",
          "data": {
            "text/html": [
              "<html>\n",
              "<head><meta charset=\"utf-8\" /></head>\n",
              "<body>\n",
              "    <div>            <script src=\"https://cdnjs.cloudflare.com/ajax/libs/mathjax/2.7.5/MathJax.js?config=TeX-AMS-MML_SVG\"></script><script type=\"text/javascript\">if (window.MathJax && window.MathJax.Hub && window.MathJax.Hub.Config) {window.MathJax.Hub.Config({SVG: {font: \"STIX-Web\"}});}</script>                <script type=\"text/javascript\">window.PlotlyConfig = {MathJaxConfig: 'local'};</script>\n",
              "        <script charset=\"utf-8\" src=\"https://cdn.plot.ly/plotly-2.24.1.min.js\"></script>                <div id=\"ac2fb5c7-bfa2-4904-ab47-9641ee9c4b14\" class=\"plotly-graph-div\" style=\"height:525px; width:100%;\"></div>            <script type=\"text/javascript\">                                    window.PLOTLYENV=window.PLOTLYENV || {};                                    if (document.getElementById(\"ac2fb5c7-bfa2-4904-ab47-9641ee9c4b14\")) {                    Plotly.newPlot(                        \"ac2fb5c7-bfa2-4904-ab47-9641ee9c4b14\",                        [{\"alignmentgroup\":\"True\",\"bingroup\":\"x\",\"histfunc\":\"avg\",\"hovertemplate\":\"race\\u002fethnicity=group A\\u003cbr\\u003egender=%{x}\\u003cbr\\u003eavg of writing score=%{y}\\u003cextra\\u003e\\u003c\\u002fextra\\u003e\",\"legendgroup\":\"group A\",\"marker\":{\"color\":\"#636efa\",\"pattern\":{\"shape\":\"\"}},\"name\":\"group A\",\"offsetgroup\":\"group A\",\"orientation\":\"v\",\"showlegend\":true,\"x\":[\"female\",\"male\",\"male\",\"male\",\"female\",\"male\",\"male\",\"male\",\"female\",\"female\",\"female\",\"male\",\"female\",\"female\",\"female\",\"male\",\"female\",\"male\",\"male\",\"male\",\"male\",\"male\",\"male\",\"male\",\"female\",\"female\",\"male\",\"female\",\"female\",\"male\",\"male\",\"male\",\"female\",\"female\",\"female\",\"male\",\"female\",\"male\",\"female\",\"male\",\"male\",\"male\",\"female\",\"male\",\"male\",\"female\",\"female\",\"male\",\"female\",\"male\",\"male\",\"male\",\"male\",\"male\",\"female\",\"male\",\"male\",\"female\",\"male\",\"male\",\"male\",\"female\",\"female\",\"female\",\"female\",\"male\",\"female\",\"female\",\"male\",\"male\",\"male\",\"male\",\"male\",\"female\",\"male\",\"female\",\"male\",\"male\",\"male\",\"male\",\"female\",\"female\",\"male\",\"male\",\"female\",\"male\",\"male\",\"female\",\"male\"],\"xaxis\":\"x\",\"y\":[82,74,44,41,73,64,44,53,74,55,76,70,58,51,41,49,70,49,62,36,73,87,46,48,50,65,72,80,43,65,53,86,45,69,93,54,64,64,91,50,62,61,73,43,47,58,57,69,63,52,53,92,68,43,67,81,47,60,34,55,69,56,92,97,62,43,77,82,86,65,19,64,81,85,43,79,66,54,60,62,64,67,61,58,76,82,57,48,74],\"yaxis\":\"y\",\"type\":\"histogram\"},{\"alignmentgroup\":\"True\",\"bingroup\":\"x\",\"histfunc\":\"avg\",\"hovertemplate\":\"race\\u002fethnicity=group B\\u003cbr\\u003egender=%{x}\\u003cbr\\u003eavg of writing score=%{y}\\u003cextra\\u003e\\u003c\\u002fextra\\u003e\",\"legendgroup\":\"group B\",\"marker\":{\"color\":\"#EF553B\",\"pattern\":{\"shape\":\"\"}},\"name\":\"group B\",\"offsetgroup\":\"group B\",\"orientation\":\"v\",\"showlegend\":true,\"x\":[\"female\",\"male\",\"female\",\"female\",\"male\",\"male\",\"female\",\"female\",\"male\",\"male\",\"female\",\"male\",\"female\",\"male\",\"male\",\"female\",\"female\",\"male\",\"female\",\"male\",\"female\",\"male\",\"female\",\"female\",\"female\",\"female\",\"female\",\"male\",\"female\",\"female\",\"male\",\"female\",\"female\",\"female\",\"female\",\"female\",\"male\",\"male\",\"female\",\"female\",\"male\",\"female\",\"female\",\"female\",\"male\",\"male\",\"female\",\"female\",\"female\",\"male\",\"male\",\"male\",\"female\",\"male\",\"male\",\"female\",\"male\",\"female\",\"female\",\"female\",\"female\",\"female\",\"female\",\"female\",\"female\",\"male\",\"female\",\"male\",\"female\",\"male\",\"female\",\"male\",\"male\",\"male\",\"female\",\"male\",\"female\",\"male\",\"female\",\"female\",\"female\",\"male\",\"female\",\"male\",\"female\",\"female\",\"male\",\"male\",\"female\",\"male\",\"male\",\"female\",\"male\",\"male\",\"female\",\"female\",\"male\",\"male\",\"female\",\"female\",\"female\",\"male\",\"female\",\"female\",\"male\",\"female\",\"female\",\"female\",\"male\",\"female\",\"male\",\"female\",\"female\",\"male\",\"male\",\"male\",\"male\",\"female\",\"female\",\"male\",\"female\",\"male\",\"male\",\"female\",\"female\",\"male\",\"female\",\"female\",\"female\",\"female\",\"male\",\"male\",\"male\",\"male\",\"male\",\"female\",\"male\",\"male\",\"male\",\"female\",\"female\",\"male\",\"female\",\"male\",\"female\",\"female\",\"male\",\"female\",\"female\",\"male\",\"female\",\"male\",\"female\",\"female\",\"male\",\"female\",\"male\",\"female\",\"female\",\"male\",\"female\",\"male\",\"male\",\"male\",\"male\",\"female\",\"male\",\"male\",\"male\",\"female\",\"female\",\"female\",\"male\",\"male\",\"male\",\"female\",\"female\",\"female\",\"male\",\"female\",\"male\",\"male\",\"female\",\"female\",\"female\",\"female\",\"male\",\"male\",\"male\",\"female\"],\"xaxis\":\"x\",\"y\":[68,70,68,72,57,49,54,27,68,91,58,56,78,61,60,62,55,57,23,66,78,60,70,55,65,76,32,34,60,51,67,87,77,72,44,91,60,77,94,62,54,80,63,92,57,57,68,66,65,38,60,67,55,92,55,70,39,50,93,76,66,73,78,28,92,42,50,75,76,45,66,75,51,86,61,52,80,74,87,61,82,45,86,80,72,70,52,47,78,41,62,92,67,72,79,84,73,27,62,69,96,82,89,74,45,73,66,51,53,46,69,80,67,76,64,60,81,83,71,51,82,53,87,83,59,78,68,82,70,36,57,46,57,76,41,78,47,78,65,70,68,76,82,51,63,87,68,67,79,47,55,60,79,72,54,81,65,64,81,86,79,56,45,57,68,81,60,68,63,66,74,87,15,63,41,80,58,89,70,88,88,47,65,74,50,70,56,46,45,73],\"yaxis\":\"y\",\"type\":\"histogram\"},{\"alignmentgroup\":\"True\",\"bingroup\":\"x\",\"histfunc\":\"avg\",\"hovertemplate\":\"race\\u002fethnicity=group C\\u003cbr\\u003egender=%{x}\\u003cbr\\u003eavg of writing score=%{y}\\u003cextra\\u003e\\u003c\\u002fextra\\u003e\",\"legendgroup\":\"group C\",\"marker\":{\"color\":\"#00cc96\",\"pattern\":{\"shape\":\"\"}},\"name\":\"group C\",\"offsetgroup\":\"group C\",\"orientation\":\"v\",\"showlegend\":true,\"x\":[\"female\",\"male\",\"male\",\"male\",\"female\",\"male\",\"female\",\"male\",\"female\",\"female\",\"female\",\"female\",\"male\",\"male\",\"female\",\"male\",\"male\",\"female\",\"male\",\"female\",\"female\",\"female\",\"male\",\"male\",\"female\",\"female\",\"female\",\"male\",\"female\",\"male\",\"female\",\"female\",\"male\",\"male\",\"male\",\"male\",\"male\",\"male\",\"male\",\"female\",\"female\",\"female\",\"female\",\"female\",\"male\",\"male\",\"female\",\"female\",\"male\",\"female\",\"male\",\"male\",\"female\",\"male\",\"male\",\"male\",\"female\",\"male\",\"male\",\"male\",\"female\",\"female\",\"female\",\"female\",\"male\",\"male\",\"female\",\"male\",\"male\",\"female\",\"female\",\"female\",\"male\",\"female\",\"male\",\"female\",\"female\",\"female\",\"female\",\"female\",\"female\",\"female\",\"male\",\"male\",\"male\",\"male\",\"female\",\"male\",\"male\",\"female\",\"female\",\"male\",\"male\",\"male\",\"female\",\"male\",\"female\",\"male\",\"female\",\"female\",\"female\",\"male\",\"male\",\"female\",\"male\",\"female\",\"male\",\"male\",\"male\",\"female\",\"female\",\"female\",\"female\",\"female\",\"female\",\"female\",\"female\",\"female\",\"male\",\"female\",\"female\",\"female\",\"male\",\"female\",\"female\",\"male\",\"female\",\"male\",\"male\",\"female\",\"male\",\"female\",\"male\",\"female\",\"female\",\"male\",\"male\",\"female\",\"female\",\"male\",\"female\",\"female\",\"male\",\"male\",\"female\",\"male\",\"male\",\"male\",\"female\",\"female\",\"female\",\"female\",\"female\",\"male\",\"female\",\"male\",\"male\",\"male\",\"female\",\"female\",\"female\",\"female\",\"female\",\"male\",\"male\",\"female\",\"female\",\"female\",\"female\",\"female\",\"female\",\"male\",\"female\",\"female\",\"female\",\"female\",\"male\",\"male\",\"female\",\"male\",\"female\",\"male\",\"female\",\"male\",\"male\",\"female\",\"female\",\"female\",\"male\",\"male\",\"female\",\"female\",\"male\",\"male\",\"female\",\"female\",\"female\",\"female\",\"female\",\"female\",\"male\",\"male\",\"female\",\"male\",\"female\",\"male\",\"female\",\"male\",\"female\",\"female\",\"male\",\"male\",\"female\",\"female\",\"female\",\"female\",\"male\",\"female\",\"male\",\"male\",\"female\",\"male\",\"male\",\"male\",\"female\",\"female\",\"male\",\"female\",\"female\",\"female\",\"female\",\"male\",\"male\",\"male\",\"female\",\"male\",\"male\",\"female\",\"female\",\"female\",\"male\",\"female\",\"female\",\"male\",\"male\",\"female\",\"male\",\"female\",\"female\",\"male\",\"male\",\"male\",\"male\",\"female\",\"male\",\"female\",\"female\",\"male\",\"female\",\"female\",\"male\",\"female\",\"male\",\"female\",\"male\",\"female\",\"male\",\"female\",\"male\",\"female\",\"female\",\"female\",\"female\",\"male\",\"female\",\"male\",\"female\",\"female\",\"female\",\"male\",\"male\",\"female\",\"male\",\"female\",\"female\",\"female\",\"female\",\"male\",\"female\",\"female\",\"male\",\"female\",\"male\",\"female\",\"male\",\"female\",\"male\",\"female\",\"female\",\"female\",\"male\",\"female\",\"male\",\"female\",\"female\",\"female\",\"female\",\"female\",\"male\",\"female\",\"male\",\"female\",\"male\",\"male\",\"female\",\"female\",\"male\",\"female\",\"male\"],\"xaxis\":\"x\",\"y\":[72,42,53,66,61,69,74,77,43,95,52,94,51,62,54,68,71,60,66,81,85,70,55,77,86,87,80,56,62,27,71,94,42,59,84,80,54,61,49,80,66,83,66,84,44,75,77,81,51,75,65,78,73,61,65,80,69,35,85,65,80,95,70,74,43,52,63,50,51,75,53,87,67,66,57,68,100,80,95,93,58,70,66,58,53,55,93,61,71,67,67,67,68,49,79,48,88,86,76,46,79,65,54,70,58,70,64,53,59,78,88,69,80,57,70,61,52,57,68,62,76,89,61,81,77,78,51,90,51,81,91,80,42,68,53,73,52,62,51,66,68,84,73,74,77,72,56,69,64,93,67,67,83,70,33,40,95,72,10,76,33,91,68,82,55,89,65,88,44,77,39,74,58,85,62,74,49,79,62,75,60,60,70,75,61,91,43,72,81,76,74,84,90,54,69,79,71,90,84,76,47,63,55,71,90,54,74,71,43,90,50,36,77,88,82,52,69,70,60,64,53,49,71,61,74,84,73,67,87,85,64,41,56,53,75,50,49,85,73,73,77,72,53,65,52,83,58,59,81,69,68,68,55,79,53,72,74,64,57,64,65,82,54,79,66,71,55,74,92,56,77,43,78,59,87,86,56,64,65,42,84,90,82,70,94,94,76,37,76,74,46,65,54,61,42,68,58,99,62,99,59,54,62,82,85,30,82,66,52,74,91,72,90,68,54,75,52,51,72],\"yaxis\":\"y\",\"type\":\"histogram\"},{\"alignmentgroup\":\"True\",\"bingroup\":\"x\",\"histfunc\":\"avg\",\"hovertemplate\":\"race\\u002fethnicity=group D\\u003cbr\\u003egender=%{x}\\u003cbr\\u003eavg of writing score=%{y}\\u003cextra\\u003e\\u003c\\u002fextra\\u003e\",\"legendgroup\":\"group D\",\"marker\":{\"color\":\"#ab63fa\",\"pattern\":{\"shape\":\"\"}},\"name\":\"group D\",\"offsetgroup\":\"group D\",\"orientation\":\"v\",\"showlegend\":true,\"x\":[\"female\",\"male\",\"male\",\"female\",\"male\",\"female\",\"male\",\"male\",\"female\",\"female\",\"female\",\"male\",\"female\",\"female\",\"male\",\"female\",\"male\",\"female\",\"male\",\"male\",\"male\",\"male\",\"male\",\"female\",\"male\",\"female\",\"male\",\"female\",\"female\",\"female\",\"male\",\"male\",\"female\",\"female\",\"male\",\"female\",\"female\",\"female\",\"male\",\"female\",\"male\",\"female\",\"male\",\"female\",\"male\",\"male\",\"male\",\"male\",\"female\",\"male\",\"male\",\"male\",\"male\",\"male\",\"male\",\"female\",\"male\",\"female\",\"male\",\"female\",\"male\",\"male\",\"male\",\"female\",\"female\",\"female\",\"female\",\"female\",\"female\",\"male\",\"female\",\"male\",\"female\",\"male\",\"male\",\"male\",\"female\",\"female\",\"male\",\"male\",\"female\",\"female\",\"male\",\"male\",\"female\",\"male\",\"female\",\"male\",\"female\",\"female\",\"male\",\"female\",\"female\",\"male\",\"male\",\"female\",\"male\",\"female\",\"male\",\"female\",\"female\",\"female\",\"male\",\"male\",\"male\",\"female\",\"male\",\"male\",\"male\",\"female\",\"male\",\"male\",\"male\",\"female\",\"female\",\"male\",\"female\",\"female\",\"male\",\"female\",\"male\",\"female\",\"male\",\"female\",\"female\",\"female\",\"male\",\"male\",\"female\",\"male\",\"male\",\"female\",\"male\",\"male\",\"female\",\"male\",\"female\",\"male\",\"male\",\"female\",\"female\",\"male\",\"female\",\"female\",\"male\",\"male\",\"female\",\"female\",\"male\",\"male\",\"male\",\"male\",\"female\",\"male\",\"male\",\"female\",\"male\",\"female\",\"male\",\"female\",\"male\",\"female\",\"female\",\"male\",\"male\",\"male\",\"male\",\"female\",\"male\",\"female\",\"female\",\"male\",\"female\",\"female\",\"male\",\"male\",\"male\",\"female\",\"female\",\"male\",\"male\",\"female\",\"female\",\"female\",\"male\",\"female\",\"male\",\"female\",\"female\",\"female\",\"female\",\"male\",\"female\",\"male\",\"female\",\"female\",\"male\",\"male\",\"female\",\"male\",\"male\",\"male\",\"male\",\"female\",\"male\",\"female\",\"female\",\"female\",\"male\",\"female\",\"male\",\"female\",\"male\",\"male\",\"male\",\"female\",\"female\",\"female\",\"male\",\"male\",\"female\",\"male\",\"female\",\"male\",\"female\",\"male\",\"female\",\"female\",\"male\",\"female\",\"female\",\"male\",\"male\",\"male\",\"female\",\"male\",\"female\",\"male\",\"male\",\"male\",\"male\",\"male\",\"female\",\"female\",\"female\",\"female\",\"female\",\"male\",\"female\",\"female\",\"male\",\"male\",\"female\",\"female\",\"female\",\"female\",\"female\",\"female\",\"female\",\"female\",\"male\",\"male\"],\"xaxis\":\"x\",\"y\":[95,41,61,58,47,61,42,46,84,78,81,70,71,38,38,83,99,74,84,83,63,90,51,63,46,81,78,83,59,67,80,75,71,83,69,88,81,55,66,74,67,100,77,70,66,54,68,79,74,62,52,79,64,34,68,77,78,91,68,52,69,52,75,76,77,78,73,82,54,66,47,63,78,52,73,52,84,78,57,56,59,72,62,72,79,64,70,58,66,89,80,56,80,72,49,76,37,62,78,96,68,73,46,70,80,78,50,77,63,69,67,43,85,80,58,63,98,81,53,65,80,90,51,73,75,88,75,67,77,61,52,89,69,76,46,69,93,86,58,61,54,73,72,65,52,66,100,81,60,74,71,68,53,59,48,84,88,58,58,99,38,84,71,74,44,89,75,74,63,76,80,73,96,67,85,36,69,74,83,70,75,79,100,74,84,82,44,70,73,60,57,48,86,69,74,83,84,67,100,82,66,67,74,98,54,100,74,82,48,89,60,80,82,73,64,77,64,62,62,74,100,60,74,85,56,67,75,60,61,89,62,62,79,77,32,78,91,59,73,69,48,50,75,64,59,86,63,72,54,85,74,72,96,77,82,100,73,61,79,64,75,56],\"yaxis\":\"y\",\"type\":\"histogram\"},{\"alignmentgroup\":\"True\",\"bingroup\":\"x\",\"histfunc\":\"avg\",\"hovertemplate\":\"race\\u002fethnicity=group E\\u003cbr\\u003egender=%{x}\\u003cbr\\u003eavg of writing score=%{y}\\u003cextra\\u003e\\u003c\\u002fextra\\u003e\",\"legendgroup\":\"group E\",\"marker\":{\"color\":\"#FFA15A\",\"pattern\":{\"shape\":\"\"}},\"name\":\"group E\",\"offsetgroup\":\"group E\",\"orientation\":\"v\",\"showlegend\":true,\"x\":[\"female\",\"female\",\"male\",\"male\",\"female\",\"female\",\"male\",\"male\",\"female\",\"male\",\"male\",\"male\",\"female\",\"female\",\"female\",\"male\",\"female\",\"male\",\"male\",\"female\",\"male\",\"female\",\"female\",\"female\",\"female\",\"female\",\"male\",\"female\",\"female\",\"female\",\"female\",\"female\",\"female\",\"male\",\"male\",\"female\",\"male\",\"male\",\"male\",\"male\",\"male\",\"female\",\"male\",\"female\",\"male\",\"male\",\"female\",\"male\",\"male\",\"male\",\"female\",\"female\",\"male\",\"female\",\"female\",\"female\",\"female\",\"female\",\"female\",\"male\",\"male\",\"male\",\"male\",\"female\",\"female\",\"female\",\"male\",\"female\",\"female\",\"male\",\"female\",\"male\",\"male\",\"male\",\"male\",\"female\",\"male\",\"male\",\"female\",\"male\",\"female\",\"male\",\"male\",\"male\",\"female\",\"male\",\"female\",\"female\",\"male\",\"female\",\"male\",\"male\",\"male\",\"male\",\"male\",\"female\",\"female\",\"female\",\"female\",\"male\",\"female\",\"male\",\"female\",\"female\",\"male\",\"male\",\"female\",\"male\",\"female\",\"male\",\"female\",\"male\",\"male\",\"female\",\"female\",\"male\",\"male\",\"female\",\"male\",\"male\",\"female\",\"female\",\"female\",\"male\",\"female\",\"male\",\"male\",\"female\",\"male\",\"female\",\"male\",\"female\",\"female\",\"male\",\"male\",\"male\",\"female\",\"male\",\"female\",\"male\"],\"xaxis\":\"x\",\"y\":[81,38,54,78,87,70,72,83,70,82,74,43,80,83,90,57,68,71,64,73,80,80,62,85,57,62,74,82,80,78,75,77,70,84,78,45,41,51,71,52,76,75,57,79,81,68,75,77,68,53,95,70,59,91,85,54,69,38,88,76,81,88,61,93,95,40,67,54,100,65,100,52,93,44,82,54,72,79,100,56,54,70,73,48,57,68,72,86,62,100,62,100,51,70,76,70,69,47,95,78,66,63,68,65,64,60,73,40,92,66,76,82,72,100,77,54,77,73,67,69,97,71,92,65,67,71,22,78,75,85,59,91,76,76,80,71,94,58,73,72],\"yaxis\":\"y\",\"type\":\"histogram\"}],                        {\"template\":{\"data\":{\"histogram2dcontour\":[{\"type\":\"histogram2dcontour\",\"colorbar\":{\"outlinewidth\":0,\"ticks\":\"\"},\"colorscale\":[[0.0,\"#0d0887\"],[0.1111111111111111,\"#46039f\"],[0.2222222222222222,\"#7201a8\"],[0.3333333333333333,\"#9c179e\"],[0.4444444444444444,\"#bd3786\"],[0.5555555555555556,\"#d8576b\"],[0.6666666666666666,\"#ed7953\"],[0.7777777777777778,\"#fb9f3a\"],[0.8888888888888888,\"#fdca26\"],[1.0,\"#f0f921\"]]}],\"choropleth\":[{\"type\":\"choropleth\",\"colorbar\":{\"outlinewidth\":0,\"ticks\":\"\"}}],\"histogram2d\":[{\"type\":\"histogram2d\",\"colorbar\":{\"outlinewidth\":0,\"ticks\":\"\"},\"colorscale\":[[0.0,\"#0d0887\"],[0.1111111111111111,\"#46039f\"],[0.2222222222222222,\"#7201a8\"],[0.3333333333333333,\"#9c179e\"],[0.4444444444444444,\"#bd3786\"],[0.5555555555555556,\"#d8576b\"],[0.6666666666666666,\"#ed7953\"],[0.7777777777777778,\"#fb9f3a\"],[0.8888888888888888,\"#fdca26\"],[1.0,\"#f0f921\"]]}],\"heatmap\":[{\"type\":\"heatmap\",\"colorbar\":{\"outlinewidth\":0,\"ticks\":\"\"},\"colorscale\":[[0.0,\"#0d0887\"],[0.1111111111111111,\"#46039f\"],[0.2222222222222222,\"#7201a8\"],[0.3333333333333333,\"#9c179e\"],[0.4444444444444444,\"#bd3786\"],[0.5555555555555556,\"#d8576b\"],[0.6666666666666666,\"#ed7953\"],[0.7777777777777778,\"#fb9f3a\"],[0.8888888888888888,\"#fdca26\"],[1.0,\"#f0f921\"]]}],\"heatmapgl\":[{\"type\":\"heatmapgl\",\"colorbar\":{\"outlinewidth\":0,\"ticks\":\"\"},\"colorscale\":[[0.0,\"#0d0887\"],[0.1111111111111111,\"#46039f\"],[0.2222222222222222,\"#7201a8\"],[0.3333333333333333,\"#9c179e\"],[0.4444444444444444,\"#bd3786\"],[0.5555555555555556,\"#d8576b\"],[0.6666666666666666,\"#ed7953\"],[0.7777777777777778,\"#fb9f3a\"],[0.8888888888888888,\"#fdca26\"],[1.0,\"#f0f921\"]]}],\"contourcarpet\":[{\"type\":\"contourcarpet\",\"colorbar\":{\"outlinewidth\":0,\"ticks\":\"\"}}],\"contour\":[{\"type\":\"contour\",\"colorbar\":{\"outlinewidth\":0,\"ticks\":\"\"},\"colorscale\":[[0.0,\"#0d0887\"],[0.1111111111111111,\"#46039f\"],[0.2222222222222222,\"#7201a8\"],[0.3333333333333333,\"#9c179e\"],[0.4444444444444444,\"#bd3786\"],[0.5555555555555556,\"#d8576b\"],[0.6666666666666666,\"#ed7953\"],[0.7777777777777778,\"#fb9f3a\"],[0.8888888888888888,\"#fdca26\"],[1.0,\"#f0f921\"]]}],\"surface\":[{\"type\":\"surface\",\"colorbar\":{\"outlinewidth\":0,\"ticks\":\"\"},\"colorscale\":[[0.0,\"#0d0887\"],[0.1111111111111111,\"#46039f\"],[0.2222222222222222,\"#7201a8\"],[0.3333333333333333,\"#9c179e\"],[0.4444444444444444,\"#bd3786\"],[0.5555555555555556,\"#d8576b\"],[0.6666666666666666,\"#ed7953\"],[0.7777777777777778,\"#fb9f3a\"],[0.8888888888888888,\"#fdca26\"],[1.0,\"#f0f921\"]]}],\"mesh3d\":[{\"type\":\"mesh3d\",\"colorbar\":{\"outlinewidth\":0,\"ticks\":\"\"}}],\"scatter\":[{\"fillpattern\":{\"fillmode\":\"overlay\",\"size\":10,\"solidity\":0.2},\"type\":\"scatter\"}],\"parcoords\":[{\"type\":\"parcoords\",\"line\":{\"colorbar\":{\"outlinewidth\":0,\"ticks\":\"\"}}}],\"scatterpolargl\":[{\"type\":\"scatterpolargl\",\"marker\":{\"colorbar\":{\"outlinewidth\":0,\"ticks\":\"\"}}}],\"bar\":[{\"error_x\":{\"color\":\"#2a3f5f\"},\"error_y\":{\"color\":\"#2a3f5f\"},\"marker\":{\"line\":{\"color\":\"#E5ECF6\",\"width\":0.5},\"pattern\":{\"fillmode\":\"overlay\",\"size\":10,\"solidity\":0.2}},\"type\":\"bar\"}],\"scattergeo\":[{\"type\":\"scattergeo\",\"marker\":{\"colorbar\":{\"outlinewidth\":0,\"ticks\":\"\"}}}],\"scatterpolar\":[{\"type\":\"scatterpolar\",\"marker\":{\"colorbar\":{\"outlinewidth\":0,\"ticks\":\"\"}}}],\"histogram\":[{\"marker\":{\"pattern\":{\"fillmode\":\"overlay\",\"size\":10,\"solidity\":0.2}},\"type\":\"histogram\"}],\"scattergl\":[{\"type\":\"scattergl\",\"marker\":{\"colorbar\":{\"outlinewidth\":0,\"ticks\":\"\"}}}],\"scatter3d\":[{\"type\":\"scatter3d\",\"line\":{\"colorbar\":{\"outlinewidth\":0,\"ticks\":\"\"}},\"marker\":{\"colorbar\":{\"outlinewidth\":0,\"ticks\":\"\"}}}],\"scattermapbox\":[{\"type\":\"scattermapbox\",\"marker\":{\"colorbar\":{\"outlinewidth\":0,\"ticks\":\"\"}}}],\"scatterternary\":[{\"type\":\"scatterternary\",\"marker\":{\"colorbar\":{\"outlinewidth\":0,\"ticks\":\"\"}}}],\"scattercarpet\":[{\"type\":\"scattercarpet\",\"marker\":{\"colorbar\":{\"outlinewidth\":0,\"ticks\":\"\"}}}],\"carpet\":[{\"aaxis\":{\"endlinecolor\":\"#2a3f5f\",\"gridcolor\":\"white\",\"linecolor\":\"white\",\"minorgridcolor\":\"white\",\"startlinecolor\":\"#2a3f5f\"},\"baxis\":{\"endlinecolor\":\"#2a3f5f\",\"gridcolor\":\"white\",\"linecolor\":\"white\",\"minorgridcolor\":\"white\",\"startlinecolor\":\"#2a3f5f\"},\"type\":\"carpet\"}],\"table\":[{\"cells\":{\"fill\":{\"color\":\"#EBF0F8\"},\"line\":{\"color\":\"white\"}},\"header\":{\"fill\":{\"color\":\"#C8D4E3\"},\"line\":{\"color\":\"white\"}},\"type\":\"table\"}],\"barpolar\":[{\"marker\":{\"line\":{\"color\":\"#E5ECF6\",\"width\":0.5},\"pattern\":{\"fillmode\":\"overlay\",\"size\":10,\"solidity\":0.2}},\"type\":\"barpolar\"}],\"pie\":[{\"automargin\":true,\"type\":\"pie\"}]},\"layout\":{\"autotypenumbers\":\"strict\",\"colorway\":[\"#636efa\",\"#EF553B\",\"#00cc96\",\"#ab63fa\",\"#FFA15A\",\"#19d3f3\",\"#FF6692\",\"#B6E880\",\"#FF97FF\",\"#FECB52\"],\"font\":{\"color\":\"#2a3f5f\"},\"hovermode\":\"closest\",\"hoverlabel\":{\"align\":\"left\"},\"paper_bgcolor\":\"white\",\"plot_bgcolor\":\"#E5ECF6\",\"polar\":{\"bgcolor\":\"#E5ECF6\",\"angularaxis\":{\"gridcolor\":\"white\",\"linecolor\":\"white\",\"ticks\":\"\"},\"radialaxis\":{\"gridcolor\":\"white\",\"linecolor\":\"white\",\"ticks\":\"\"}},\"ternary\":{\"bgcolor\":\"#E5ECF6\",\"aaxis\":{\"gridcolor\":\"white\",\"linecolor\":\"white\",\"ticks\":\"\"},\"baxis\":{\"gridcolor\":\"white\",\"linecolor\":\"white\",\"ticks\":\"\"},\"caxis\":{\"gridcolor\":\"white\",\"linecolor\":\"white\",\"ticks\":\"\"}},\"coloraxis\":{\"colorbar\":{\"outlinewidth\":0,\"ticks\":\"\"}},\"colorscale\":{\"sequential\":[[0.0,\"#0d0887\"],[0.1111111111111111,\"#46039f\"],[0.2222222222222222,\"#7201a8\"],[0.3333333333333333,\"#9c179e\"],[0.4444444444444444,\"#bd3786\"],[0.5555555555555556,\"#d8576b\"],[0.6666666666666666,\"#ed7953\"],[0.7777777777777778,\"#fb9f3a\"],[0.8888888888888888,\"#fdca26\"],[1.0,\"#f0f921\"]],\"sequentialminus\":[[0.0,\"#0d0887\"],[0.1111111111111111,\"#46039f\"],[0.2222222222222222,\"#7201a8\"],[0.3333333333333333,\"#9c179e\"],[0.4444444444444444,\"#bd3786\"],[0.5555555555555556,\"#d8576b\"],[0.6666666666666666,\"#ed7953\"],[0.7777777777777778,\"#fb9f3a\"],[0.8888888888888888,\"#fdca26\"],[1.0,\"#f0f921\"]],\"diverging\":[[0,\"#8e0152\"],[0.1,\"#c51b7d\"],[0.2,\"#de77ae\"],[0.3,\"#f1b6da\"],[0.4,\"#fde0ef\"],[0.5,\"#f7f7f7\"],[0.6,\"#e6f5d0\"],[0.7,\"#b8e186\"],[0.8,\"#7fbc41\"],[0.9,\"#4d9221\"],[1,\"#276419\"]]},\"xaxis\":{\"gridcolor\":\"white\",\"linecolor\":\"white\",\"ticks\":\"\",\"title\":{\"standoff\":15},\"zerolinecolor\":\"white\",\"automargin\":true,\"zerolinewidth\":2},\"yaxis\":{\"gridcolor\":\"white\",\"linecolor\":\"white\",\"ticks\":\"\",\"title\":{\"standoff\":15},\"zerolinecolor\":\"white\",\"automargin\":true,\"zerolinewidth\":2},\"scene\":{\"xaxis\":{\"backgroundcolor\":\"#E5ECF6\",\"gridcolor\":\"white\",\"linecolor\":\"white\",\"showbackground\":true,\"ticks\":\"\",\"zerolinecolor\":\"white\",\"gridwidth\":2},\"yaxis\":{\"backgroundcolor\":\"#E5ECF6\",\"gridcolor\":\"white\",\"linecolor\":\"white\",\"showbackground\":true,\"ticks\":\"\",\"zerolinecolor\":\"white\",\"gridwidth\":2},\"zaxis\":{\"backgroundcolor\":\"#E5ECF6\",\"gridcolor\":\"white\",\"linecolor\":\"white\",\"showbackground\":true,\"ticks\":\"\",\"zerolinecolor\":\"white\",\"gridwidth\":2}},\"shapedefaults\":{\"line\":{\"color\":\"#2a3f5f\"}},\"annotationdefaults\":{\"arrowcolor\":\"#2a3f5f\",\"arrowhead\":0,\"arrowwidth\":1},\"geo\":{\"bgcolor\":\"white\",\"landcolor\":\"#E5ECF6\",\"subunitcolor\":\"white\",\"showland\":true,\"showlakes\":true,\"lakecolor\":\"white\"},\"title\":{\"x\":0.05},\"mapbox\":{\"style\":\"light\"}}},\"xaxis\":{\"anchor\":\"y\",\"domain\":[0.0,1.0],\"title\":{\"text\":\"gender\"},\"categoryorder\":\"category ascending\"},\"yaxis\":{\"anchor\":\"x\",\"domain\":[0.0,1.0],\"title\":{\"text\":\"avg of writing score\"}},\"legend\":{\"title\":{\"text\":\"race\\u002fethnicity\"},\"tracegroupgap\":0},\"title\":{\"text\":\"Average Writing Scores\"},\"barmode\":\"group\"},                        {\"responsive\": true}                    ).then(function(){\n",
              "                            \n",
              "var gd = document.getElementById('ac2fb5c7-bfa2-4904-ab47-9641ee9c4b14');\n",
              "var x = new MutationObserver(function (mutations, observer) {{\n",
              "        var display = window.getComputedStyle(gd).display;\n",
              "        if (!display || display === 'none') {{\n",
              "            console.log([gd, 'removed!']);\n",
              "            Plotly.purge(gd);\n",
              "            observer.disconnect();\n",
              "        }}\n",
              "}});\n",
              "\n",
              "// Listen for the removal of the full notebook cells\n",
              "var notebookContainer = gd.closest('#notebook-container');\n",
              "if (notebookContainer) {{\n",
              "    x.observe(notebookContainer, {childList: true});\n",
              "}}\n",
              "\n",
              "// Listen for the clearing of the current output cell\n",
              "var outputEl = gd.closest('.output');\n",
              "if (outputEl) {{\n",
              "    x.observe(outputEl, {childList: true});\n",
              "}}\n",
              "\n",
              "                        })                };                            </script>        </div>\n",
              "</body>\n",
              "</html>"
            ]
          },
          "metadata": {}
        }
      ]
    },
    {
      "cell_type": "markdown",
      "source": [
        "This shows us a much more detailed breakdown of the scores (again, averages, but only one level of average).  It shows that, slightly, generally female samples have higher reading and writing scores, but male samples have higher math scores.  It also shows us that the average scores of the ethnicity groups aren't quite as clear-cut as the average scores histogram may imply.  Particularly, it shows that while group A has a higher overall average score, group B is actually higher than it in each individual category."
      ],
      "metadata": {
        "id": "RUGqVA8Wvfh8"
      }
    },
    {
      "cell_type": "markdown",
      "source": [
        "Now let's do one more!  It's probably time to involve the other categories, and parental level of education is much more interesting (to me).  Also we've done a lot of histograms, so let's do something different."
      ],
      "metadata": {
        "id": "NEZNFsO7v3Hv"
      }
    },
    {
      "cell_type": "code",
      "source": [
        "# First, let's get all the different parental levels\n",
        "data_clean['parental level of education'].unique()"
      ],
      "metadata": {
        "colab": {
          "base_uri": "https://localhost:8080/"
        },
        "id": "tmjNTe2gwDYO",
        "outputId": "05ffbe37-9244-4561-8a79-47252ae7f950"
      },
      "execution_count": 36,
      "outputs": [
        {
          "output_type": "execute_result",
          "data": {
            "text/plain": [
              "array(['some college', 'some high school', \"associate's degree\",\n",
              "       'high school', \"bachelor's degree\", \"master's degree\"],\n",
              "      dtype=object)"
            ]
          },
          "metadata": {},
          "execution_count": 36
        }
      ]
    },
    {
      "cell_type": "code",
      "source": [
        "# Then, let's manually make an array ordering these in ascending order, because pandas/plotly aren't smart enough to know that \"master's degree\" is > \"some high school\"\n",
        "parental_degrees = ['some high school', 'high school', 'some college', \"associate's degree\", \"bachelor's degree\", \"master's degree\"]\n",
        "\n",
        "# Now that we have these in some order, we can do a line plot!\n",
        "#Define the line figure\n",
        "line_fig = px.line(data_clean, x=parental_degrees, y=data_clean.groupby('parental level of education')['average score'].mean(), title='Average Scores vs Parental Level of Education')\n",
        "\n",
        "# So that we don't forget these later\n",
        "fig_list.update({'line_fig':line_fig})\n",
        "\n",
        "# Show the figure\n",
        "line_fig.show()"
      ],
      "metadata": {
        "colab": {
          "base_uri": "https://localhost:8080/",
          "height": 542
        },
        "id": "6YLL6ax0wZqC",
        "outputId": "2e6dcf17-a1c0-4ae4-a14b-7127de067163"
      },
      "execution_count": 37,
      "outputs": [
        {
          "output_type": "display_data",
          "data": {
            "text/html": [
              "<html>\n",
              "<head><meta charset=\"utf-8\" /></head>\n",
              "<body>\n",
              "    <div>            <script src=\"https://cdnjs.cloudflare.com/ajax/libs/mathjax/2.7.5/MathJax.js?config=TeX-AMS-MML_SVG\"></script><script type=\"text/javascript\">if (window.MathJax && window.MathJax.Hub && window.MathJax.Hub.Config) {window.MathJax.Hub.Config({SVG: {font: \"STIX-Web\"}});}</script>                <script type=\"text/javascript\">window.PlotlyConfig = {MathJaxConfig: 'local'};</script>\n",
              "        <script charset=\"utf-8\" src=\"https://cdn.plot.ly/plotly-2.24.1.min.js\"></script>                <div id=\"7bb0e47b-f597-4f70-86cd-a8fdfebec5b8\" class=\"plotly-graph-div\" style=\"height:525px; width:100%;\"></div>            <script type=\"text/javascript\">                                    window.PLOTLYENV=window.PLOTLYENV || {};                                    if (document.getElementById(\"7bb0e47b-f597-4f70-86cd-a8fdfebec5b8\")) {                    Plotly.newPlot(                        \"7bb0e47b-f597-4f70-86cd-a8fdfebec5b8\",                        [{\"hovertemplate\":\"x=%{x}\\u003cbr\\u003ey=%{y}\\u003cextra\\u003e\\u003c\\u002fextra\\u003e\",\"legendgroup\":\"\",\"line\":{\"color\":\"#636efa\",\"dash\":\"solid\"},\"marker\":{\"symbol\":\"circle\"},\"mode\":\"lines\",\"name\":\"\",\"orientation\":\"v\",\"showlegend\":false,\"x\":[\"some high school\",\"high school\",\"some college\",\"associate's degree\",\"bachelor's degree\",\"master's degree\"],\"xaxis\":\"x\",\"y\":[69.56906906906907,71.92372881355932,63.0969387755102,73.59887005649718,68.476401179941,65.10800744878958],\"yaxis\":\"y\",\"type\":\"scatter\"}],                        {\"template\":{\"data\":{\"histogram2dcontour\":[{\"type\":\"histogram2dcontour\",\"colorbar\":{\"outlinewidth\":0,\"ticks\":\"\"},\"colorscale\":[[0.0,\"#0d0887\"],[0.1111111111111111,\"#46039f\"],[0.2222222222222222,\"#7201a8\"],[0.3333333333333333,\"#9c179e\"],[0.4444444444444444,\"#bd3786\"],[0.5555555555555556,\"#d8576b\"],[0.6666666666666666,\"#ed7953\"],[0.7777777777777778,\"#fb9f3a\"],[0.8888888888888888,\"#fdca26\"],[1.0,\"#f0f921\"]]}],\"choropleth\":[{\"type\":\"choropleth\",\"colorbar\":{\"outlinewidth\":0,\"ticks\":\"\"}}],\"histogram2d\":[{\"type\":\"histogram2d\",\"colorbar\":{\"outlinewidth\":0,\"ticks\":\"\"},\"colorscale\":[[0.0,\"#0d0887\"],[0.1111111111111111,\"#46039f\"],[0.2222222222222222,\"#7201a8\"],[0.3333333333333333,\"#9c179e\"],[0.4444444444444444,\"#bd3786\"],[0.5555555555555556,\"#d8576b\"],[0.6666666666666666,\"#ed7953\"],[0.7777777777777778,\"#fb9f3a\"],[0.8888888888888888,\"#fdca26\"],[1.0,\"#f0f921\"]]}],\"heatmap\":[{\"type\":\"heatmap\",\"colorbar\":{\"outlinewidth\":0,\"ticks\":\"\"},\"colorscale\":[[0.0,\"#0d0887\"],[0.1111111111111111,\"#46039f\"],[0.2222222222222222,\"#7201a8\"],[0.3333333333333333,\"#9c179e\"],[0.4444444444444444,\"#bd3786\"],[0.5555555555555556,\"#d8576b\"],[0.6666666666666666,\"#ed7953\"],[0.7777777777777778,\"#fb9f3a\"],[0.8888888888888888,\"#fdca26\"],[1.0,\"#f0f921\"]]}],\"heatmapgl\":[{\"type\":\"heatmapgl\",\"colorbar\":{\"outlinewidth\":0,\"ticks\":\"\"},\"colorscale\":[[0.0,\"#0d0887\"],[0.1111111111111111,\"#46039f\"],[0.2222222222222222,\"#7201a8\"],[0.3333333333333333,\"#9c179e\"],[0.4444444444444444,\"#bd3786\"],[0.5555555555555556,\"#d8576b\"],[0.6666666666666666,\"#ed7953\"],[0.7777777777777778,\"#fb9f3a\"],[0.8888888888888888,\"#fdca26\"],[1.0,\"#f0f921\"]]}],\"contourcarpet\":[{\"type\":\"contourcarpet\",\"colorbar\":{\"outlinewidth\":0,\"ticks\":\"\"}}],\"contour\":[{\"type\":\"contour\",\"colorbar\":{\"outlinewidth\":0,\"ticks\":\"\"},\"colorscale\":[[0.0,\"#0d0887\"],[0.1111111111111111,\"#46039f\"],[0.2222222222222222,\"#7201a8\"],[0.3333333333333333,\"#9c179e\"],[0.4444444444444444,\"#bd3786\"],[0.5555555555555556,\"#d8576b\"],[0.6666666666666666,\"#ed7953\"],[0.7777777777777778,\"#fb9f3a\"],[0.8888888888888888,\"#fdca26\"],[1.0,\"#f0f921\"]]}],\"surface\":[{\"type\":\"surface\",\"colorbar\":{\"outlinewidth\":0,\"ticks\":\"\"},\"colorscale\":[[0.0,\"#0d0887\"],[0.1111111111111111,\"#46039f\"],[0.2222222222222222,\"#7201a8\"],[0.3333333333333333,\"#9c179e\"],[0.4444444444444444,\"#bd3786\"],[0.5555555555555556,\"#d8576b\"],[0.6666666666666666,\"#ed7953\"],[0.7777777777777778,\"#fb9f3a\"],[0.8888888888888888,\"#fdca26\"],[1.0,\"#f0f921\"]]}],\"mesh3d\":[{\"type\":\"mesh3d\",\"colorbar\":{\"outlinewidth\":0,\"ticks\":\"\"}}],\"scatter\":[{\"fillpattern\":{\"fillmode\":\"overlay\",\"size\":10,\"solidity\":0.2},\"type\":\"scatter\"}],\"parcoords\":[{\"type\":\"parcoords\",\"line\":{\"colorbar\":{\"outlinewidth\":0,\"ticks\":\"\"}}}],\"scatterpolargl\":[{\"type\":\"scatterpolargl\",\"marker\":{\"colorbar\":{\"outlinewidth\":0,\"ticks\":\"\"}}}],\"bar\":[{\"error_x\":{\"color\":\"#2a3f5f\"},\"error_y\":{\"color\":\"#2a3f5f\"},\"marker\":{\"line\":{\"color\":\"#E5ECF6\",\"width\":0.5},\"pattern\":{\"fillmode\":\"overlay\",\"size\":10,\"solidity\":0.2}},\"type\":\"bar\"}],\"scattergeo\":[{\"type\":\"scattergeo\",\"marker\":{\"colorbar\":{\"outlinewidth\":0,\"ticks\":\"\"}}}],\"scatterpolar\":[{\"type\":\"scatterpolar\",\"marker\":{\"colorbar\":{\"outlinewidth\":0,\"ticks\":\"\"}}}],\"histogram\":[{\"marker\":{\"pattern\":{\"fillmode\":\"overlay\",\"size\":10,\"solidity\":0.2}},\"type\":\"histogram\"}],\"scattergl\":[{\"type\":\"scattergl\",\"marker\":{\"colorbar\":{\"outlinewidth\":0,\"ticks\":\"\"}}}],\"scatter3d\":[{\"type\":\"scatter3d\",\"line\":{\"colorbar\":{\"outlinewidth\":0,\"ticks\":\"\"}},\"marker\":{\"colorbar\":{\"outlinewidth\":0,\"ticks\":\"\"}}}],\"scattermapbox\":[{\"type\":\"scattermapbox\",\"marker\":{\"colorbar\":{\"outlinewidth\":0,\"ticks\":\"\"}}}],\"scatterternary\":[{\"type\":\"scatterternary\",\"marker\":{\"colorbar\":{\"outlinewidth\":0,\"ticks\":\"\"}}}],\"scattercarpet\":[{\"type\":\"scattercarpet\",\"marker\":{\"colorbar\":{\"outlinewidth\":0,\"ticks\":\"\"}}}],\"carpet\":[{\"aaxis\":{\"endlinecolor\":\"#2a3f5f\",\"gridcolor\":\"white\",\"linecolor\":\"white\",\"minorgridcolor\":\"white\",\"startlinecolor\":\"#2a3f5f\"},\"baxis\":{\"endlinecolor\":\"#2a3f5f\",\"gridcolor\":\"white\",\"linecolor\":\"white\",\"minorgridcolor\":\"white\",\"startlinecolor\":\"#2a3f5f\"},\"type\":\"carpet\"}],\"table\":[{\"cells\":{\"fill\":{\"color\":\"#EBF0F8\"},\"line\":{\"color\":\"white\"}},\"header\":{\"fill\":{\"color\":\"#C8D4E3\"},\"line\":{\"color\":\"white\"}},\"type\":\"table\"}],\"barpolar\":[{\"marker\":{\"line\":{\"color\":\"#E5ECF6\",\"width\":0.5},\"pattern\":{\"fillmode\":\"overlay\",\"size\":10,\"solidity\":0.2}},\"type\":\"barpolar\"}],\"pie\":[{\"automargin\":true,\"type\":\"pie\"}]},\"layout\":{\"autotypenumbers\":\"strict\",\"colorway\":[\"#636efa\",\"#EF553B\",\"#00cc96\",\"#ab63fa\",\"#FFA15A\",\"#19d3f3\",\"#FF6692\",\"#B6E880\",\"#FF97FF\",\"#FECB52\"],\"font\":{\"color\":\"#2a3f5f\"},\"hovermode\":\"closest\",\"hoverlabel\":{\"align\":\"left\"},\"paper_bgcolor\":\"white\",\"plot_bgcolor\":\"#E5ECF6\",\"polar\":{\"bgcolor\":\"#E5ECF6\",\"angularaxis\":{\"gridcolor\":\"white\",\"linecolor\":\"white\",\"ticks\":\"\"},\"radialaxis\":{\"gridcolor\":\"white\",\"linecolor\":\"white\",\"ticks\":\"\"}},\"ternary\":{\"bgcolor\":\"#E5ECF6\",\"aaxis\":{\"gridcolor\":\"white\",\"linecolor\":\"white\",\"ticks\":\"\"},\"baxis\":{\"gridcolor\":\"white\",\"linecolor\":\"white\",\"ticks\":\"\"},\"caxis\":{\"gridcolor\":\"white\",\"linecolor\":\"white\",\"ticks\":\"\"}},\"coloraxis\":{\"colorbar\":{\"outlinewidth\":0,\"ticks\":\"\"}},\"colorscale\":{\"sequential\":[[0.0,\"#0d0887\"],[0.1111111111111111,\"#46039f\"],[0.2222222222222222,\"#7201a8\"],[0.3333333333333333,\"#9c179e\"],[0.4444444444444444,\"#bd3786\"],[0.5555555555555556,\"#d8576b\"],[0.6666666666666666,\"#ed7953\"],[0.7777777777777778,\"#fb9f3a\"],[0.8888888888888888,\"#fdca26\"],[1.0,\"#f0f921\"]],\"sequentialminus\":[[0.0,\"#0d0887\"],[0.1111111111111111,\"#46039f\"],[0.2222222222222222,\"#7201a8\"],[0.3333333333333333,\"#9c179e\"],[0.4444444444444444,\"#bd3786\"],[0.5555555555555556,\"#d8576b\"],[0.6666666666666666,\"#ed7953\"],[0.7777777777777778,\"#fb9f3a\"],[0.8888888888888888,\"#fdca26\"],[1.0,\"#f0f921\"]],\"diverging\":[[0,\"#8e0152\"],[0.1,\"#c51b7d\"],[0.2,\"#de77ae\"],[0.3,\"#f1b6da\"],[0.4,\"#fde0ef\"],[0.5,\"#f7f7f7\"],[0.6,\"#e6f5d0\"],[0.7,\"#b8e186\"],[0.8,\"#7fbc41\"],[0.9,\"#4d9221\"],[1,\"#276419\"]]},\"xaxis\":{\"gridcolor\":\"white\",\"linecolor\":\"white\",\"ticks\":\"\",\"title\":{\"standoff\":15},\"zerolinecolor\":\"white\",\"automargin\":true,\"zerolinewidth\":2},\"yaxis\":{\"gridcolor\":\"white\",\"linecolor\":\"white\",\"ticks\":\"\",\"title\":{\"standoff\":15},\"zerolinecolor\":\"white\",\"automargin\":true,\"zerolinewidth\":2},\"scene\":{\"xaxis\":{\"backgroundcolor\":\"#E5ECF6\",\"gridcolor\":\"white\",\"linecolor\":\"white\",\"showbackground\":true,\"ticks\":\"\",\"zerolinecolor\":\"white\",\"gridwidth\":2},\"yaxis\":{\"backgroundcolor\":\"#E5ECF6\",\"gridcolor\":\"white\",\"linecolor\":\"white\",\"showbackground\":true,\"ticks\":\"\",\"zerolinecolor\":\"white\",\"gridwidth\":2},\"zaxis\":{\"backgroundcolor\":\"#E5ECF6\",\"gridcolor\":\"white\",\"linecolor\":\"white\",\"showbackground\":true,\"ticks\":\"\",\"zerolinecolor\":\"white\",\"gridwidth\":2}},\"shapedefaults\":{\"line\":{\"color\":\"#2a3f5f\"}},\"annotationdefaults\":{\"arrowcolor\":\"#2a3f5f\",\"arrowhead\":0,\"arrowwidth\":1},\"geo\":{\"bgcolor\":\"white\",\"landcolor\":\"#E5ECF6\",\"subunitcolor\":\"white\",\"showland\":true,\"showlakes\":true,\"lakecolor\":\"white\"},\"title\":{\"x\":0.05},\"mapbox\":{\"style\":\"light\"}}},\"xaxis\":{\"anchor\":\"y\",\"domain\":[0.0,1.0],\"title\":{\"text\":\"x\"}},\"yaxis\":{\"anchor\":\"x\",\"domain\":[0.0,1.0],\"title\":{\"text\":\"y\"}},\"legend\":{\"tracegroupgap\":0},\"title\":{\"text\":\"Average Scores vs Parental Level of Education\"}},                        {\"responsive\": true}                    ).then(function(){\n",
              "                            \n",
              "var gd = document.getElementById('7bb0e47b-f597-4f70-86cd-a8fdfebec5b8');\n",
              "var x = new MutationObserver(function (mutations, observer) {{\n",
              "        var display = window.getComputedStyle(gd).display;\n",
              "        if (!display || display === 'none') {{\n",
              "            console.log([gd, 'removed!']);\n",
              "            Plotly.purge(gd);\n",
              "            observer.disconnect();\n",
              "        }}\n",
              "}});\n",
              "\n",
              "// Listen for the removal of the full notebook cells\n",
              "var notebookContainer = gd.closest('#notebook-container');\n",
              "if (notebookContainer) {{\n",
              "    x.observe(notebookContainer, {childList: true});\n",
              "}}\n",
              "\n",
              "// Listen for the clearing of the current output cell\n",
              "var outputEl = gd.closest('.output');\n",
              "if (outputEl) {{\n",
              "    x.observe(outputEl, {childList: true});\n",
              "}}\n",
              "\n",
              "                        })                };                            </script>        </div>\n",
              "</body>\n",
              "</html>"
            ]
          },
          "metadata": {}
        }
      ]
    },
    {
      "cell_type": "markdown",
      "source": [
        "While again keeping in mind that \"average score\" is being averaged (so an average of an average), this shows us something unexpected, at least to me.  I (silently) hypothesized that students whose parents had higher levels of education would have higher scores, but that's not necessarily the case!  Now, where this dataset comes from is not given in the assignment nor the dataset itself, so I do not know if this dataset shows college scores, high school scores, etc. This is important for reaching any conclustion.  For example, it's always possible that a parent that has had too high of an education is not able help with simpler concepts presented in high school, or something similar."
      ],
      "metadata": {
        "id": "jMLAK6vZx970"
      }
    },
    {
      "cell_type": "markdown",
      "source": [
        "Unrelated: I lied.  One more!  Boxplot!"
      ],
      "metadata": {
        "id": "5ka4ucVwzNWJ"
      }
    },
    {
      "cell_type": "code",
      "source": [
        "# Define the boxplot\n",
        "box_fig = px.box(data_clean, x=\"test preparation course\", y=\"average score\")\n",
        "\n",
        "box_fig.update_xaxes(categoryorder='category ascending') # Update the category order\n",
        "\n",
        "# So that we don't forget these later\n",
        "fig_list.update({'box_fig':box_fig})\n",
        "\n",
        "# Show the boxplot\n",
        "box_fig.show()"
      ],
      "metadata": {
        "colab": {
          "base_uri": "https://localhost:8080/",
          "height": 542
        },
        "id": "iYcOgE_EzQT9",
        "outputId": "1fd7777f-2144-42fb-86dd-5c657fba355e"
      },
      "execution_count": 39,
      "outputs": [
        {
          "output_type": "display_data",
          "data": {
            "text/html": [
              "<html>\n",
              "<head><meta charset=\"utf-8\" /></head>\n",
              "<body>\n",
              "    <div>            <script src=\"https://cdnjs.cloudflare.com/ajax/libs/mathjax/2.7.5/MathJax.js?config=TeX-AMS-MML_SVG\"></script><script type=\"text/javascript\">if (window.MathJax && window.MathJax.Hub && window.MathJax.Hub.Config) {window.MathJax.Hub.Config({SVG: {font: \"STIX-Web\"}});}</script>                <script type=\"text/javascript\">window.PlotlyConfig = {MathJaxConfig: 'local'};</script>\n",
              "        <script charset=\"utf-8\" src=\"https://cdn.plot.ly/plotly-2.24.1.min.js\"></script>                <div id=\"15217e1c-c03c-48a0-9686-0f15ee6871c3\" class=\"plotly-graph-div\" style=\"height:525px; width:100%;\"></div>            <script type=\"text/javascript\">                                    window.PLOTLYENV=window.PLOTLYENV || {};                                    if (document.getElementById(\"15217e1c-c03c-48a0-9686-0f15ee6871c3\")) {                    Plotly.newPlot(                        \"15217e1c-c03c-48a0-9686-0f15ee6871c3\",                        [{\"alignmentgroup\":\"True\",\"hovertemplate\":\"test preparation course=%{x}\\u003cbr\\u003eaverage score=%{y}\\u003cextra\\u003e\\u003c\\u002fextra\\u003e\",\"legendgroup\":\"\",\"marker\":{\"color\":\"#636efa\"},\"name\":\"\",\"notched\":false,\"offsetgroup\":\"\",\"orientation\":\"v\",\"showlegend\":false,\"x\":[\"completed\",\"completed\",\"completed\",\"none\",\"none\",\"none\",\"none\",\"completed\",\"none\",\"completed\",\"none\",\"completed\",\"none\",\"none\",\"none\",\"completed\",\"completed\",\"none\",\"completed\",\"none\",\"none\",\"none\",\"completed\",\"none\",\"none\",\"completed\",\"none\",\"none\",\"none\",\"none\",\"none\",\"completed\",\"completed\",\"completed\",\"none\",\"completed\",\"none\",\"completed\",\"completed\",\"completed\",\"none\",\"completed\",\"completed\",\"none\",\"completed\",\"none\",\"none\",\"none\",\"completed\",\"none\",\"none\",\"completed\",\"none\",\"none\",\"completed\",\"none\",\"completed\",\"completed\",\"none\",\"none\",\"none\",\"none\",\"none\",\"none\",\"none\",\"none\",\"none\",\"none\",\"completed\",\"none\",\"completed\",\"none\",\"none\",\"completed\",\"none\",\"none\",\"none\",\"none\",\"none\",\"none\",\"completed\",\"none\",\"none\",\"none\",\"completed\",\"none\",\"none\",\"none\",\"none\",\"none\",\"completed\",\"none\",\"none\",\"completed\",\"none\",\"none\",\"none\",\"none\",\"completed\",\"none\",\"completed\",\"none\",\"completed\",\"none\",\"none\",\"none\",\"completed\",\"none\",\"completed\",\"completed\",\"none\",\"none\",\"none\",\"completed\",\"none\",\"none\",\"none\",\"none\",\"none\",\"completed\",\"completed\",\"completed\",\"none\",\"none\",\"none\",\"none\",\"completed\",\"none\",\"none\",\"none\",\"none\",\"completed\",\"none\",\"none\",\"none\",\"none\",\"none\",\"none\",\"none\",\"completed\",\"completed\",\"none\",\"completed\",\"none\",\"completed\",\"completed\",\"none\",\"completed\",\"none\",\"completed\",\"none\",\"none\",\"none\",\"none\",\"completed\",\"completed\",\"none\",\"none\",\"completed\",\"completed\",\"none\",\"none\",\"none\",\"completed\",\"none\",\"none\",\"none\",\"none\",\"none\",\"none\",\"none\",\"completed\",\"completed\",\"none\",\"completed\",\"completed\",\"completed\",\"completed\",\"completed\",\"completed\",\"none\",\"completed\",\"none\",\"completed\",\"none\",\"none\",\"none\",\"none\",\"none\",\"none\",\"none\",\"none\",\"completed\",\"none\",\"none\",\"completed\",\"none\",\"completed\",\"none\",\"completed\",\"completed\",\"completed\",\"none\",\"none\",\"none\",\"completed\",\"none\",\"none\",\"completed\",\"none\",\"completed\",\"none\",\"none\",\"completed\",\"completed\",\"none\",\"none\",\"none\",\"completed\",\"completed\",\"completed\",\"none\",\"completed\",\"none\",\"completed\",\"completed\",\"completed\",\"none\",\"none\",\"none\",\"completed\",\"none\",\"none\",\"none\",\"none\",\"none\",\"completed\",\"none\",\"none\",\"none\",\"completed\",\"completed\",\"none\",\"none\",\"none\",\"none\",\"none\",\"none\",\"none\",\"completed\",\"completed\",\"completed\",\"completed\",\"completed\",\"none\",\"none\",\"none\",\"completed\",\"none\",\"none\",\"none\",\"none\",\"none\",\"none\",\"completed\",\"none\",\"completed\",\"none\",\"none\",\"none\",\"none\",\"none\",\"none\",\"none\",\"none\",\"completed\",\"none\",\"none\",\"completed\",\"none\",\"none\",\"none\",\"completed\",\"none\",\"completed\",\"none\",\"none\",\"none\",\"none\",\"none\",\"none\",\"none\",\"completed\",\"none\",\"none\",\"none\",\"completed\",\"none\",\"none\",\"completed\",\"completed\",\"none\",\"completed\",\"none\",\"none\",\"none\",\"none\",\"completed\",\"none\",\"none\",\"none\",\"none\",\"none\",\"none\",\"none\",\"none\",\"none\",\"none\",\"completed\",\"none\",\"none\",\"none\",\"completed\",\"completed\",\"none\",\"none\",\"none\",\"completed\",\"completed\",\"completed\",\"none\",\"completed\",\"none\",\"completed\",\"none\",\"none\",\"completed\",\"completed\",\"none\",\"completed\",\"completed\",\"none\",\"none\",\"completed\",\"completed\",\"completed\",\"none\",\"completed\",\"none\",\"none\",\"none\",\"none\",\"none\",\"none\",\"none\",\"none\",\"completed\",\"none\",\"none\",\"completed\",\"completed\",\"none\",\"none\",\"none\",\"none\",\"none\",\"none\",\"none\",\"completed\",\"none\",\"none\",\"none\",\"none\",\"completed\",\"none\",\"completed\",\"none\",\"completed\",\"none\",\"completed\",\"none\",\"none\",\"completed\",\"completed\",\"none\",\"none\",\"none\",\"completed\",\"none\",\"none\",\"none\",\"none\",\"none\",\"completed\",\"none\",\"none\",\"completed\",\"none\",\"none\",\"none\",\"completed\",\"none\",\"completed\",\"completed\",\"none\",\"none\",\"completed\",\"none\",\"none\",\"completed\",\"none\",\"completed\",\"completed\",\"none\",\"none\",\"none\",\"none\",\"none\",\"none\",\"none\",\"completed\",\"none\",\"none\",\"completed\",\"none\",\"none\",\"none\",\"none\",\"completed\",\"completed\",\"completed\",\"none\",\"none\",\"none\",\"none\",\"completed\",\"none\",\"completed\",\"none\",\"completed\",\"completed\",\"none\",\"none\",\"none\",\"none\",\"completed\",\"completed\",\"none\",\"completed\",\"completed\",\"none\",\"completed\",\"none\",\"completed\",\"completed\",\"completed\",\"completed\",\"completed\",\"completed\",\"completed\",\"none\",\"completed\",\"completed\",\"none\",\"completed\",\"none\",\"none\",\"completed\",\"completed\",\"none\",\"none\",\"none\",\"completed\",\"completed\",\"none\",\"none\",\"completed\",\"none\",\"none\",\"none\",\"completed\",\"completed\",\"none\",\"none\",\"none\",\"none\",\"none\",\"completed\",\"none\",\"none\",\"none\",\"none\",\"none\",\"none\",\"none\",\"none\",\"none\",\"none\",\"completed\",\"completed\",\"none\",\"completed\",\"none\",\"none\",\"completed\",\"none\",\"none\",\"none\",\"none\",\"completed\",\"completed\",\"none\",\"completed\",\"completed\",\"none\",\"completed\",\"none\",\"completed\",\"none\",\"none\",\"completed\",\"none\",\"none\",\"none\",\"none\",\"completed\",\"none\",\"none\",\"none\",\"none\",\"none\",\"completed\",\"completed\",\"completed\",\"none\",\"completed\",\"completed\",\"completed\",\"none\",\"none\",\"none\",\"completed\",\"completed\",\"none\",\"completed\",\"none\",\"none\",\"completed\",\"completed\",\"none\",\"none\",\"completed\",\"completed\",\"completed\",\"completed\",\"completed\",\"completed\",\"none\",\"none\",\"completed\",\"none\",\"none\",\"none\",\"completed\",\"none\",\"completed\",\"none\",\"none\",\"none\",\"completed\",\"none\",\"none\",\"completed\",\"none\",\"completed\",\"none\",\"none\",\"completed\",\"none\",\"none\",\"none\",\"completed\",\"none\",\"none\",\"none\",\"none\",\"completed\",\"completed\",\"completed\",\"none\",\"none\",\"none\",\"none\",\"none\",\"none\",\"completed\",\"none\",\"none\",\"none\",\"completed\",\"none\",\"none\",\"none\",\"none\",\"none\",\"completed\",\"none\",\"completed\",\"none\",\"completed\",\"none\",\"completed\",\"completed\",\"completed\",\"none\",\"none\",\"completed\",\"none\",\"none\",\"none\",\"none\",\"none\",\"none\",\"none\",\"none\",\"none\",\"none\",\"none\",\"completed\",\"none\",\"completed\",\"completed\",\"none\",\"none\",\"none\",\"completed\",\"none\",\"none\",\"none\",\"none\",\"none\",\"completed\",\"none\",\"none\",\"none\",\"completed\",\"none\",\"none\",\"none\",\"completed\",\"none\",\"none\",\"completed\",\"none\",\"completed\",\"completed\",\"none\",\"none\",\"completed\",\"none\",\"none\",\"none\",\"none\",\"none\",\"none\",\"none\",\"none\",\"completed\",\"completed\",\"completed\",\"none\",\"none\",\"none\",\"none\",\"none\",\"completed\",\"none\",\"none\",\"none\",\"none\",\"none\",\"none\",\"none\",\"none\",\"none\",\"none\",\"completed\",\"none\",\"none\",\"none\",\"completed\",\"none\",\"none\",\"none\",\"none\",\"none\",\"none\",\"none\",\"none\",\"none\",\"completed\",\"completed\",\"none\",\"completed\",\"none\",\"none\",\"none\",\"none\",\"none\",\"none\",\"none\",\"completed\",\"none\",\"none\",\"none\",\"completed\",\"none\",\"none\",\"completed\",\"none\",\"none\",\"none\",\"completed\",\"completed\",\"completed\",\"completed\",\"completed\",\"completed\",\"completed\",\"none\",\"none\",\"none\",\"none\",\"none\",\"none\",\"completed\",\"completed\",\"none\",\"completed\",\"none\",\"none\",\"none\",\"none\",\"completed\",\"none\",\"completed\",\"completed\",\"completed\",\"none\",\"completed\",\"none\",\"none\",\"none\",\"none\",\"none\",\"completed\",\"completed\",\"none\",\"completed\",\"none\",\"none\",\"none\",\"completed\",\"none\",\"none\",\"completed\",\"completed\",\"none\",\"none\",\"none\",\"none\",\"none\",\"none\",\"none\",\"completed\",\"none\",\"none\",\"completed\",\"completed\",\"completed\",\"none\",\"none\",\"none\",\"completed\",\"none\",\"completed\",\"none\",\"none\",\"none\",\"none\",\"none\",\"none\",\"none\",\"completed\",\"completed\",\"completed\",\"none\",\"none\",\"none\",\"none\",\"none\",\"none\",\"none\",\"completed\",\"none\",\"completed\",\"none\",\"none\",\"completed\",\"none\",\"none\",\"none\",\"none\",\"none\",\"completed\",\"completed\",\"none\",\"none\",\"completed\",\"completed\",\"none\",\"none\",\"none\",\"completed\",\"none\",\"none\",\"none\",\"completed\",\"none\",\"none\",\"completed\",\"completed\",\"completed\",\"none\",\"none\",\"completed\",\"none\",\"completed\",\"completed\",\"none\",\"none\",\"none\",\"none\",\"completed\",\"none\",\"none\",\"none\",\"completed\",\"none\",\"none\",\"completed\",\"none\",\"none\",\"completed\",\"none\",\"none\",\"completed\",\"none\",\"completed\",\"none\",\"none\",\"none\",\"completed\",\"none\",\"none\",\"completed\",\"completed\",\"none\",\"none\",\"none\",\"completed\",\"none\",\"none\",\"none\",\"completed\",\"none\",\"completed\",\"none\",\"none\",\"none\",\"completed\",\"none\",\"none\",\"completed\",\"completed\",\"completed\",\"completed\",\"none\",\"completed\",\"completed\",\"none\",\"completed\",\"none\",\"completed\",\"completed\",\"none\",\"none\",\"none\",\"completed\",\"completed\",\"completed\",\"none\",\"completed\",\"completed\",\"completed\",\"completed\",\"completed\",\"completed\",\"completed\",\"none\",\"none\",\"none\",\"completed\",\"completed\",\"none\",\"completed\",\"completed\",\"none\",\"completed\",\"none\",\"none\",\"none\",\"completed\",\"completed\",\"completed\",\"none\",\"none\",\"completed\",\"none\",\"completed\",\"completed\",\"none\",\"none\",\"none\",\"completed\",\"completed\",\"none\",\"none\",\"none\",\"completed\",\"none\",\"none\",\"completed\",\"none\",\"none\",\"completed\",\"completed\",\"completed\",\"none\",\"none\",\"none\",\"none\",\"completed\",\"none\",\"none\",\"completed\",\"none\",\"none\",\"none\",\"none\",\"none\",\"none\",\"completed\",\"completed\",\"completed\",\"none\",\"completed\",\"none\",\"none\",\"none\",\"none\",\"completed\",\"completed\",\"none\",\"completed\",\"none\",\"none\",\"none\",\"none\",\"none\",\"completed\",\"completed\",\"none\",\"none\",\"none\",\"none\",\"completed\",\"none\",\"none\",\"none\",\"none\",\"completed\",\"none\",\"completed\",\"none\",\"completed\",\"none\",\"completed\",\"none\",\"none\"],\"x0\":\" \",\"xaxis\":\"x\",\"y\":[77.66666666666667,96.33333333333333,89.0,50.0,68.33333333333333,59.333333333333336,37.333333333333336,54.333333333333336,51.333333333333336,80.0,61.333333333333336,43.333333333333336,78.33333333333333,70.66666666666667,93.0,49.333333333333336,54.666666666666664,64.0,66.0,59.333333333333336,46.333333333333336,77.0,91.66666666666667,46.666666666666664,58.333333333333336,81.0,75.33333333333333,60.666666666666664,61.666666666666664,65.0,59.333333333333336,73.0,55.666666666666664,50.333333333333336,68.0,78.66666666666667,52.333333333333336,83.33333333333333,79.66666666666667,66.0,23.333333333333332,68.0,65.0,55.333333333333336,60.666666666666664,48.0,67.0,62.666666666666664,48.333333333333336,67.0,47.0,41.0,50.333333333333336,53.666666666666664,73.33333333333333,39.333333333333336,74.66666666666667,69.66666666666667,59.0,51.666666666666664,68.0,63.333333333333336,44.666666666666664,49.333333333333336,76.66666666666667,56.333333333333336,78.0,49.0,86.0,52.333333333333336,61.333333333333336,64.0,61.0,85.33333333333333,69.66666666666667,56.0,54.0,89.33333333333333,67.0,44.666666666666664,94.0,59.0,66.33333333333333,41.333333333333336,74.66666666666667,73.0,59.666666666666664,52.0,51.666666666666664,58.333333333333336,89.0,83.0,59.666666666666664,82.33333333333333,66.66666666666667,80.0,67.66666666666667,54.666666666666664,34.333333333333336,60.0,49.0,62.0,83.0,48.0,74.33333333333333,54.666666666666664,81.33333333333333,69.33333333333333,66.66666666666667,65.33333333333333,52.333333333333336,69.33333333333333,78.66666666666667,63.666666666666664,81.66666666666667,30.666666666666668,63.666666666666664,62.0,96.66666666666667,81.66666666666667,82.66666666666667,73.0,51.0,65.0,83.0,49.0,56.0,43.0,67.66666666666667,76.33333333333333,63.666666666666664,75.66666666666667,73.33333333333333,63.0,79.66666666666667,79.33333333333333,61.0,60.0,72.66666666666667,64.33333333333333,85.66666666666667,23.0,84.0,43.666666666666664,75.0,54.0,87.0,72.0,52.666666666666664,64.0,45.333333333333336,48.333333333333336,64.33333333333333,46.0,88.33333333333333,68.0,62.0,60.333333333333336,67.33333333333333,60.0,62.666666666666664,57.0,83.0,65.33333333333333,65.33333333333333,77.0,52.333333333333336,52.666666666666664,65.0,77.33333333333333,65.33333333333333,76.0,73.66666666666667,68.0,62.0,75.66666666666667,70.0,85.66666666666667,74.66666666666667,57.666666666666664,51.0,68.33333333333333,83.66666666666667,81.0,75.33333333333333,45.0,69.33333333333333,77.33333333333333,29.666666666666668,38.0,56.666666666666664,48.333333333333336,65.66666666666667,84.66666666666667,79.66666666666667,42.333333333333336,64.66666666666667,90.33333333333333,63.666666666666664,74.33333333333333,89.33333333333333,59.0,56.0,81.33333333333333,62.333333333333336,91.0,54.0,72.66666666666667,66.0,62.0,58.0,51.666666666666664,49.666666666666664,70.66666666666667,63.666666666666664,67.66666666666667,71.0,29.666666666666668,73.33333333333333,92.66666666666667,70.66666666666667,58.333333333333336,76.33333333333333,64.0,52.666666666666664,60.666666666666664,61.333333333333336,54.0,58.666666666666664,18.333333333333332,63.333333333333336,58.666666666666664,56.666666666666664,48.333333333333336,64.0,52.0,83.33333333333333,63.0,51.333333333333336,79.66666666666667,78.0,78.0,62.333333333333336,80.66666666666667,89.33333333333333,69.0,81.33333333333333,68.66666666666667,66.0,50.333333333333336,50.333333333333336,75.0,48.666666666666664,64.33333333333333,85.66666666666667,82.33333333333333,46.333333333333336,65.0,48.666666666666664,61.333333333333336,41.0,60.0,71.0,51.0,90.66666666666667,59.333333333333336,70.0,40.666666666666664,92.66666666666667,77.66666666666667,77.0,61.666666666666664,73.0,77.33333333333333,26.0,91.66666666666667,64.66666666666667,49.333333333333336,80.66666666666667,51.333333333333336,78.33333333333333,82.33333333333333,70.0,32.333333333333336,46.0,66.0,85.33333333333333,75.66666666666667,70.33333333333333,59.333333333333336,86.33333333333333,73.66666666666667,50.0,78.0,67.33333333333333,44.0,59.0,69.33333333333333,51.666666666666664,84.0,51.333333333333336,54.333333333333336,72.0,55.333333333333336,58.0,46.333333333333336,63.0,82.66666666666667,88.33333333333333,67.0,74.66666666666667,87.0,69.66666666666667,65.66666666666667,71.66666666666667,55.333333333333336,46.666666666666664,74.33333333333333,77.66666666666667,58.666666666666664,57.333333333333336,72.0,57.666666666666664,78.0,57.666666666666664,78.33333333333333,38.333333333333336,83.66666666666667,72.66666666666667,82.33333333333333,63.0,86.66666666666667,55.333333333333336,80.33333333333333,70.0,86.0,37.666666666666664,77.0,84.0,56.666666666666664,69.0,73.0,66.66666666666667,54.666666666666664,91.33333333333333,79.33333333333333,68.66666666666667,86.0,80.33333333333333,65.66666666666667,40.666666666666664,87.33333333333333,69.33333333333333,76.33333333333333,68.66666666666667,62.0,69.33333333333333,71.66666666666667,56.666666666666664,69.0,97.0,66.33333333333333,46.666666666666664,57.666666666666664,56.333333333333336,63.666666666666664,61.0,56.333333333333336,44.666666666666664,72.33333333333333,43.0,71.0,93.33333333333333,90.0,68.0,82.66666666666667,75.33333333333333,97.0,59.0,53.666666666666664,70.33333333333333,50.0,68.66666666666667,89.0,66.66666666666667,50.0,72.0,91.66666666666667,61.0,77.0,50.666666666666664,83.66666666666667,69.66666666666667,74.33333333333333,82.66666666666667,29.333333333333332,82.33333333333333,61.666666666666664,46.333333333333336,64.33333333333333,67.66666666666667,68.66666666666667,68.0,53.333333333333336,79.0,57.333333333333336,70.66666666666667,53.333333333333336,67.0,73.66666666666667,56.333333333333336,56.333333333333336,77.33333333333333,54.666666666666664,68.33333333333333,51.333333333333336,73.33333333333333,73.33333333333333,56.0,82.33333333333333,60.0,57.0,87.66666666666667,80.66666666666667,61.0,74.0,39.0,85.0,65.0,74.33333333333333,92.66666666666667,70.33333333333333,58.666666666666664,73.33333333333333,64.66666666666667,75.66666666666667,34.666666666666664,73.0,9.0,68.66666666666667,82.33333333333333,64.66666666666667,72.0,77.66666666666667,67.33333333333333,66.0,68.0,57.666666666666664,75.0,68.33333333333333,49.0,76.66666666666667,58.666666666666664,77.33333333333333,59.666666666666664,77.33333333333333,48.666666666666664,87.0,45.333333333333336,65.66666666666667,66.33333333333333,60.0,58.333333333333336,68.33333333333333,86.33333333333333,49.666666666666664,75.66666666666667,98.66666666666667,51.666666666666664,65.66666666666667,57.0,47.666666666666664,66.0,70.66666666666667,90.33333333333333,77.33333333333333,71.33333333333333,39.666666666666664,64.0,66.66666666666667,78.0,49.333333333333336,61.333333333333336,59.0,88.66666666666667,43.333333333333336,52.333333333333336,88.66666666666667,71.33333333333333,71.33333333333333,71.66666666666667,55.333333333333336,60.333333333333336,47.333333333333336,75.0,70.0,77.33333333333333,57.333333333333336,64.33333333333333,72.66666666666667,81.33333333333333,83.0,61.666666666666664,43.666666666666664,92.33333333333333,71.66666666666667,30.0,54.666666666666664,60.666666666666664,55.666666666666664,72.66666666666667,84.0,79.0,77.33333333333333,60.333333333333336,79.33333333333333,75.0,64.33333333333333,77.0,77.33333333333333,90.0,78.0,56.0,68.33333333333333,49.666666666666664,74.0,93.66666666666667,73.0,54.666666666666664,50.333333333333336,48.333333333333336,78.66666666666667,73.33333333333333,75.66666666666667,64.33333333333333,83.0,76.0,91.66666666666667,63.666666666666664,51.666666666666664,69.0,94.0,43.333333333333336,31.333333333333332,70.33333333333333,78.33333333333333,67.33333333333333,61.666666666666664,89.33333333333333,61.666666666666664,78.0,55.666666666666664,70.0,72.0,73.0,76.33333333333333,80.0,68.0,58.333333333333336,69.33333333333333,54.666666666666664,85.0,53.666666666666664,67.33333333333333,51.333333333333336,71.0,89.66666666666667,71.33333333333333,64.0,60.0,85.33333333333333,77.0,91.33333333333333,57.333333333333336,60.0,59.0,68.33333333333333,64.66666666666667,56.0,62.666666666666664,70.0,50.333333333333336,44.666666666666664,59.333333333333336,66.66666666666667,53.666666666666664,73.66666666666667,59.0,82.33333333333333,75.66666666666667,52.666666666666664,63.0,70.33333333333333,67.66666666666667,62.333333333333336,62.666666666666664,61.666666666666664,68.33333333333333,71.33333333333333,61.333333333333336,69.0,70.33333333333333,76.0,88.33333333333333,64.66666666666667,83.66666666666667,38.666666666666664,71.33333333333333,71.0,78.33333333333333,70.0,79.0,71.33333333333333,97.66666666666667,69.33333333333333,82.33333333333333,75.0,48.333333333333336,65.33333333333333,75.66666666666667,55.666666666666664,53.0,47.666666666666664,84.66666666666667,69.66666666666667,69.33333333333333,86.0,68.66666666666667,78.66666666666667,48.666666666666664,65.66666666666667,69.0,45.666666666666664,71.0,87.0,81.66666666666667,62.333333333333336,58.333333333333336,53.333333333333336,75.0,68.0,58.666666666666664,55.0,68.0,96.33333333333333,78.66666666666667,61.333333333333336,75.0,71.66666666666667,69.33333333333333,51.666666666666664,60.666666666666664,48.0,83.0,84.0,53.666666666666664,63.666666666666664,99.0,39.666666666666664,78.33333333333333,74.0,82.0,71.0,97.33333333333333,85.0,80.66666666666667,79.0,84.66666666666667,57.666666666666664,68.33333333333333,74.66666666666667,46.666666666666664,60.333333333333336,56.0,71.33333333333333,56.333333333333336,55.666666666666664,75.0,83.0,61.333333333333336,54.333333333333336,72.66666666666667,63.333333333333336,79.66666666666667,58.333333333333336,58.666666666666664,93.33333333333333,84.0,67.33333333333333,74.0,91.66666666666667,73.33333333333333,79.33333333333333,80.66666666666667,31.0,86.33333333333333,60.666666666666664,85.0,71.66666666666667,73.0,72.0,88.0,57.666666666666664,95.66666666666667,72.0,80.33333333333333,51.666666666666664,85.66666666666667,65.0,79.66666666666667,62.333333333333336,86.33333333333333,71.33333333333333,69.0,74.33333333333333,59.666666666666664,64.66666666666667,63.0,72.0,88.33333333333333,95.66666666666667,65.66666666666667,71.66666666666667,85.33333333333333,55.0,68.66666666666667,50.0,71.66666666666667,76.0,52.666666666666664,77.33333333333333,79.0,72.66666666666667,82.0,54.333333333333336,69.0,66.0,65.33333333333333,99.0,77.33333333333333,68.0,68.66666666666667,53.666666666666664,65.33333333333333,80.33333333333333,79.33333333333333,66.0,67.0,56.0,79.33333333333333,64.0,38.333333333333336,72.33333333333333,72.66666666666667,78.0,83.33333333333333,65.33333333333333,52.666666666666664,67.0,54.0,73.0,84.0,78.33333333333333,79.66666666666667,76.33333333333333,74.66666666666667,75.33333333333333,78.66666666666667,46.333333333333336,49.0,68.66666666666667,50.0,52.666666666666664,63.333333333333336,91.66666666666667,47.333333333333336,31.666666666666668,57.333333333333336,76.66666666666667,98.66666666666667,72.33333333333333,86.66666666666667,83.0,64.0,40.0,87.66666666666667,56.0,59.0,51.666666666666664,76.0,79.33333333333333,57.666666666666664,62.333333333333336,84.33333333333333,69.0,76.0,71.33333333333333,91.33333333333333,60.666666666666664,73.0,50.666666666666664,67.0,82.66666666666667,74.66666666666667,53.0,76.66666666666667,68.66666666666667,65.0,65.0,45.0,87.33333333333333,53.666666666666664,65.33333333333333,66.0,89.66666666666667,76.33333333333333,50.333333333333336,64.66666666666667,75.0,84.0,48.0,74.33333333333333,69.0,86.66666666666667,80.33333333333333,67.66666666666667,74.33333333333333,74.33333333333333,59.666666666666664,39.666666666666664,71.0,64.66666666666667,74.33333333333333,78.33333333333333,51.0,66.0,39.0,60.333333333333336,70.0,57.333333333333336,73.33333333333333,54.333333333333336,82.33333333333333,74.0,61.333333333333336,54.666666666666664,58.666666666666664,69.0,67.0,73.33333333333333,76.0,67.66666666666667,63.0,58.333333333333336,64.33333333333333,88.66666666666667,80.33333333333333,55.666666666666664,74.33333333333333,52.0,100.0,63.666666666666664,100.0,54.0,73.66666666666667,68.0,68.33333333333333,66.0,66.66666666666667,49.0,94.0,86.66666666666667,68.0,66.33333333333333,84.33333333333333,73.33333333333333,71.33333333333333,57.333333333333336,52.0,78.66666666666667,77.0,53.333333333333336,60.333333333333336,99.66666666666667,80.33333333333333,75.0,50.333333333333336,88.66666666666667,44.333333333333336,97.66666666666667,57.333333333333336,77.33333333333333,64.33333333333333,64.33333333333333,66.0,70.33333333333333,79.33333333333333,26.0,72.66666666666667,80.66666666666667,82.66666666666667,88.0,68.33333333333333,75.66666666666667,79.0,80.33333333333333,74.0,87.0,60.333333333333336,68.33333333333333,62.333333333333336,90.33333333333333,70.0,71.0,46.0,92.0,68.0,72.33333333333333,87.0,100.0,96.33333333333333,76.0,55.666666666666664,83.33333333333333,66.0,71.33333333333333,75.33333333333333,97.33333333333333,75.33333333333333,97.66666666666667,76.0,88.66666666666667,75.66666666666667,64.66666666666667,77.66666666666667,80.66666666666667,78.66666666666667,60.333333333333336,56.0,83.33333333333333,62.333333333333336,78.0,81.33333333333333,74.33333333333333,66.66666666666667,75.33333333333333,72.33333333333333,58.666666666666664,78.66666666666667,40.0,78.33333333333333,61.0,81.66666666666667,84.66666666666667,72.33333333333333,74.66666666666667,94.0,68.33333333333333,87.33333333333333,79.66666666666667,51.0,82.0,65.66666666666667,70.33333333333333,96.0,85.66666666666667,87.33333333333333,87.33333333333333,51.666666666666664,63.333333333333336,34.666666666666664,85.66666666666667,86.33333333333333,52.0,89.0,70.0,88.33333333333333,92.0,42.0,70.0,66.33333333333333,82.33333333333333,69.0,72.66666666666667,44.0,43.333333333333336,50.666666666666664,77.33333333333333,58.333333333333336,79.0,64.66666666666667,57.0,80.0,89.0,86.33333333333333,71.0,71.0,76.66666666666667,68.66666666666667,73.0],\"y0\":\" \",\"yaxis\":\"y\",\"type\":\"box\"}],                        {\"template\":{\"data\":{\"histogram2dcontour\":[{\"type\":\"histogram2dcontour\",\"colorbar\":{\"outlinewidth\":0,\"ticks\":\"\"},\"colorscale\":[[0.0,\"#0d0887\"],[0.1111111111111111,\"#46039f\"],[0.2222222222222222,\"#7201a8\"],[0.3333333333333333,\"#9c179e\"],[0.4444444444444444,\"#bd3786\"],[0.5555555555555556,\"#d8576b\"],[0.6666666666666666,\"#ed7953\"],[0.7777777777777778,\"#fb9f3a\"],[0.8888888888888888,\"#fdca26\"],[1.0,\"#f0f921\"]]}],\"choropleth\":[{\"type\":\"choropleth\",\"colorbar\":{\"outlinewidth\":0,\"ticks\":\"\"}}],\"histogram2d\":[{\"type\":\"histogram2d\",\"colorbar\":{\"outlinewidth\":0,\"ticks\":\"\"},\"colorscale\":[[0.0,\"#0d0887\"],[0.1111111111111111,\"#46039f\"],[0.2222222222222222,\"#7201a8\"],[0.3333333333333333,\"#9c179e\"],[0.4444444444444444,\"#bd3786\"],[0.5555555555555556,\"#d8576b\"],[0.6666666666666666,\"#ed7953\"],[0.7777777777777778,\"#fb9f3a\"],[0.8888888888888888,\"#fdca26\"],[1.0,\"#f0f921\"]]}],\"heatmap\":[{\"type\":\"heatmap\",\"colorbar\":{\"outlinewidth\":0,\"ticks\":\"\"},\"colorscale\":[[0.0,\"#0d0887\"],[0.1111111111111111,\"#46039f\"],[0.2222222222222222,\"#7201a8\"],[0.3333333333333333,\"#9c179e\"],[0.4444444444444444,\"#bd3786\"],[0.5555555555555556,\"#d8576b\"],[0.6666666666666666,\"#ed7953\"],[0.7777777777777778,\"#fb9f3a\"],[0.8888888888888888,\"#fdca26\"],[1.0,\"#f0f921\"]]}],\"heatmapgl\":[{\"type\":\"heatmapgl\",\"colorbar\":{\"outlinewidth\":0,\"ticks\":\"\"},\"colorscale\":[[0.0,\"#0d0887\"],[0.1111111111111111,\"#46039f\"],[0.2222222222222222,\"#7201a8\"],[0.3333333333333333,\"#9c179e\"],[0.4444444444444444,\"#bd3786\"],[0.5555555555555556,\"#d8576b\"],[0.6666666666666666,\"#ed7953\"],[0.7777777777777778,\"#fb9f3a\"],[0.8888888888888888,\"#fdca26\"],[1.0,\"#f0f921\"]]}],\"contourcarpet\":[{\"type\":\"contourcarpet\",\"colorbar\":{\"outlinewidth\":0,\"ticks\":\"\"}}],\"contour\":[{\"type\":\"contour\",\"colorbar\":{\"outlinewidth\":0,\"ticks\":\"\"},\"colorscale\":[[0.0,\"#0d0887\"],[0.1111111111111111,\"#46039f\"],[0.2222222222222222,\"#7201a8\"],[0.3333333333333333,\"#9c179e\"],[0.4444444444444444,\"#bd3786\"],[0.5555555555555556,\"#d8576b\"],[0.6666666666666666,\"#ed7953\"],[0.7777777777777778,\"#fb9f3a\"],[0.8888888888888888,\"#fdca26\"],[1.0,\"#f0f921\"]]}],\"surface\":[{\"type\":\"surface\",\"colorbar\":{\"outlinewidth\":0,\"ticks\":\"\"},\"colorscale\":[[0.0,\"#0d0887\"],[0.1111111111111111,\"#46039f\"],[0.2222222222222222,\"#7201a8\"],[0.3333333333333333,\"#9c179e\"],[0.4444444444444444,\"#bd3786\"],[0.5555555555555556,\"#d8576b\"],[0.6666666666666666,\"#ed7953\"],[0.7777777777777778,\"#fb9f3a\"],[0.8888888888888888,\"#fdca26\"],[1.0,\"#f0f921\"]]}],\"mesh3d\":[{\"type\":\"mesh3d\",\"colorbar\":{\"outlinewidth\":0,\"ticks\":\"\"}}],\"scatter\":[{\"fillpattern\":{\"fillmode\":\"overlay\",\"size\":10,\"solidity\":0.2},\"type\":\"scatter\"}],\"parcoords\":[{\"type\":\"parcoords\",\"line\":{\"colorbar\":{\"outlinewidth\":0,\"ticks\":\"\"}}}],\"scatterpolargl\":[{\"type\":\"scatterpolargl\",\"marker\":{\"colorbar\":{\"outlinewidth\":0,\"ticks\":\"\"}}}],\"bar\":[{\"error_x\":{\"color\":\"#2a3f5f\"},\"error_y\":{\"color\":\"#2a3f5f\"},\"marker\":{\"line\":{\"color\":\"#E5ECF6\",\"width\":0.5},\"pattern\":{\"fillmode\":\"overlay\",\"size\":10,\"solidity\":0.2}},\"type\":\"bar\"}],\"scattergeo\":[{\"type\":\"scattergeo\",\"marker\":{\"colorbar\":{\"outlinewidth\":0,\"ticks\":\"\"}}}],\"scatterpolar\":[{\"type\":\"scatterpolar\",\"marker\":{\"colorbar\":{\"outlinewidth\":0,\"ticks\":\"\"}}}],\"histogram\":[{\"marker\":{\"pattern\":{\"fillmode\":\"overlay\",\"size\":10,\"solidity\":0.2}},\"type\":\"histogram\"}],\"scattergl\":[{\"type\":\"scattergl\",\"marker\":{\"colorbar\":{\"outlinewidth\":0,\"ticks\":\"\"}}}],\"scatter3d\":[{\"type\":\"scatter3d\",\"line\":{\"colorbar\":{\"outlinewidth\":0,\"ticks\":\"\"}},\"marker\":{\"colorbar\":{\"outlinewidth\":0,\"ticks\":\"\"}}}],\"scattermapbox\":[{\"type\":\"scattermapbox\",\"marker\":{\"colorbar\":{\"outlinewidth\":0,\"ticks\":\"\"}}}],\"scatterternary\":[{\"type\":\"scatterternary\",\"marker\":{\"colorbar\":{\"outlinewidth\":0,\"ticks\":\"\"}}}],\"scattercarpet\":[{\"type\":\"scattercarpet\",\"marker\":{\"colorbar\":{\"outlinewidth\":0,\"ticks\":\"\"}}}],\"carpet\":[{\"aaxis\":{\"endlinecolor\":\"#2a3f5f\",\"gridcolor\":\"white\",\"linecolor\":\"white\",\"minorgridcolor\":\"white\",\"startlinecolor\":\"#2a3f5f\"},\"baxis\":{\"endlinecolor\":\"#2a3f5f\",\"gridcolor\":\"white\",\"linecolor\":\"white\",\"minorgridcolor\":\"white\",\"startlinecolor\":\"#2a3f5f\"},\"type\":\"carpet\"}],\"table\":[{\"cells\":{\"fill\":{\"color\":\"#EBF0F8\"},\"line\":{\"color\":\"white\"}},\"header\":{\"fill\":{\"color\":\"#C8D4E3\"},\"line\":{\"color\":\"white\"}},\"type\":\"table\"}],\"barpolar\":[{\"marker\":{\"line\":{\"color\":\"#E5ECF6\",\"width\":0.5},\"pattern\":{\"fillmode\":\"overlay\",\"size\":10,\"solidity\":0.2}},\"type\":\"barpolar\"}],\"pie\":[{\"automargin\":true,\"type\":\"pie\"}]},\"layout\":{\"autotypenumbers\":\"strict\",\"colorway\":[\"#636efa\",\"#EF553B\",\"#00cc96\",\"#ab63fa\",\"#FFA15A\",\"#19d3f3\",\"#FF6692\",\"#B6E880\",\"#FF97FF\",\"#FECB52\"],\"font\":{\"color\":\"#2a3f5f\"},\"hovermode\":\"closest\",\"hoverlabel\":{\"align\":\"left\"},\"paper_bgcolor\":\"white\",\"plot_bgcolor\":\"#E5ECF6\",\"polar\":{\"bgcolor\":\"#E5ECF6\",\"angularaxis\":{\"gridcolor\":\"white\",\"linecolor\":\"white\",\"ticks\":\"\"},\"radialaxis\":{\"gridcolor\":\"white\",\"linecolor\":\"white\",\"ticks\":\"\"}},\"ternary\":{\"bgcolor\":\"#E5ECF6\",\"aaxis\":{\"gridcolor\":\"white\",\"linecolor\":\"white\",\"ticks\":\"\"},\"baxis\":{\"gridcolor\":\"white\",\"linecolor\":\"white\",\"ticks\":\"\"},\"caxis\":{\"gridcolor\":\"white\",\"linecolor\":\"white\",\"ticks\":\"\"}},\"coloraxis\":{\"colorbar\":{\"outlinewidth\":0,\"ticks\":\"\"}},\"colorscale\":{\"sequential\":[[0.0,\"#0d0887\"],[0.1111111111111111,\"#46039f\"],[0.2222222222222222,\"#7201a8\"],[0.3333333333333333,\"#9c179e\"],[0.4444444444444444,\"#bd3786\"],[0.5555555555555556,\"#d8576b\"],[0.6666666666666666,\"#ed7953\"],[0.7777777777777778,\"#fb9f3a\"],[0.8888888888888888,\"#fdca26\"],[1.0,\"#f0f921\"]],\"sequentialminus\":[[0.0,\"#0d0887\"],[0.1111111111111111,\"#46039f\"],[0.2222222222222222,\"#7201a8\"],[0.3333333333333333,\"#9c179e\"],[0.4444444444444444,\"#bd3786\"],[0.5555555555555556,\"#d8576b\"],[0.6666666666666666,\"#ed7953\"],[0.7777777777777778,\"#fb9f3a\"],[0.8888888888888888,\"#fdca26\"],[1.0,\"#f0f921\"]],\"diverging\":[[0,\"#8e0152\"],[0.1,\"#c51b7d\"],[0.2,\"#de77ae\"],[0.3,\"#f1b6da\"],[0.4,\"#fde0ef\"],[0.5,\"#f7f7f7\"],[0.6,\"#e6f5d0\"],[0.7,\"#b8e186\"],[0.8,\"#7fbc41\"],[0.9,\"#4d9221\"],[1,\"#276419\"]]},\"xaxis\":{\"gridcolor\":\"white\",\"linecolor\":\"white\",\"ticks\":\"\",\"title\":{\"standoff\":15},\"zerolinecolor\":\"white\",\"automargin\":true,\"zerolinewidth\":2},\"yaxis\":{\"gridcolor\":\"white\",\"linecolor\":\"white\",\"ticks\":\"\",\"title\":{\"standoff\":15},\"zerolinecolor\":\"white\",\"automargin\":true,\"zerolinewidth\":2},\"scene\":{\"xaxis\":{\"backgroundcolor\":\"#E5ECF6\",\"gridcolor\":\"white\",\"linecolor\":\"white\",\"showbackground\":true,\"ticks\":\"\",\"zerolinecolor\":\"white\",\"gridwidth\":2},\"yaxis\":{\"backgroundcolor\":\"#E5ECF6\",\"gridcolor\":\"white\",\"linecolor\":\"white\",\"showbackground\":true,\"ticks\":\"\",\"zerolinecolor\":\"white\",\"gridwidth\":2},\"zaxis\":{\"backgroundcolor\":\"#E5ECF6\",\"gridcolor\":\"white\",\"linecolor\":\"white\",\"showbackground\":true,\"ticks\":\"\",\"zerolinecolor\":\"white\",\"gridwidth\":2}},\"shapedefaults\":{\"line\":{\"color\":\"#2a3f5f\"}},\"annotationdefaults\":{\"arrowcolor\":\"#2a3f5f\",\"arrowhead\":0,\"arrowwidth\":1},\"geo\":{\"bgcolor\":\"white\",\"landcolor\":\"#E5ECF6\",\"subunitcolor\":\"white\",\"showland\":true,\"showlakes\":true,\"lakecolor\":\"white\"},\"title\":{\"x\":0.05},\"mapbox\":{\"style\":\"light\"}}},\"xaxis\":{\"anchor\":\"y\",\"domain\":[0.0,1.0],\"title\":{\"text\":\"test preparation course\"},\"categoryorder\":\"category ascending\"},\"yaxis\":{\"anchor\":\"x\",\"domain\":[0.0,1.0],\"title\":{\"text\":\"average score\"}},\"legend\":{\"tracegroupgap\":0},\"margin\":{\"t\":60},\"boxmode\":\"group\"},                        {\"responsive\": true}                    ).then(function(){\n",
              "                            \n",
              "var gd = document.getElementById('15217e1c-c03c-48a0-9686-0f15ee6871c3');\n",
              "var x = new MutationObserver(function (mutations, observer) {{\n",
              "        var display = window.getComputedStyle(gd).display;\n",
              "        if (!display || display === 'none') {{\n",
              "            console.log([gd, 'removed!']);\n",
              "            Plotly.purge(gd);\n",
              "            observer.disconnect();\n",
              "        }}\n",
              "}});\n",
              "\n",
              "// Listen for the removal of the full notebook cells\n",
              "var notebookContainer = gd.closest('#notebook-container');\n",
              "if (notebookContainer) {{\n",
              "    x.observe(notebookContainer, {childList: true});\n",
              "}}\n",
              "\n",
              "// Listen for the clearing of the current output cell\n",
              "var outputEl = gd.closest('.output');\n",
              "if (outputEl) {{\n",
              "    x.observe(outputEl, {childList: true});\n",
              "}}\n",
              "\n",
              "                        })                };                            </script>        </div>\n",
              "</body>\n",
              "</html>"
            ]
          },
          "metadata": {}
        }
      ]
    },
    {
      "cell_type": "markdown",
      "source": [
        "I did not need to do this, I just wanted to.  Boxplots are a significantly better way of obtaining an overview of a dataset, as they show the median/min/max/outliers/etc.  This one shows that students that have completed a test preparation course generally have higher scores, and higher minimums and outliers."
      ],
      "metadata": {
        "id": "nf0zA2lQzl1s"
      }
    },
    {
      "cell_type": "markdown",
      "source": [
        "Finally, let's save all of these."
      ],
      "metadata": {
        "id": "jF2yuNa30B-l"
      }
    },
    {
      "cell_type": "code",
      "source": [
        "for figure in fig_list:\n",
        "  fig_list[figure].write_image(f'./{parent_dir}/{results_dir}/{figure}.png')"
      ],
      "metadata": {
        "id": "ZGGmYu9DIXJl"
      },
      "execution_count": 41,
      "outputs": []
    },
    {
      "cell_type": "code",
      "source": [
        "pie_fig.write_image(f'./{parent_dir}/{results_dir}/pie_fig_clean.png', width=1400, height=600) # The pie subplot was too big, so I had to do this one manually to get the dimensions right"
      ],
      "metadata": {
        "id": "C6ndz1Zt9D-9"
      },
      "execution_count": 42,
      "outputs": []
    },
    {
      "cell_type": "markdown",
      "source": [
        "### Cleanup"
      ],
      "metadata": {
        "id": "7Wu4tgFNI-Z5"
      }
    },
    {
      "cell_type": "code",
      "source": [
        "!zip -r './{parent_dir}.zip' './{parent_dir}' # Zip up the directory to be downloaded"
      ],
      "metadata": {
        "colab": {
          "base_uri": "https://localhost:8080/"
        },
        "id": "OcrfWTKlI_w9",
        "outputId": "b95cbcb2-33e3-473e-fdca-a6dda2a15c86"
      },
      "execution_count": 43,
      "outputs": [
        {
          "output_type": "stream",
          "name": "stdout",
          "text": [
            "  adding: Assignment_1-2_Student-Performance-Visualizations/ (stored 0%)\n",
            "  adding: Assignment_1-2_Student-Performance-Visualizations/data_raw/ (stored 0%)\n",
            "  adding: Assignment_1-2_Student-Performance-Visualizations/data_raw/README.md (stored 0%)\n",
            "  adding: Assignment_1-2_Student-Performance-Visualizations/data_raw/StudentsPerformance.csv (deflated 89%)\n",
            "  adding: Assignment_1-2_Student-Performance-Visualizations/src/ (stored 0%)\n",
            "  adding: Assignment_1-2_Student-Performance-Visualizations/data_clean/ (stored 0%)\n",
            "  adding: Assignment_1-2_Student-Performance-Visualizations/data_clean/StudentsPerformance_clean.csv (deflated 84%)\n",
            "  adding: Assignment_1-2_Student-Performance-Visualizations/results/ (stored 0%)\n",
            "  adding: Assignment_1-2_Student-Performance-Visualizations/results/read_hist_fig.png (deflated 28%)\n",
            "  adding: Assignment_1-2_Student-Performance-Visualizations/results/pie_fig.png (deflated 9%)\n",
            "  adding: Assignment_1-2_Student-Performance-Visualizations/results/scatter_fig.png (deflated 9%)\n",
            "  adding: Assignment_1-2_Student-Performance-Visualizations/results/box_fig.png (deflated 33%)\n",
            "  adding: Assignment_1-2_Student-Performance-Visualizations/results/math_hist_fig.png (deflated 27%)\n",
            "  adding: Assignment_1-2_Student-Performance-Visualizations/results/pie_fig_clean.png (deflated 12%)\n",
            "  adding: Assignment_1-2_Student-Performance-Visualizations/results/write_hist_fig.png (deflated 28%)\n",
            "  adding: Assignment_1-2_Student-Performance-Visualizations/results/line_fig.png (deflated 15%)\n",
            "  adding: Assignment_1-2_Student-Performance-Visualizations/results/hist_fig.png (deflated 32%)\n"
          ]
        }
      ]
    },
    {
      "cell_type": "markdown",
      "source": [
        "Finally, don't forget to save this notebook in:"
      ],
      "metadata": {
        "id": "Ae-h5Y-nIux1"
      }
    },
    {
      "cell_type": "code",
      "source": [
        "print(f'./{parent_dir}/{source_dir}')"
      ],
      "metadata": {
        "colab": {
          "base_uri": "https://localhost:8080/"
        },
        "id": "UwbrXfA0Ixvd",
        "outputId": "e8810785-5d5c-46e5-cea9-6b67efad59de"
      },
      "execution_count": 44,
      "outputs": [
        {
          "output_type": "stream",
          "name": "stdout",
          "text": [
            "./Assignment_1-2_Student-Performance-Visualizations/src\n"
          ]
        }
      ]
    }
  ]
}