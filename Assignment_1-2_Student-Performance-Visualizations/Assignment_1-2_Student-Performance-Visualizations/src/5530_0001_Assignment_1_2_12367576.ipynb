{
  "nbformat": 4,
  "nbformat_minor": 0,
  "metadata": {
    "colab": {
      "provenance": []
    },
    "kernelspec": {
      "name": "python3",
      "display_name": "Python 3"
    },
    "language_info": {
      "name": "python"
    }
  },
  "cells": [
    {
      "cell_type": "markdown",
      "source": [
        "# Student Performance - Visualizations"
      ],
      "metadata": {
        "id": "Pbk_sqDW5eLg"
      }
    },
    {
      "cell_type": "markdown",
      "source": [
        "### Import Packages"
      ],
      "metadata": {
        "id": "xKPRgSKc5tda"
      }
    },
    {
      "cell_type": "code",
      "execution_count": 1,
      "metadata": {
        "id": "WYqtbfJI5PeQ",
        "colab": {
          "base_uri": "https://localhost:8080/"
        },
        "outputId": "db962e61-cc8d-4c88-b36e-8df250c9e007"
      },
      "outputs": [
        {
          "output_type": "stream",
          "name": "stdout",
          "text": [
            "Requirement already satisfied: kaleido in /usr/local/lib/python3.10/dist-packages (0.2.1)\n"
          ]
        }
      ],
      "source": [
        "import os\n",
        "import pandas as pd\n",
        "import numpy as np\n",
        "import plotly.express as px\n",
        "import plotly.tools as tls\n",
        "import plotly.graph_objects as go\n",
        "from plotly.subplots import make_subplots\n",
        "from plotly.offline import plot\n",
        "!pip install -U kaleido\n",
        "import kaleido"
      ]
    },
    {
      "cell_type": "markdown",
      "source": [
        "### Create Directory Structure"
      ],
      "metadata": {
        "id": "Q-i8lYjN59ea"
      }
    },
    {
      "cell_type": "code",
      "source": [
        "# Define Directories and Dataset\n",
        "parent_dir = 'Assignment_1-2_Student-Performance-Visualizations'\n",
        "data_raw_dir = 'data_raw'\n",
        "data_clean_dir = 'data_clean'\n",
        "results_dir = 'results'\n",
        "source_dir = 'src'\n",
        "dataset = 'StudentsPerformance'\n",
        "\n",
        "# Create Directories\n",
        "os.mkdir(f'./{parent_dir}')\n",
        "os.mkdir(f'./{parent_dir}/{data_raw_dir}')\n",
        "os.mkdir(f'./{parent_dir}/{data_clean_dir}')\n",
        "os.mkdir(f'./{parent_dir}/{results_dir}')\n",
        "os.mkdir(f'./{parent_dir}/{source_dir}')"
      ],
      "metadata": {
        "id": "MKoEXu3q5-62"
      },
      "execution_count": 3,
      "outputs": []
    },
    {
      "cell_type": "markdown",
      "source": [
        "## Data Collection"
      ],
      "metadata": {
        "id": "5AS5qzoY6mNV"
      }
    },
    {
      "cell_type": "markdown",
      "source": [
        "The dataset was provided in a CSV:\n",
        "\n",
        "StudentsPerformance.csv\n",
        "\n",
        "At this point, upload or copy StudentsPerformance.csv into:"
      ],
      "metadata": {
        "id": "4JZimJ3O84sg"
      }
    },
    {
      "cell_type": "code",
      "source": [
        "print(f'./{parent_dir}/{data_raw_dir}')"
      ],
      "metadata": {
        "colab": {
          "base_uri": "https://localhost:8080/"
        },
        "id": "Q84NS58o6pl3",
        "outputId": "ec3e579d-dcaa-4e4e-a38d-4fb7ccc62817"
      },
      "execution_count": 4,
      "outputs": [
        {
          "output_type": "stream",
          "name": "stdout",
          "text": [
            "./Assignment_1-2_Student-Performance-Visualizations/data_raw\n"
          ]
        }
      ]
    },
    {
      "cell_type": "markdown",
      "source": [
        "Then, create a README"
      ],
      "metadata": {
        "id": "iIFyfRvA-Hzw"
      }
    },
    {
      "cell_type": "code",
      "source": [
        "with open(f'./{parent_dir}/{data_raw_dir}/README.md', \"w\") as file: # Create a (mostly) empty README\n",
        "    file.write(\"Raw Data Metadata\")"
      ],
      "metadata": {
        "id": "QZ_kulIK-q59"
      },
      "execution_count": 5,
      "outputs": []
    },
    {
      "cell_type": "markdown",
      "source": [
        "**The README will need to be manually updated with the appropriate field data.**"
      ],
      "metadata": {
        "id": "U2xNhYGE-8U0"
      }
    },
    {
      "cell_type": "markdown",
      "source": [
        "### Import the Dataset"
      ],
      "metadata": {
        "id": "_4CWTXeJ9ZpF"
      }
    },
    {
      "cell_type": "code",
      "source": [
        "# Create the Dataframe\n",
        "data_raw = pd.read_csv(f'./{parent_dir}/{data_raw_dir}/{dataset}.csv')\n",
        "data_raw.head(15)"
      ],
      "metadata": {
        "colab": {
          "base_uri": "https://localhost:8080/",
          "height": 520
        },
        "id": "hNia4DKC9bOR",
        "outputId": "37e5ec2a-b7dc-4cda-a5d7-f71be958adb1"
      },
      "execution_count": 6,
      "outputs": [
        {
          "output_type": "execute_result",
          "data": {
            "text/plain": [
              "    gender race/ethnicity parental level of education         lunch  \\\n",
              "0   female        group B           bachelor's degree      standard   \n",
              "1   female        group C                some college      standard   \n",
              "2   female        group B             master's degree      standard   \n",
              "3     male        group A          associate's degree  free/reduced   \n",
              "4     male        group C                some college      standard   \n",
              "5   female        group B          associate's degree      standard   \n",
              "6   female        group B                some college      standard   \n",
              "7     male        group B                some college  free/reduced   \n",
              "8     male        group D                 high school  free/reduced   \n",
              "9   female        group B                 high school  free/reduced   \n",
              "10    male        group C          associate's degree      standard   \n",
              "11    male        group D          associate's degree      standard   \n",
              "12  female        group B                 high school      standard   \n",
              "13    male        group A                some college      standard   \n",
              "14  female        group A             master's degree      standard   \n",
              "\n",
              "   test preparation course  math score  reading score  writing score  \n",
              "0                     none          72             72             74  \n",
              "1                completed          69             90             88  \n",
              "2                     none          90             95             93  \n",
              "3                     none          47             57             44  \n",
              "4                     none          76             78             75  \n",
              "5                     none          71             83             78  \n",
              "6                completed          88             95             92  \n",
              "7                     none          40             43             39  \n",
              "8                completed          64             64             67  \n",
              "9                     none          38             60             50  \n",
              "10                    none          58             54             52  \n",
              "11                    none          40             52             43  \n",
              "12                    none          65             81             73  \n",
              "13               completed          78             72             70  \n",
              "14                    none          50             53             58  "
            ],
            "text/html": [
              "\n",
              "  <div id=\"df-6f375b0f-86a9-4ba6-b72a-9316b83cc9c4\" class=\"colab-df-container\">\n",
              "    <div>\n",
              "<style scoped>\n",
              "    .dataframe tbody tr th:only-of-type {\n",
              "        vertical-align: middle;\n",
              "    }\n",
              "\n",
              "    .dataframe tbody tr th {\n",
              "        vertical-align: top;\n",
              "    }\n",
              "\n",
              "    .dataframe thead th {\n",
              "        text-align: right;\n",
              "    }\n",
              "</style>\n",
              "<table border=\"1\" class=\"dataframe\">\n",
              "  <thead>\n",
              "    <tr style=\"text-align: right;\">\n",
              "      <th></th>\n",
              "      <th>gender</th>\n",
              "      <th>race/ethnicity</th>\n",
              "      <th>parental level of education</th>\n",
              "      <th>lunch</th>\n",
              "      <th>test preparation course</th>\n",
              "      <th>math score</th>\n",
              "      <th>reading score</th>\n",
              "      <th>writing score</th>\n",
              "    </tr>\n",
              "  </thead>\n",
              "  <tbody>\n",
              "    <tr>\n",
              "      <th>0</th>\n",
              "      <td>female</td>\n",
              "      <td>group B</td>\n",
              "      <td>bachelor's degree</td>\n",
              "      <td>standard</td>\n",
              "      <td>none</td>\n",
              "      <td>72</td>\n",
              "      <td>72</td>\n",
              "      <td>74</td>\n",
              "    </tr>\n",
              "    <tr>\n",
              "      <th>1</th>\n",
              "      <td>female</td>\n",
              "      <td>group C</td>\n",
              "      <td>some college</td>\n",
              "      <td>standard</td>\n",
              "      <td>completed</td>\n",
              "      <td>69</td>\n",
              "      <td>90</td>\n",
              "      <td>88</td>\n",
              "    </tr>\n",
              "    <tr>\n",
              "      <th>2</th>\n",
              "      <td>female</td>\n",
              "      <td>group B</td>\n",
              "      <td>master's degree</td>\n",
              "      <td>standard</td>\n",
              "      <td>none</td>\n",
              "      <td>90</td>\n",
              "      <td>95</td>\n",
              "      <td>93</td>\n",
              "    </tr>\n",
              "    <tr>\n",
              "      <th>3</th>\n",
              "      <td>male</td>\n",
              "      <td>group A</td>\n",
              "      <td>associate's degree</td>\n",
              "      <td>free/reduced</td>\n",
              "      <td>none</td>\n",
              "      <td>47</td>\n",
              "      <td>57</td>\n",
              "      <td>44</td>\n",
              "    </tr>\n",
              "    <tr>\n",
              "      <th>4</th>\n",
              "      <td>male</td>\n",
              "      <td>group C</td>\n",
              "      <td>some college</td>\n",
              "      <td>standard</td>\n",
              "      <td>none</td>\n",
              "      <td>76</td>\n",
              "      <td>78</td>\n",
              "      <td>75</td>\n",
              "    </tr>\n",
              "    <tr>\n",
              "      <th>5</th>\n",
              "      <td>female</td>\n",
              "      <td>group B</td>\n",
              "      <td>associate's degree</td>\n",
              "      <td>standard</td>\n",
              "      <td>none</td>\n",
              "      <td>71</td>\n",
              "      <td>83</td>\n",
              "      <td>78</td>\n",
              "    </tr>\n",
              "    <tr>\n",
              "      <th>6</th>\n",
              "      <td>female</td>\n",
              "      <td>group B</td>\n",
              "      <td>some college</td>\n",
              "      <td>standard</td>\n",
              "      <td>completed</td>\n",
              "      <td>88</td>\n",
              "      <td>95</td>\n",
              "      <td>92</td>\n",
              "    </tr>\n",
              "    <tr>\n",
              "      <th>7</th>\n",
              "      <td>male</td>\n",
              "      <td>group B</td>\n",
              "      <td>some college</td>\n",
              "      <td>free/reduced</td>\n",
              "      <td>none</td>\n",
              "      <td>40</td>\n",
              "      <td>43</td>\n",
              "      <td>39</td>\n",
              "    </tr>\n",
              "    <tr>\n",
              "      <th>8</th>\n",
              "      <td>male</td>\n",
              "      <td>group D</td>\n",
              "      <td>high school</td>\n",
              "      <td>free/reduced</td>\n",
              "      <td>completed</td>\n",
              "      <td>64</td>\n",
              "      <td>64</td>\n",
              "      <td>67</td>\n",
              "    </tr>\n",
              "    <tr>\n",
              "      <th>9</th>\n",
              "      <td>female</td>\n",
              "      <td>group B</td>\n",
              "      <td>high school</td>\n",
              "      <td>free/reduced</td>\n",
              "      <td>none</td>\n",
              "      <td>38</td>\n",
              "      <td>60</td>\n",
              "      <td>50</td>\n",
              "    </tr>\n",
              "    <tr>\n",
              "      <th>10</th>\n",
              "      <td>male</td>\n",
              "      <td>group C</td>\n",
              "      <td>associate's degree</td>\n",
              "      <td>standard</td>\n",
              "      <td>none</td>\n",
              "      <td>58</td>\n",
              "      <td>54</td>\n",
              "      <td>52</td>\n",
              "    </tr>\n",
              "    <tr>\n",
              "      <th>11</th>\n",
              "      <td>male</td>\n",
              "      <td>group D</td>\n",
              "      <td>associate's degree</td>\n",
              "      <td>standard</td>\n",
              "      <td>none</td>\n",
              "      <td>40</td>\n",
              "      <td>52</td>\n",
              "      <td>43</td>\n",
              "    </tr>\n",
              "    <tr>\n",
              "      <th>12</th>\n",
              "      <td>female</td>\n",
              "      <td>group B</td>\n",
              "      <td>high school</td>\n",
              "      <td>standard</td>\n",
              "      <td>none</td>\n",
              "      <td>65</td>\n",
              "      <td>81</td>\n",
              "      <td>73</td>\n",
              "    </tr>\n",
              "    <tr>\n",
              "      <th>13</th>\n",
              "      <td>male</td>\n",
              "      <td>group A</td>\n",
              "      <td>some college</td>\n",
              "      <td>standard</td>\n",
              "      <td>completed</td>\n",
              "      <td>78</td>\n",
              "      <td>72</td>\n",
              "      <td>70</td>\n",
              "    </tr>\n",
              "    <tr>\n",
              "      <th>14</th>\n",
              "      <td>female</td>\n",
              "      <td>group A</td>\n",
              "      <td>master's degree</td>\n",
              "      <td>standard</td>\n",
              "      <td>none</td>\n",
              "      <td>50</td>\n",
              "      <td>53</td>\n",
              "      <td>58</td>\n",
              "    </tr>\n",
              "  </tbody>\n",
              "</table>\n",
              "</div>\n",
              "    <div class=\"colab-df-buttons\">\n",
              "\n",
              "  <div class=\"colab-df-container\">\n",
              "    <button class=\"colab-df-convert\" onclick=\"convertToInteractive('df-6f375b0f-86a9-4ba6-b72a-9316b83cc9c4')\"\n",
              "            title=\"Convert this dataframe to an interactive table.\"\n",
              "            style=\"display:none;\">\n",
              "\n",
              "  <svg xmlns=\"http://www.w3.org/2000/svg\" height=\"24px\" viewBox=\"0 -960 960 960\">\n",
              "    <path d=\"M120-120v-720h720v720H120Zm60-500h600v-160H180v160Zm220 220h160v-160H400v160Zm0 220h160v-160H400v160ZM180-400h160v-160H180v160Zm440 0h160v-160H620v160ZM180-180h160v-160H180v160Zm440 0h160v-160H620v160Z\"/>\n",
              "  </svg>\n",
              "    </button>\n",
              "\n",
              "  <style>\n",
              "    .colab-df-container {\n",
              "      display:flex;\n",
              "      gap: 12px;\n",
              "    }\n",
              "\n",
              "    .colab-df-convert {\n",
              "      background-color: #E8F0FE;\n",
              "      border: none;\n",
              "      border-radius: 50%;\n",
              "      cursor: pointer;\n",
              "      display: none;\n",
              "      fill: #1967D2;\n",
              "      height: 32px;\n",
              "      padding: 0 0 0 0;\n",
              "      width: 32px;\n",
              "    }\n",
              "\n",
              "    .colab-df-convert:hover {\n",
              "      background-color: #E2EBFA;\n",
              "      box-shadow: 0px 1px 2px rgba(60, 64, 67, 0.3), 0px 1px 3px 1px rgba(60, 64, 67, 0.15);\n",
              "      fill: #174EA6;\n",
              "    }\n",
              "\n",
              "    .colab-df-buttons div {\n",
              "      margin-bottom: 4px;\n",
              "    }\n",
              "\n",
              "    [theme=dark] .colab-df-convert {\n",
              "      background-color: #3B4455;\n",
              "      fill: #D2E3FC;\n",
              "    }\n",
              "\n",
              "    [theme=dark] .colab-df-convert:hover {\n",
              "      background-color: #434B5C;\n",
              "      box-shadow: 0px 1px 3px 1px rgba(0, 0, 0, 0.15);\n",
              "      filter: drop-shadow(0px 1px 2px rgba(0, 0, 0, 0.3));\n",
              "      fill: #FFFFFF;\n",
              "    }\n",
              "  </style>\n",
              "\n",
              "    <script>\n",
              "      const buttonEl =\n",
              "        document.querySelector('#df-6f375b0f-86a9-4ba6-b72a-9316b83cc9c4 button.colab-df-convert');\n",
              "      buttonEl.style.display =\n",
              "        google.colab.kernel.accessAllowed ? 'block' : 'none';\n",
              "\n",
              "      async function convertToInteractive(key) {\n",
              "        const element = document.querySelector('#df-6f375b0f-86a9-4ba6-b72a-9316b83cc9c4');\n",
              "        const dataTable =\n",
              "          await google.colab.kernel.invokeFunction('convertToInteractive',\n",
              "                                                    [key], {});\n",
              "        if (!dataTable) return;\n",
              "\n",
              "        const docLinkHtml = 'Like what you see? Visit the ' +\n",
              "          '<a target=\"_blank\" href=https://colab.research.google.com/notebooks/data_table.ipynb>data table notebook</a>'\n",
              "          + ' to learn more about interactive tables.';\n",
              "        element.innerHTML = '';\n",
              "        dataTable['output_type'] = 'display_data';\n",
              "        await google.colab.output.renderOutput(dataTable, element);\n",
              "        const docLink = document.createElement('div');\n",
              "        docLink.innerHTML = docLinkHtml;\n",
              "        element.appendChild(docLink);\n",
              "      }\n",
              "    </script>\n",
              "  </div>\n",
              "\n",
              "\n",
              "<div id=\"df-7f3007b6-a808-43ba-bdc4-9461d91977a9\">\n",
              "  <button class=\"colab-df-quickchart\" onclick=\"quickchart('df-7f3007b6-a808-43ba-bdc4-9461d91977a9')\"\n",
              "            title=\"Suggest charts\"\n",
              "            style=\"display:none;\">\n",
              "\n",
              "<svg xmlns=\"http://www.w3.org/2000/svg\" height=\"24px\"viewBox=\"0 0 24 24\"\n",
              "     width=\"24px\">\n",
              "    <g>\n",
              "        <path d=\"M19 3H5c-1.1 0-2 .9-2 2v14c0 1.1.9 2 2 2h14c1.1 0 2-.9 2-2V5c0-1.1-.9-2-2-2zM9 17H7v-7h2v7zm4 0h-2V7h2v10zm4 0h-2v-4h2v4z\"/>\n",
              "    </g>\n",
              "</svg>\n",
              "  </button>\n",
              "\n",
              "<style>\n",
              "  .colab-df-quickchart {\n",
              "      --bg-color: #E8F0FE;\n",
              "      --fill-color: #1967D2;\n",
              "      --hover-bg-color: #E2EBFA;\n",
              "      --hover-fill-color: #174EA6;\n",
              "      --disabled-fill-color: #AAA;\n",
              "      --disabled-bg-color: #DDD;\n",
              "  }\n",
              "\n",
              "  [theme=dark] .colab-df-quickchart {\n",
              "      --bg-color: #3B4455;\n",
              "      --fill-color: #D2E3FC;\n",
              "      --hover-bg-color: #434B5C;\n",
              "      --hover-fill-color: #FFFFFF;\n",
              "      --disabled-bg-color: #3B4455;\n",
              "      --disabled-fill-color: #666;\n",
              "  }\n",
              "\n",
              "  .colab-df-quickchart {\n",
              "    background-color: var(--bg-color);\n",
              "    border: none;\n",
              "    border-radius: 50%;\n",
              "    cursor: pointer;\n",
              "    display: none;\n",
              "    fill: var(--fill-color);\n",
              "    height: 32px;\n",
              "    padding: 0;\n",
              "    width: 32px;\n",
              "  }\n",
              "\n",
              "  .colab-df-quickchart:hover {\n",
              "    background-color: var(--hover-bg-color);\n",
              "    box-shadow: 0 1px 2px rgba(60, 64, 67, 0.3), 0 1px 3px 1px rgba(60, 64, 67, 0.15);\n",
              "    fill: var(--button-hover-fill-color);\n",
              "  }\n",
              "\n",
              "  .colab-df-quickchart-complete:disabled,\n",
              "  .colab-df-quickchart-complete:disabled:hover {\n",
              "    background-color: var(--disabled-bg-color);\n",
              "    fill: var(--disabled-fill-color);\n",
              "    box-shadow: none;\n",
              "  }\n",
              "\n",
              "  .colab-df-spinner {\n",
              "    border: 2px solid var(--fill-color);\n",
              "    border-color: transparent;\n",
              "    border-bottom-color: var(--fill-color);\n",
              "    animation:\n",
              "      spin 1s steps(1) infinite;\n",
              "  }\n",
              "\n",
              "  @keyframes spin {\n",
              "    0% {\n",
              "      border-color: transparent;\n",
              "      border-bottom-color: var(--fill-color);\n",
              "      border-left-color: var(--fill-color);\n",
              "    }\n",
              "    20% {\n",
              "      border-color: transparent;\n",
              "      border-left-color: var(--fill-color);\n",
              "      border-top-color: var(--fill-color);\n",
              "    }\n",
              "    30% {\n",
              "      border-color: transparent;\n",
              "      border-left-color: var(--fill-color);\n",
              "      border-top-color: var(--fill-color);\n",
              "      border-right-color: var(--fill-color);\n",
              "    }\n",
              "    40% {\n",
              "      border-color: transparent;\n",
              "      border-right-color: var(--fill-color);\n",
              "      border-top-color: var(--fill-color);\n",
              "    }\n",
              "    60% {\n",
              "      border-color: transparent;\n",
              "      border-right-color: var(--fill-color);\n",
              "    }\n",
              "    80% {\n",
              "      border-color: transparent;\n",
              "      border-right-color: var(--fill-color);\n",
              "      border-bottom-color: var(--fill-color);\n",
              "    }\n",
              "    90% {\n",
              "      border-color: transparent;\n",
              "      border-bottom-color: var(--fill-color);\n",
              "    }\n",
              "  }\n",
              "</style>\n",
              "\n",
              "  <script>\n",
              "    async function quickchart(key) {\n",
              "      const quickchartButtonEl =\n",
              "        document.querySelector('#' + key + ' button');\n",
              "      quickchartButtonEl.disabled = true;  // To prevent multiple clicks.\n",
              "      quickchartButtonEl.classList.add('colab-df-spinner');\n",
              "      try {\n",
              "        const charts = await google.colab.kernel.invokeFunction(\n",
              "            'suggestCharts', [key], {});\n",
              "      } catch (error) {\n",
              "        console.error('Error during call to suggestCharts:', error);\n",
              "      }\n",
              "      quickchartButtonEl.classList.remove('colab-df-spinner');\n",
              "      quickchartButtonEl.classList.add('colab-df-quickchart-complete');\n",
              "    }\n",
              "    (() => {\n",
              "      let quickchartButtonEl =\n",
              "        document.querySelector('#df-7f3007b6-a808-43ba-bdc4-9461d91977a9 button');\n",
              "      quickchartButtonEl.style.display =\n",
              "        google.colab.kernel.accessAllowed ? 'block' : 'none';\n",
              "    })();\n",
              "  </script>\n",
              "</div>\n",
              "\n",
              "    </div>\n",
              "  </div>\n"
            ],
            "application/vnd.google.colaboratory.intrinsic+json": {
              "type": "dataframe",
              "variable_name": "data_raw",
              "summary": "{\n  \"name\": \"data_raw\",\n  \"rows\": 1000,\n  \"fields\": [\n    {\n      \"column\": \"gender\",\n      \"properties\": {\n        \"dtype\": \"category\",\n        \"num_unique_values\": 2,\n        \"samples\": [\n          \"male\",\n          \"female\"\n        ],\n        \"semantic_type\": \"\",\n        \"description\": \"\"\n      }\n    },\n    {\n      \"column\": \"race/ethnicity\",\n      \"properties\": {\n        \"dtype\": \"category\",\n        \"num_unique_values\": 5,\n        \"samples\": [\n          \"group C\",\n          \"group E\"\n        ],\n        \"semantic_type\": \"\",\n        \"description\": \"\"\n      }\n    },\n    {\n      \"column\": \"parental level of education\",\n      \"properties\": {\n        \"dtype\": \"category\",\n        \"num_unique_values\": 6,\n        \"samples\": [\n          \"bachelor's degree\",\n          \"some college\"\n        ],\n        \"semantic_type\": \"\",\n        \"description\": \"\"\n      }\n    },\n    {\n      \"column\": \"lunch\",\n      \"properties\": {\n        \"dtype\": \"category\",\n        \"num_unique_values\": 2,\n        \"samples\": [\n          \"free/reduced\",\n          \"standard\"\n        ],\n        \"semantic_type\": \"\",\n        \"description\": \"\"\n      }\n    },\n    {\n      \"column\": \"test preparation course\",\n      \"properties\": {\n        \"dtype\": \"category\",\n        \"num_unique_values\": 2,\n        \"samples\": [\n          \"completed\",\n          \"none\"\n        ],\n        \"semantic_type\": \"\",\n        \"description\": \"\"\n      }\n    },\n    {\n      \"column\": \"math score\",\n      \"properties\": {\n        \"dtype\": \"number\",\n        \"std\": 15,\n        \"min\": 0,\n        \"max\": 100,\n        \"num_unique_values\": 81,\n        \"samples\": [\n          55,\n          72\n        ],\n        \"semantic_type\": \"\",\n        \"description\": \"\"\n      }\n    },\n    {\n      \"column\": \"reading score\",\n      \"properties\": {\n        \"dtype\": \"number\",\n        \"std\": 14,\n        \"min\": 17,\n        \"max\": 100,\n        \"num_unique_values\": 72,\n        \"samples\": [\n          78,\n          23\n        ],\n        \"semantic_type\": \"\",\n        \"description\": \"\"\n      }\n    },\n    {\n      \"column\": \"writing score\",\n      \"properties\": {\n        \"dtype\": \"number\",\n        \"std\": 15,\n        \"min\": 10,\n        \"max\": 100,\n        \"num_unique_values\": 77,\n        \"samples\": [\n          75,\n          76\n        ],\n        \"semantic_type\": \"\",\n        \"description\": \"\"\n      }\n    }\n  ]\n}"
            }
          },
          "metadata": {},
          "execution_count": 6
        }
      ]
    },
    {
      "cell_type": "markdown",
      "source": [
        "## Data Processing/Cleaning"
      ],
      "metadata": {
        "id": "Yj3DYFuv_Nvc"
      }
    },
    {
      "cell_type": "code",
      "source": [
        "# Check for NaNs\n",
        "data_raw.isna().sum()"
      ],
      "metadata": {
        "colab": {
          "base_uri": "https://localhost:8080/"
        },
        "id": "sT5YjCzS_qj_",
        "outputId": "ab85ddf7-9fdb-469a-ccb1-f79f98dd7362"
      },
      "execution_count": 7,
      "outputs": [
        {
          "output_type": "execute_result",
          "data": {
            "text/plain": [
              "gender                         0\n",
              "race/ethnicity                 0\n",
              "parental level of education    0\n",
              "lunch                          0\n",
              "test preparation course        0\n",
              "math score                     0\n",
              "reading score                  0\n",
              "writing score                  0\n",
              "dtype: int64"
            ]
          },
          "metadata": {},
          "execution_count": 7
        }
      ]
    },
    {
      "cell_type": "markdown",
      "source": [
        "Since there are no NaNs and the data doesn't appear to need to be scaled, let's instead just add an \"average score\" column"
      ],
      "metadata": {
        "id": "r87rdaQjekIB"
      }
    },
    {
      "cell_type": "code",
      "source": [
        "# Create a new dataframe\n",
        "data_clean = data_raw\n",
        "\n",
        "# Calculate row-wise average of the math, reading, and writing scores\n",
        "data_clean['average score'] = data_clean[['math score', 'reading score', 'writing score']].mean(axis=1)\n",
        "\n",
        "# Confirm there are no NaNs in the cleaned dataframe\n",
        "data_clean.head(15)"
      ],
      "metadata": {
        "colab": {
          "base_uri": "https://localhost:8080/",
          "height": 520
        },
        "id": "KAtVRFV9_bFG",
        "outputId": "ba9ce1a1-fddd-4145-908e-1cedb87d20da"
      },
      "execution_count": 8,
      "outputs": [
        {
          "output_type": "execute_result",
          "data": {
            "text/plain": [
              "    gender race/ethnicity parental level of education         lunch  \\\n",
              "0   female        group B           bachelor's degree      standard   \n",
              "1   female        group C                some college      standard   \n",
              "2   female        group B             master's degree      standard   \n",
              "3     male        group A          associate's degree  free/reduced   \n",
              "4     male        group C                some college      standard   \n",
              "5   female        group B          associate's degree      standard   \n",
              "6   female        group B                some college      standard   \n",
              "7     male        group B                some college  free/reduced   \n",
              "8     male        group D                 high school  free/reduced   \n",
              "9   female        group B                 high school  free/reduced   \n",
              "10    male        group C          associate's degree      standard   \n",
              "11    male        group D          associate's degree      standard   \n",
              "12  female        group B                 high school      standard   \n",
              "13    male        group A                some college      standard   \n",
              "14  female        group A             master's degree      standard   \n",
              "\n",
              "   test preparation course  math score  reading score  writing score  \\\n",
              "0                     none          72             72             74   \n",
              "1                completed          69             90             88   \n",
              "2                     none          90             95             93   \n",
              "3                     none          47             57             44   \n",
              "4                     none          76             78             75   \n",
              "5                     none          71             83             78   \n",
              "6                completed          88             95             92   \n",
              "7                     none          40             43             39   \n",
              "8                completed          64             64             67   \n",
              "9                     none          38             60             50   \n",
              "10                    none          58             54             52   \n",
              "11                    none          40             52             43   \n",
              "12                    none          65             81             73   \n",
              "13               completed          78             72             70   \n",
              "14                    none          50             53             58   \n",
              "\n",
              "    average score  \n",
              "0       72.666667  \n",
              "1       82.333333  \n",
              "2       92.666667  \n",
              "3       49.333333  \n",
              "4       76.333333  \n",
              "5       77.333333  \n",
              "6       91.666667  \n",
              "7       40.666667  \n",
              "8       65.000000  \n",
              "9       49.333333  \n",
              "10      54.666667  \n",
              "11      45.000000  \n",
              "12      73.000000  \n",
              "13      73.333333  \n",
              "14      53.666667  "
            ],
            "text/html": [
              "\n",
              "  <div id=\"df-206fb97e-7a05-47d2-8ef6-10fd1820530f\" class=\"colab-df-container\">\n",
              "    <div>\n",
              "<style scoped>\n",
              "    .dataframe tbody tr th:only-of-type {\n",
              "        vertical-align: middle;\n",
              "    }\n",
              "\n",
              "    .dataframe tbody tr th {\n",
              "        vertical-align: top;\n",
              "    }\n",
              "\n",
              "    .dataframe thead th {\n",
              "        text-align: right;\n",
              "    }\n",
              "</style>\n",
              "<table border=\"1\" class=\"dataframe\">\n",
              "  <thead>\n",
              "    <tr style=\"text-align: right;\">\n",
              "      <th></th>\n",
              "      <th>gender</th>\n",
              "      <th>race/ethnicity</th>\n",
              "      <th>parental level of education</th>\n",
              "      <th>lunch</th>\n",
              "      <th>test preparation course</th>\n",
              "      <th>math score</th>\n",
              "      <th>reading score</th>\n",
              "      <th>writing score</th>\n",
              "      <th>average score</th>\n",
              "    </tr>\n",
              "  </thead>\n",
              "  <tbody>\n",
              "    <tr>\n",
              "      <th>0</th>\n",
              "      <td>female</td>\n",
              "      <td>group B</td>\n",
              "      <td>bachelor's degree</td>\n",
              "      <td>standard</td>\n",
              "      <td>none</td>\n",
              "      <td>72</td>\n",
              "      <td>72</td>\n",
              "      <td>74</td>\n",
              "      <td>72.666667</td>\n",
              "    </tr>\n",
              "    <tr>\n",
              "      <th>1</th>\n",
              "      <td>female</td>\n",
              "      <td>group C</td>\n",
              "      <td>some college</td>\n",
              "      <td>standard</td>\n",
              "      <td>completed</td>\n",
              "      <td>69</td>\n",
              "      <td>90</td>\n",
              "      <td>88</td>\n",
              "      <td>82.333333</td>\n",
              "    </tr>\n",
              "    <tr>\n",
              "      <th>2</th>\n",
              "      <td>female</td>\n",
              "      <td>group B</td>\n",
              "      <td>master's degree</td>\n",
              "      <td>standard</td>\n",
              "      <td>none</td>\n",
              "      <td>90</td>\n",
              "      <td>95</td>\n",
              "      <td>93</td>\n",
              "      <td>92.666667</td>\n",
              "    </tr>\n",
              "    <tr>\n",
              "      <th>3</th>\n",
              "      <td>male</td>\n",
              "      <td>group A</td>\n",
              "      <td>associate's degree</td>\n",
              "      <td>free/reduced</td>\n",
              "      <td>none</td>\n",
              "      <td>47</td>\n",
              "      <td>57</td>\n",
              "      <td>44</td>\n",
              "      <td>49.333333</td>\n",
              "    </tr>\n",
              "    <tr>\n",
              "      <th>4</th>\n",
              "      <td>male</td>\n",
              "      <td>group C</td>\n",
              "      <td>some college</td>\n",
              "      <td>standard</td>\n",
              "      <td>none</td>\n",
              "      <td>76</td>\n",
              "      <td>78</td>\n",
              "      <td>75</td>\n",
              "      <td>76.333333</td>\n",
              "    </tr>\n",
              "    <tr>\n",
              "      <th>5</th>\n",
              "      <td>female</td>\n",
              "      <td>group B</td>\n",
              "      <td>associate's degree</td>\n",
              "      <td>standard</td>\n",
              "      <td>none</td>\n",
              "      <td>71</td>\n",
              "      <td>83</td>\n",
              "      <td>78</td>\n",
              "      <td>77.333333</td>\n",
              "    </tr>\n",
              "    <tr>\n",
              "      <th>6</th>\n",
              "      <td>female</td>\n",
              "      <td>group B</td>\n",
              "      <td>some college</td>\n",
              "      <td>standard</td>\n",
              "      <td>completed</td>\n",
              "      <td>88</td>\n",
              "      <td>95</td>\n",
              "      <td>92</td>\n",
              "      <td>91.666667</td>\n",
              "    </tr>\n",
              "    <tr>\n",
              "      <th>7</th>\n",
              "      <td>male</td>\n",
              "      <td>group B</td>\n",
              "      <td>some college</td>\n",
              "      <td>free/reduced</td>\n",
              "      <td>none</td>\n",
              "      <td>40</td>\n",
              "      <td>43</td>\n",
              "      <td>39</td>\n",
              "      <td>40.666667</td>\n",
              "    </tr>\n",
              "    <tr>\n",
              "      <th>8</th>\n",
              "      <td>male</td>\n",
              "      <td>group D</td>\n",
              "      <td>high school</td>\n",
              "      <td>free/reduced</td>\n",
              "      <td>completed</td>\n",
              "      <td>64</td>\n",
              "      <td>64</td>\n",
              "      <td>67</td>\n",
              "      <td>65.000000</td>\n",
              "    </tr>\n",
              "    <tr>\n",
              "      <th>9</th>\n",
              "      <td>female</td>\n",
              "      <td>group B</td>\n",
              "      <td>high school</td>\n",
              "      <td>free/reduced</td>\n",
              "      <td>none</td>\n",
              "      <td>38</td>\n",
              "      <td>60</td>\n",
              "      <td>50</td>\n",
              "      <td>49.333333</td>\n",
              "    </tr>\n",
              "    <tr>\n",
              "      <th>10</th>\n",
              "      <td>male</td>\n",
              "      <td>group C</td>\n",
              "      <td>associate's degree</td>\n",
              "      <td>standard</td>\n",
              "      <td>none</td>\n",
              "      <td>58</td>\n",
              "      <td>54</td>\n",
              "      <td>52</td>\n",
              "      <td>54.666667</td>\n",
              "    </tr>\n",
              "    <tr>\n",
              "      <th>11</th>\n",
              "      <td>male</td>\n",
              "      <td>group D</td>\n",
              "      <td>associate's degree</td>\n",
              "      <td>standard</td>\n",
              "      <td>none</td>\n",
              "      <td>40</td>\n",
              "      <td>52</td>\n",
              "      <td>43</td>\n",
              "      <td>45.000000</td>\n",
              "    </tr>\n",
              "    <tr>\n",
              "      <th>12</th>\n",
              "      <td>female</td>\n",
              "      <td>group B</td>\n",
              "      <td>high school</td>\n",
              "      <td>standard</td>\n",
              "      <td>none</td>\n",
              "      <td>65</td>\n",
              "      <td>81</td>\n",
              "      <td>73</td>\n",
              "      <td>73.000000</td>\n",
              "    </tr>\n",
              "    <tr>\n",
              "      <th>13</th>\n",
              "      <td>male</td>\n",
              "      <td>group A</td>\n",
              "      <td>some college</td>\n",
              "      <td>standard</td>\n",
              "      <td>completed</td>\n",
              "      <td>78</td>\n",
              "      <td>72</td>\n",
              "      <td>70</td>\n",
              "      <td>73.333333</td>\n",
              "    </tr>\n",
              "    <tr>\n",
              "      <th>14</th>\n",
              "      <td>female</td>\n",
              "      <td>group A</td>\n",
              "      <td>master's degree</td>\n",
              "      <td>standard</td>\n",
              "      <td>none</td>\n",
              "      <td>50</td>\n",
              "      <td>53</td>\n",
              "      <td>58</td>\n",
              "      <td>53.666667</td>\n",
              "    </tr>\n",
              "  </tbody>\n",
              "</table>\n",
              "</div>\n",
              "    <div class=\"colab-df-buttons\">\n",
              "\n",
              "  <div class=\"colab-df-container\">\n",
              "    <button class=\"colab-df-convert\" onclick=\"convertToInteractive('df-206fb97e-7a05-47d2-8ef6-10fd1820530f')\"\n",
              "            title=\"Convert this dataframe to an interactive table.\"\n",
              "            style=\"display:none;\">\n",
              "\n",
              "  <svg xmlns=\"http://www.w3.org/2000/svg\" height=\"24px\" viewBox=\"0 -960 960 960\">\n",
              "    <path d=\"M120-120v-720h720v720H120Zm60-500h600v-160H180v160Zm220 220h160v-160H400v160Zm0 220h160v-160H400v160ZM180-400h160v-160H180v160Zm440 0h160v-160H620v160ZM180-180h160v-160H180v160Zm440 0h160v-160H620v160Z\"/>\n",
              "  </svg>\n",
              "    </button>\n",
              "\n",
              "  <style>\n",
              "    .colab-df-container {\n",
              "      display:flex;\n",
              "      gap: 12px;\n",
              "    }\n",
              "\n",
              "    .colab-df-convert {\n",
              "      background-color: #E8F0FE;\n",
              "      border: none;\n",
              "      border-radius: 50%;\n",
              "      cursor: pointer;\n",
              "      display: none;\n",
              "      fill: #1967D2;\n",
              "      height: 32px;\n",
              "      padding: 0 0 0 0;\n",
              "      width: 32px;\n",
              "    }\n",
              "\n",
              "    .colab-df-convert:hover {\n",
              "      background-color: #E2EBFA;\n",
              "      box-shadow: 0px 1px 2px rgba(60, 64, 67, 0.3), 0px 1px 3px 1px rgba(60, 64, 67, 0.15);\n",
              "      fill: #174EA6;\n",
              "    }\n",
              "\n",
              "    .colab-df-buttons div {\n",
              "      margin-bottom: 4px;\n",
              "    }\n",
              "\n",
              "    [theme=dark] .colab-df-convert {\n",
              "      background-color: #3B4455;\n",
              "      fill: #D2E3FC;\n",
              "    }\n",
              "\n",
              "    [theme=dark] .colab-df-convert:hover {\n",
              "      background-color: #434B5C;\n",
              "      box-shadow: 0px 1px 3px 1px rgba(0, 0, 0, 0.15);\n",
              "      filter: drop-shadow(0px 1px 2px rgba(0, 0, 0, 0.3));\n",
              "      fill: #FFFFFF;\n",
              "    }\n",
              "  </style>\n",
              "\n",
              "    <script>\n",
              "      const buttonEl =\n",
              "        document.querySelector('#df-206fb97e-7a05-47d2-8ef6-10fd1820530f button.colab-df-convert');\n",
              "      buttonEl.style.display =\n",
              "        google.colab.kernel.accessAllowed ? 'block' : 'none';\n",
              "\n",
              "      async function convertToInteractive(key) {\n",
              "        const element = document.querySelector('#df-206fb97e-7a05-47d2-8ef6-10fd1820530f');\n",
              "        const dataTable =\n",
              "          await google.colab.kernel.invokeFunction('convertToInteractive',\n",
              "                                                    [key], {});\n",
              "        if (!dataTable) return;\n",
              "\n",
              "        const docLinkHtml = 'Like what you see? Visit the ' +\n",
              "          '<a target=\"_blank\" href=https://colab.research.google.com/notebooks/data_table.ipynb>data table notebook</a>'\n",
              "          + ' to learn more about interactive tables.';\n",
              "        element.innerHTML = '';\n",
              "        dataTable['output_type'] = 'display_data';\n",
              "        await google.colab.output.renderOutput(dataTable, element);\n",
              "        const docLink = document.createElement('div');\n",
              "        docLink.innerHTML = docLinkHtml;\n",
              "        element.appendChild(docLink);\n",
              "      }\n",
              "    </script>\n",
              "  </div>\n",
              "\n",
              "\n",
              "<div id=\"df-cc1b2d7c-ca09-4d79-8c3a-1f3f9fb7a313\">\n",
              "  <button class=\"colab-df-quickchart\" onclick=\"quickchart('df-cc1b2d7c-ca09-4d79-8c3a-1f3f9fb7a313')\"\n",
              "            title=\"Suggest charts\"\n",
              "            style=\"display:none;\">\n",
              "\n",
              "<svg xmlns=\"http://www.w3.org/2000/svg\" height=\"24px\"viewBox=\"0 0 24 24\"\n",
              "     width=\"24px\">\n",
              "    <g>\n",
              "        <path d=\"M19 3H5c-1.1 0-2 .9-2 2v14c0 1.1.9 2 2 2h14c1.1 0 2-.9 2-2V5c0-1.1-.9-2-2-2zM9 17H7v-7h2v7zm4 0h-2V7h2v10zm4 0h-2v-4h2v4z\"/>\n",
              "    </g>\n",
              "</svg>\n",
              "  </button>\n",
              "\n",
              "<style>\n",
              "  .colab-df-quickchart {\n",
              "      --bg-color: #E8F0FE;\n",
              "      --fill-color: #1967D2;\n",
              "      --hover-bg-color: #E2EBFA;\n",
              "      --hover-fill-color: #174EA6;\n",
              "      --disabled-fill-color: #AAA;\n",
              "      --disabled-bg-color: #DDD;\n",
              "  }\n",
              "\n",
              "  [theme=dark] .colab-df-quickchart {\n",
              "      --bg-color: #3B4455;\n",
              "      --fill-color: #D2E3FC;\n",
              "      --hover-bg-color: #434B5C;\n",
              "      --hover-fill-color: #FFFFFF;\n",
              "      --disabled-bg-color: #3B4455;\n",
              "      --disabled-fill-color: #666;\n",
              "  }\n",
              "\n",
              "  .colab-df-quickchart {\n",
              "    background-color: var(--bg-color);\n",
              "    border: none;\n",
              "    border-radius: 50%;\n",
              "    cursor: pointer;\n",
              "    display: none;\n",
              "    fill: var(--fill-color);\n",
              "    height: 32px;\n",
              "    padding: 0;\n",
              "    width: 32px;\n",
              "  }\n",
              "\n",
              "  .colab-df-quickchart:hover {\n",
              "    background-color: var(--hover-bg-color);\n",
              "    box-shadow: 0 1px 2px rgba(60, 64, 67, 0.3), 0 1px 3px 1px rgba(60, 64, 67, 0.15);\n",
              "    fill: var(--button-hover-fill-color);\n",
              "  }\n",
              "\n",
              "  .colab-df-quickchart-complete:disabled,\n",
              "  .colab-df-quickchart-complete:disabled:hover {\n",
              "    background-color: var(--disabled-bg-color);\n",
              "    fill: var(--disabled-fill-color);\n",
              "    box-shadow: none;\n",
              "  }\n",
              "\n",
              "  .colab-df-spinner {\n",
              "    border: 2px solid var(--fill-color);\n",
              "    border-color: transparent;\n",
              "    border-bottom-color: var(--fill-color);\n",
              "    animation:\n",
              "      spin 1s steps(1) infinite;\n",
              "  }\n",
              "\n",
              "  @keyframes spin {\n",
              "    0% {\n",
              "      border-color: transparent;\n",
              "      border-bottom-color: var(--fill-color);\n",
              "      border-left-color: var(--fill-color);\n",
              "    }\n",
              "    20% {\n",
              "      border-color: transparent;\n",
              "      border-left-color: var(--fill-color);\n",
              "      border-top-color: var(--fill-color);\n",
              "    }\n",
              "    30% {\n",
              "      border-color: transparent;\n",
              "      border-left-color: var(--fill-color);\n",
              "      border-top-color: var(--fill-color);\n",
              "      border-right-color: var(--fill-color);\n",
              "    }\n",
              "    40% {\n",
              "      border-color: transparent;\n",
              "      border-right-color: var(--fill-color);\n",
              "      border-top-color: var(--fill-color);\n",
              "    }\n",
              "    60% {\n",
              "      border-color: transparent;\n",
              "      border-right-color: var(--fill-color);\n",
              "    }\n",
              "    80% {\n",
              "      border-color: transparent;\n",
              "      border-right-color: var(--fill-color);\n",
              "      border-bottom-color: var(--fill-color);\n",
              "    }\n",
              "    90% {\n",
              "      border-color: transparent;\n",
              "      border-bottom-color: var(--fill-color);\n",
              "    }\n",
              "  }\n",
              "</style>\n",
              "\n",
              "  <script>\n",
              "    async function quickchart(key) {\n",
              "      const quickchartButtonEl =\n",
              "        document.querySelector('#' + key + ' button');\n",
              "      quickchartButtonEl.disabled = true;  // To prevent multiple clicks.\n",
              "      quickchartButtonEl.classList.add('colab-df-spinner');\n",
              "      try {\n",
              "        const charts = await google.colab.kernel.invokeFunction(\n",
              "            'suggestCharts', [key], {});\n",
              "      } catch (error) {\n",
              "        console.error('Error during call to suggestCharts:', error);\n",
              "      }\n",
              "      quickchartButtonEl.classList.remove('colab-df-spinner');\n",
              "      quickchartButtonEl.classList.add('colab-df-quickchart-complete');\n",
              "    }\n",
              "    (() => {\n",
              "      let quickchartButtonEl =\n",
              "        document.querySelector('#df-cc1b2d7c-ca09-4d79-8c3a-1f3f9fb7a313 button');\n",
              "      quickchartButtonEl.style.display =\n",
              "        google.colab.kernel.accessAllowed ? 'block' : 'none';\n",
              "    })();\n",
              "  </script>\n",
              "</div>\n",
              "\n",
              "    </div>\n",
              "  </div>\n"
            ],
            "application/vnd.google.colaboratory.intrinsic+json": {
              "type": "dataframe",
              "variable_name": "data_clean",
              "summary": "{\n  \"name\": \"data_clean\",\n  \"rows\": 1000,\n  \"fields\": [\n    {\n      \"column\": \"gender\",\n      \"properties\": {\n        \"dtype\": \"category\",\n        \"num_unique_values\": 2,\n        \"samples\": [\n          \"male\",\n          \"female\"\n        ],\n        \"semantic_type\": \"\",\n        \"description\": \"\"\n      }\n    },\n    {\n      \"column\": \"race/ethnicity\",\n      \"properties\": {\n        \"dtype\": \"category\",\n        \"num_unique_values\": 5,\n        \"samples\": [\n          \"group C\",\n          \"group E\"\n        ],\n        \"semantic_type\": \"\",\n        \"description\": \"\"\n      }\n    },\n    {\n      \"column\": \"parental level of education\",\n      \"properties\": {\n        \"dtype\": \"category\",\n        \"num_unique_values\": 6,\n        \"samples\": [\n          \"bachelor's degree\",\n          \"some college\"\n        ],\n        \"semantic_type\": \"\",\n        \"description\": \"\"\n      }\n    },\n    {\n      \"column\": \"lunch\",\n      \"properties\": {\n        \"dtype\": \"category\",\n        \"num_unique_values\": 2,\n        \"samples\": [\n          \"free/reduced\",\n          \"standard\"\n        ],\n        \"semantic_type\": \"\",\n        \"description\": \"\"\n      }\n    },\n    {\n      \"column\": \"test preparation course\",\n      \"properties\": {\n        \"dtype\": \"category\",\n        \"num_unique_values\": 2,\n        \"samples\": [\n          \"completed\",\n          \"none\"\n        ],\n        \"semantic_type\": \"\",\n        \"description\": \"\"\n      }\n    },\n    {\n      \"column\": \"math score\",\n      \"properties\": {\n        \"dtype\": \"number\",\n        \"std\": 15,\n        \"min\": 0,\n        \"max\": 100,\n        \"num_unique_values\": 81,\n        \"samples\": [\n          55,\n          72\n        ],\n        \"semantic_type\": \"\",\n        \"description\": \"\"\n      }\n    },\n    {\n      \"column\": \"reading score\",\n      \"properties\": {\n        \"dtype\": \"number\",\n        \"std\": 14,\n        \"min\": 17,\n        \"max\": 100,\n        \"num_unique_values\": 72,\n        \"samples\": [\n          78,\n          23\n        ],\n        \"semantic_type\": \"\",\n        \"description\": \"\"\n      }\n    },\n    {\n      \"column\": \"writing score\",\n      \"properties\": {\n        \"dtype\": \"number\",\n        \"std\": 15,\n        \"min\": 10,\n        \"max\": 100,\n        \"num_unique_values\": 77,\n        \"samples\": [\n          75,\n          76\n        ],\n        \"semantic_type\": \"\",\n        \"description\": \"\"\n      }\n    },\n    {\n      \"column\": \"average score\",\n      \"properties\": {\n        \"dtype\": \"number\",\n        \"std\": 14.257325984669144,\n        \"min\": 9.0,\n        \"max\": 100.0,\n        \"num_unique_values\": 194,\n        \"samples\": [\n          83.33333333333333,\n          26.0\n        ],\n        \"semantic_type\": \"\",\n        \"description\": \"\"\n      }\n    }\n  ]\n}"
            }
          },
          "metadata": {},
          "execution_count": 8
        }
      ]
    },
    {
      "cell_type": "code",
      "source": [
        "# Save the new dataframe as a csv\n",
        "data_clean.to_csv(f'./{parent_dir}/{data_clean_dir}/{dataset}_clean.csv')"
      ],
      "metadata": {
        "id": "ERqp8_8sAFth"
      },
      "execution_count": 9,
      "outputs": []
    },
    {
      "cell_type": "markdown",
      "source": [
        "## Data Analysis"
      ],
      "metadata": {
        "id": "5eY_fHtuAqTm"
      }
    },
    {
      "cell_type": "markdown",
      "source": [
        "Let's start by comparing how many of the students are in the various groups with some pie charts"
      ],
      "metadata": {
        "id": "87sN1Lwwf6gt"
      }
    },
    {
      "cell_type": "code",
      "source": [
        "# Define an array to be used while saving all of these\n",
        "fig_list = {}\n",
        "\n",
        "# Define the overall subplot figure\n",
        "pie_fig = make_subplots(rows=1, cols=4, specs=[[{\"type\": \"pie\"}, {\"type\": \"pie\"}, {\"type\": \"pie\"}, {\"type\": \"pie\"}]], subplot_titles=('Percentage of Male/Female Samples','Percentage of Ethnicity Samples','Percentage of Parental Education Samples','Percentage of Lunch Samples'))\n",
        "\n",
        "#Define the subplots\n",
        "\n",
        "pie_figures = [px.pie(data_clean,values=data_clean.value_counts().values, names='gender',title='Percentage of Male/Female Samples'),\n",
        "            px.pie(data_clean,values=data_clean.value_counts().values, names='race/ethnicity',title='Percentage of Ethnicity Samples'),\n",
        "            px.pie(data_clean,values=data_clean.value_counts().values, names='parental level of education',title='Percentage of Parental Education Samples'),\n",
        "            px.pie(data_clean,values=data_clean.value_counts().values, names='lunch',title='Percentage of Lunch Samples')]\n",
        "\n",
        "# Convert the subplots to traces (because make_sublots works with go and not px, dang) and append the traces to the overall figure\n",
        "\n",
        "for i, figure in enumerate(pie_figures):\n",
        "    for trace in range(len(figure[\"data\"])):\n",
        "        pie_fig.append_trace(figure[\"data\"][trace], row=1, col=1+i)\n",
        "\n",
        "# So that we don't forget this later\n",
        "fig_list.update({'pie_fig':pie_fig})\n",
        "\n",
        "# Show the figure\n",
        "pie_fig.show()"
      ],
      "metadata": {
        "colab": {
          "base_uri": "https://localhost:8080/",
          "height": 542
        },
        "id": "da4NfV9of5y-",
        "outputId": "45220832-a0d2-40f0-9d77-941af4f25feb"
      },
      "execution_count": 26,
      "outputs": [
        {
          "output_type": "display_data",
          "data": {
            "text/html": [
              "<html>\n",
              "<head><meta charset=\"utf-8\" /></head>\n",
              "<body>\n",
              "    <div>            <script src=\"https://cdnjs.cloudflare.com/ajax/libs/mathjax/2.7.5/MathJax.js?config=TeX-AMS-MML_SVG\"></script><script type=\"text/javascript\">if (window.MathJax && window.MathJax.Hub && window.MathJax.Hub.Config) {window.MathJax.Hub.Config({SVG: {font: \"STIX-Web\"}});}</script>                <script type=\"text/javascript\">window.PlotlyConfig = {MathJaxConfig: 'local'};</script>\n",
              "        <script charset=\"utf-8\" src=\"https://cdn.plot.ly/plotly-2.24.1.min.js\"></script>                <div id=\"e6e51c5b-7dc5-4a30-ab06-79946f08b23a\" class=\"plotly-graph-div\" style=\"height:525px; width:100%;\"></div>            <script type=\"text/javascript\">                                    window.PLOTLYENV=window.PLOTLYENV || {};                                    if (document.getElementById(\"e6e51c5b-7dc5-4a30-ab06-79946f08b23a\")) {                    Plotly.newPlot(                        \"e6e51c5b-7dc5-4a30-ab06-79946f08b23a\",                        [{\"domain\":{\"x\":[0.0,0.2125],\"y\":[0.0,1.0]},\"hovertemplate\":\"gender=%{label}\\u003cbr\\u003evalue=%{value}\\u003cextra\\u003e\\u003c\\u002fextra\\u003e\",\"labels\":[\"female\",\"female\",\"female\",\"male\",\"male\",\"female\",\"female\",\"male\",\"male\",\"female\",\"male\",\"male\",\"female\",\"male\",\"female\",\"female\",\"male\",\"female\",\"male\",\"female\",\"male\",\"female\",\"male\",\"female\",\"male\",\"male\",\"male\",\"female\",\"male\",\"female\",\"female\",\"female\",\"female\",\"male\",\"male\",\"male\",\"female\",\"female\",\"female\",\"male\",\"male\",\"female\",\"female\",\"male\",\"female\",\"male\",\"female\",\"female\",\"female\",\"male\",\"male\",\"male\",\"male\",\"male\",\"female\",\"female\",\"female\",\"male\",\"male\",\"female\",\"male\",\"male\",\"male\",\"female\",\"female\",\"male\",\"male\",\"female\",\"male\",\"female\",\"female\",\"male\",\"female\",\"male\",\"male\",\"male\",\"male\",\"male\",\"female\",\"female\",\"female\",\"male\",\"male\",\"male\",\"male\",\"female\",\"female\",\"female\",\"female\",\"female\",\"female\",\"male\",\"male\",\"male\",\"female\",\"male\",\"male\",\"female\",\"female\",\"female\",\"male\",\"male\",\"female\",\"male\",\"male\",\"female\",\"female\",\"male\",\"female\",\"female\",\"female\",\"male\",\"male\",\"female\",\"female\",\"male\",\"female\",\"female\",\"female\",\"female\",\"female\",\"male\",\"female\",\"male\",\"male\",\"female\",\"male\",\"male\",\"male\",\"female\",\"male\",\"male\",\"male\",\"female\",\"male\",\"male\",\"male\",\"male\",\"female\",\"male\",\"female\",\"female\",\"female\",\"male\",\"male\",\"female\",\"male\",\"male\",\"female\",\"male\",\"male\",\"male\",\"female\",\"male\",\"male\",\"female\",\"female\",\"male\",\"female\",\"male\",\"male\",\"female\",\"male\",\"male\",\"female\",\"female\",\"male\",\"female\",\"female\",\"female\",\"male\",\"male\",\"female\",\"female\",\"female\",\"female\",\"female\",\"female\",\"female\",\"female\",\"male\",\"female\",\"female\",\"female\",\"male\",\"male\",\"male\",\"male\",\"male\",\"female\",\"female\",\"male\",\"female\",\"male\",\"female\",\"male\",\"male\",\"male\",\"female\",\"female\",\"female\",\"female\",\"male\",\"female\",\"male\",\"male\",\"male\",\"male\",\"female\",\"female\",\"male\",\"male\",\"female\",\"male\",\"male\",\"male\",\"female\",\"female\",\"male\",\"male\",\"female\",\"male\",\"female\",\"male\",\"female\",\"female\",\"female\",\"male\",\"male\",\"female\",\"male\",\"male\",\"female\",\"male\",\"male\",\"male\",\"male\",\"female\",\"male\",\"male\",\"male\",\"female\",\"female\",\"male\",\"male\",\"male\",\"male\",\"female\",\"female\",\"male\",\"male\",\"female\",\"female\",\"male\",\"male\",\"female\",\"female\",\"male\",\"female\",\"female\",\"female\",\"male\",\"female\",\"female\",\"male\",\"male\",\"female\",\"female\",\"female\",\"female\",\"male\",\"male\",\"female\",\"female\",\"male\",\"male\",\"female\",\"female\",\"female\",\"male\",\"male\",\"male\",\"female\",\"female\",\"female\",\"male\",\"male\",\"female\",\"male\",\"male\",\"male\",\"male\",\"male\",\"female\",\"male\",\"male\",\"male\",\"male\",\"male\",\"male\",\"male\",\"male\",\"female\",\"male\",\"female\",\"male\",\"male\",\"male\",\"female\",\"female\",\"female\",\"male\",\"male\",\"female\",\"female\",\"male\",\"female\",\"male\",\"male\",\"female\",\"female\",\"female\",\"female\",\"female\",\"female\",\"female\",\"male\",\"male\",\"male\",\"female\",\"male\",\"male\",\"male\",\"male\",\"female\",\"female\",\"male\",\"male\",\"female\",\"female\",\"male\",\"female\",\"female\",\"male\",\"male\",\"female\",\"male\",\"female\",\"male\",\"male\",\"female\",\"male\",\"female\",\"female\",\"female\",\"female\",\"male\",\"female\",\"male\",\"female\",\"female\",\"male\",\"female\",\"female\",\"male\",\"male\",\"male\",\"male\",\"female\",\"female\",\"male\",\"female\",\"male\",\"female\",\"female\",\"male\",\"female\",\"female\",\"female\",\"male\",\"female\",\"male\",\"male\",\"female\",\"female\",\"female\",\"female\",\"female\",\"female\",\"male\",\"male\",\"female\",\"male\",\"male\",\"female\",\"male\",\"female\",\"female\",\"male\",\"male\",\"female\",\"male\",\"female\",\"female\",\"female\",\"female\",\"male\",\"female\",\"female\",\"male\",\"female\",\"male\",\"male\",\"male\",\"female\",\"male\",\"male\",\"male\",\"male\",\"male\",\"female\",\"female\",\"female\",\"female\",\"male\",\"female\",\"male\",\"male\",\"male\",\"male\",\"male\",\"female\",\"male\",\"female\",\"male\",\"male\",\"male\",\"male\",\"male\",\"male\",\"female\",\"female\",\"female\",\"female\",\"male\",\"female\",\"male\",\"male\",\"male\",\"male\",\"female\",\"female\",\"female\",\"male\",\"female\",\"male\",\"female\",\"male\",\"female\",\"male\",\"male\",\"male\",\"female\",\"female\",\"male\",\"female\",\"female\",\"male\",\"female\",\"male\",\"female\",\"female\",\"female\",\"female\",\"female\",\"female\",\"male\",\"male\",\"female\",\"male\",\"male\",\"female\",\"male\",\"male\",\"female\",\"male\",\"male\",\"female\",\"male\",\"male\",\"female\",\"female\",\"female\",\"female\",\"female\",\"male\",\"female\",\"female\",\"female\",\"male\",\"female\",\"female\",\"male\",\"female\",\"female\",\"female\",\"male\",\"male\",\"male\",\"female\",\"male\",\"male\",\"male\",\"female\",\"female\",\"female\",\"female\",\"female\",\"female\",\"female\",\"male\",\"female\",\"male\",\"male\",\"male\",\"male\",\"male\",\"female\",\"female\",\"female\",\"female\",\"female\",\"male\",\"female\",\"male\",\"female\",\"male\",\"female\",\"male\",\"male\",\"male\",\"male\",\"female\",\"female\",\"female\",\"male\",\"female\",\"male\",\"female\",\"male\",\"male\",\"male\",\"female\",\"male\",\"male\",\"female\",\"female\",\"male\",\"female\",\"male\",\"female\",\"female\",\"male\",\"female\",\"male\",\"male\",\"female\",\"female\",\"male\",\"male\",\"male\",\"male\",\"female\",\"female\",\"female\",\"male\",\"male\",\"female\",\"female\",\"female\",\"female\",\"female\",\"female\",\"female\",\"female\",\"female\",\"female\",\"female\",\"female\",\"female\",\"male\",\"male\",\"male\",\"female\",\"female\",\"female\",\"male\",\"male\",\"female\",\"female\",\"female\",\"female\",\"female\",\"male\",\"male\",\"male\",\"female\",\"female\",\"female\",\"female\",\"male\",\"female\",\"male\",\"female\",\"female\",\"female\",\"female\",\"male\",\"male\",\"male\",\"female\",\"male\",\"male\",\"male\",\"female\",\"male\",\"male\",\"male\",\"male\",\"female\",\"male\",\"male\",\"female\",\"female\",\"male\",\"male\",\"female\",\"female\",\"male\",\"female\",\"male\",\"female\",\"female\",\"female\",\"male\",\"female\",\"female\",\"female\",\"female\",\"female\",\"male\",\"female\",\"female\",\"female\",\"female\",\"female\",\"male\",\"male\",\"female\",\"male\",\"male\",\"male\",\"female\",\"female\",\"male\",\"female\",\"female\",\"female\",\"male\",\"male\",\"female\",\"male\",\"female\",\"female\",\"female\",\"female\",\"female\",\"female\",\"male\",\"male\",\"female\",\"male\",\"male\",\"female\",\"male\",\"female\",\"male\",\"male\",\"male\",\"male\",\"female\",\"female\",\"female\",\"female\",\"female\",\"female\",\"female\",\"female\",\"female\",\"male\",\"female\",\"female\",\"male\",\"female\",\"female\",\"male\",\"male\",\"male\",\"male\",\"female\",\"male\",\"female\",\"female\",\"male\",\"female\",\"female\",\"male\",\"female\",\"female\",\"male\",\"female\",\"male\",\"female\",\"male\",\"male\",\"male\",\"female\",\"male\",\"female\",\"male\",\"female\",\"male\",\"female\",\"male\",\"female\",\"male\",\"male\",\"female\",\"male\",\"male\",\"male\",\"female\",\"female\",\"female\",\"male\",\"male\",\"male\",\"male\",\"female\",\"male\",\"male\",\"male\",\"male\",\"female\",\"male\",\"female\",\"male\",\"male\",\"female\",\"male\",\"female\",\"female\",\"male\",\"female\",\"male\",\"female\",\"female\",\"male\",\"female\",\"male\",\"male\",\"male\",\"female\",\"female\",\"male\",\"female\",\"female\",\"female\",\"female\",\"male\",\"female\",\"female\",\"female\",\"female\",\"male\",\"female\",\"female\",\"female\",\"male\",\"female\",\"female\",\"female\",\"male\",\"male\",\"female\",\"female\",\"male\",\"female\",\"male\",\"female\",\"male\",\"male\",\"female\",\"female\",\"female\",\"male\",\"female\",\"female\",\"male\",\"male\",\"male\",\"male\",\"female\",\"male\",\"female\",\"male\",\"female\",\"male\",\"female\",\"female\",\"female\",\"female\",\"male\",\"female\",\"female\",\"male\",\"female\",\"female\",\"female\",\"male\",\"female\",\"female\",\"male\",\"female\",\"male\",\"female\",\"male\",\"female\",\"male\",\"female\",\"female\",\"male\",\"female\",\"male\",\"female\",\"male\",\"male\",\"male\",\"female\",\"male\",\"male\",\"female\",\"female\",\"male\",\"male\",\"female\",\"male\",\"female\",\"male\",\"male\",\"female\",\"female\",\"male\",\"female\",\"male\",\"male\",\"male\",\"male\",\"male\",\"male\",\"male\",\"female\",\"male\",\"male\",\"female\",\"male\",\"male\",\"male\",\"female\",\"female\",\"male\",\"female\",\"female\",\"male\",\"female\",\"female\",\"female\",\"male\",\"female\",\"male\",\"female\",\"female\",\"female\",\"male\",\"female\",\"female\",\"male\",\"female\",\"male\",\"female\",\"male\",\"female\",\"female\",\"female\",\"female\",\"male\",\"male\",\"female\",\"female\",\"male\",\"male\",\"female\",\"female\",\"female\",\"female\",\"female\",\"male\",\"female\",\"female\",\"male\",\"male\",\"female\",\"male\",\"female\",\"male\",\"male\",\"male\",\"female\",\"male\",\"female\",\"male\",\"male\",\"male\",\"male\",\"male\",\"male\",\"male\",\"female\",\"male\",\"male\",\"male\",\"female\",\"male\",\"male\",\"female\",\"female\",\"male\",\"female\",\"male\",\"female\",\"male\",\"female\",\"female\",\"male\",\"female\",\"male\",\"male\",\"female\",\"female\",\"male\",\"female\",\"female\",\"female\",\"female\",\"male\",\"female\",\"male\",\"male\",\"female\",\"female\",\"female\",\"male\",\"female\",\"female\",\"female\",\"female\",\"male\",\"male\",\"male\",\"female\",\"female\",\"male\",\"male\",\"female\",\"female\",\"male\",\"female\",\"male\",\"female\",\"female\",\"male\",\"female\",\"female\",\"female\",\"male\",\"female\",\"male\",\"female\",\"female\",\"female\"],\"legendgroup\":\"\",\"name\":\"\",\"showlegend\":true,\"values\":[1,1,1,1,1,1,1,1,1,1,1,1,1,1,1,1,1,1,1,1,1,1,1,1,1,1,1,1,1,1,1,1,1,1,1,1,1,1,1,1,1,1,1,1,1,1,1,1,1,1,1,1,1,1,1,1,1,1,1,1,1,1,1,1,1,1,1,1,1,1,1,1,1,1,1,1,1,1,1,1,1,1,1,1,1,1,1,1,1,1,1,1,1,1,1,1,1,1,1,1,1,1,1,1,1,1,1,1,1,1,1,1,1,1,1,1,1,1,1,1,1,1,1,1,1,1,1,1,1,1,1,1,1,1,1,1,1,1,1,1,1,1,1,1,1,1,1,1,1,1,1,1,1,1,1,1,1,1,1,1,1,1,1,1,1,1,1,1,1,1,1,1,1,1,1,1,1,1,1,1,1,1,1,1,1,1,1,1,1,1,1,1,1,1,1,1,1,1,1,1,1,1,1,1,1,1,1,1,1,1,1,1,1,1,1,1,1,1,1,1,1,1,1,1,1,1,1,1,1,1,1,1,1,1,1,1,1,1,1,1,1,1,1,1,1,1,1,1,1,1,1,1,1,1,1,1,1,1,1,1,1,1,1,1,1,1,1,1,1,1,1,1,1,1,1,1,1,1,1,1,1,1,1,1,1,1,1,1,1,1,1,1,1,1,1,1,1,1,1,1,1,1,1,1,1,1,1,1,1,1,1,1,1,1,1,1,1,1,1,1,1,1,1,1,1,1,1,1,1,1,1,1,1,1,1,1,1,1,1,1,1,1,1,1,1,1,1,1,1,1,1,1,1,1,1,1,1,1,1,1,1,1,1,1,1,1,1,1,1,1,1,1,1,1,1,1,1,1,1,1,1,1,1,1,1,1,1,1,1,1,1,1,1,1,1,1,1,1,1,1,1,1,1,1,1,1,1,1,1,1,1,1,1,1,1,1,1,1,1,1,1,1,1,1,1,1,1,1,1,1,1,1,1,1,1,1,1,1,1,1,1,1,1,1,1,1,1,1,1,1,1,1,1,1,1,1,1,1,1,1,1,1,1,1,1,1,1,1,1,1,1,1,1,1,1,1,1,1,1,1,1,1,1,1,1,1,1,1,1,1,1,1,1,1,1,1,1,1,1,1,1,1,1,1,1,1,1,1,1,1,1,1,1,1,1,1,1,1,1,1,1,1,1,1,1,1,1,1,1,1,1,1,1,1,1,1,1,1,1,1,1,1,1,1,1,1,1,1,1,1,1,1,1,1,1,1,1,1,1,1,1,1,1,1,1,1,1,1,1,1,1,1,1,1,1,1,1,1,1,1,1,1,1,1,1,1,1,1,1,1,1,1,1,1,1,1,1,1,1,1,1,1,1,1,1,1,1,1,1,1,1,1,1,1,1,1,1,1,1,1,1,1,1,1,1,1,1,1,1,1,1,1,1,1,1,1,1,1,1,1,1,1,1,1,1,1,1,1,1,1,1,1,1,1,1,1,1,1,1,1,1,1,1,1,1,1,1,1,1,1,1,1,1,1,1,1,1,1,1,1,1,1,1,1,1,1,1,1,1,1,1,1,1,1,1,1,1,1,1,1,1,1,1,1,1,1,1,1,1,1,1,1,1,1,1,1,1,1,1,1,1,1,1,1,1,1,1,1,1,1,1,1,1,1,1,1,1,1,1,1,1,1,1,1,1,1,1,1,1,1,1,1,1,1,1,1,1,1,1,1,1,1,1,1,1,1,1,1,1,1,1,1,1,1,1,1,1,1,1,1,1,1,1,1,1,1,1,1,1,1,1,1,1,1,1,1,1,1,1,1,1,1,1,1,1,1,1,1,1,1,1,1,1,1,1,1,1,1,1,1,1,1,1,1,1,1,1,1,1,1,1,1,1,1,1,1,1,1,1,1,1,1,1,1,1,1,1,1,1,1,1,1,1,1,1,1,1,1,1,1,1,1,1,1,1,1,1,1,1,1,1,1,1,1,1,1,1,1,1,1,1,1,1,1,1,1,1,1,1,1,1,1,1,1,1,1,1,1,1,1,1,1,1,1,1,1,1,1,1,1,1,1,1,1,1,1,1,1,1,1,1,1,1,1,1,1,1,1,1,1,1,1,1,1,1,1,1,1,1,1,1,1,1,1,1,1,1,1,1,1,1,1,1,1,1,1,1,1,1,1,1,1,1,1,1,1,1,1,1,1,1,1,1,1,1,1,1,1,1,1,1,1,1,1,1,1,1,1,1,1,1,1,1,1,1,1,1,1,1,1],\"type\":\"pie\"},{\"domain\":{\"x\":[0.2625,0.475],\"y\":[0.0,1.0]},\"hovertemplate\":\"race\\u002fethnicity=%{label}\\u003cbr\\u003evalue=%{value}\\u003cextra\\u003e\\u003c\\u002fextra\\u003e\",\"labels\":[\"group B\",\"group C\",\"group B\",\"group A\",\"group C\",\"group B\",\"group B\",\"group B\",\"group D\",\"group B\",\"group C\",\"group D\",\"group B\",\"group A\",\"group A\",\"group C\",\"group C\",\"group B\",\"group C\",\"group C\",\"group D\",\"group B\",\"group D\",\"group C\",\"group D\",\"group A\",\"group B\",\"group C\",\"group C\",\"group D\",\"group D\",\"group B\",\"group E\",\"group D\",\"group E\",\"group E\",\"group D\",\"group D\",\"group D\",\"group B\",\"group C\",\"group C\",\"group B\",\"group B\",\"group E\",\"group B\",\"group A\",\"group C\",\"group D\",\"group C\",\"group E\",\"group E\",\"group C\",\"group D\",\"group C\",\"group C\",\"group E\",\"group D\",\"group D\",\"group C\",\"group E\",\"group A\",\"group A\",\"group C\",\"group D\",\"group B\",\"group D\",\"group C\",\"group B\",\"group C\",\"group D\",\"group D\",\"group A\",\"group C\",\"group C\",\"group B\",\"group E\",\"group A\",\"group D\",\"group E\",\"group B\",\"group B\",\"group A\",\"group E\",\"group D\",\"group C\",\"group C\",\"group D\",\"group A\",\"group D\",\"group C\",\"group C\",\"group C\",\"group C\",\"group B\",\"group C\",\"group B\",\"group E\",\"group D\",\"group D\",\"group B\",\"group D\",\"group D\",\"group B\",\"group C\",\"group C\",\"group D\",\"group E\",\"group B\",\"group B\",\"group D\",\"group C\",\"group A\",\"group D\",\"group E\",\"group C\",\"group B\",\"group D\",\"group D\",\"group C\",\"group C\",\"group B\",\"group C\",\"group D\",\"group E\",\"group B\",\"group B\",\"group D\",\"group D\",\"group A\",\"group D\",\"group C\",\"group E\",\"group C\",\"group D\",\"group C\",\"group B\",\"group E\",\"group C\",\"group D\",\"group D\",\"group C\",\"group E\",\"group A\",\"group D\",\"group C\",\"group B\",\"group C\",\"group D\",\"group E\",\"group A\",\"group A\",\"group B\",\"group D\",\"group D\",\"group C\",\"group E\",\"group B\",\"group B\",\"group D\",\"group B\",\"group E\",\"group B\",\"group C\",\"group E\",\"group C\",\"group C\",\"group B\",\"group B\",\"group C\",\"group A\",\"group E\",\"group D\",\"group C\",\"group C\",\"group C\",\"group B\",\"group C\",\"group B\",\"group D\",\"group C\",\"group C\",\"group E\",\"group D\",\"group C\",\"group C\",\"group E\",\"group D\",\"group B\",\"group C\",\"group E\",\"group D\",\"group B\",\"group D\",\"group C\",\"group D\",\"group C\",\"group E\",\"group B\",\"group B\",\"group C\",\"group D\",\"group C\",\"group B\",\"group C\",\"group D\",\"group E\",\"group E\",\"group B\",\"group B\",\"group D\",\"group C\",\"group C\",\"group C\",\"group E\",\"group B\",\"group E\",\"group C\",\"group B\",\"group B\",\"group D\",\"group B\",\"group C\",\"group D\",\"group B\",\"group E\",\"group C\",\"group D\",\"group A\",\"group C\",\"group D\",\"group C\",\"group B\",\"group E\",\"group C\",\"group D\",\"group D\",\"group D\",\"group B\",\"group C\",\"group D\",\"group E\",\"group D\",\"group E\",\"group D\",\"group C\",\"group E\",\"group B\",\"group B\",\"group C\",\"group A\",\"group D\",\"group B\",\"group D\",\"group D\",\"group E\",\"group C\",\"group C\",\"group B\",\"group C\",\"group C\",\"group C\",\"group C\",\"group E\",\"group D\",\"group D\",\"group C\",\"group D\",\"group D\",\"group E\",\"group C\",\"group C\",\"group D\",\"group D\",\"group B\",\"group C\",\"group C\",\"group E\",\"group C\",\"group B\",\"group D\",\"group D\",\"group D\",\"group D\",\"group B\",\"group B\",\"group E\",\"group B\",\"group B\",\"group E\",\"group C\",\"group D\",\"group C\",\"group E\",\"group D\",\"group B\",\"group A\",\"group E\",\"group C\",\"group D\",\"group A\",\"group D\",\"group C\",\"group B\",\"group C\",\"group A\",\"group E\",\"group C\",\"group B\",\"group D\",\"group B\",\"group B\",\"group D\",\"group C\",\"group C\",\"group C\",\"group D\",\"group C\",\"group B\",\"group D\",\"group C\",\"group E\",\"group C\",\"group C\",\"group C\",\"group C\",\"group C\",\"group A\",\"group C\",\"group B\",\"group C\",\"group C\",\"group E\",\"group B\",\"group C\",\"group B\",\"group D\",\"group C\",\"group B\",\"group D\",\"group C\",\"group C\",\"group B\",\"group D\",\"group D\",\"group C\",\"group B\",\"group C\",\"group D\",\"group E\",\"group B\",\"group E\",\"group C\",\"group C\",\"group C\",\"group B\",\"group A\",\"group C\",\"group D\",\"group D\",\"group B\",\"group B\",\"group C\",\"group D\",\"group C\",\"group A\",\"group C\",\"group C\",\"group A\",\"group D\",\"group E\",\"group C\",\"group D\",\"group D\",\"group D\",\"group E\",\"group D\",\"group D\",\"group A\",\"group A\",\"group B\",\"group C\",\"group C\",\"group E\",\"group A\",\"group E\",\"group E\",\"group C\",\"group D\",\"group D\",\"group E\",\"group D\",\"group E\",\"group C\",\"group C\",\"group A\",\"group B\",\"group C\",\"group B\",\"group D\",\"group C\",\"group A\",\"group A\",\"group D\",\"group C\",\"group C\",\"group B\",\"group B\",\"group D\",\"group D\",\"group D\",\"group E\",\"group D\",\"group B\",\"group C\",\"group E\",\"group C\",\"group C\",\"group D\",\"group E\",\"group C\",\"group D\",\"group D\",\"group A\",\"group B\",\"group C\",\"group C\",\"group C\",\"group A\",\"group C\",\"group C\",\"group C\",\"group C\",\"group A\",\"group C\",\"group C\",\"group D\",\"group D\",\"group C\",\"group D\",\"group C\",\"group D\",\"group A\",\"group B\",\"group A\",\"group C\",\"group D\",\"group C\",\"group B\",\"group B\",\"group C\",\"group E\",\"group C\",\"group C\",\"group C\",\"group C\",\"group D\",\"group D\",\"group E\",\"group B\",\"group C\",\"group B\",\"group E\",\"group C\",\"group A\",\"group C\",\"group D\",\"group A\",\"group A\",\"group C\",\"group C\",\"group C\",\"group C\",\"group D\",\"group B\",\"group D\",\"group E\",\"group D\",\"group D\",\"group E\",\"group B\",\"group D\",\"group C\",\"group A\",\"group B\",\"group C\",\"group D\",\"group C\",\"group B\",\"group A\",\"group A\",\"group C\",\"group C\",\"group C\",\"group B\",\"group D\",\"group C\",\"group D\",\"group B\",\"group E\",\"group D\",\"group B\",\"group C\",\"group E\",\"group D\",\"group B\",\"group A\",\"group B\",\"group C\",\"group C\",\"group D\",\"group A\",\"group D\",\"group B\",\"group B\",\"group C\",\"group D\",\"group E\",\"group D\",\"group B\",\"group D\",\"group C\",\"group D\",\"group C\",\"group C\",\"group E\",\"group C\",\"group C\",\"group D\",\"group C\",\"group C\",\"group C\",\"group E\",\"group E\",\"group B\",\"group C\",\"group C\",\"group D\",\"group E\",\"group A\",\"group C\",\"group D\",\"group C\",\"group D\",\"group D\",\"group E\",\"group A\",\"group C\",\"group C\",\"group C\",\"group C\",\"group B\",\"group B\",\"group D\",\"group E\",\"group C\",\"group C\",\"group C\",\"group B\",\"group D\",\"group D\",\"group C\",\"group C\",\"group D\",\"group B\",\"group B\",\"group E\",\"group D\",\"group B\",\"group D\",\"group B\",\"group A\",\"group C\",\"group C\",\"group E\",\"group A\",\"group A\",\"group B\",\"group B\",\"group D\",\"group D\",\"group E\",\"group D\",\"group D\",\"group D\",\"group C\",\"group A\",\"group C\",\"group C\",\"group A\",\"group C\",\"group A\",\"group E\",\"group E\",\"group C\",\"group C\",\"group B\",\"group A\",\"group D\",\"group D\",\"group D\",\"group C\",\"group E\",\"group D\",\"group D\",\"group C\",\"group C\",\"group C\",\"group E\",\"group B\",\"group D\",\"group C\",\"group C\",\"group C\",\"group A\",\"group C\",\"group E\",\"group D\",\"group D\",\"group C\",\"group C\",\"group B\",\"group C\",\"group A\",\"group E\",\"group D\",\"group B\",\"group D\",\"group D\",\"group C\",\"group D\",\"group B\",\"group B\",\"group C\",\"group D\",\"group A\",\"group B\",\"group D\",\"group E\",\"group D\",\"group D\",\"group D\",\"group B\",\"group E\",\"group B\",\"group B\",\"group D\",\"group E\",\"group B\",\"group D\",\"group C\",\"group A\",\"group D\",\"group A\",\"group B\",\"group B\",\"group C\",\"group D\",\"group D\",\"group D\",\"group C\",\"group C\",\"group D\",\"group C\",\"group D\",\"group C\",\"group C\",\"group B\",\"group C\",\"group D\",\"group C\",\"group D\",\"group C\",\"group C\",\"group D\",\"group B\",\"group E\",\"group C\",\"group D\",\"group D\",\"group D\",\"group B\",\"group B\",\"group C\",\"group B\",\"group E\",\"group E\",\"group D\",\"group A\",\"group E\",\"group C\",\"group E\",\"group C\",\"group D\",\"group C\",\"group D\",\"group C\",\"group A\",\"group D\",\"group C\",\"group E\",\"group B\",\"group A\",\"group D\",\"group B\",\"group A\",\"group D\",\"group C\",\"group D\",\"group D\",\"group C\",\"group E\",\"group D\",\"group D\",\"group B\",\"group B\",\"group C\",\"group C\",\"group C\",\"group E\",\"group C\",\"group D\",\"group B\",\"group C\",\"group B\",\"group E\",\"group E\",\"group E\",\"group D\",\"group C\",\"group B\",\"group A\",\"group C\",\"group D\",\"group E\",\"group C\",\"group C\",\"group B\",\"group D\",\"group C\",\"group D\",\"group A\",\"group C\",\"group C\",\"group B\",\"group D\",\"group D\",\"group C\",\"group C\",\"group B\",\"group D\",\"group E\",\"group C\",\"group C\",\"group C\",\"group E\",\"group D\",\"group E\",\"group D\",\"group B\",\"group C\",\"group D\",\"group D\",\"group B\",\"group D\",\"group B\",\"group C\",\"group B\",\"group D\",\"group A\",\"group B\",\"group D\",\"group B\",\"group C\",\"group B\",\"group B\",\"group B\",\"group C\",\"group A\",\"group E\",\"group D\",\"group B\",\"group B\",\"group C\",\"group C\",\"group B\",\"group E\",\"group B\",\"group C\",\"group C\",\"group B\",\"group D\",\"group D\",\"group E\",\"group B\",\"group E\",\"group D\",\"group E\",\"group E\",\"group C\",\"group C\",\"group C\",\"group E\",\"group B\",\"group C\",\"group A\",\"group D\",\"group E\",\"group C\",\"group B\",\"group A\",\"group A\",\"group C\",\"group E\",\"group C\",\"group B\",\"group A\",\"group D\",\"group B\",\"group C\",\"group A\",\"group D\",\"group E\",\"group B\",\"group C\",\"group C\",\"group C\",\"group C\",\"group D\",\"group B\",\"group A\",\"group C\",\"group A\",\"group B\",\"group B\",\"group C\",\"group E\",\"group A\",\"group B\",\"group C\",\"group D\",\"group C\",\"group B\",\"group B\",\"group D\",\"group E\",\"group C\",\"group D\",\"group C\",\"group D\",\"group C\",\"group A\",\"group E\",\"group E\",\"group C\",\"group B\",\"group B\",\"group C\",\"group B\",\"group C\",\"group C\",\"group E\",\"group D\",\"group C\",\"group C\",\"group D\",\"group C\",\"group B\",\"group E\",\"group C\",\"group B\",\"group C\",\"group B\",\"group E\",\"group C\",\"group C\",\"group D\",\"group C\",\"group D\",\"group D\",\"group C\",\"group E\",\"group B\",\"group D\",\"group E\",\"group C\",\"group E\",\"group C\",\"group D\",\"group D\",\"group E\",\"group E\",\"group A\",\"group D\",\"group E\",\"group E\",\"group B\",\"group B\",\"group D\",\"group D\",\"group D\",\"group C\",\"group A\",\"group D\",\"group D\",\"group D\",\"group B\",\"group D\",\"group C\",\"group E\",\"group D\",\"group A\",\"group C\",\"group C\",\"group B\",\"group E\",\"group E\",\"group C\",\"group C\",\"group B\",\"group D\",\"group C\",\"group D\",\"group B\",\"group D\",\"group E\",\"group E\",\"group D\",\"group E\",\"group C\",\"group C\",\"group D\",\"group D\",\"group C\",\"group C\",\"group D\",\"group A\",\"group E\",\"group D\",\"group D\",\"group C\",\"group D\",\"group C\",\"group A\",\"group B\",\"group C\",\"group B\",\"group D\",\"group B\",\"group E\",\"group E\",\"group D\",\"group E\",\"group C\",\"group C\",\"group E\",\"group C\",\"group D\",\"group D\",\"group C\",\"group A\",\"group D\",\"group E\",\"group C\",\"group D\",\"group D\",\"group A\",\"group C\",\"group E\",\"group B\",\"group D\",\"group C\",\"group A\",\"group D\",\"group A\",\"group C\",\"group B\",\"group C\",\"group D\",\"group C\",\"group B\",\"group D\",\"group B\",\"group A\",\"group C\",\"group A\",\"group C\",\"group E\",\"group A\",\"group D\",\"group E\",\"group B\",\"group D\",\"group D\",\"group A\",\"group E\",\"group C\",\"group C\",\"group D\",\"group D\"],\"legendgroup\":\"\",\"name\":\"\",\"showlegend\":true,\"values\":[1,1,1,1,1,1,1,1,1,1,1,1,1,1,1,1,1,1,1,1,1,1,1,1,1,1,1,1,1,1,1,1,1,1,1,1,1,1,1,1,1,1,1,1,1,1,1,1,1,1,1,1,1,1,1,1,1,1,1,1,1,1,1,1,1,1,1,1,1,1,1,1,1,1,1,1,1,1,1,1,1,1,1,1,1,1,1,1,1,1,1,1,1,1,1,1,1,1,1,1,1,1,1,1,1,1,1,1,1,1,1,1,1,1,1,1,1,1,1,1,1,1,1,1,1,1,1,1,1,1,1,1,1,1,1,1,1,1,1,1,1,1,1,1,1,1,1,1,1,1,1,1,1,1,1,1,1,1,1,1,1,1,1,1,1,1,1,1,1,1,1,1,1,1,1,1,1,1,1,1,1,1,1,1,1,1,1,1,1,1,1,1,1,1,1,1,1,1,1,1,1,1,1,1,1,1,1,1,1,1,1,1,1,1,1,1,1,1,1,1,1,1,1,1,1,1,1,1,1,1,1,1,1,1,1,1,1,1,1,1,1,1,1,1,1,1,1,1,1,1,1,1,1,1,1,1,1,1,1,1,1,1,1,1,1,1,1,1,1,1,1,1,1,1,1,1,1,1,1,1,1,1,1,1,1,1,1,1,1,1,1,1,1,1,1,1,1,1,1,1,1,1,1,1,1,1,1,1,1,1,1,1,1,1,1,1,1,1,1,1,1,1,1,1,1,1,1,1,1,1,1,1,1,1,1,1,1,1,1,1,1,1,1,1,1,1,1,1,1,1,1,1,1,1,1,1,1,1,1,1,1,1,1,1,1,1,1,1,1,1,1,1,1,1,1,1,1,1,1,1,1,1,1,1,1,1,1,1,1,1,1,1,1,1,1,1,1,1,1,1,1,1,1,1,1,1,1,1,1,1,1,1,1,1,1,1,1,1,1,1,1,1,1,1,1,1,1,1,1,1,1,1,1,1,1,1,1,1,1,1,1,1,1,1,1,1,1,1,1,1,1,1,1,1,1,1,1,1,1,1,1,1,1,1,1,1,1,1,1,1,1,1,1,1,1,1,1,1,1,1,1,1,1,1,1,1,1,1,1,1,1,1,1,1,1,1,1,1,1,1,1,1,1,1,1,1,1,1,1,1,1,1,1,1,1,1,1,1,1,1,1,1,1,1,1,1,1,1,1,1,1,1,1,1,1,1,1,1,1,1,1,1,1,1,1,1,1,1,1,1,1,1,1,1,1,1,1,1,1,1,1,1,1,1,1,1,1,1,1,1,1,1,1,1,1,1,1,1,1,1,1,1,1,1,1,1,1,1,1,1,1,1,1,1,1,1,1,1,1,1,1,1,1,1,1,1,1,1,1,1,1,1,1,1,1,1,1,1,1,1,1,1,1,1,1,1,1,1,1,1,1,1,1,1,1,1,1,1,1,1,1,1,1,1,1,1,1,1,1,1,1,1,1,1,1,1,1,1,1,1,1,1,1,1,1,1,1,1,1,1,1,1,1,1,1,1,1,1,1,1,1,1,1,1,1,1,1,1,1,1,1,1,1,1,1,1,1,1,1,1,1,1,1,1,1,1,1,1,1,1,1,1,1,1,1,1,1,1,1,1,1,1,1,1,1,1,1,1,1,1,1,1,1,1,1,1,1,1,1,1,1,1,1,1,1,1,1,1,1,1,1,1,1,1,1,1,1,1,1,1,1,1,1,1,1,1,1,1,1,1,1,1,1,1,1,1,1,1,1,1,1,1,1,1,1,1,1,1,1,1,1,1,1,1,1,1,1,1,1,1,1,1,1,1,1,1,1,1,1,1,1,1,1,1,1,1,1,1,1,1,1,1,1,1,1,1,1,1,1,1,1,1,1,1,1,1,1,1,1,1,1,1,1,1,1,1,1,1,1,1,1,1,1,1,1,1,1,1,1,1,1,1,1,1,1,1,1,1,1,1,1,1,1,1,1,1,1,1,1,1,1,1,1,1,1,1,1,1,1,1,1,1,1,1,1,1,1,1,1,1,1,1,1,1,1,1,1,1,1,1,1,1,1,1,1,1,1,1,1,1,1,1,1,1,1,1,1,1,1,1,1,1,1,1,1,1,1,1,1,1,1,1,1,1,1,1,1,1,1,1,1,1,1,1,1,1,1,1,1,1,1,1,1,1,1,1,1,1,1,1,1,1,1,1,1,1,1,1,1,1,1,1,1,1,1,1,1,1,1,1,1,1,1,1,1,1,1,1,1,1],\"type\":\"pie\"},{\"domain\":{\"x\":[0.525,0.7375],\"y\":[0.0,1.0]},\"hovertemplate\":\"parental level of education=%{label}\\u003cbr\\u003evalue=%{value}\\u003cextra\\u003e\\u003c\\u002fextra\\u003e\",\"labels\":[\"bachelor's degree\",\"some college\",\"master's degree\",\"associate's degree\",\"some college\",\"associate's degree\",\"some college\",\"some college\",\"high school\",\"high school\",\"associate's degree\",\"associate's degree\",\"high school\",\"some college\",\"master's degree\",\"some high school\",\"high school\",\"some high school\",\"master's degree\",\"associate's degree\",\"high school\",\"some college\",\"some college\",\"some high school\",\"bachelor's degree\",\"master's degree\",\"some college\",\"bachelor's degree\",\"high school\",\"master's degree\",\"some college\",\"some college\",\"master's degree\",\"some college\",\"some college\",\"associate's degree\",\"associate's degree\",\"some high school\",\"associate's degree\",\"associate's degree\",\"associate's degree\",\"associate's degree\",\"associate's degree\",\"some college\",\"associate's degree\",\"associate's degree\",\"associate's degree\",\"high school\",\"associate's degree\",\"high school\",\"some college\",\"associate's degree\",\"some college\",\"high school\",\"some high school\",\"high school\",\"associate's degree\",\"associate's degree\",\"some college\",\"some high school\",\"bachelor's degree\",\"some high school\",\"associate's degree\",\"associate's degree\",\"some high school\",\"some high school\",\"some high school\",\"some college\",\"associate's degree\",\"associate's degree\",\"some college\",\"some college\",\"associate's degree\",\"some high school\",\"some high school\",\"associate's degree\",\"some high school\",\"bachelor's degree\",\"some high school\",\"master's degree\",\"associate's degree\",\"high school\",\"some college\",\"associate's degree\",\"high school\",\"some college\",\"some college\",\"associate's degree\",\"some college\",\"some high school\",\"bachelor's degree\",\"high school\",\"high school\",\"associate's degree\",\"some college\",\"associate's degree\",\"some high school\",\"some college\",\"some college\",\"bachelor's degree\",\"some college\",\"bachelor's degree\",\"associate's degree\",\"high school\",\"some college\",\"some college\",\"master's degree\",\"associate's degree\",\"associate's degree\",\"some high school\",\"associate's degree\",\"high school\",\"associate's degree\",\"some college\",\"bachelor's degree\",\"high school\",\"bachelor's degree\",\"bachelor's degree\",\"some high school\",\"some college\",\"bachelor's degree\",\"associate's degree\",\"some college\",\"high school\",\"some college\",\"high school\",\"some high school\",\"some college\",\"master's degree\",\"bachelor's degree\",\"master's degree\",\"some high school\",\"some college\",\"some college\",\"bachelor's degree\",\"bachelor's degree\",\"some high school\",\"high school\",\"associate's degree\",\"some college\",\"some high school\",\"some college\",\"some college\",\"high school\",\"some college\",\"some college\",\"some high school\",\"associate's degree\",\"bachelor's degree\",\"associate's degree\",\"some high school\",\"bachelor's degree\",\"associate's degree\",\"bachelor's degree\",\"some high school\",\"some college\",\"high school\",\"some college\",\"associate's degree\",\"associate's degree\",\"associate's degree\",\"some college\",\"master's degree\",\"high school\",\"master's degree\",\"bachelor's degree\",\"high school\",\"master's degree\",\"high school\",\"some college\",\"high school\",\"some high school\",\"some college\",\"associate's degree\",\"bachelor's degree\",\"master's degree\",\"high school\",\"associate's degree\",\"master's degree\",\"some high school\",\"master's degree\",\"some college\",\"high school\",\"associate's degree\",\"some high school\",\"associate's degree\",\"high school\",\"some high school\",\"some high school\",\"bachelor's degree\",\"associate's degree\",\"some college\",\"some high school\",\"some college\",\"master's degree\",\"associate's degree\",\"some high school\",\"high school\",\"some college\",\"bachelor's degree\",\"associate's degree\",\"some college\",\"associate's degree\",\"associate's degree\",\"some college\",\"some high school\",\"bachelor's degree\",\"high school\",\"some college\",\"some college\",\"some high school\",\"some college\",\"high school\",\"associate's degree\",\"high school\",\"some high school\",\"associate's degree\",\"high school\",\"high school\",\"some high school\",\"high school\",\"associate's degree\",\"some high school\",\"some high school\",\"associate's degree\",\"master's degree\",\"some college\",\"high school\",\"some high school\",\"some college\",\"some college\",\"associate's degree\",\"bachelor's degree\",\"some high school\",\"bachelor's degree\",\"associate's degree\",\"bachelor's degree\",\"some high school\",\"some college\",\"associate's degree\",\"high school\",\"bachelor's degree\",\"high school\",\"some college\",\"some high school\",\"associate's degree\",\"associate's degree\",\"high school\",\"high school\",\"high school\",\"some high school\",\"some college\",\"some high school\",\"master's degree\",\"high school\",\"some college\",\"associate's degree\",\"associate's degree\",\"some college\",\"master's degree\",\"some high school\",\"some college\",\"some high school\",\"high school\",\"high school\",\"some high school\",\"bachelor's degree\",\"high school\",\"associate's degree\",\"some college\",\"bachelor's degree\",\"some college\",\"associate's degree\",\"some college\",\"some college\",\"bachelor's degree\",\"some high school\",\"high school\",\"some high school\",\"bachelor's degree\",\"high school\",\"high school\",\"bachelor's degree\",\"some college\",\"some high school\",\"associate's degree\",\"associate's degree\",\"some high school\",\"bachelor's degree\",\"some high school\",\"associate's degree\",\"some high school\",\"some high school\",\"bachelor's degree\",\"high school\",\"associate's degree\",\"some high school\",\"associate's degree\",\"high school\",\"associate's degree\",\"some college\",\"some high school\",\"associate's degree\",\"associate's degree\",\"associate's degree\",\"some college\",\"some college\",\"some high school\",\"associate's degree\",\"high school\",\"associate's degree\",\"bachelor's degree\",\"bachelor's degree\",\"associate's degree\",\"bachelor's degree\",\"high school\",\"master's degree\",\"associate's degree\",\"bachelor's degree\",\"associate's degree\",\"high school\",\"high school\",\"some college\",\"some high school\",\"high school\",\"some college\",\"some college\",\"some college\",\"associate's degree\",\"some high school\",\"high school\",\"associate's degree\",\"associate's degree\",\"associate's degree\",\"bachelor's degree\",\"some college\",\"some high school\",\"associate's degree\",\"some high school\",\"some high school\",\"high school\",\"high school\",\"high school\",\"associate's degree\",\"some college\",\"high school\",\"some college\",\"bachelor's degree\",\"high school\",\"associate's degree\",\"bachelor's degree\",\"some college\",\"some college\",\"associate's degree\",\"some college\",\"bachelor's degree\",\"associate's degree\",\"some college\",\"some college\",\"some college\",\"high school\",\"some high school\",\"some college\",\"some high school\",\"some college\",\"bachelor's degree\",\"high school\",\"bachelor's degree\",\"some high school\",\"some high school\",\"some college\",\"some college\",\"some high school\",\"some college\",\"bachelor's degree\",\"associate's degree\",\"some high school\",\"master's degree\",\"some high school\",\"bachelor's degree\",\"associate's degree\",\"associate's degree\",\"master's degree\",\"some high school\",\"some high school\",\"some college\",\"bachelor's degree\",\"associate's degree\",\"high school\",\"master's degree\",\"some high school\",\"some college\",\"some college\",\"associate's degree\",\"some high school\",\"high school\",\"high school\",\"associate's degree\",\"some high school\",\"some high school\",\"some high school\",\"some college\",\"some college\",\"high school\",\"high school\",\"some high school\",\"associate's degree\",\"associate's degree\",\"high school\",\"associate's degree\",\"master's degree\",\"some college\",\"associate's degree\",\"some high school\",\"bachelor's degree\",\"high school\",\"bachelor's degree\",\"associate's degree\",\"some college\",\"high school\",\"associate's degree\",\"high school\",\"master's degree\",\"some high school\",\"some college\",\"some college\",\"bachelor's degree\",\"some high school\",\"some high school\",\"some high school\",\"associate's degree\",\"high school\",\"high school\",\"some high school\",\"some high school\",\"some college\",\"associate's degree\",\"associate's degree\",\"high school\",\"some high school\",\"some college\",\"high school\",\"some high school\",\"associate's degree\",\"some high school\",\"some high school\",\"some college\",\"high school\",\"high school\",\"associate's degree\",\"some college\",\"some college\",\"associate's degree\",\"some college\",\"associate's degree\",\"bachelor's degree\",\"bachelor's degree\",\"associate's degree\",\"bachelor's degree\",\"high school\",\"bachelor's degree\",\"some college\",\"some college\",\"some college\",\"bachelor's degree\",\"some college\",\"associate's degree\",\"high school\",\"high school\",\"some college\",\"associate's degree\",\"high school\",\"associate's degree\",\"some high school\",\"associate's degree\",\"bachelor's degree\",\"bachelor's degree\",\"associate's degree\",\"master's degree\",\"associate's degree\",\"high school\",\"associate's degree\",\"some college\",\"high school\",\"associate's degree\",\"high school\",\"some college\",\"associate's degree\",\"some high school\",\"associate's degree\",\"associate's degree\",\"associate's degree\",\"some college\",\"bachelor's degree\",\"high school\",\"high school\",\"some college\",\"some college\",\"some high school\",\"some college\",\"master's degree\",\"associate's degree\",\"some college\",\"associate's degree\",\"master's degree\",\"some high school\",\"high school\",\"bachelor's degree\",\"master's degree\",\"bachelor's degree\",\"some college\",\"some high school\",\"some high school\",\"some high school\",\"master's degree\",\"some high school\",\"some college\",\"some college\",\"some high school\",\"high school\",\"some college\",\"associate's degree\",\"bachelor's degree\",\"master's degree\",\"high school\",\"some college\",\"some high school\",\"high school\",\"bachelor's degree\",\"associate's degree\",\"associate's degree\",\"some high school\",\"associate's degree\",\"associate's degree\",\"high school\",\"bachelor's degree\",\"associate's degree\",\"high school\",\"bachelor's degree\",\"associate's degree\",\"high school\",\"associate's degree\",\"associate's degree\",\"associate's degree\",\"master's degree\",\"some high school\",\"some high school\",\"high school\",\"high school\",\"master's degree\",\"some high school\",\"bachelor's degree\",\"associate's degree\",\"some college\",\"associate's degree\",\"some college\",\"associate's degree\",\"master's degree\",\"associate's degree\",\"some high school\",\"some college\",\"some college\",\"bachelor's degree\",\"some college\",\"bachelor's degree\",\"associate's degree\",\"bachelor's degree\",\"master's degree\",\"high school\",\"bachelor's degree\",\"some college\",\"bachelor's degree\",\"some college\",\"high school\",\"high school\",\"associate's degree\",\"some college\",\"high school\",\"some college\",\"master's degree\",\"some high school\",\"some high school\",\"bachelor's degree\",\"associate's degree\",\"some college\",\"associate's degree\",\"high school\",\"bachelor's degree\",\"some college\",\"some high school\",\"some college\",\"some high school\",\"bachelor's degree\",\"high school\",\"bachelor's degree\",\"bachelor's degree\",\"high school\",\"some high school\",\"high school\",\"some high school\",\"master's degree\",\"high school\",\"some college\",\"high school\",\"master's degree\",\"some high school\",\"associate's degree\",\"master's degree\",\"some college\",\"associate's degree\",\"some college\",\"some college\",\"bachelor's degree\",\"associate's degree\",\"associate's degree\",\"high school\",\"bachelor's degree\",\"bachelor's degree\",\"master's degree\",\"associate's degree\",\"high school\",\"bachelor's degree\",\"high school\",\"some college\",\"bachelor's degree\",\"some college\",\"associate's degree\",\"associate's degree\",\"some college\",\"some high school\",\"some college\",\"high school\",\"bachelor's degree\",\"high school\",\"some high school\",\"high school\",\"high school\",\"some high school\",\"some college\",\"associate's degree\",\"high school\",\"associate's degree\",\"some high school\",\"high school\",\"high school\",\"bachelor's degree\",\"associate's degree\",\"high school\",\"high school\",\"some college\",\"some high school\",\"high school\",\"some college\",\"associate's degree\",\"some high school\",\"some college\",\"associate's degree\",\"some high school\",\"associate's degree\",\"associate's degree\",\"some college\",\"some high school\",\"some college\",\"high school\",\"associate's degree\",\"some high school\",\"some college\",\"bachelor's degree\",\"some college\",\"associate's degree\",\"high school\",\"associate's degree\",\"some college\",\"associate's degree\",\"high school\",\"some college\",\"some college\",\"some high school\",\"associate's degree\",\"some college\",\"high school\",\"high school\",\"high school\",\"some high school\",\"some college\",\"master's degree\",\"some college\",\"associate's degree\",\"high school\",\"some college\",\"associate's degree\",\"associate's degree\",\"bachelor's degree\",\"associate's degree\",\"some high school\",\"some college\",\"associate's degree\",\"bachelor's degree\",\"associate's degree\",\"high school\",\"bachelor's degree\",\"some high school\",\"bachelor's degree\",\"some college\",\"some high school\",\"bachelor's degree\",\"high school\",\"some college\",\"high school\",\"associate's degree\",\"some college\",\"some high school\",\"some college\",\"master's degree\",\"some high school\",\"associate's degree\",\"associate's degree\",\"associate's degree\",\"high school\",\"associate's degree\",\"some college\",\"some high school\",\"some high school\",\"high school\",\"some college\",\"some college\",\"associate's degree\",\"some high school\",\"high school\",\"some college\",\"associate's degree\",\"some high school\",\"some college\",\"some high school\",\"some college\",\"master's degree\",\"associate's degree\",\"some college\",\"associate's degree\",\"high school\",\"bachelor's degree\",\"associate's degree\",\"high school\",\"associate's degree\",\"some college\",\"associate's degree\",\"high school\",\"some college\",\"bachelor's degree\",\"some college\",\"some high school\",\"some college\",\"master's degree\",\"some high school\",\"associate's degree\",\"associate's degree\",\"some college\",\"bachelor's degree\",\"some college\",\"some college\",\"high school\",\"some high school\",\"some high school\",\"high school\",\"some college\",\"high school\",\"high school\",\"high school\",\"some high school\",\"some college\",\"high school\",\"bachelor's degree\",\"some high school\",\"bachelor's degree\",\"some college\",\"some high school\",\"high school\",\"some college\",\"some college\",\"associate's degree\",\"associate's degree\",\"master's degree\",\"high school\",\"associate's degree\",\"bachelor's degree\",\"some high school\",\"some high school\",\"some college\",\"associate's degree\",\"master's degree\",\"high school\",\"some college\",\"high school\",\"some high school\",\"high school\",\"associate's degree\",\"high school\",\"associate's degree\",\"some college\",\"associate's degree\",\"some high school\",\"some high school\",\"associate's degree\",\"some college\",\"some college\",\"some college\",\"some college\",\"high school\",\"high school\",\"bachelor's degree\",\"some high school\",\"high school\",\"master's degree\",\"some high school\",\"high school\",\"some high school\",\"bachelor's degree\",\"bachelor's degree\",\"high school\",\"some high school\",\"some high school\",\"bachelor's degree\",\"some college\",\"high school\",\"some high school\",\"high school\",\"associate's degree\",\"some high school\",\"some high school\",\"some high school\",\"some college\",\"bachelor's degree\",\"bachelor's degree\",\"high school\",\"some college\",\"high school\",\"high school\",\"high school\",\"associate's degree\",\"associate's degree\",\"high school\",\"some high school\",\"high school\",\"some college\",\"some high school\",\"master's degree\",\"master's degree\",\"high school\",\"high school\",\"associate's degree\",\"master's degree\",\"high school\",\"some college\",\"some high school\",\"some high school\",\"bachelor's degree\",\"some college\",\"bachelor's degree\",\"high school\",\"associate's degree\",\"associate's degree\",\"master's degree\",\"bachelor's degree\",\"some college\",\"associate's degree\",\"some college\",\"high school\",\"associate's degree\",\"associate's degree\",\"associate's degree\",\"high school\",\"some college\",\"associate's degree\",\"associate's degree\",\"bachelor's degree\",\"some college\",\"some college\",\"some high school\",\"some high school\",\"associate's degree\",\"bachelor's degree\",\"bachelor's degree\",\"high school\",\"bachelor's degree\",\"associate's degree\",\"associate's degree\",\"associate's degree\",\"high school\",\"some college\",\"high school\",\"some college\",\"associate's degree\",\"master's degree\",\"some high school\",\"associate's degree\",\"some high school\",\"high school\",\"some high school\",\"associate's degree\",\"some high school\",\"master's degree\",\"master's degree\",\"high school\",\"bachelor's degree\",\"some high school\",\"some college\",\"high school\",\"some college\",\"bachelor's degree\",\"bachelor's degree\",\"bachelor's degree\",\"some college\",\"bachelor's degree\",\"bachelor's degree\",\"associate's degree\",\"some college\",\"bachelor's degree\",\"high school\",\"associate's degree\",\"some college\",\"high school\",\"high school\",\"high school\",\"associate's degree\",\"high school\",\"some high school\",\"associate's degree\",\"high school\",\"associate's degree\",\"some high school\",\"some college\",\"some college\",\"associate's degree\",\"bachelor's degree\",\"associate's degree\",\"some college\",\"associate's degree\",\"high school\",\"some college\",\"some high school\",\"master's degree\",\"master's degree\",\"high school\",\"some high school\",\"high school\",\"associate's degree\",\"high school\",\"some college\",\"some high school\",\"high school\",\"high school\",\"some college\",\"some high school\",\"high school\",\"some college\",\"associate's degree\",\"some college\",\"master's degree\",\"high school\",\"high school\",\"some college\",\"some high school\",\"associate's degree\",\"some high school\",\"some college\",\"some college\",\"some high school\",\"some college\",\"associate's degree\",\"bachelor's degree\",\"bachelor's degree\",\"some high school\",\"high school\",\"some college\",\"some college\",\"some college\",\"some college\",\"associate's degree\",\"high school\",\"associate's degree\",\"high school\",\"some high school\",\"some high school\",\"some college\",\"some high school\",\"high school\",\"associate's degree\",\"some high school\",\"some high school\",\"some college\",\"high school\",\"some high school\",\"associate's degree\",\"bachelor's degree\",\"high school\",\"master's degree\",\"high school\",\"high school\",\"some college\",\"some college\"],\"legendgroup\":\"\",\"name\":\"\",\"showlegend\":true,\"values\":[1,1,1,1,1,1,1,1,1,1,1,1,1,1,1,1,1,1,1,1,1,1,1,1,1,1,1,1,1,1,1,1,1,1,1,1,1,1,1,1,1,1,1,1,1,1,1,1,1,1,1,1,1,1,1,1,1,1,1,1,1,1,1,1,1,1,1,1,1,1,1,1,1,1,1,1,1,1,1,1,1,1,1,1,1,1,1,1,1,1,1,1,1,1,1,1,1,1,1,1,1,1,1,1,1,1,1,1,1,1,1,1,1,1,1,1,1,1,1,1,1,1,1,1,1,1,1,1,1,1,1,1,1,1,1,1,1,1,1,1,1,1,1,1,1,1,1,1,1,1,1,1,1,1,1,1,1,1,1,1,1,1,1,1,1,1,1,1,1,1,1,1,1,1,1,1,1,1,1,1,1,1,1,1,1,1,1,1,1,1,1,1,1,1,1,1,1,1,1,1,1,1,1,1,1,1,1,1,1,1,1,1,1,1,1,1,1,1,1,1,1,1,1,1,1,1,1,1,1,1,1,1,1,1,1,1,1,1,1,1,1,1,1,1,1,1,1,1,1,1,1,1,1,1,1,1,1,1,1,1,1,1,1,1,1,1,1,1,1,1,1,1,1,1,1,1,1,1,1,1,1,1,1,1,1,1,1,1,1,1,1,1,1,1,1,1,1,1,1,1,1,1,1,1,1,1,1,1,1,1,1,1,1,1,1,1,1,1,1,1,1,1,1,1,1,1,1,1,1,1,1,1,1,1,1,1,1,1,1,1,1,1,1,1,1,1,1,1,1,1,1,1,1,1,1,1,1,1,1,1,1,1,1,1,1,1,1,1,1,1,1,1,1,1,1,1,1,1,1,1,1,1,1,1,1,1,1,1,1,1,1,1,1,1,1,1,1,1,1,1,1,1,1,1,1,1,1,1,1,1,1,1,1,1,1,1,1,1,1,1,1,1,1,1,1,1,1,1,1,1,1,1,1,1,1,1,1,1,1,1,1,1,1,1,1,1,1,1,1,1,1,1,1,1,1,1,1,1,1,1,1,1,1,1,1,1,1,1,1,1,1,1,1,1,1,1,1,1,1,1,1,1,1,1,1,1,1,1,1,1,1,1,1,1,1,1,1,1,1,1,1,1,1,1,1,1,1,1,1,1,1,1,1,1,1,1,1,1,1,1,1,1,1,1,1,1,1,1,1,1,1,1,1,1,1,1,1,1,1,1,1,1,1,1,1,1,1,1,1,1,1,1,1,1,1,1,1,1,1,1,1,1,1,1,1,1,1,1,1,1,1,1,1,1,1,1,1,1,1,1,1,1,1,1,1,1,1,1,1,1,1,1,1,1,1,1,1,1,1,1,1,1,1,1,1,1,1,1,1,1,1,1,1,1,1,1,1,1,1,1,1,1,1,1,1,1,1,1,1,1,1,1,1,1,1,1,1,1,1,1,1,1,1,1,1,1,1,1,1,1,1,1,1,1,1,1,1,1,1,1,1,1,1,1,1,1,1,1,1,1,1,1,1,1,1,1,1,1,1,1,1,1,1,1,1,1,1,1,1,1,1,1,1,1,1,1,1,1,1,1,1,1,1,1,1,1,1,1,1,1,1,1,1,1,1,1,1,1,1,1,1,1,1,1,1,1,1,1,1,1,1,1,1,1,1,1,1,1,1,1,1,1,1,1,1,1,1,1,1,1,1,1,1,1,1,1,1,1,1,1,1,1,1,1,1,1,1,1,1,1,1,1,1,1,1,1,1,1,1,1,1,1,1,1,1,1,1,1,1,1,1,1,1,1,1,1,1,1,1,1,1,1,1,1,1,1,1,1,1,1,1,1,1,1,1,1,1,1,1,1,1,1,1,1,1,1,1,1,1,1,1,1,1,1,1,1,1,1,1,1,1,1,1,1,1,1,1,1,1,1,1,1,1,1,1,1,1,1,1,1,1,1,1,1,1,1,1,1,1,1,1,1,1,1,1,1,1,1,1,1,1,1,1,1,1,1,1,1,1,1,1,1,1,1,1,1,1,1,1,1,1,1,1,1,1,1,1,1,1,1,1,1,1,1,1,1,1,1,1,1,1,1,1,1,1,1,1,1,1,1,1,1,1,1,1,1,1,1,1,1,1,1,1,1,1,1,1,1,1,1,1,1,1,1,1,1,1,1,1,1,1,1,1,1,1,1,1,1,1,1,1,1,1,1,1,1,1,1,1,1,1,1,1,1,1,1,1,1,1,1,1,1,1,1,1,1,1,1,1,1],\"type\":\"pie\"},{\"domain\":{\"x\":[0.7875,1.0],\"y\":[0.0,1.0]},\"hovertemplate\":\"lunch=%{label}\\u003cbr\\u003evalue=%{value}\\u003cextra\\u003e\\u003c\\u002fextra\\u003e\",\"labels\":[\"standard\",\"standard\",\"standard\",\"free\\u002freduced\",\"standard\",\"standard\",\"standard\",\"free\\u002freduced\",\"free\\u002freduced\",\"free\\u002freduced\",\"standard\",\"standard\",\"standard\",\"standard\",\"standard\",\"standard\",\"standard\",\"free\\u002freduced\",\"free\\u002freduced\",\"free\\u002freduced\",\"standard\",\"free\\u002freduced\",\"standard\",\"standard\",\"free\\u002freduced\",\"free\\u002freduced\",\"standard\",\"standard\",\"standard\",\"standard\",\"standard\",\"standard\",\"free\\u002freduced\",\"standard\",\"standard\",\"standard\",\"standard\",\"free\\u002freduced\",\"free\\u002freduced\",\"free\\u002freduced\",\"free\\u002freduced\",\"standard\",\"standard\",\"free\\u002freduced\",\"free\\u002freduced\",\"standard\",\"standard\",\"standard\",\"free\\u002freduced\",\"standard\",\"standard\",\"free\\u002freduced\",\"standard\",\"standard\",\"free\\u002freduced\",\"free\\u002freduced\",\"standard\",\"standard\",\"standard\",\"free\\u002freduced\",\"free\\u002freduced\",\"free\\u002freduced\",\"free\\u002freduced\",\"standard\",\"standard\",\"standard\",\"free\\u002freduced\",\"standard\",\"free\\u002freduced\",\"standard\",\"free\\u002freduced\",\"standard\",\"free\\u002freduced\",\"free\\u002freduced\",\"standard\",\"free\\u002freduced\",\"standard\",\"standard\",\"standard\",\"standard\",\"standard\",\"free\\u002freduced\",\"free\\u002freduced\",\"standard\",\"free\\u002freduced\",\"standard\",\"free\\u002freduced\",\"standard\",\"standard\",\"standard\",\"standard\",\"free\\u002freduced\",\"standard\",\"free\\u002freduced\",\"standard\",\"free\\u002freduced\",\"standard\",\"standard\",\"free\\u002freduced\",\"standard\",\"standard\",\"standard\",\"standard\",\"standard\",\"standard\",\"standard\",\"standard\",\"standard\",\"free\\u002freduced\",\"standard\",\"free\\u002freduced\",\"standard\",\"standard\",\"standard\",\"standard\",\"standard\",\"free\\u002freduced\",\"standard\",\"standard\",\"standard\",\"standard\",\"standard\",\"standard\",\"free\\u002freduced\",\"standard\",\"standard\",\"standard\",\"standard\",\"standard\",\"standard\",\"standard\",\"free\\u002freduced\",\"free\\u002freduced\",\"standard\",\"free\\u002freduced\",\"standard\",\"standard\",\"standard\",\"standard\",\"standard\",\"standard\",\"free\\u002freduced\",\"free\\u002freduced\",\"standard\",\"standard\",\"free\\u002freduced\",\"standard\",\"free\\u002freduced\",\"standard\",\"free\\u002freduced\",\"standard\",\"standard\",\"standard\",\"standard\",\"standard\",\"standard\",\"free\\u002freduced\",\"free\\u002freduced\",\"standard\",\"free\\u002freduced\",\"free\\u002freduced\",\"free\\u002freduced\",\"free\\u002freduced\",\"standard\",\"standard\",\"standard\",\"free\\u002freduced\",\"free\\u002freduced\",\"standard\",\"free\\u002freduced\",\"standard\",\"standard\",\"standard\",\"standard\",\"free\\u002freduced\",\"standard\",\"free\\u002freduced\",\"standard\",\"free\\u002freduced\",\"standard\",\"free\\u002freduced\",\"free\\u002freduced\",\"standard\",\"standard\",\"free\\u002freduced\",\"free\\u002freduced\",\"standard\",\"standard\",\"free\\u002freduced\",\"standard\",\"standard\",\"standard\",\"standard\",\"standard\",\"standard\",\"standard\",\"free\\u002freduced\",\"free\\u002freduced\",\"free\\u002freduced\",\"free\\u002freduced\",\"standard\",\"free\\u002freduced\",\"standard\",\"standard\",\"standard\",\"standard\",\"standard\",\"standard\",\"free\\u002freduced\",\"free\\u002freduced\",\"free\\u002freduced\",\"free\\u002freduced\",\"free\\u002freduced\",\"free\\u002freduced\",\"standard\",\"standard\",\"free\\u002freduced\",\"free\\u002freduced\",\"free\\u002freduced\",\"standard\",\"standard\",\"standard\",\"free\\u002freduced\",\"standard\",\"standard\",\"free\\u002freduced\",\"standard\",\"standard\",\"free\\u002freduced\",\"standard\",\"standard\",\"standard\",\"standard\",\"standard\",\"standard\",\"standard\",\"free\\u002freduced\",\"standard\",\"standard\",\"standard\",\"free\\u002freduced\",\"standard\",\"standard\",\"standard\",\"standard\",\"standard\",\"standard\",\"standard\",\"standard\",\"standard\",\"standard\",\"free\\u002freduced\",\"standard\",\"standard\",\"standard\",\"standard\",\"free\\u002freduced\",\"standard\",\"standard\",\"free\\u002freduced\",\"free\\u002freduced\",\"standard\",\"free\\u002freduced\",\"standard\",\"standard\",\"free\\u002freduced\",\"standard\",\"standard\",\"standard\",\"free\\u002freduced\",\"standard\",\"standard\",\"free\\u002freduced\",\"standard\",\"standard\",\"standard\",\"standard\",\"standard\",\"free\\u002freduced\",\"free\\u002freduced\",\"standard\",\"standard\",\"free\\u002freduced\",\"free\\u002freduced\",\"standard\",\"standard\",\"standard\",\"standard\",\"free\\u002freduced\",\"standard\",\"standard\",\"standard\",\"standard\",\"standard\",\"free\\u002freduced\",\"free\\u002freduced\",\"standard\",\"standard\",\"free\\u002freduced\",\"free\\u002freduced\",\"free\\u002freduced\",\"free\\u002freduced\",\"standard\",\"standard\",\"standard\",\"standard\",\"standard\",\"standard\",\"free\\u002freduced\",\"free\\u002freduced\",\"standard\",\"standard\",\"standard\",\"free\\u002freduced\",\"standard\",\"standard\",\"standard\",\"standard\",\"standard\",\"free\\u002freduced\",\"free\\u002freduced\",\"standard\",\"standard\",\"free\\u002freduced\",\"free\\u002freduced\",\"standard\",\"standard\",\"free\\u002freduced\",\"standard\",\"standard\",\"standard\",\"standard\",\"standard\",\"standard\",\"standard\",\"free\\u002freduced\",\"standard\",\"standard\",\"free\\u002freduced\",\"free\\u002freduced\",\"free\\u002freduced\",\"standard\",\"standard\",\"standard\",\"standard\",\"standard\",\"standard\",\"standard\",\"free\\u002freduced\",\"standard\",\"standard\",\"standard\",\"standard\",\"standard\",\"standard\",\"standard\",\"standard\",\"free\\u002freduced\",\"free\\u002freduced\",\"standard\",\"standard\",\"standard\",\"standard\",\"free\\u002freduced\",\"standard\",\"free\\u002freduced\",\"standard\",\"free\\u002freduced\",\"free\\u002freduced\",\"standard\",\"standard\",\"free\\u002freduced\",\"standard\",\"standard\",\"standard\",\"free\\u002freduced\",\"standard\",\"free\\u002freduced\",\"standard\",\"standard\",\"standard\",\"standard\",\"free\\u002freduced\",\"free\\u002freduced\",\"free\\u002freduced\",\"standard\",\"standard\",\"free\\u002freduced\",\"standard\",\"standard\",\"free\\u002freduced\",\"standard\",\"standard\",\"standard\",\"standard\",\"free\\u002freduced\",\"free\\u002freduced\",\"standard\",\"standard\",\"standard\",\"standard\",\"standard\",\"free\\u002freduced\",\"standard\",\"standard\",\"standard\",\"standard\",\"standard\",\"free\\u002freduced\",\"standard\",\"standard\",\"standard\",\"standard\",\"standard\",\"free\\u002freduced\",\"standard\",\"standard\",\"standard\",\"standard\",\"free\\u002freduced\",\"free\\u002freduced\",\"standard\",\"free\\u002freduced\",\"standard\",\"free\\u002freduced\",\"free\\u002freduced\",\"standard\",\"free\\u002freduced\",\"free\\u002freduced\",\"free\\u002freduced\",\"free\\u002freduced\",\"standard\",\"standard\",\"free\\u002freduced\",\"standard\",\"free\\u002freduced\",\"standard\",\"free\\u002freduced\",\"standard\",\"standard\",\"standard\",\"standard\",\"free\\u002freduced\",\"standard\",\"free\\u002freduced\",\"standard\",\"free\\u002freduced\",\"standard\",\"standard\",\"standard\",\"free\\u002freduced\",\"standard\",\"free\\u002freduced\",\"free\\u002freduced\",\"free\\u002freduced\",\"free\\u002freduced\",\"standard\",\"free\\u002freduced\",\"standard\",\"standard\",\"free\\u002freduced\",\"free\\u002freduced\",\"standard\",\"free\\u002freduced\",\"standard\",\"standard\",\"free\\u002freduced\",\"free\\u002freduced\",\"free\\u002freduced\",\"standard\",\"standard\",\"standard\",\"standard\",\"standard\",\"standard\",\"standard\",\"standard\",\"standard\",\"standard\",\"standard\",\"standard\",\"free\\u002freduced\",\"free\\u002freduced\",\"standard\",\"standard\",\"standard\",\"free\\u002freduced\",\"free\\u002freduced\",\"standard\",\"free\\u002freduced\",\"free\\u002freduced\",\"standard\",\"standard\",\"standard\",\"standard\",\"standard\",\"standard\",\"free\\u002freduced\",\"standard\",\"standard\",\"standard\",\"standard\",\"free\\u002freduced\",\"standard\",\"free\\u002freduced\",\"standard\",\"standard\",\"free\\u002freduced\",\"standard\",\"standard\",\"standard\",\"standard\",\"free\\u002freduced\",\"standard\",\"free\\u002freduced\",\"standard\",\"standard\",\"standard\",\"standard\",\"free\\u002freduced\",\"standard\",\"standard\",\"standard\",\"free\\u002freduced\",\"standard\",\"standard\",\"free\\u002freduced\",\"free\\u002freduced\",\"free\\u002freduced\",\"standard\",\"standard\",\"standard\",\"standard\",\"standard\",\"standard\",\"free\\u002freduced\",\"standard\",\"standard\",\"standard\",\"standard\",\"standard\",\"free\\u002freduced\",\"standard\",\"standard\",\"standard\",\"free\\u002freduced\",\"standard\",\"standard\",\"free\\u002freduced\",\"standard\",\"free\\u002freduced\",\"free\\u002freduced\",\"standard\",\"free\\u002freduced\",\"standard\",\"free\\u002freduced\",\"standard\",\"free\\u002freduced\",\"free\\u002freduced\",\"standard\",\"standard\",\"standard\",\"standard\",\"free\\u002freduced\",\"free\\u002freduced\",\"standard\",\"free\\u002freduced\",\"free\\u002freduced\",\"free\\u002freduced\",\"free\\u002freduced\",\"standard\",\"standard\",\"standard\",\"free\\u002freduced\",\"standard\",\"free\\u002freduced\",\"standard\",\"standard\",\"free\\u002freduced\",\"standard\",\"standard\",\"standard\",\"free\\u002freduced\",\"standard\",\"standard\",\"standard\",\"standard\",\"free\\u002freduced\",\"standard\",\"standard\",\"free\\u002freduced\",\"standard\",\"standard\",\"standard\",\"standard\",\"standard\",\"free\\u002freduced\",\"standard\",\"standard\",\"standard\",\"standard\",\"standard\",\"standard\",\"free\\u002freduced\",\"free\\u002freduced\",\"standard\",\"standard\",\"free\\u002freduced\",\"standard\",\"standard\",\"free\\u002freduced\",\"standard\",\"standard\",\"standard\",\"standard\",\"standard\",\"standard\",\"standard\",\"standard\",\"free\\u002freduced\",\"free\\u002freduced\",\"free\\u002freduced\",\"free\\u002freduced\",\"standard\",\"free\\u002freduced\",\"standard\",\"free\\u002freduced\",\"standard\",\"free\\u002freduced\",\"standard\",\"standard\",\"standard\",\"standard\",\"standard\",\"standard\",\"standard\",\"free\\u002freduced\",\"standard\",\"standard\",\"standard\",\"standard\",\"free\\u002freduced\",\"free\\u002freduced\",\"standard\",\"standard\",\"standard\",\"standard\",\"free\\u002freduced\",\"standard\",\"standard\",\"free\\u002freduced\",\"standard\",\"standard\",\"standard\",\"standard\",\"standard\",\"free\\u002freduced\",\"standard\",\"free\\u002freduced\",\"standard\",\"free\\u002freduced\",\"standard\",\"free\\u002freduced\",\"standard\",\"standard\",\"free\\u002freduced\",\"free\\u002freduced\",\"free\\u002freduced\",\"standard\",\"standard\",\"free\\u002freduced\",\"free\\u002freduced\",\"standard\",\"standard\",\"standard\",\"standard\",\"standard\",\"standard\",\"free\\u002freduced\",\"free\\u002freduced\",\"standard\",\"standard\",\"standard\",\"free\\u002freduced\",\"standard\",\"standard\",\"standard\",\"free\\u002freduced\",\"free\\u002freduced\",\"free\\u002freduced\",\"standard\",\"free\\u002freduced\",\"free\\u002freduced\",\"standard\",\"standard\",\"free\\u002freduced\",\"standard\",\"standard\",\"standard\",\"free\\u002freduced\",\"standard\",\"standard\",\"standard\",\"standard\",\"free\\u002freduced\",\"free\\u002freduced\",\"standard\",\"standard\",\"standard\",\"free\\u002freduced\",\"standard\",\"standard\",\"standard\",\"standard\",\"standard\",\"free\\u002freduced\",\"standard\",\"standard\",\"standard\",\"free\\u002freduced\",\"free\\u002freduced\",\"free\\u002freduced\",\"free\\u002freduced\",\"standard\",\"standard\",\"standard\",\"standard\",\"standard\",\"free\\u002freduced\",\"standard\",\"free\\u002freduced\",\"free\\u002freduced\",\"standard\",\"standard\",\"free\\u002freduced\",\"standard\",\"standard\",\"free\\u002freduced\",\"standard\",\"free\\u002freduced\",\"standard\",\"free\\u002freduced\",\"standard\",\"standard\",\"free\\u002freduced\",\"standard\",\"standard\",\"standard\",\"free\\u002freduced\",\"standard\",\"standard\",\"standard\",\"free\\u002freduced\",\"standard\",\"free\\u002freduced\",\"standard\",\"standard\",\"free\\u002freduced\",\"free\\u002freduced\",\"standard\",\"free\\u002freduced\",\"standard\",\"standard\",\"standard\",\"standard\",\"standard\",\"standard\",\"standard\",\"standard\",\"free\\u002freduced\",\"standard\",\"standard\",\"free\\u002freduced\",\"free\\u002freduced\",\"standard\",\"free\\u002freduced\",\"standard\",\"free\\u002freduced\",\"standard\",\"standard\",\"free\\u002freduced\",\"standard\",\"free\\u002freduced\",\"standard\",\"standard\",\"standard\",\"free\\u002freduced\",\"standard\",\"free\\u002freduced\",\"free\\u002freduced\",\"standard\",\"free\\u002freduced\",\"free\\u002freduced\",\"standard\",\"standard\",\"free\\u002freduced\",\"standard\",\"free\\u002freduced\",\"standard\",\"standard\",\"standard\",\"standard\",\"standard\",\"standard\",\"standard\",\"free\\u002freduced\",\"free\\u002freduced\",\"free\\u002freduced\",\"standard\",\"standard\",\"standard\",\"free\\u002freduced\",\"standard\",\"standard\",\"standard\",\"standard\",\"standard\",\"free\\u002freduced\",\"free\\u002freduced\",\"standard\",\"standard\",\"free\\u002freduced\",\"free\\u002freduced\",\"free\\u002freduced\",\"free\\u002freduced\",\"standard\",\"free\\u002freduced\",\"standard\",\"free\\u002freduced\",\"standard\",\"free\\u002freduced\",\"free\\u002freduced\",\"standard\",\"standard\",\"standard\",\"standard\",\"standard\",\"standard\",\"free\\u002freduced\",\"standard\",\"free\\u002freduced\",\"standard\",\"free\\u002freduced\",\"free\\u002freduced\",\"free\\u002freduced\",\"standard\",\"standard\",\"standard\",\"standard\",\"standard\",\"standard\",\"standard\",\"standard\",\"standard\",\"standard\",\"standard\",\"free\\u002freduced\",\"standard\",\"standard\",\"free\\u002freduced\",\"standard\",\"free\\u002freduced\",\"free\\u002freduced\",\"standard\",\"standard\",\"standard\",\"free\\u002freduced\",\"standard\",\"free\\u002freduced\",\"free\\u002freduced\",\"standard\",\"standard\",\"standard\",\"free\\u002freduced\",\"free\\u002freduced\",\"free\\u002freduced\",\"standard\",\"standard\",\"standard\",\"standard\",\"standard\",\"standard\",\"free\\u002freduced\",\"free\\u002freduced\",\"standard\",\"standard\",\"standard\",\"free\\u002freduced\",\"free\\u002freduced\",\"free\\u002freduced\",\"standard\",\"standard\",\"free\\u002freduced\",\"standard\",\"standard\",\"free\\u002freduced\",\"free\\u002freduced\",\"free\\u002freduced\",\"standard\",\"standard\",\"standard\",\"standard\",\"free\\u002freduced\",\"free\\u002freduced\",\"free\\u002freduced\",\"standard\",\"standard\",\"standard\",\"free\\u002freduced\",\"standard\",\"free\\u002freduced\",\"standard\",\"standard\",\"free\\u002freduced\",\"free\\u002freduced\",\"standard\",\"standard\",\"standard\",\"standard\",\"standard\",\"free\\u002freduced\",\"free\\u002freduced\",\"standard\",\"free\\u002freduced\",\"free\\u002freduced\",\"standard\",\"free\\u002freduced\",\"free\\u002freduced\",\"free\\u002freduced\",\"free\\u002freduced\",\"free\\u002freduced\",\"free\\u002freduced\",\"free\\u002freduced\",\"free\\u002freduced\",\"standard\",\"free\\u002freduced\",\"standard\",\"free\\u002freduced\",\"standard\",\"standard\",\"free\\u002freduced\",\"standard\",\"standard\",\"free\\u002freduced\",\"standard\",\"standard\",\"standard\",\"free\\u002freduced\",\"free\\u002freduced\",\"free\\u002freduced\",\"standard\",\"standard\",\"free\\u002freduced\",\"standard\",\"standard\",\"standard\",\"standard\",\"standard\",\"standard\",\"standard\",\"standard\",\"free\\u002freduced\",\"standard\",\"free\\u002freduced\",\"standard\",\"standard\",\"standard\",\"standard\",\"standard\",\"standard\",\"standard\",\"standard\",\"free\\u002freduced\",\"free\\u002freduced\",\"standard\",\"standard\",\"free\\u002freduced\",\"standard\",\"standard\",\"standard\",\"free\\u002freduced\",\"standard\",\"standard\",\"standard\",\"standard\",\"standard\",\"standard\",\"standard\",\"free\\u002freduced\",\"free\\u002freduced\",\"free\\u002freduced\",\"standard\",\"free\\u002freduced\",\"free\\u002freduced\",\"standard\",\"standard\",\"free\\u002freduced\",\"free\\u002freduced\",\"standard\",\"free\\u002freduced\"],\"legendgroup\":\"\",\"name\":\"\",\"showlegend\":true,\"values\":[1,1,1,1,1,1,1,1,1,1,1,1,1,1,1,1,1,1,1,1,1,1,1,1,1,1,1,1,1,1,1,1,1,1,1,1,1,1,1,1,1,1,1,1,1,1,1,1,1,1,1,1,1,1,1,1,1,1,1,1,1,1,1,1,1,1,1,1,1,1,1,1,1,1,1,1,1,1,1,1,1,1,1,1,1,1,1,1,1,1,1,1,1,1,1,1,1,1,1,1,1,1,1,1,1,1,1,1,1,1,1,1,1,1,1,1,1,1,1,1,1,1,1,1,1,1,1,1,1,1,1,1,1,1,1,1,1,1,1,1,1,1,1,1,1,1,1,1,1,1,1,1,1,1,1,1,1,1,1,1,1,1,1,1,1,1,1,1,1,1,1,1,1,1,1,1,1,1,1,1,1,1,1,1,1,1,1,1,1,1,1,1,1,1,1,1,1,1,1,1,1,1,1,1,1,1,1,1,1,1,1,1,1,1,1,1,1,1,1,1,1,1,1,1,1,1,1,1,1,1,1,1,1,1,1,1,1,1,1,1,1,1,1,1,1,1,1,1,1,1,1,1,1,1,1,1,1,1,1,1,1,1,1,1,1,1,1,1,1,1,1,1,1,1,1,1,1,1,1,1,1,1,1,1,1,1,1,1,1,1,1,1,1,1,1,1,1,1,1,1,1,1,1,1,1,1,1,1,1,1,1,1,1,1,1,1,1,1,1,1,1,1,1,1,1,1,1,1,1,1,1,1,1,1,1,1,1,1,1,1,1,1,1,1,1,1,1,1,1,1,1,1,1,1,1,1,1,1,1,1,1,1,1,1,1,1,1,1,1,1,1,1,1,1,1,1,1,1,1,1,1,1,1,1,1,1,1,1,1,1,1,1,1,1,1,1,1,1,1,1,1,1,1,1,1,1,1,1,1,1,1,1,1,1,1,1,1,1,1,1,1,1,1,1,1,1,1,1,1,1,1,1,1,1,1,1,1,1,1,1,1,1,1,1,1,1,1,1,1,1,1,1,1,1,1,1,1,1,1,1,1,1,1,1,1,1,1,1,1,1,1,1,1,1,1,1,1,1,1,1,1,1,1,1,1,1,1,1,1,1,1,1,1,1,1,1,1,1,1,1,1,1,1,1,1,1,1,1,1,1,1,1,1,1,1,1,1,1,1,1,1,1,1,1,1,1,1,1,1,1,1,1,1,1,1,1,1,1,1,1,1,1,1,1,1,1,1,1,1,1,1,1,1,1,1,1,1,1,1,1,1,1,1,1,1,1,1,1,1,1,1,1,1,1,1,1,1,1,1,1,1,1,1,1,1,1,1,1,1,1,1,1,1,1,1,1,1,1,1,1,1,1,1,1,1,1,1,1,1,1,1,1,1,1,1,1,1,1,1,1,1,1,1,1,1,1,1,1,1,1,1,1,1,1,1,1,1,1,1,1,1,1,1,1,1,1,1,1,1,1,1,1,1,1,1,1,1,1,1,1,1,1,1,1,1,1,1,1,1,1,1,1,1,1,1,1,1,1,1,1,1,1,1,1,1,1,1,1,1,1,1,1,1,1,1,1,1,1,1,1,1,1,1,1,1,1,1,1,1,1,1,1,1,1,1,1,1,1,1,1,1,1,1,1,1,1,1,1,1,1,1,1,1,1,1,1,1,1,1,1,1,1,1,1,1,1,1,1,1,1,1,1,1,1,1,1,1,1,1,1,1,1,1,1,1,1,1,1,1,1,1,1,1,1,1,1,1,1,1,1,1,1,1,1,1,1,1,1,1,1,1,1,1,1,1,1,1,1,1,1,1,1,1,1,1,1,1,1,1,1,1,1,1,1,1,1,1,1,1,1,1,1,1,1,1,1,1,1,1,1,1,1,1,1,1,1,1,1,1,1,1,1,1,1,1,1,1,1,1,1,1,1,1,1,1,1,1,1,1,1,1,1,1,1,1,1,1,1,1,1,1,1,1,1,1,1,1,1,1,1,1,1,1,1,1,1,1,1,1,1,1,1,1,1,1,1,1,1,1,1,1,1,1,1,1,1,1,1,1,1,1,1,1,1,1,1,1,1,1,1,1,1,1,1,1,1,1,1,1,1,1,1,1,1,1,1,1,1,1,1,1,1,1,1,1,1,1,1,1,1,1,1,1,1,1,1,1,1,1,1,1,1,1,1,1,1,1,1,1,1,1,1,1,1,1,1,1,1,1,1,1,1,1,1,1,1,1,1,1,1,1,1,1,1,1,1,1,1,1,1],\"type\":\"pie\"}],                        {\"template\":{\"data\":{\"histogram2dcontour\":[{\"type\":\"histogram2dcontour\",\"colorbar\":{\"outlinewidth\":0,\"ticks\":\"\"},\"colorscale\":[[0.0,\"#0d0887\"],[0.1111111111111111,\"#46039f\"],[0.2222222222222222,\"#7201a8\"],[0.3333333333333333,\"#9c179e\"],[0.4444444444444444,\"#bd3786\"],[0.5555555555555556,\"#d8576b\"],[0.6666666666666666,\"#ed7953\"],[0.7777777777777778,\"#fb9f3a\"],[0.8888888888888888,\"#fdca26\"],[1.0,\"#f0f921\"]]}],\"choropleth\":[{\"type\":\"choropleth\",\"colorbar\":{\"outlinewidth\":0,\"ticks\":\"\"}}],\"histogram2d\":[{\"type\":\"histogram2d\",\"colorbar\":{\"outlinewidth\":0,\"ticks\":\"\"},\"colorscale\":[[0.0,\"#0d0887\"],[0.1111111111111111,\"#46039f\"],[0.2222222222222222,\"#7201a8\"],[0.3333333333333333,\"#9c179e\"],[0.4444444444444444,\"#bd3786\"],[0.5555555555555556,\"#d8576b\"],[0.6666666666666666,\"#ed7953\"],[0.7777777777777778,\"#fb9f3a\"],[0.8888888888888888,\"#fdca26\"],[1.0,\"#f0f921\"]]}],\"heatmap\":[{\"type\":\"heatmap\",\"colorbar\":{\"outlinewidth\":0,\"ticks\":\"\"},\"colorscale\":[[0.0,\"#0d0887\"],[0.1111111111111111,\"#46039f\"],[0.2222222222222222,\"#7201a8\"],[0.3333333333333333,\"#9c179e\"],[0.4444444444444444,\"#bd3786\"],[0.5555555555555556,\"#d8576b\"],[0.6666666666666666,\"#ed7953\"],[0.7777777777777778,\"#fb9f3a\"],[0.8888888888888888,\"#fdca26\"],[1.0,\"#f0f921\"]]}],\"heatmapgl\":[{\"type\":\"heatmapgl\",\"colorbar\":{\"outlinewidth\":0,\"ticks\":\"\"},\"colorscale\":[[0.0,\"#0d0887\"],[0.1111111111111111,\"#46039f\"],[0.2222222222222222,\"#7201a8\"],[0.3333333333333333,\"#9c179e\"],[0.4444444444444444,\"#bd3786\"],[0.5555555555555556,\"#d8576b\"],[0.6666666666666666,\"#ed7953\"],[0.7777777777777778,\"#fb9f3a\"],[0.8888888888888888,\"#fdca26\"],[1.0,\"#f0f921\"]]}],\"contourcarpet\":[{\"type\":\"contourcarpet\",\"colorbar\":{\"outlinewidth\":0,\"ticks\":\"\"}}],\"contour\":[{\"type\":\"contour\",\"colorbar\":{\"outlinewidth\":0,\"ticks\":\"\"},\"colorscale\":[[0.0,\"#0d0887\"],[0.1111111111111111,\"#46039f\"],[0.2222222222222222,\"#7201a8\"],[0.3333333333333333,\"#9c179e\"],[0.4444444444444444,\"#bd3786\"],[0.5555555555555556,\"#d8576b\"],[0.6666666666666666,\"#ed7953\"],[0.7777777777777778,\"#fb9f3a\"],[0.8888888888888888,\"#fdca26\"],[1.0,\"#f0f921\"]]}],\"surface\":[{\"type\":\"surface\",\"colorbar\":{\"outlinewidth\":0,\"ticks\":\"\"},\"colorscale\":[[0.0,\"#0d0887\"],[0.1111111111111111,\"#46039f\"],[0.2222222222222222,\"#7201a8\"],[0.3333333333333333,\"#9c179e\"],[0.4444444444444444,\"#bd3786\"],[0.5555555555555556,\"#d8576b\"],[0.6666666666666666,\"#ed7953\"],[0.7777777777777778,\"#fb9f3a\"],[0.8888888888888888,\"#fdca26\"],[1.0,\"#f0f921\"]]}],\"mesh3d\":[{\"type\":\"mesh3d\",\"colorbar\":{\"outlinewidth\":0,\"ticks\":\"\"}}],\"scatter\":[{\"fillpattern\":{\"fillmode\":\"overlay\",\"size\":10,\"solidity\":0.2},\"type\":\"scatter\"}],\"parcoords\":[{\"type\":\"parcoords\",\"line\":{\"colorbar\":{\"outlinewidth\":0,\"ticks\":\"\"}}}],\"scatterpolargl\":[{\"type\":\"scatterpolargl\",\"marker\":{\"colorbar\":{\"outlinewidth\":0,\"ticks\":\"\"}}}],\"bar\":[{\"error_x\":{\"color\":\"#2a3f5f\"},\"error_y\":{\"color\":\"#2a3f5f\"},\"marker\":{\"line\":{\"color\":\"#E5ECF6\",\"width\":0.5},\"pattern\":{\"fillmode\":\"overlay\",\"size\":10,\"solidity\":0.2}},\"type\":\"bar\"}],\"scattergeo\":[{\"type\":\"scattergeo\",\"marker\":{\"colorbar\":{\"outlinewidth\":0,\"ticks\":\"\"}}}],\"scatterpolar\":[{\"type\":\"scatterpolar\",\"marker\":{\"colorbar\":{\"outlinewidth\":0,\"ticks\":\"\"}}}],\"histogram\":[{\"marker\":{\"pattern\":{\"fillmode\":\"overlay\",\"size\":10,\"solidity\":0.2}},\"type\":\"histogram\"}],\"scattergl\":[{\"type\":\"scattergl\",\"marker\":{\"colorbar\":{\"outlinewidth\":0,\"ticks\":\"\"}}}],\"scatter3d\":[{\"type\":\"scatter3d\",\"line\":{\"colorbar\":{\"outlinewidth\":0,\"ticks\":\"\"}},\"marker\":{\"colorbar\":{\"outlinewidth\":0,\"ticks\":\"\"}}}],\"scattermapbox\":[{\"type\":\"scattermapbox\",\"marker\":{\"colorbar\":{\"outlinewidth\":0,\"ticks\":\"\"}}}],\"scatterternary\":[{\"type\":\"scatterternary\",\"marker\":{\"colorbar\":{\"outlinewidth\":0,\"ticks\":\"\"}}}],\"scattercarpet\":[{\"type\":\"scattercarpet\",\"marker\":{\"colorbar\":{\"outlinewidth\":0,\"ticks\":\"\"}}}],\"carpet\":[{\"aaxis\":{\"endlinecolor\":\"#2a3f5f\",\"gridcolor\":\"white\",\"linecolor\":\"white\",\"minorgridcolor\":\"white\",\"startlinecolor\":\"#2a3f5f\"},\"baxis\":{\"endlinecolor\":\"#2a3f5f\",\"gridcolor\":\"white\",\"linecolor\":\"white\",\"minorgridcolor\":\"white\",\"startlinecolor\":\"#2a3f5f\"},\"type\":\"carpet\"}],\"table\":[{\"cells\":{\"fill\":{\"color\":\"#EBF0F8\"},\"line\":{\"color\":\"white\"}},\"header\":{\"fill\":{\"color\":\"#C8D4E3\"},\"line\":{\"color\":\"white\"}},\"type\":\"table\"}],\"barpolar\":[{\"marker\":{\"line\":{\"color\":\"#E5ECF6\",\"width\":0.5},\"pattern\":{\"fillmode\":\"overlay\",\"size\":10,\"solidity\":0.2}},\"type\":\"barpolar\"}],\"pie\":[{\"automargin\":true,\"type\":\"pie\"}]},\"layout\":{\"autotypenumbers\":\"strict\",\"colorway\":[\"#636efa\",\"#EF553B\",\"#00cc96\",\"#ab63fa\",\"#FFA15A\",\"#19d3f3\",\"#FF6692\",\"#B6E880\",\"#FF97FF\",\"#FECB52\"],\"font\":{\"color\":\"#2a3f5f\"},\"hovermode\":\"closest\",\"hoverlabel\":{\"align\":\"left\"},\"paper_bgcolor\":\"white\",\"plot_bgcolor\":\"#E5ECF6\",\"polar\":{\"bgcolor\":\"#E5ECF6\",\"angularaxis\":{\"gridcolor\":\"white\",\"linecolor\":\"white\",\"ticks\":\"\"},\"radialaxis\":{\"gridcolor\":\"white\",\"linecolor\":\"white\",\"ticks\":\"\"}},\"ternary\":{\"bgcolor\":\"#E5ECF6\",\"aaxis\":{\"gridcolor\":\"white\",\"linecolor\":\"white\",\"ticks\":\"\"},\"baxis\":{\"gridcolor\":\"white\",\"linecolor\":\"white\",\"ticks\":\"\"},\"caxis\":{\"gridcolor\":\"white\",\"linecolor\":\"white\",\"ticks\":\"\"}},\"coloraxis\":{\"colorbar\":{\"outlinewidth\":0,\"ticks\":\"\"}},\"colorscale\":{\"sequential\":[[0.0,\"#0d0887\"],[0.1111111111111111,\"#46039f\"],[0.2222222222222222,\"#7201a8\"],[0.3333333333333333,\"#9c179e\"],[0.4444444444444444,\"#bd3786\"],[0.5555555555555556,\"#d8576b\"],[0.6666666666666666,\"#ed7953\"],[0.7777777777777778,\"#fb9f3a\"],[0.8888888888888888,\"#fdca26\"],[1.0,\"#f0f921\"]],\"sequentialminus\":[[0.0,\"#0d0887\"],[0.1111111111111111,\"#46039f\"],[0.2222222222222222,\"#7201a8\"],[0.3333333333333333,\"#9c179e\"],[0.4444444444444444,\"#bd3786\"],[0.5555555555555556,\"#d8576b\"],[0.6666666666666666,\"#ed7953\"],[0.7777777777777778,\"#fb9f3a\"],[0.8888888888888888,\"#fdca26\"],[1.0,\"#f0f921\"]],\"diverging\":[[0,\"#8e0152\"],[0.1,\"#c51b7d\"],[0.2,\"#de77ae\"],[0.3,\"#f1b6da\"],[0.4,\"#fde0ef\"],[0.5,\"#f7f7f7\"],[0.6,\"#e6f5d0\"],[0.7,\"#b8e186\"],[0.8,\"#7fbc41\"],[0.9,\"#4d9221\"],[1,\"#276419\"]]},\"xaxis\":{\"gridcolor\":\"white\",\"linecolor\":\"white\",\"ticks\":\"\",\"title\":{\"standoff\":15},\"zerolinecolor\":\"white\",\"automargin\":true,\"zerolinewidth\":2},\"yaxis\":{\"gridcolor\":\"white\",\"linecolor\":\"white\",\"ticks\":\"\",\"title\":{\"standoff\":15},\"zerolinecolor\":\"white\",\"automargin\":true,\"zerolinewidth\":2},\"scene\":{\"xaxis\":{\"backgroundcolor\":\"#E5ECF6\",\"gridcolor\":\"white\",\"linecolor\":\"white\",\"showbackground\":true,\"ticks\":\"\",\"zerolinecolor\":\"white\",\"gridwidth\":2},\"yaxis\":{\"backgroundcolor\":\"#E5ECF6\",\"gridcolor\":\"white\",\"linecolor\":\"white\",\"showbackground\":true,\"ticks\":\"\",\"zerolinecolor\":\"white\",\"gridwidth\":2},\"zaxis\":{\"backgroundcolor\":\"#E5ECF6\",\"gridcolor\":\"white\",\"linecolor\":\"white\",\"showbackground\":true,\"ticks\":\"\",\"zerolinecolor\":\"white\",\"gridwidth\":2}},\"shapedefaults\":{\"line\":{\"color\":\"#2a3f5f\"}},\"annotationdefaults\":{\"arrowcolor\":\"#2a3f5f\",\"arrowhead\":0,\"arrowwidth\":1},\"geo\":{\"bgcolor\":\"white\",\"landcolor\":\"#E5ECF6\",\"subunitcolor\":\"white\",\"showland\":true,\"showlakes\":true,\"lakecolor\":\"white\"},\"title\":{\"x\":0.05},\"mapbox\":{\"style\":\"light\"}}},\"annotations\":[{\"font\":{\"size\":16},\"showarrow\":false,\"text\":\"Percentage of Male\\u002fFemale Samples\",\"x\":0.10625,\"xanchor\":\"center\",\"xref\":\"paper\",\"y\":1.0,\"yanchor\":\"bottom\",\"yref\":\"paper\"},{\"font\":{\"size\":16},\"showarrow\":false,\"text\":\"Percentage of Ethnicity Samples\",\"x\":0.36875,\"xanchor\":\"center\",\"xref\":\"paper\",\"y\":1.0,\"yanchor\":\"bottom\",\"yref\":\"paper\"},{\"font\":{\"size\":16},\"showarrow\":false,\"text\":\"Percentage of Parental Education Samples\",\"x\":0.6312500000000001,\"xanchor\":\"center\",\"xref\":\"paper\",\"y\":1.0,\"yanchor\":\"bottom\",\"yref\":\"paper\"},{\"font\":{\"size\":16},\"showarrow\":false,\"text\":\"Percentage of Lunch Samples\",\"x\":0.89375,\"xanchor\":\"center\",\"xref\":\"paper\",\"y\":1.0,\"yanchor\":\"bottom\",\"yref\":\"paper\"}]},                        {\"responsive\": true}                    ).then(function(){\n",
              "                            \n",
              "var gd = document.getElementById('e6e51c5b-7dc5-4a30-ab06-79946f08b23a');\n",
              "var x = new MutationObserver(function (mutations, observer) {{\n",
              "        var display = window.getComputedStyle(gd).display;\n",
              "        if (!display || display === 'none') {{\n",
              "            console.log([gd, 'removed!']);\n",
              "            Plotly.purge(gd);\n",
              "            observer.disconnect();\n",
              "        }}\n",
              "}});\n",
              "\n",
              "// Listen for the removal of the full notebook cells\n",
              "var notebookContainer = gd.closest('#notebook-container');\n",
              "if (notebookContainer) {{\n",
              "    x.observe(notebookContainer, {childList: true});\n",
              "}}\n",
              "\n",
              "// Listen for the clearing of the current output cell\n",
              "var outputEl = gd.closest('.output');\n",
              "if (outputEl) {{\n",
              "    x.observe(outputEl, {childList: true});\n",
              "}}\n",
              "\n",
              "                        })                };                            </script>        </div>\n",
              "</body>\n",
              "</html>"
            ]
          },
          "metadata": {}
        }
      ]
    },
    {
      "cell_type": "markdown",
      "source": [
        "Regardless of the messy legend (an unfortunate drawback of Plotly's make_subplots), this lets us better see the class distributions, which can help us see if any of the classes are potentially imbalanced."
      ],
      "metadata": {
        "id": "18GygHLNl0JY"
      }
    },
    {
      "cell_type": "markdown",
      "source": [
        "Now let's try vizualizing the data with the labels. Let's do a scatter plot, showing male/female in the ethnicity groups against the average score."
      ],
      "metadata": {
        "id": "SMYemdzQmTAy"
      }
    },
    {
      "cell_type": "code",
      "source": [
        "# Define the scatter figure\n",
        "scatter_fig = px.scatter(data_clean,x='race/ethnicity', y='average score', color='gender',title='Male vs Female Average Scores of Ethnicity Groups')\n",
        "\n",
        "# So that we don't forget this later\n",
        "fig_list.update({'scatter_fig':scatter_fig})\n",
        "\n",
        "# Show the scatter figure\n",
        "scatter_fig.show()"
      ],
      "metadata": {
        "colab": {
          "base_uri": "https://localhost:8080/",
          "height": 542
        },
        "id": "ilVJ6JBKmlQR",
        "outputId": "c5905c83-ab06-4054-e191-dd3e68f29237"
      },
      "execution_count": 27,
      "outputs": [
        {
          "output_type": "display_data",
          "data": {
            "text/html": [
              "<html>\n",
              "<head><meta charset=\"utf-8\" /></head>\n",
              "<body>\n",
              "    <div>            <script src=\"https://cdnjs.cloudflare.com/ajax/libs/mathjax/2.7.5/MathJax.js?config=TeX-AMS-MML_SVG\"></script><script type=\"text/javascript\">if (window.MathJax && window.MathJax.Hub && window.MathJax.Hub.Config) {window.MathJax.Hub.Config({SVG: {font: \"STIX-Web\"}});}</script>                <script type=\"text/javascript\">window.PlotlyConfig = {MathJaxConfig: 'local'};</script>\n",
              "        <script charset=\"utf-8\" src=\"https://cdn.plot.ly/plotly-2.24.1.min.js\"></script>                <div id=\"125d651e-bd0f-4848-bdac-60cedc141e3f\" class=\"plotly-graph-div\" style=\"height:525px; width:100%;\"></div>            <script type=\"text/javascript\">                                    window.PLOTLYENV=window.PLOTLYENV || {};                                    if (document.getElementById(\"125d651e-bd0f-4848-bdac-60cedc141e3f\")) {                    Plotly.newPlot(                        \"125d651e-bd0f-4848-bdac-60cedc141e3f\",                        [{\"hovertemplate\":\"gender=female\\u003cbr\\u003erace\\u002fethnicity=%{x}\\u003cbr\\u003eaverage score=%{y}\\u003cextra\\u003e\\u003c\\u002fextra\\u003e\",\"legendgroup\":\"female\",\"marker\":{\"color\":\"#636efa\",\"symbol\":\"circle\"},\"mode\":\"markers\",\"name\":\"female\",\"orientation\":\"v\",\"showlegend\":true,\"x\":[\"group B\",\"group C\",\"group B\",\"group B\",\"group B\",\"group B\",\"group B\",\"group A\",\"group C\",\"group B\",\"group C\",\"group B\",\"group C\",\"group C\",\"group D\",\"group D\",\"group B\",\"group E\",\"group D\",\"group D\",\"group D\",\"group C\",\"group B\",\"group E\",\"group A\",\"group C\",\"group D\",\"group C\",\"group C\",\"group E\",\"group C\",\"group C\",\"group D\",\"group C\",\"group C\",\"group D\",\"group A\",\"group D\",\"group E\",\"group B\",\"group C\",\"group C\",\"group D\",\"group A\",\"group D\",\"group C\",\"group B\",\"group E\",\"group D\",\"group D\",\"group D\",\"group C\",\"group D\",\"group B\",\"group B\",\"group D\",\"group D\",\"group E\",\"group B\",\"group D\",\"group D\",\"group C\",\"group C\",\"group C\",\"group B\",\"group A\",\"group C\",\"group C\",\"group D\",\"group C\",\"group E\",\"group C\",\"group D\",\"group B\",\"group C\",\"group E\",\"group B\",\"group E\",\"group E\",\"group C\",\"group B\",\"group B\",\"group C\",\"group D\",\"group C\",\"group C\",\"group C\",\"group B\",\"group C\",\"group B\",\"group D\",\"group C\",\"group E\",\"group D\",\"group C\",\"group E\",\"group B\",\"group C\",\"group B\",\"group B\",\"group C\",\"group D\",\"group B\",\"group B\",\"group B\",\"group C\",\"group E\",\"group C\",\"group D\",\"group C\",\"group B\",\"group E\",\"group C\",\"group C\",\"group B\",\"group D\",\"group E\",\"group D\",\"group B\",\"group B\",\"group D\",\"group B\",\"group E\",\"group C\",\"group B\",\"group C\",\"group C\",\"group C\",\"group E\",\"group C\",\"group D\",\"group D\",\"group E\",\"group D\",\"group D\",\"group C\",\"group E\",\"group C\",\"group D\",\"group D\",\"group B\",\"group B\",\"group E\",\"group C\",\"group C\",\"group B\",\"group D\",\"group B\",\"group C\",\"group C\",\"group D\",\"group D\",\"group C\",\"group E\",\"group C\",\"group C\",\"group C\",\"group C\",\"group B\",\"group C\",\"group B\",\"group B\",\"group D\",\"group C\",\"group B\",\"group C\",\"group C\",\"group B\",\"group C\",\"group C\",\"group C\",\"group B\",\"group C\",\"group D\",\"group B\",\"group C\",\"group D\",\"group A\",\"group D\",\"group C\",\"group D\",\"group D\",\"group D\",\"group D\",\"group A\",\"group B\",\"group E\",\"group A\",\"group E\",\"group E\",\"group C\",\"group D\",\"group D\",\"group C\",\"group B\",\"group C\",\"group C\",\"group A\",\"group D\",\"group C\",\"group C\",\"group B\",\"group D\",\"group D\",\"group C\",\"group C\",\"group D\",\"group D\",\"group A\",\"group C\",\"group C\",\"group A\",\"group C\",\"group D\",\"group A\",\"group B\",\"group C\",\"group C\",\"group E\",\"group C\",\"group C\",\"group D\",\"group E\",\"group E\",\"group C\",\"group C\",\"group D\",\"group A\",\"group C\",\"group C\",\"group C\",\"group D\",\"group B\",\"group D\",\"group D\",\"group D\",\"group B\",\"group C\",\"group A\",\"group C\",\"group C\",\"group C\",\"group B\",\"group C\",\"group D\",\"group B\",\"group D\",\"group B\",\"group E\",\"group D\",\"group B\",\"group C\",\"group B\",\"group B\",\"group C\",\"group D\",\"group E\",\"group D\",\"group B\",\"group C\",\"group C\",\"group D\",\"group C\",\"group C\",\"group C\",\"group E\",\"group C\",\"group D\",\"group C\",\"group D\",\"group D\",\"group A\",\"group C\",\"group B\",\"group C\",\"group C\",\"group B\",\"group D\",\"group C\",\"group D\",\"group E\",\"group D\",\"group C\",\"group C\",\"group E\",\"group B\",\"group B\",\"group D\",\"group D\",\"group E\",\"group D\",\"group D\",\"group D\",\"group C\",\"group A\",\"group C\",\"group C\",\"group A\",\"group E\",\"group C\",\"group C\",\"group D\",\"group D\",\"group D\",\"group C\",\"group E\",\"group C\",\"group C\",\"group E\",\"group B\",\"group C\",\"group C\",\"group A\",\"group C\",\"group E\",\"group C\",\"group E\",\"group C\",\"group B\",\"group C\",\"group B\",\"group D\",\"group D\",\"group D\",\"group B\",\"group E\",\"group B\",\"group D\",\"group E\",\"group B\",\"group D\",\"group A\",\"group D\",\"group A\",\"group B\",\"group B\",\"group D\",\"group D\",\"group C\",\"group C\",\"group C\",\"group B\",\"group C\",\"group C\",\"group C\",\"group D\",\"group B\",\"group E\",\"group C\",\"group D\",\"group C\",\"group E\",\"group C\",\"group E\",\"group C\",\"group D\",\"group C\",\"group D\",\"group C\",\"group A\",\"group D\",\"group E\",\"group B\",\"group D\",\"group B\",\"group D\",\"group E\",\"group D\",\"group B\",\"group B\",\"group C\",\"group C\",\"group C\",\"group B\",\"group E\",\"group D\",\"group B\",\"group C\",\"group E\",\"group B\",\"group A\",\"group C\",\"group C\",\"group C\",\"group C\",\"group E\",\"group D\",\"group C\",\"group D\",\"group B\",\"group B\",\"group C\",\"group D\",\"group B\",\"group C\",\"group B\",\"group B\",\"group C\",\"group A\",\"group D\",\"group B\",\"group B\",\"group C\",\"group B\",\"group E\",\"group B\",\"group C\",\"group B\",\"group D\",\"group B\",\"group E\",\"group E\",\"group C\",\"group E\",\"group B\",\"group C\",\"group D\",\"group E\",\"group C\",\"group C\",\"group A\",\"group B\",\"group C\",\"group A\",\"group D\",\"group B\",\"group C\",\"group C\",\"group C\",\"group D\",\"group A\",\"group C\",\"group B\",\"group C\",\"group A\",\"group C\",\"group D\",\"group B\",\"group D\",\"group C\",\"group A\",\"group E\",\"group B\",\"group C\",\"group C\",\"group E\",\"group C\",\"group C\",\"group C\",\"group D\",\"group D\",\"group E\",\"group B\",\"group E\",\"group C\",\"group E\",\"group D\",\"group E\",\"group E\",\"group A\",\"group E\",\"group E\",\"group B\",\"group D\",\"group C\",\"group A\",\"group D\",\"group D\",\"group D\",\"group C\",\"group A\",\"group C\",\"group C\",\"group B\",\"group E\",\"group C\",\"group C\",\"group C\",\"group B\",\"group D\",\"group C\",\"group E\",\"group D\",\"group B\",\"group C\",\"group D\",\"group E\",\"group D\",\"group E\",\"group C\",\"group D\",\"group D\",\"group A\",\"group D\",\"group E\",\"group C\",\"group D\",\"group E\",\"group B\",\"group D\",\"group A\",\"group D\",\"group A\",\"group C\",\"group C\",\"group B\",\"group A\",\"group C\",\"group C\",\"group A\",\"group D\",\"group B\",\"group D\",\"group D\",\"group E\",\"group C\",\"group D\",\"group D\"],\"xaxis\":\"x\",\"y\":[72.66666666666667,82.33333333333333,92.66666666666667,77.33333333333333,91.66666666666667,49.333333333333336,73.0,53.666666666666664,74.0,26.0,57.666666666666664,70.0,71.66666666666667,70.33333333333333,69.0,72.33333333333333,63.0,64.33333333333333,79.33333333333333,57.666666666666664,84.33333333333333,66.33333333333333,58.666666666666664,53.333333333333336,60.666666666666664,71.0,69.0,80.66666666666667,39.0,84.33333333333333,9.0,73.33333333333333,58.666666666666664,68.66666666666667,53.333333333333336,64.66666666666667,46.666666666666664,69.0,66.0,48.666666666666664,78.33333333333333,82.33333333333333,72.0,65.0,80.33333333333333,70.33333333333333,85.66666666666667,68.33333333333333,62.333333333333336,64.66666666666667,88.33333333333333,65.66666666666667,95.66666666666667,66.0,68.66666666666667,88.0,54.333333333333336,99.66666666666667,80.66666666666667,79.66666666666667,58.333333333333336,63.0,86.66666666666667,91.33333333333333,89.33333333333333,50.333333333333336,80.0,64.0,73.0,61.666666666666664,50.333333333333336,31.333333333333332,74.66666666666667,65.0,82.33333333333333,72.66666666666667,78.0,82.66666666666667,88.0,98.66666666666667,70.66666666666667,76.33333333333333,70.66666666666667,82.0,66.66666666666667,49.333333333333336,86.33333333333333,52.666666666666664,75.0,61.333333333333336,99.0,58.666666666666664,49.0,68.0,84.0,66.66666666666667,64.0,79.33333333333333,51.0,77.66666666666667,79.0,74.33333333333333,64.66666666666667,77.0,61.666666666666664,54.666666666666664,85.66666666666667,38.333333333333336,66.0,60.666666666666664,63.666666666666664,51.666666666666664,71.66666666666667,92.33333333333333,78.66666666666667,66.0,82.0,54.333333333333336,65.33333333333333,63.666666666666664,79.0,66.66666666666667,68.33333333333333,68.33333333333333,74.33333333333333,75.66666666666667,73.33333333333333,48.333333333333336,94.0,73.0,72.66666666666667,91.66666666666667,72.33333333333333,52.666666666666664,68.66666666666667,90.0,65.66666666666667,77.0,78.66666666666667,75.33333333333333,43.0,79.33333333333333,71.0,77.33333333333333,77.33333333333333,63.666666666666664,52.666666666666664,76.33333333333333,68.0,66.0,83.33333333333333,61.333333333333336,76.66666666666667,80.0,77.33333333333333,49.666666666666664,43.333333333333336,88.66666666666667,49.0,90.33333333333333,65.0,29.666666666666668,50.0,65.66666666666667,73.0,75.66666666666667,88.66666666666667,62.0,73.66666666666667,53.666666666666664,66.66666666666667,67.66666666666667,59.0,86.33333333333333,59.666666666666664,56.0,31.0,55.333333333333336,80.66666666666667,62.666666666666664,91.66666666666667,67.33333333333333,84.0,93.33333333333333,77.0,83.0,44.0,41.333333333333336,72.66666666666667,69.0,67.33333333333333,63.333333333333336,74.0,72.0,60.0,89.66666666666667,60.0,56.333333333333336,95.66666666666667,58.333333333333336,68.0,79.66666666666667,55.0,71.66666666666667,67.33333333333333,89.33333333333333,59.666666666666664,57.333333333333336,74.66666666666667,63.666666666666664,67.66666666666667,52.0,75.66666666666667,79.66666666666667,67.0,77.33333333333333,72.66666666666667,78.0,96.33333333333333,72.0,58.666666666666664,85.66666666666667,100.0,72.33333333333333,86.0,87.33333333333333,31.666666666666668,83.33333333333333,86.0,68.66666666666667,79.33333333333333,62.333333333333336,90.33333333333333,76.66666666666667,63.0,55.666666666666664,51.666666666666664,69.66666666666667,75.33333333333333,66.0,85.33333333333333,86.33333333333333,62.0,51.333333333333336,71.0,67.66666666666667,78.33333333333333,91.0,92.0,51.0,81.33333333333333,88.33333333333333,59.0,89.33333333333333,82.66666666666667,82.33333333333333,71.0,74.0,74.66666666666667,87.0,44.0,39.0,68.66666666666667,69.33333333333333,51.333333333333336,87.0,77.33333333333333,59.666666666666664,79.0,88.66666666666667,64.33333333333333,96.33333333333333,64.33333333333333,46.0,34.666666666666664,68.66666666666667,64.33333333333333,76.0,70.33333333333333,74.33333333333333,97.33333333333333,70.0,57.0,60.0,75.33333333333333,87.0,54.0,60.666666666666664,91.33333333333333,78.66666666666667,71.33333333333333,76.0,74.33333333333333,72.33333333333333,67.0,56.333333333333336,61.0,59.666666666666664,74.33333333333333,97.0,69.0,73.0,76.0,59.0,29.333333333333332,78.0,83.66666666666667,50.666666666666664,62.333333333333336,62.0,61.0,72.0,89.33333333333333,66.66666666666667,40.0,50.0,60.333333333333336,50.0,73.66666666666667,82.66666666666667,76.0,86.66666666666667,74.33333333333333,84.0,77.33333333333333,77.66666666666667,75.66666666666667,64.66666666666667,64.66666666666667,52.666666666666664,76.33333333333333,74.66666666666667,89.66666666666667,69.66666666666667,77.0,65.33333333333333,53.666666666666664,65.0,67.0,56.666666666666664,69.0,83.0,70.0,74.33333333333333,77.66666666666667,74.66666666666667,60.0,75.66666666666667,76.0,71.0,37.666666666666664,97.66666666666667,51.666666666666664,75.66666666666667,73.66666666666667,75.66666666666667,56.0,84.66666666666667,82.33333333333333,67.0,71.33333333333333,80.66666666666667,65.33333333333333,64.66666666666667,62.0,53.666666666666664,83.33333333333333,99.0,68.0,85.66666666666667,97.0,75.33333333333333,68.0,84.0,72.33333333333333,83.0,75.0,90.0,56.0,64.0,50.0,82.33333333333333,68.0,56.333333333333336,84.0,90.33333333333333,58.666666666666664,63.0,53.333333333333336,62.333333333333336,72.66666666666667,70.0,71.33333333333333,63.666666666666664,73.0,54.0,69.33333333333333,40.666666666666664,77.66666666666667,53.0,83.66666666666667,81.0,57.666666666666664,42.333333333333336,76.0,29.666666666666668,59.333333333333336,56.666666666666664,65.33333333333333,48.333333333333336,66.0,78.33333333333333,54.666666666666664,92.0,84.66666666666667,75.66666666666667,71.0,42.0,61.666666666666664,78.33333333333333,56.0,66.66666666666667,85.33333333333333,89.0,87.0,80.0,52.666666666666664,64.66666666666667,70.0,78.66666666666667,59.333333333333336,83.0,82.66666666666667,66.0,78.66666666666667,72.0,45.666666666666664,34.333333333333336,56.333333333333336,66.33333333333333,64.0,88.33333333333333,96.66666666666667,75.0,56.0,84.66666666666667,74.0,72.66666666666667,55.333333333333336,70.33333333333333,71.33333333333333,70.33333333333333,69.33333333333333,52.0,72.66666666666667,96.0,69.33333333333333,87.33333333333333,87.33333333333333,63.333333333333336,63.333333333333336,34.666666666666664,73.33333333333333,75.0,75.0,41.0,97.66666666666667,78.33333333333333,84.66666666666667,71.33333333333333,78.33333333333333,59.666666666666664,58.333333333333336,54.0,68.0,52.333333333333336,71.33333333333333,44.666666666666664,61.333333333333336,65.66666666666667,51.666666666666664,57.333333333333336,88.33333333333333,62.333333333333336,57.666666666666664,55.666666666666664,68.33333333333333,78.33333333333333,73.33333333333333,66.66666666666667,97.33333333333333,55.666666666666664,59.333333333333336,51.666666666666664,100.0,72.0,68.0,70.33333333333333,79.66666666666667,96.33333333333333,54.333333333333336,58.333333333333336,61.333333333333336,74.33333333333333,93.33333333333333,18.333333333333332,85.33333333333333,77.0,50.0,44.666666666666664,78.66666666666667,75.0,69.0,69.33333333333333,94.0,65.0,74.33333333333333,83.0],\"yaxis\":\"y\",\"type\":\"scatter\"},{\"hovertemplate\":\"gender=male\\u003cbr\\u003erace\\u002fethnicity=%{x}\\u003cbr\\u003eaverage score=%{y}\\u003cextra\\u003e\\u003c\\u002fextra\\u003e\",\"legendgroup\":\"male\",\"marker\":{\"color\":\"#EF553B\",\"symbol\":\"circle\"},\"mode\":\"markers\",\"name\":\"male\",\"orientation\":\"v\",\"showlegend\":true,\"x\":[\"group A\",\"group C\",\"group B\",\"group D\",\"group C\",\"group D\",\"group A\",\"group C\",\"group C\",\"group D\",\"group D\",\"group D\",\"group A\",\"group B\",\"group C\",\"group D\",\"group E\",\"group E\",\"group B\",\"group C\",\"group B\",\"group B\",\"group C\",\"group E\",\"group E\",\"group C\",\"group D\",\"group D\",\"group D\",\"group E\",\"group A\",\"group A\",\"group B\",\"group D\",\"group B\",\"group D\",\"group C\",\"group C\",\"group B\",\"group E\",\"group A\",\"group B\",\"group A\",\"group E\",\"group D\",\"group C\",\"group C\",\"group C\",\"group C\",\"group B\",\"group B\",\"group D\",\"group B\",\"group C\",\"group E\",\"group C\",\"group A\",\"group C\",\"group B\",\"group D\",\"group E\",\"group B\",\"group D\",\"group D\",\"group D\",\"group C\",\"group E\",\"group D\",\"group C\",\"group B\",\"group E\",\"group D\",\"group A\",\"group D\",\"group B\",\"group C\",\"group E\",\"group A\",\"group A\",\"group D\",\"group D\",\"group B\",\"group D\",\"group B\",\"group B\",\"group C\",\"group C\",\"group A\",\"group E\",\"group C\",\"group C\",\"group C\",\"group E\",\"group D\",\"group B\",\"group D\",\"group D\",\"group D\",\"group C\",\"group E\",\"group C\",\"group C\",\"group D\",\"group E\",\"group E\",\"group D\",\"group C\",\"group C\",\"group E\",\"group B\",\"group B\",\"group B\",\"group B\",\"group D\",\"group D\",\"group A\",\"group D\",\"group C\",\"group E\",\"group C\",\"group D\",\"group D\",\"group B\",\"group C\",\"group D\",\"group E\",\"group D\",\"group C\",\"group E\",\"group C\",\"group A\",\"group D\",\"group D\",\"group C\",\"group C\",\"group D\",\"group D\",\"group C\",\"group C\",\"group B\",\"group C\",\"group B\",\"group D\",\"group D\",\"group B\",\"group E\",\"group B\",\"group E\",\"group C\",\"group D\",\"group C\",\"group D\",\"group B\",\"group A\",\"group E\",\"group C\",\"group D\",\"group A\",\"group D\",\"group B\",\"group A\",\"group E\",\"group C\",\"group B\",\"group D\",\"group C\",\"group C\",\"group B\",\"group C\",\"group A\",\"group C\",\"group C\",\"group C\",\"group E\",\"group B\",\"group D\",\"group C\",\"group C\",\"group D\",\"group D\",\"group B\",\"group D\",\"group E\",\"group E\",\"group A\",\"group D\",\"group B\",\"group C\",\"group A\",\"group C\",\"group C\",\"group E\",\"group D\",\"group E\",\"group A\",\"group C\",\"group C\",\"group D\",\"group E\",\"group E\",\"group C\",\"group A\",\"group B\",\"group D\",\"group A\",\"group B\",\"group D\",\"group E\",\"group D\",\"group B\",\"group E\",\"group C\",\"group C\",\"group D\",\"group E\",\"group B\",\"group C\",\"group C\",\"group A\",\"group C\",\"group C\",\"group C\",\"group C\",\"group C\",\"group D\",\"group D\",\"group C\",\"group D\",\"group A\",\"group D\",\"group C\",\"group B\",\"group B\",\"group C\",\"group C\",\"group D\",\"group B\",\"group C\",\"group B\",\"group A\",\"group A\",\"group C\",\"group E\",\"group D\",\"group E\",\"group B\",\"group C\",\"group A\",\"group C\",\"group D\",\"group B\",\"group A\",\"group D\",\"group E\",\"group C\",\"group A\",\"group B\",\"group C\",\"group D\",\"group A\",\"group D\",\"group D\",\"group D\",\"group C\",\"group C\",\"group E\",\"group C\",\"group E\",\"group B\",\"group C\",\"group E\",\"group A\",\"group C\",\"group D\",\"group E\",\"group C\",\"group C\",\"group C\",\"group B\",\"group D\",\"group E\",\"group C\",\"group D\",\"group C\",\"group B\",\"group B\",\"group B\",\"group D\",\"group B\",\"group A\",\"group A\",\"group A\",\"group C\",\"group A\",\"group E\",\"group B\",\"group A\",\"group D\",\"group D\",\"group C\",\"group D\",\"group C\",\"group D\",\"group D\",\"group C\",\"group B\",\"group C\",\"group A\",\"group D\",\"group B\",\"group D\",\"group D\",\"group D\",\"group B\",\"group D\",\"group A\",\"group E\",\"group D\",\"group B\",\"group C\",\"group C\",\"group D\",\"group D\",\"group C\",\"group C\",\"group D\",\"group C\",\"group D\",\"group D\",\"group D\",\"group D\",\"group B\",\"group B\",\"group B\",\"group E\",\"group D\",\"group A\",\"group E\",\"group C\",\"group A\",\"group A\",\"group D\",\"group C\",\"group D\",\"group C\",\"group D\",\"group C\",\"group E\",\"group D\",\"group C\",\"group B\",\"group E\",\"group E\",\"group C\",\"group A\",\"group D\",\"group C\",\"group C\",\"group D\",\"group C\",\"group D\",\"group B\",\"group D\",\"group D\",\"group C\",\"group B\",\"group D\",\"group E\",\"group C\",\"group C\",\"group D\",\"group E\",\"group B\",\"group D\",\"group D\",\"group B\",\"group A\",\"group B\",\"group D\",\"group B\",\"group E\",\"group C\",\"group C\",\"group D\",\"group E\",\"group D\",\"group E\",\"group C\",\"group C\",\"group A\",\"group C\",\"group B\",\"group A\",\"group A\",\"group E\",\"group B\",\"group D\",\"group E\",\"group C\",\"group B\",\"group A\",\"group B\",\"group E\",\"group B\",\"group C\",\"group B\",\"group E\",\"group C\",\"group D\",\"group D\",\"group C\",\"group E\",\"group C\",\"group B\",\"group B\",\"group C\",\"group D\",\"group C\",\"group D\",\"group C\",\"group B\",\"group E\",\"group C\",\"group B\",\"group B\",\"group E\",\"group C\",\"group D\",\"group C\",\"group C\",\"group D\",\"group C\",\"group D\",\"group D\",\"group B\",\"group D\",\"group D\",\"group D\",\"group B\",\"group E\",\"group D\",\"group E\",\"group B\",\"group D\",\"group D\",\"group D\",\"group E\",\"group E\",\"group E\",\"group C\",\"group D\",\"group D\",\"group C\",\"group C\",\"group D\",\"group A\",\"group D\",\"group D\",\"group C\",\"group C\",\"group A\",\"group B\",\"group B\",\"group E\",\"group C\",\"group E\",\"group C\",\"group C\",\"group D\",\"group A\",\"group C\",\"group C\",\"group B\",\"group C\",\"group D\",\"group D\",\"group B\",\"group A\",\"group E\",\"group E\",\"group A\",\"group C\"],\"xaxis\":\"x\",\"y\":[49.333333333333336,76.33333333333333,40.666666666666664,65.0,54.666666666666664,45.0,73.33333333333333,87.66666666666667,44.666666666666664,66.0,50.333333333333336,75.0,73.0,59.333333333333336,68.33333333333333,40.0,88.66666666666667,80.33333333333333,56.666666666666664,56.666666666666664,63.333333333333336,58.666666666666664,82.66666666666667,52.0,71.33333333333333,46.333333333333336,80.33333333333333,52.0,58.333333333333336,75.0,37.333333333333336,59.333333333333336,64.0,39.666666666666664,58.333333333333336,60.333333333333336,58.0,46.333333333333336,41.0,26.0,79.66666666666667,46.333333333333336,50.333333333333336,66.33333333333333,38.333333333333336,32.333333333333336,73.66666666666667,46.0,80.33333333333333,64.33333333333333,71.0,72.0,50.333333333333336,91.33333333333333,64.33333333333333,55.333333333333336,51.333333333333336,78.33333333333333,90.66666666666667,58.666666666666664,78.66666666666667,69.0,72.0,79.33333333333333,85.0,43.333333333333336,77.0,76.0,53.666666666666664,48.666666666666664,60.333333333333336,67.0,49.0,79.66666666666667,82.33333333333333,69.0,97.66666666666667,66.0,70.66666666666667,50.0,63.333333333333336,60.0,64.0,78.0,51.333333333333336,51.333333333333336,51.666666666666664,73.0,86.66666666666667,68.33333333333333,48.666666666666664,65.66666666666667,73.66666666666667,65.33333333333333,48.333333333333336,79.33333333333333,67.0,56.0,64.33333333333333,54.0,71.66666666666667,47.333333333333336,74.33333333333333,68.66666666666667,79.0,79.33333333333333,30.0,55.666666666666664,86.33333333333333,80.66666666666667,71.0,57.666666666666664,81.66666666666667,80.33333333333333,53.666666666666664,68.0,68.66666666666667,43.666666666666664,85.66666666666667,83.0,77.33333333333333,65.33333333333333,52.333333333333336,81.33333333333333,69.0,51.0,72.66666666666667,77.33333333333333,79.66666666666667,60.333333333333336,48.333333333333336,77.33333333333333,52.666666666666664,77.33333333333333,78.66666666666667,72.33333333333333,47.333333333333336,64.33333333333333,49.666666666666664,83.0,78.0,62.0,49.0,46.333333333333336,81.66666666666667,89.0,79.66666666666667,76.66666666666667,71.33333333333333,76.33333333333333,60.0,78.33333333333333,63.0,43.333333333333336,71.0,45.333333333333336,84.0,80.0,54.0,73.33333333333333,68.33333333333333,89.0,49.0,61.0,65.33333333333333,67.33333333333333,77.66666666666667,67.66666666666667,61.333333333333336,23.333333333333332,78.0,64.0,39.666666666666664,57.0,83.0,71.66666666666667,47.666666666666664,57.0,68.66666666666667,73.0,60.0,71.66666666666667,79.0,58.333333333333336,61.666666666666664,60.666666666666664,82.33333333333333,59.0,55.666666666666664,60.0,62.666666666666664,77.33333333333333,73.33333333333333,43.333333333333336,64.0,94.0,77.0,72.66666666666667,66.33333333333333,70.0,55.666666666666664,44.666666666666664,64.66666666666667,57.666666666666664,46.333333333333336,64.33333333333333,85.33333333333333,81.66666666666667,65.66666666666667,65.66666666666667,75.33333333333333,71.0,71.33333333333333,63.0,55.666666666666664,38.0,85.0,68.33333333333333,59.0,61.666666666666664,63.0,57.333333333333336,68.33333333333333,50.333333333333336,69.0,71.33333333333333,59.0,86.33333333333333,78.0,65.0,82.33333333333333,45.0,75.33333333333333,57.333333333333336,46.666666666666664,51.666666666666664,68.33333333333333,55.333333333333336,51.0,65.0,68.0,80.33333333333333,68.0,73.33333333333333,71.33333333333333,70.66666666666667,65.66666666666667,52.333333333333336,71.66666666666667,54.666666666666664,58.0,81.0,66.0,73.0,59.333333333333336,68.0,56.0,78.0,73.33333333333333,52.333333333333336,54.333333333333336,57.333333333333336,61.333333333333336,54.333333333333336,51.333333333333336,62.333333333333336,59.0,60.333333333333336,70.0,56.333333333333336,74.0,91.66666666666667,70.66666666666667,80.33333333333333,80.33333333333333,67.66666666666667,73.33333333333333,73.33333333333333,88.33333333333333,67.66666666666667,46.0,64.66666666666667,67.0,92.66666666666667,48.333333333333336,45.333333333333336,52.666666666666664,67.66666666666667,72.0,93.0,49.333333333333336,54.666666666666664,56.333333333333336,61.0,66.66666666666667,23.0,51.666666666666664,56.0,87.66666666666667,69.66666666666667,64.0,91.66666666666667,83.0,86.66666666666667,68.66666666666667,60.333333333333336,53.666666666666664,94.0,98.66666666666667,67.33333333333333,51.666666666666664,50.666666666666664,67.0,68.0,82.66666666666667,69.66666666666667,78.66666666666667,48.0,65.0,53.333333333333336,69.33333333333333,65.33333333333333,87.33333333333333,74.66666666666667,67.33333333333333,68.66666666666667,69.33333333333333,76.66666666666667,53.0,78.0,61.333333333333336,62.666666666666664,57.0,65.33333333333333,76.0,76.0,51.666666666666664,88.66666666666667,63.666666666666664,86.0,66.33333333333333,38.666666666666664,59.0,85.0,89.0,82.0,74.33333333333333,81.33333333333333,57.666666666666664,46.666666666666664,43.666666666666664,75.33333333333333,58.666666666666664,43.0,48.0,48.666666666666664,61.0,85.0,75.0,58.666666666666664,75.0,52.333333333333336,75.0,71.66666666666667,67.0,85.66666666666667,69.33333333333333,68.33333333333333,77.0,55.333333333333336,55.0,70.0,74.33333333333333,81.66666666666667,60.666666666666664,66.0,58.333333333333336,49.666666666666664,74.0,63.666666666666664,87.0,83.66666666666667,64.66666666666667,69.66666666666667,83.33333333333333,70.0,61.0,69.33333333333333,76.33333333333333,76.66666666666667,78.0,54.666666666666664,39.333333333333336,47.0,82.33333333333333,89.0,69.0,50.666666666666664,62.333333333333336,58.333333333333336,60.666666666666664,51.0,64.66666666666667,56.0,57.666666666666664,75.66666666666667,86.33333333333333,87.0,56.0,74.66666666666667,68.33333333333333,70.0,60.333333333333336,69.33333333333333,49.0,77.33333333333333,39.666666666666664,93.66666666666667,84.0,54.666666666666664,48.0,74.66666666666667,50.333333333333336,54.666666666666664,81.33333333333333,87.33333333333333,70.0,82.33333333333333,57.333333333333336,64.33333333333333,48.333333333333336,61.666666666666664,47.666666666666664,79.0,30.666666666666668,61.333333333333336,86.0,80.66666666666667,52.0,68.0,46.666666666666664,100.0,92.66666666666667,68.66666666666667,68.0,71.0,66.0,57.333333333333336,44.333333333333336,70.33333333333333,60.333333333333336,68.33333333333333,73.0,91.66666666666667,63.666666666666664,59.0,83.66666666666667,71.33333333333333,70.0,70.33333333333333,61.333333333333336,81.33333333333333,50.333333333333336,79.33333333333333,54.666666666666664,63.666666666666664,84.0,75.66666666666667,62.333333333333336,66.0,62.0,73.0,60.666666666666664,61.666666666666664,48.0,79.0,83.33333333333333,54.0,77.33333333333333,80.66666666666667,62.666666666666664,57.333333333333336],\"yaxis\":\"y\",\"type\":\"scatter\"}],                        {\"template\":{\"data\":{\"histogram2dcontour\":[{\"type\":\"histogram2dcontour\",\"colorbar\":{\"outlinewidth\":0,\"ticks\":\"\"},\"colorscale\":[[0.0,\"#0d0887\"],[0.1111111111111111,\"#46039f\"],[0.2222222222222222,\"#7201a8\"],[0.3333333333333333,\"#9c179e\"],[0.4444444444444444,\"#bd3786\"],[0.5555555555555556,\"#d8576b\"],[0.6666666666666666,\"#ed7953\"],[0.7777777777777778,\"#fb9f3a\"],[0.8888888888888888,\"#fdca26\"],[1.0,\"#f0f921\"]]}],\"choropleth\":[{\"type\":\"choropleth\",\"colorbar\":{\"outlinewidth\":0,\"ticks\":\"\"}}],\"histogram2d\":[{\"type\":\"histogram2d\",\"colorbar\":{\"outlinewidth\":0,\"ticks\":\"\"},\"colorscale\":[[0.0,\"#0d0887\"],[0.1111111111111111,\"#46039f\"],[0.2222222222222222,\"#7201a8\"],[0.3333333333333333,\"#9c179e\"],[0.4444444444444444,\"#bd3786\"],[0.5555555555555556,\"#d8576b\"],[0.6666666666666666,\"#ed7953\"],[0.7777777777777778,\"#fb9f3a\"],[0.8888888888888888,\"#fdca26\"],[1.0,\"#f0f921\"]]}],\"heatmap\":[{\"type\":\"heatmap\",\"colorbar\":{\"outlinewidth\":0,\"ticks\":\"\"},\"colorscale\":[[0.0,\"#0d0887\"],[0.1111111111111111,\"#46039f\"],[0.2222222222222222,\"#7201a8\"],[0.3333333333333333,\"#9c179e\"],[0.4444444444444444,\"#bd3786\"],[0.5555555555555556,\"#d8576b\"],[0.6666666666666666,\"#ed7953\"],[0.7777777777777778,\"#fb9f3a\"],[0.8888888888888888,\"#fdca26\"],[1.0,\"#f0f921\"]]}],\"heatmapgl\":[{\"type\":\"heatmapgl\",\"colorbar\":{\"outlinewidth\":0,\"ticks\":\"\"},\"colorscale\":[[0.0,\"#0d0887\"],[0.1111111111111111,\"#46039f\"],[0.2222222222222222,\"#7201a8\"],[0.3333333333333333,\"#9c179e\"],[0.4444444444444444,\"#bd3786\"],[0.5555555555555556,\"#d8576b\"],[0.6666666666666666,\"#ed7953\"],[0.7777777777777778,\"#fb9f3a\"],[0.8888888888888888,\"#fdca26\"],[1.0,\"#f0f921\"]]}],\"contourcarpet\":[{\"type\":\"contourcarpet\",\"colorbar\":{\"outlinewidth\":0,\"ticks\":\"\"}}],\"contour\":[{\"type\":\"contour\",\"colorbar\":{\"outlinewidth\":0,\"ticks\":\"\"},\"colorscale\":[[0.0,\"#0d0887\"],[0.1111111111111111,\"#46039f\"],[0.2222222222222222,\"#7201a8\"],[0.3333333333333333,\"#9c179e\"],[0.4444444444444444,\"#bd3786\"],[0.5555555555555556,\"#d8576b\"],[0.6666666666666666,\"#ed7953\"],[0.7777777777777778,\"#fb9f3a\"],[0.8888888888888888,\"#fdca26\"],[1.0,\"#f0f921\"]]}],\"surface\":[{\"type\":\"surface\",\"colorbar\":{\"outlinewidth\":0,\"ticks\":\"\"},\"colorscale\":[[0.0,\"#0d0887\"],[0.1111111111111111,\"#46039f\"],[0.2222222222222222,\"#7201a8\"],[0.3333333333333333,\"#9c179e\"],[0.4444444444444444,\"#bd3786\"],[0.5555555555555556,\"#d8576b\"],[0.6666666666666666,\"#ed7953\"],[0.7777777777777778,\"#fb9f3a\"],[0.8888888888888888,\"#fdca26\"],[1.0,\"#f0f921\"]]}],\"mesh3d\":[{\"type\":\"mesh3d\",\"colorbar\":{\"outlinewidth\":0,\"ticks\":\"\"}}],\"scatter\":[{\"fillpattern\":{\"fillmode\":\"overlay\",\"size\":10,\"solidity\":0.2},\"type\":\"scatter\"}],\"parcoords\":[{\"type\":\"parcoords\",\"line\":{\"colorbar\":{\"outlinewidth\":0,\"ticks\":\"\"}}}],\"scatterpolargl\":[{\"type\":\"scatterpolargl\",\"marker\":{\"colorbar\":{\"outlinewidth\":0,\"ticks\":\"\"}}}],\"bar\":[{\"error_x\":{\"color\":\"#2a3f5f\"},\"error_y\":{\"color\":\"#2a3f5f\"},\"marker\":{\"line\":{\"color\":\"#E5ECF6\",\"width\":0.5},\"pattern\":{\"fillmode\":\"overlay\",\"size\":10,\"solidity\":0.2}},\"type\":\"bar\"}],\"scattergeo\":[{\"type\":\"scattergeo\",\"marker\":{\"colorbar\":{\"outlinewidth\":0,\"ticks\":\"\"}}}],\"scatterpolar\":[{\"type\":\"scatterpolar\",\"marker\":{\"colorbar\":{\"outlinewidth\":0,\"ticks\":\"\"}}}],\"histogram\":[{\"marker\":{\"pattern\":{\"fillmode\":\"overlay\",\"size\":10,\"solidity\":0.2}},\"type\":\"histogram\"}],\"scattergl\":[{\"type\":\"scattergl\",\"marker\":{\"colorbar\":{\"outlinewidth\":0,\"ticks\":\"\"}}}],\"scatter3d\":[{\"type\":\"scatter3d\",\"line\":{\"colorbar\":{\"outlinewidth\":0,\"ticks\":\"\"}},\"marker\":{\"colorbar\":{\"outlinewidth\":0,\"ticks\":\"\"}}}],\"scattermapbox\":[{\"type\":\"scattermapbox\",\"marker\":{\"colorbar\":{\"outlinewidth\":0,\"ticks\":\"\"}}}],\"scatterternary\":[{\"type\":\"scatterternary\",\"marker\":{\"colorbar\":{\"outlinewidth\":0,\"ticks\":\"\"}}}],\"scattercarpet\":[{\"type\":\"scattercarpet\",\"marker\":{\"colorbar\":{\"outlinewidth\":0,\"ticks\":\"\"}}}],\"carpet\":[{\"aaxis\":{\"endlinecolor\":\"#2a3f5f\",\"gridcolor\":\"white\",\"linecolor\":\"white\",\"minorgridcolor\":\"white\",\"startlinecolor\":\"#2a3f5f\"},\"baxis\":{\"endlinecolor\":\"#2a3f5f\",\"gridcolor\":\"white\",\"linecolor\":\"white\",\"minorgridcolor\":\"white\",\"startlinecolor\":\"#2a3f5f\"},\"type\":\"carpet\"}],\"table\":[{\"cells\":{\"fill\":{\"color\":\"#EBF0F8\"},\"line\":{\"color\":\"white\"}},\"header\":{\"fill\":{\"color\":\"#C8D4E3\"},\"line\":{\"color\":\"white\"}},\"type\":\"table\"}],\"barpolar\":[{\"marker\":{\"line\":{\"color\":\"#E5ECF6\",\"width\":0.5},\"pattern\":{\"fillmode\":\"overlay\",\"size\":10,\"solidity\":0.2}},\"type\":\"barpolar\"}],\"pie\":[{\"automargin\":true,\"type\":\"pie\"}]},\"layout\":{\"autotypenumbers\":\"strict\",\"colorway\":[\"#636efa\",\"#EF553B\",\"#00cc96\",\"#ab63fa\",\"#FFA15A\",\"#19d3f3\",\"#FF6692\",\"#B6E880\",\"#FF97FF\",\"#FECB52\"],\"font\":{\"color\":\"#2a3f5f\"},\"hovermode\":\"closest\",\"hoverlabel\":{\"align\":\"left\"},\"paper_bgcolor\":\"white\",\"plot_bgcolor\":\"#E5ECF6\",\"polar\":{\"bgcolor\":\"#E5ECF6\",\"angularaxis\":{\"gridcolor\":\"white\",\"linecolor\":\"white\",\"ticks\":\"\"},\"radialaxis\":{\"gridcolor\":\"white\",\"linecolor\":\"white\",\"ticks\":\"\"}},\"ternary\":{\"bgcolor\":\"#E5ECF6\",\"aaxis\":{\"gridcolor\":\"white\",\"linecolor\":\"white\",\"ticks\":\"\"},\"baxis\":{\"gridcolor\":\"white\",\"linecolor\":\"white\",\"ticks\":\"\"},\"caxis\":{\"gridcolor\":\"white\",\"linecolor\":\"white\",\"ticks\":\"\"}},\"coloraxis\":{\"colorbar\":{\"outlinewidth\":0,\"ticks\":\"\"}},\"colorscale\":{\"sequential\":[[0.0,\"#0d0887\"],[0.1111111111111111,\"#46039f\"],[0.2222222222222222,\"#7201a8\"],[0.3333333333333333,\"#9c179e\"],[0.4444444444444444,\"#bd3786\"],[0.5555555555555556,\"#d8576b\"],[0.6666666666666666,\"#ed7953\"],[0.7777777777777778,\"#fb9f3a\"],[0.8888888888888888,\"#fdca26\"],[1.0,\"#f0f921\"]],\"sequentialminus\":[[0.0,\"#0d0887\"],[0.1111111111111111,\"#46039f\"],[0.2222222222222222,\"#7201a8\"],[0.3333333333333333,\"#9c179e\"],[0.4444444444444444,\"#bd3786\"],[0.5555555555555556,\"#d8576b\"],[0.6666666666666666,\"#ed7953\"],[0.7777777777777778,\"#fb9f3a\"],[0.8888888888888888,\"#fdca26\"],[1.0,\"#f0f921\"]],\"diverging\":[[0,\"#8e0152\"],[0.1,\"#c51b7d\"],[0.2,\"#de77ae\"],[0.3,\"#f1b6da\"],[0.4,\"#fde0ef\"],[0.5,\"#f7f7f7\"],[0.6,\"#e6f5d0\"],[0.7,\"#b8e186\"],[0.8,\"#7fbc41\"],[0.9,\"#4d9221\"],[1,\"#276419\"]]},\"xaxis\":{\"gridcolor\":\"white\",\"linecolor\":\"white\",\"ticks\":\"\",\"title\":{\"standoff\":15},\"zerolinecolor\":\"white\",\"automargin\":true,\"zerolinewidth\":2},\"yaxis\":{\"gridcolor\":\"white\",\"linecolor\":\"white\",\"ticks\":\"\",\"title\":{\"standoff\":15},\"zerolinecolor\":\"white\",\"automargin\":true,\"zerolinewidth\":2},\"scene\":{\"xaxis\":{\"backgroundcolor\":\"#E5ECF6\",\"gridcolor\":\"white\",\"linecolor\":\"white\",\"showbackground\":true,\"ticks\":\"\",\"zerolinecolor\":\"white\",\"gridwidth\":2},\"yaxis\":{\"backgroundcolor\":\"#E5ECF6\",\"gridcolor\":\"white\",\"linecolor\":\"white\",\"showbackground\":true,\"ticks\":\"\",\"zerolinecolor\":\"white\",\"gridwidth\":2},\"zaxis\":{\"backgroundcolor\":\"#E5ECF6\",\"gridcolor\":\"white\",\"linecolor\":\"white\",\"showbackground\":true,\"ticks\":\"\",\"zerolinecolor\":\"white\",\"gridwidth\":2}},\"shapedefaults\":{\"line\":{\"color\":\"#2a3f5f\"}},\"annotationdefaults\":{\"arrowcolor\":\"#2a3f5f\",\"arrowhead\":0,\"arrowwidth\":1},\"geo\":{\"bgcolor\":\"white\",\"landcolor\":\"#E5ECF6\",\"subunitcolor\":\"white\",\"showland\":true,\"showlakes\":true,\"lakecolor\":\"white\"},\"title\":{\"x\":0.05},\"mapbox\":{\"style\":\"light\"}}},\"xaxis\":{\"anchor\":\"y\",\"domain\":[0.0,1.0],\"title\":{\"text\":\"race\\u002fethnicity\"}},\"yaxis\":{\"anchor\":\"x\",\"domain\":[0.0,1.0],\"title\":{\"text\":\"average score\"}},\"legend\":{\"title\":{\"text\":\"gender\"},\"tracegroupgap\":0},\"title\":{\"text\":\"Male vs Female Average Scores of Ethnicity Groups\"}},                        {\"responsive\": true}                    ).then(function(){\n",
              "                            \n",
              "var gd = document.getElementById('125d651e-bd0f-4848-bdac-60cedc141e3f');\n",
              "var x = new MutationObserver(function (mutations, observer) {{\n",
              "        var display = window.getComputedStyle(gd).display;\n",
              "        if (!display || display === 'none') {{\n",
              "            console.log([gd, 'removed!']);\n",
              "            Plotly.purge(gd);\n",
              "            observer.disconnect();\n",
              "        }}\n",
              "}});\n",
              "\n",
              "// Listen for the removal of the full notebook cells\n",
              "var notebookContainer = gd.closest('#notebook-container');\n",
              "if (notebookContainer) {{\n",
              "    x.observe(notebookContainer, {childList: true});\n",
              "}}\n",
              "\n",
              "// Listen for the clearing of the current output cell\n",
              "var outputEl = gd.closest('.output');\n",
              "if (outputEl) {{\n",
              "    x.observe(outputEl, {childList: true});\n",
              "}}\n",
              "\n",
              "                        })                };                            </script>        </div>\n",
              "</body>\n",
              "</html>"
            ]
          },
          "metadata": {}
        }
      ]
    },
    {
      "cell_type": "markdown",
      "source": [
        "You'll notice that this isn't *super* useful, as there are not that many groups but there are lots and lots of results, all very close together.  It does show us the overal distribution of scores, and that groups D and E maybe *very slightly* have higher scores, but it's honestly pretty inconclusize."
      ],
      "metadata": {
        "id": "02pJJrLKodL-"
      }
    },
    {
      "cell_type": "markdown",
      "source": [
        "Next let's try a histogram, comparing the same values but averaging the average scores."
      ],
      "metadata": {
        "id": "fX8_qgj_pDnW"
      }
    },
    {
      "cell_type": "code",
      "source": [
        "# Define the overall subplot figure\n",
        "hist_fig = make_subplots(rows=1, cols=2, subplot_titles=('Average Score of Race/Ethnicity Samples','Average Score of Male/Female Samples'))\n",
        "\n",
        "#Define the subplots\n",
        "\n",
        "hist_figures = [px.histogram(data_clean,x=data_clean['race/ethnicity'].unique(), y=data_clean.groupby('race/ethnicity')['average score'].mean()),\n",
        "            px.histogram(data_clean,x=data_clean['gender'].unique(), y=data_clean.groupby('gender')['average score'].mean())]\n",
        "\n",
        "# Convert the subplots to traces (because make_sublots works with go and not px, dang) and append the traces to the overall figure\n",
        "\n",
        "for i, figure in enumerate(hist_figures):\n",
        "    for trace in range(len(figure[\"data\"])):\n",
        "        hist_fig.append_trace(figure[\"data\"][trace], row=1, col=1+i)\n",
        "\n",
        "# For some reason beyond my understanding, make_subplots doesn't work with plotly express with faceted, string labels, unless you do this:\n",
        "hist_fig.update_traces(bingroup=None)\n",
        "\n",
        "# So that we don't forget this later\n",
        "fig_list.update({'hist_fig':hist_fig})\n",
        "\n",
        "# Show the figure\n",
        "hist_fig.show()"
      ],
      "metadata": {
        "colab": {
          "base_uri": "https://localhost:8080/",
          "height": 542
        },
        "id": "UXlKBJG0pM7c",
        "outputId": "e416f569-e3d2-460d-a219-6f14e453a002"
      },
      "execution_count": 28,
      "outputs": [
        {
          "output_type": "display_data",
          "data": {
            "text/html": [
              "<html>\n",
              "<head><meta charset=\"utf-8\" /></head>\n",
              "<body>\n",
              "    <div>            <script src=\"https://cdnjs.cloudflare.com/ajax/libs/mathjax/2.7.5/MathJax.js?config=TeX-AMS-MML_SVG\"></script><script type=\"text/javascript\">if (window.MathJax && window.MathJax.Hub && window.MathJax.Hub.Config) {window.MathJax.Hub.Config({SVG: {font: \"STIX-Web\"}});}</script>                <script type=\"text/javascript\">window.PlotlyConfig = {MathJaxConfig: 'local'};</script>\n",
              "        <script charset=\"utf-8\" src=\"https://cdn.plot.ly/plotly-2.24.1.min.js\"></script>                <div id=\"d59e733c-ccd3-4b18-9e04-5de79c1139fa\" class=\"plotly-graph-div\" style=\"height:525px; width:100%;\"></div>            <script type=\"text/javascript\">                                    window.PLOTLYENV=window.PLOTLYENV || {};                                    if (document.getElementById(\"d59e733c-ccd3-4b18-9e04-5de79c1139fa\")) {                    Plotly.newPlot(                        \"d59e733c-ccd3-4b18-9e04-5de79c1139fa\",                        [{\"alignmentgroup\":\"True\",\"histfunc\":\"sum\",\"hovertemplate\":\"x=%{x}\\u003cbr\\u003esum of y=%{y}\\u003cextra\\u003e\\u003c\\u002fextra\\u003e\",\"legendgroup\":\"\",\"marker\":{\"color\":\"#636efa\",\"pattern\":{\"shape\":\"\"}},\"name\":\"\",\"offsetgroup\":\"\",\"orientation\":\"v\",\"showlegend\":false,\"x\":[\"group B\",\"group C\",\"group A\",\"group D\",\"group E\"],\"xaxis\":\"x\",\"y\":[62.99250936329587,65.46842105263158,67.13166144200628,69.1793893129771,72.75238095238096],\"yaxis\":\"y\",\"type\":\"histogram\"},{\"alignmentgroup\":\"True\",\"histfunc\":\"sum\",\"hovertemplate\":\"x=%{x}\\u003cbr\\u003esum of y=%{y}\\u003cextra\\u003e\\u003c\\u002fextra\\u003e\",\"legendgroup\":\"\",\"marker\":{\"color\":\"#636efa\",\"pattern\":{\"shape\":\"\"}},\"name\":\"\",\"offsetgroup\":\"\",\"orientation\":\"v\",\"showlegend\":false,\"x\":[\"female\",\"male\"],\"xaxis\":\"x2\",\"y\":[69.56949806949807,65.8374827109267],\"yaxis\":\"y2\",\"type\":\"histogram\"}],                        {\"template\":{\"data\":{\"histogram2dcontour\":[{\"type\":\"histogram2dcontour\",\"colorbar\":{\"outlinewidth\":0,\"ticks\":\"\"},\"colorscale\":[[0.0,\"#0d0887\"],[0.1111111111111111,\"#46039f\"],[0.2222222222222222,\"#7201a8\"],[0.3333333333333333,\"#9c179e\"],[0.4444444444444444,\"#bd3786\"],[0.5555555555555556,\"#d8576b\"],[0.6666666666666666,\"#ed7953\"],[0.7777777777777778,\"#fb9f3a\"],[0.8888888888888888,\"#fdca26\"],[1.0,\"#f0f921\"]]}],\"choropleth\":[{\"type\":\"choropleth\",\"colorbar\":{\"outlinewidth\":0,\"ticks\":\"\"}}],\"histogram2d\":[{\"type\":\"histogram2d\",\"colorbar\":{\"outlinewidth\":0,\"ticks\":\"\"},\"colorscale\":[[0.0,\"#0d0887\"],[0.1111111111111111,\"#46039f\"],[0.2222222222222222,\"#7201a8\"],[0.3333333333333333,\"#9c179e\"],[0.4444444444444444,\"#bd3786\"],[0.5555555555555556,\"#d8576b\"],[0.6666666666666666,\"#ed7953\"],[0.7777777777777778,\"#fb9f3a\"],[0.8888888888888888,\"#fdca26\"],[1.0,\"#f0f921\"]]}],\"heatmap\":[{\"type\":\"heatmap\",\"colorbar\":{\"outlinewidth\":0,\"ticks\":\"\"},\"colorscale\":[[0.0,\"#0d0887\"],[0.1111111111111111,\"#46039f\"],[0.2222222222222222,\"#7201a8\"],[0.3333333333333333,\"#9c179e\"],[0.4444444444444444,\"#bd3786\"],[0.5555555555555556,\"#d8576b\"],[0.6666666666666666,\"#ed7953\"],[0.7777777777777778,\"#fb9f3a\"],[0.8888888888888888,\"#fdca26\"],[1.0,\"#f0f921\"]]}],\"heatmapgl\":[{\"type\":\"heatmapgl\",\"colorbar\":{\"outlinewidth\":0,\"ticks\":\"\"},\"colorscale\":[[0.0,\"#0d0887\"],[0.1111111111111111,\"#46039f\"],[0.2222222222222222,\"#7201a8\"],[0.3333333333333333,\"#9c179e\"],[0.4444444444444444,\"#bd3786\"],[0.5555555555555556,\"#d8576b\"],[0.6666666666666666,\"#ed7953\"],[0.7777777777777778,\"#fb9f3a\"],[0.8888888888888888,\"#fdca26\"],[1.0,\"#f0f921\"]]}],\"contourcarpet\":[{\"type\":\"contourcarpet\",\"colorbar\":{\"outlinewidth\":0,\"ticks\":\"\"}}],\"contour\":[{\"type\":\"contour\",\"colorbar\":{\"outlinewidth\":0,\"ticks\":\"\"},\"colorscale\":[[0.0,\"#0d0887\"],[0.1111111111111111,\"#46039f\"],[0.2222222222222222,\"#7201a8\"],[0.3333333333333333,\"#9c179e\"],[0.4444444444444444,\"#bd3786\"],[0.5555555555555556,\"#d8576b\"],[0.6666666666666666,\"#ed7953\"],[0.7777777777777778,\"#fb9f3a\"],[0.8888888888888888,\"#fdca26\"],[1.0,\"#f0f921\"]]}],\"surface\":[{\"type\":\"surface\",\"colorbar\":{\"outlinewidth\":0,\"ticks\":\"\"},\"colorscale\":[[0.0,\"#0d0887\"],[0.1111111111111111,\"#46039f\"],[0.2222222222222222,\"#7201a8\"],[0.3333333333333333,\"#9c179e\"],[0.4444444444444444,\"#bd3786\"],[0.5555555555555556,\"#d8576b\"],[0.6666666666666666,\"#ed7953\"],[0.7777777777777778,\"#fb9f3a\"],[0.8888888888888888,\"#fdca26\"],[1.0,\"#f0f921\"]]}],\"mesh3d\":[{\"type\":\"mesh3d\",\"colorbar\":{\"outlinewidth\":0,\"ticks\":\"\"}}],\"scatter\":[{\"fillpattern\":{\"fillmode\":\"overlay\",\"size\":10,\"solidity\":0.2},\"type\":\"scatter\"}],\"parcoords\":[{\"type\":\"parcoords\",\"line\":{\"colorbar\":{\"outlinewidth\":0,\"ticks\":\"\"}}}],\"scatterpolargl\":[{\"type\":\"scatterpolargl\",\"marker\":{\"colorbar\":{\"outlinewidth\":0,\"ticks\":\"\"}}}],\"bar\":[{\"error_x\":{\"color\":\"#2a3f5f\"},\"error_y\":{\"color\":\"#2a3f5f\"},\"marker\":{\"line\":{\"color\":\"#E5ECF6\",\"width\":0.5},\"pattern\":{\"fillmode\":\"overlay\",\"size\":10,\"solidity\":0.2}},\"type\":\"bar\"}],\"scattergeo\":[{\"type\":\"scattergeo\",\"marker\":{\"colorbar\":{\"outlinewidth\":0,\"ticks\":\"\"}}}],\"scatterpolar\":[{\"type\":\"scatterpolar\",\"marker\":{\"colorbar\":{\"outlinewidth\":0,\"ticks\":\"\"}}}],\"histogram\":[{\"marker\":{\"pattern\":{\"fillmode\":\"overlay\",\"size\":10,\"solidity\":0.2}},\"type\":\"histogram\"}],\"scattergl\":[{\"type\":\"scattergl\",\"marker\":{\"colorbar\":{\"outlinewidth\":0,\"ticks\":\"\"}}}],\"scatter3d\":[{\"type\":\"scatter3d\",\"line\":{\"colorbar\":{\"outlinewidth\":0,\"ticks\":\"\"}},\"marker\":{\"colorbar\":{\"outlinewidth\":0,\"ticks\":\"\"}}}],\"scattermapbox\":[{\"type\":\"scattermapbox\",\"marker\":{\"colorbar\":{\"outlinewidth\":0,\"ticks\":\"\"}}}],\"scatterternary\":[{\"type\":\"scatterternary\",\"marker\":{\"colorbar\":{\"outlinewidth\":0,\"ticks\":\"\"}}}],\"scattercarpet\":[{\"type\":\"scattercarpet\",\"marker\":{\"colorbar\":{\"outlinewidth\":0,\"ticks\":\"\"}}}],\"carpet\":[{\"aaxis\":{\"endlinecolor\":\"#2a3f5f\",\"gridcolor\":\"white\",\"linecolor\":\"white\",\"minorgridcolor\":\"white\",\"startlinecolor\":\"#2a3f5f\"},\"baxis\":{\"endlinecolor\":\"#2a3f5f\",\"gridcolor\":\"white\",\"linecolor\":\"white\",\"minorgridcolor\":\"white\",\"startlinecolor\":\"#2a3f5f\"},\"type\":\"carpet\"}],\"table\":[{\"cells\":{\"fill\":{\"color\":\"#EBF0F8\"},\"line\":{\"color\":\"white\"}},\"header\":{\"fill\":{\"color\":\"#C8D4E3\"},\"line\":{\"color\":\"white\"}},\"type\":\"table\"}],\"barpolar\":[{\"marker\":{\"line\":{\"color\":\"#E5ECF6\",\"width\":0.5},\"pattern\":{\"fillmode\":\"overlay\",\"size\":10,\"solidity\":0.2}},\"type\":\"barpolar\"}],\"pie\":[{\"automargin\":true,\"type\":\"pie\"}]},\"layout\":{\"autotypenumbers\":\"strict\",\"colorway\":[\"#636efa\",\"#EF553B\",\"#00cc96\",\"#ab63fa\",\"#FFA15A\",\"#19d3f3\",\"#FF6692\",\"#B6E880\",\"#FF97FF\",\"#FECB52\"],\"font\":{\"color\":\"#2a3f5f\"},\"hovermode\":\"closest\",\"hoverlabel\":{\"align\":\"left\"},\"paper_bgcolor\":\"white\",\"plot_bgcolor\":\"#E5ECF6\",\"polar\":{\"bgcolor\":\"#E5ECF6\",\"angularaxis\":{\"gridcolor\":\"white\",\"linecolor\":\"white\",\"ticks\":\"\"},\"radialaxis\":{\"gridcolor\":\"white\",\"linecolor\":\"white\",\"ticks\":\"\"}},\"ternary\":{\"bgcolor\":\"#E5ECF6\",\"aaxis\":{\"gridcolor\":\"white\",\"linecolor\":\"white\",\"ticks\":\"\"},\"baxis\":{\"gridcolor\":\"white\",\"linecolor\":\"white\",\"ticks\":\"\"},\"caxis\":{\"gridcolor\":\"white\",\"linecolor\":\"white\",\"ticks\":\"\"}},\"coloraxis\":{\"colorbar\":{\"outlinewidth\":0,\"ticks\":\"\"}},\"colorscale\":{\"sequential\":[[0.0,\"#0d0887\"],[0.1111111111111111,\"#46039f\"],[0.2222222222222222,\"#7201a8\"],[0.3333333333333333,\"#9c179e\"],[0.4444444444444444,\"#bd3786\"],[0.5555555555555556,\"#d8576b\"],[0.6666666666666666,\"#ed7953\"],[0.7777777777777778,\"#fb9f3a\"],[0.8888888888888888,\"#fdca26\"],[1.0,\"#f0f921\"]],\"sequentialminus\":[[0.0,\"#0d0887\"],[0.1111111111111111,\"#46039f\"],[0.2222222222222222,\"#7201a8\"],[0.3333333333333333,\"#9c179e\"],[0.4444444444444444,\"#bd3786\"],[0.5555555555555556,\"#d8576b\"],[0.6666666666666666,\"#ed7953\"],[0.7777777777777778,\"#fb9f3a\"],[0.8888888888888888,\"#fdca26\"],[1.0,\"#f0f921\"]],\"diverging\":[[0,\"#8e0152\"],[0.1,\"#c51b7d\"],[0.2,\"#de77ae\"],[0.3,\"#f1b6da\"],[0.4,\"#fde0ef\"],[0.5,\"#f7f7f7\"],[0.6,\"#e6f5d0\"],[0.7,\"#b8e186\"],[0.8,\"#7fbc41\"],[0.9,\"#4d9221\"],[1,\"#276419\"]]},\"xaxis\":{\"gridcolor\":\"white\",\"linecolor\":\"white\",\"ticks\":\"\",\"title\":{\"standoff\":15},\"zerolinecolor\":\"white\",\"automargin\":true,\"zerolinewidth\":2},\"yaxis\":{\"gridcolor\":\"white\",\"linecolor\":\"white\",\"ticks\":\"\",\"title\":{\"standoff\":15},\"zerolinecolor\":\"white\",\"automargin\":true,\"zerolinewidth\":2},\"scene\":{\"xaxis\":{\"backgroundcolor\":\"#E5ECF6\",\"gridcolor\":\"white\",\"linecolor\":\"white\",\"showbackground\":true,\"ticks\":\"\",\"zerolinecolor\":\"white\",\"gridwidth\":2},\"yaxis\":{\"backgroundcolor\":\"#E5ECF6\",\"gridcolor\":\"white\",\"linecolor\":\"white\",\"showbackground\":true,\"ticks\":\"\",\"zerolinecolor\":\"white\",\"gridwidth\":2},\"zaxis\":{\"backgroundcolor\":\"#E5ECF6\",\"gridcolor\":\"white\",\"linecolor\":\"white\",\"showbackground\":true,\"ticks\":\"\",\"zerolinecolor\":\"white\",\"gridwidth\":2}},\"shapedefaults\":{\"line\":{\"color\":\"#2a3f5f\"}},\"annotationdefaults\":{\"arrowcolor\":\"#2a3f5f\",\"arrowhead\":0,\"arrowwidth\":1},\"geo\":{\"bgcolor\":\"white\",\"landcolor\":\"#E5ECF6\",\"subunitcolor\":\"white\",\"showland\":true,\"showlakes\":true,\"lakecolor\":\"white\"},\"title\":{\"x\":0.05},\"mapbox\":{\"style\":\"light\"}}},\"xaxis\":{\"anchor\":\"y\",\"domain\":[0.0,0.45]},\"yaxis\":{\"anchor\":\"x\",\"domain\":[0.0,1.0]},\"xaxis2\":{\"anchor\":\"y2\",\"domain\":[0.55,1.0]},\"yaxis2\":{\"anchor\":\"x2\",\"domain\":[0.0,1.0]},\"annotations\":[{\"font\":{\"size\":16},\"showarrow\":false,\"text\":\"Average Score of Race\\u002fEthnicity Samples\",\"x\":0.225,\"xanchor\":\"center\",\"xref\":\"paper\",\"y\":1.0,\"yanchor\":\"bottom\",\"yref\":\"paper\"},{\"font\":{\"size\":16},\"showarrow\":false,\"text\":\"Average Score of Male\\u002fFemale Samples\",\"x\":0.775,\"xanchor\":\"center\",\"xref\":\"paper\",\"y\":1.0,\"yanchor\":\"bottom\",\"yref\":\"paper\"}]},                        {\"responsive\": true}                    ).then(function(){\n",
              "                            \n",
              "var gd = document.getElementById('d59e733c-ccd3-4b18-9e04-5de79c1139fa');\n",
              "var x = new MutationObserver(function (mutations, observer) {{\n",
              "        var display = window.getComputedStyle(gd).display;\n",
              "        if (!display || display === 'none') {{\n",
              "            console.log([gd, 'removed!']);\n",
              "            Plotly.purge(gd);\n",
              "            observer.disconnect();\n",
              "        }}\n",
              "}});\n",
              "\n",
              "// Listen for the removal of the full notebook cells\n",
              "var notebookContainer = gd.closest('#notebook-container');\n",
              "if (notebookContainer) {{\n",
              "    x.observe(notebookContainer, {childList: true});\n",
              "}}\n",
              "\n",
              "// Listen for the clearing of the current output cell\n",
              "var outputEl = gd.closest('.output');\n",
              "if (outputEl) {{\n",
              "    x.observe(outputEl, {childList: true});\n",
              "}}\n",
              "\n",
              "                        })                };                            </script>        </div>\n",
              "</body>\n",
              "</html>"
            ]
          },
          "metadata": {}
        }
      ]
    },
    {
      "cell_type": "markdown",
      "source": [
        "This shows us, much more concretely, that both samples in group E and female samples do have a very slightly higher average score.  But since this score is an average of an average, and is likely not significantly higher, let's plot some of the raw scores."
      ],
      "metadata": {
        "id": "xMqBrQT8sx5o"
      }
    },
    {
      "cell_type": "code",
      "source": [
        "# Define the figures\n",
        "math_hist_fig = px.histogram(data_clean, x=\"gender\", y=\"math score\", color='race/ethnicity', barmode='group', title=\"Average Math Scores\",\n",
        "             histfunc='avg') # I learned about histfunc after the above but I'm leaving the above alone just because\n",
        "\n",
        "read_hist_fig = px.histogram(data_clean, x=\"gender\", y=\"reading score\", color='race/ethnicity', barmode='group', title=\"Average Reading Scores\",\n",
        "             histfunc='avg') # I learned about histfunc after the above but I'm leaving the above alone just because\n",
        "\n",
        "write_hist_fig = px.histogram(data_clean, x=\"gender\", y=\"writing score\", color='race/ethnicity', barmode='group', title=\"Average Writing Scores\",\n",
        "             histfunc='avg') # I learned about histfunc after the above but I'm leaving the above alone just because\n",
        "\n",
        "# So that we don't forget these later\n",
        "fig_list.update({'math_hist_fig':math_hist_fig})\n",
        "fig_list.update({'read_hist_fig':read_hist_fig})\n",
        "fig_list.update({'write_hist_fig':write_hist_fig})\n",
        "\n",
        "#Show the figures\n",
        "math_hist_fig.show() # I'm sure I could figure out how to make this with make_subplots, but it's so funky\n",
        "read_hist_fig.show()\n",
        "write_hist_fig.show()"
      ],
      "metadata": {
        "colab": {
          "base_uri": "https://localhost:8080/",
          "height": 1000
        },
        "id": "0objQDyHtxZs",
        "outputId": "909eaec5-5c87-4d5a-950b-c331915c723a"
      },
      "execution_count": 29,
      "outputs": [
        {
          "output_type": "display_data",
          "data": {
            "text/html": [
              "<html>\n",
              "<head><meta charset=\"utf-8\" /></head>\n",
              "<body>\n",
              "    <div>            <script src=\"https://cdnjs.cloudflare.com/ajax/libs/mathjax/2.7.5/MathJax.js?config=TeX-AMS-MML_SVG\"></script><script type=\"text/javascript\">if (window.MathJax && window.MathJax.Hub && window.MathJax.Hub.Config) {window.MathJax.Hub.Config({SVG: {font: \"STIX-Web\"}});}</script>                <script type=\"text/javascript\">window.PlotlyConfig = {MathJaxConfig: 'local'};</script>\n",
              "        <script charset=\"utf-8\" src=\"https://cdn.plot.ly/plotly-2.24.1.min.js\"></script>                <div id=\"1dce8b5f-ce81-426c-ae37-40c0855493ec\" class=\"plotly-graph-div\" style=\"height:525px; width:100%;\"></div>            <script type=\"text/javascript\">                                    window.PLOTLYENV=window.PLOTLYENV || {};                                    if (document.getElementById(\"1dce8b5f-ce81-426c-ae37-40c0855493ec\")) {                    Plotly.newPlot(                        \"1dce8b5f-ce81-426c-ae37-40c0855493ec\",                        [{\"alignmentgroup\":\"True\",\"bingroup\":\"x\",\"histfunc\":\"avg\",\"hovertemplate\":\"race\\u002fethnicity=group B\\u003cbr\\u003egender=%{x}\\u003cbr\\u003eavg of math score=%{y}\\u003cextra\\u003e\\u003c\\u002fextra\\u003e\",\"legendgroup\":\"group B\",\"marker\":{\"color\":\"#636efa\",\"pattern\":{\"shape\":\"\"}},\"name\":\"group B\",\"offsetgroup\":\"group B\",\"orientation\":\"v\",\"showlegend\":true,\"x\":[\"female\",\"female\",\"female\",\"female\",\"male\",\"female\",\"female\",\"female\",\"female\",\"male\",\"female\",\"male\",\"female\",\"male\",\"male\",\"male\",\"male\",\"male\",\"female\",\"male\",\"female\",\"male\",\"male\",\"male\",\"female\",\"female\",\"female\",\"male\",\"female\",\"male\",\"male\",\"male\",\"female\",\"male\",\"female\",\"male\",\"male\",\"female\",\"female\",\"female\",\"female\",\"male\",\"female\",\"female\",\"female\",\"female\",\"female\",\"female\",\"male\",\"male\",\"male\",\"male\",\"female\",\"female\",\"male\",\"female\",\"female\",\"female\",\"female\",\"male\",\"male\",\"female\",\"male\",\"female\",\"male\",\"male\",\"male\",\"female\",\"female\",\"male\",\"male\",\"female\",\"male\",\"female\",\"female\",\"female\",\"male\",\"female\",\"female\",\"female\",\"male\",\"female\",\"female\",\"male\",\"male\",\"female\",\"male\",\"male\",\"female\",\"male\",\"male\",\"male\",\"male\",\"female\",\"male\",\"female\",\"male\",\"female\",\"female\",\"female\",\"female\",\"male\",\"female\",\"female\",\"female\",\"male\",\"male\",\"female\",\"female\",\"male\",\"male\",\"male\",\"male\",\"female\",\"female\",\"male\",\"female\",\"male\",\"male\",\"male\",\"female\",\"female\",\"female\",\"male\",\"female\",\"female\",\"female\",\"female\",\"female\",\"female\",\"male\",\"male\",\"male\",\"female\",\"female\",\"female\",\"female\",\"female\",\"male\",\"female\",\"female\",\"male\",\"male\",\"male\",\"female\",\"female\",\"male\",\"male\",\"female\",\"male\",\"female\",\"female\",\"female\",\"female\",\"female\",\"female\",\"female\",\"female\",\"female\",\"male\",\"male\",\"female\",\"female\",\"male\",\"female\",\"male\",\"male\",\"female\",\"male\",\"female\",\"male\",\"male\",\"male\",\"male\",\"male\",\"female\",\"male\",\"female\",\"male\",\"female\",\"male\",\"female\",\"female\",\"male\",\"male\",\"female\",\"male\",\"female\",\"male\",\"female\"],\"xaxis\":\"x\",\"y\":[72,90,71,88,40,38,65,18,65,69,63,57,53,59,65,67,61,44,47,49,79,65,79,60,52,70,75,91,87,72,51,88,59,60,61,82,49,58,68,46,52,48,62,45,78,57,74,58,84,66,61,87,52,67,54,58,65,60,70,88,73,37,81,67,88,67,80,53,73,66,63,41,90,61,24,69,62,52,61,58,85,80,50,74,65,82,63,41,73,47,81,72,54,90,73,49,64,54,66,94,82,55,54,77,67,73,87,40,53,48,48,63,71,81,48,30,58,62,69,79,66,67,72,70,65,50,73,62,77,50,60,62,62,57,59,60,76,74,47,68,53,55,87,69,62,74,76,52,52,66,49,66,77,76,32,19,48,42,82,59,94,60,71,68,77,58,58,23,74,97,75,52,61,59,82,64,36,63,57,46,91,54,58,82,49,75,60,8,79,65],\"yaxis\":\"y\",\"type\":\"histogram\"},{\"alignmentgroup\":\"True\",\"bingroup\":\"x\",\"histfunc\":\"avg\",\"hovertemplate\":\"race\\u002fethnicity=group C\\u003cbr\\u003egender=%{x}\\u003cbr\\u003eavg of math score=%{y}\\u003cextra\\u003e\\u003c\\u002fextra\\u003e\",\"legendgroup\":\"group C\",\"marker\":{\"color\":\"#EF553B\",\"pattern\":{\"shape\":\"\"}},\"name\":\"group C\",\"offsetgroup\":\"group C\",\"orientation\":\"v\",\"showlegend\":true,\"x\":[\"female\",\"male\",\"male\",\"female\",\"male\",\"male\",\"female\",\"female\",\"female\",\"male\",\"male\",\"female\",\"female\",\"male\",\"male\",\"female\",\"female\",\"female\",\"female\",\"female\",\"female\",\"male\",\"male\",\"female\",\"female\",\"female\",\"male\",\"male\",\"male\",\"male\",\"male\",\"female\",\"male\",\"male\",\"female\",\"female\",\"female\",\"male\",\"female\",\"male\",\"female\",\"female\",\"female\",\"male\",\"female\",\"male\",\"female\",\"male\",\"female\",\"female\",\"female\",\"female\",\"female\",\"male\",\"female\",\"male\",\"male\",\"female\",\"female\",\"male\",\"female\",\"male\",\"male\",\"male\",\"female\",\"male\",\"female\",\"female\",\"female\",\"female\",\"male\",\"male\",\"male\",\"male\",\"male\",\"female\",\"male\",\"female\",\"female\",\"male\",\"female\",\"female\",\"male\",\"male\",\"male\",\"female\",\"female\",\"male\",\"male\",\"male\",\"female\",\"female\",\"male\",\"female\",\"female\",\"male\",\"male\",\"female\",\"female\",\"female\",\"female\",\"female\",\"male\",\"male\",\"male\",\"male\",\"female\",\"male\",\"male\",\"female\",\"female\",\"female\",\"female\",\"female\",\"female\",\"female\",\"female\",\"male\",\"male\",\"male\",\"female\",\"male\",\"male\",\"female\",\"male\",\"female\",\"female\",\"female\",\"female\",\"female\",\"female\",\"male\",\"male\",\"female\",\"female\",\"male\",\"male\",\"male\",\"male\",\"female\",\"male\",\"male\",\"male\",\"male\",\"female\",\"female\",\"male\",\"female\",\"female\",\"male\",\"female\",\"male\",\"male\",\"female\",\"female\",\"male\",\"female\",\"female\",\"female\",\"male\",\"male\",\"female\",\"female\",\"female\",\"female\",\"female\",\"male\",\"male\",\"female\",\"female\",\"female\",\"male\",\"male\",\"male\",\"female\",\"female\",\"female\",\"female\",\"female\",\"male\",\"male\",\"female\",\"male\",\"female\",\"male\",\"male\",\"female\",\"female\",\"male\",\"female\",\"male\",\"female\",\"female\",\"female\",\"female\",\"female\",\"male\",\"female\",\"female\",\"female\",\"male\",\"female\",\"female\",\"female\",\"male\",\"female\",\"female\",\"male\",\"female\",\"male\",\"female\",\"female\",\"male\",\"male\",\"male\",\"male\",\"female\",\"female\",\"female\",\"male\",\"female\",\"female\",\"female\",\"female\",\"female\",\"female\",\"female\",\"female\",\"female\",\"male\",\"male\",\"male\",\"male\",\"female\",\"female\",\"female\",\"male\",\"male\",\"female\",\"male\",\"male\",\"male\",\"female\",\"female\",\"male\",\"female\",\"male\",\"female\",\"male\",\"female\",\"female\",\"female\",\"female\",\"female\",\"male\",\"male\",\"female\",\"female\",\"male\",\"male\",\"female\",\"male\",\"female\",\"female\",\"female\",\"female\",\"male\",\"female\",\"female\",\"female\",\"female\",\"female\",\"male\",\"male\",\"female\",\"male\",\"male\",\"female\",\"male\",\"female\",\"female\",\"male\",\"male\",\"male\",\"female\",\"female\",\"male\",\"male\",\"male\",\"female\",\"male\",\"female\",\"female\",\"female\",\"female\",\"female\",\"female\",\"female\",\"female\",\"male\",\"male\",\"male\",\"male\",\"male\",\"female\",\"male\",\"female\",\"male\",\"male\",\"female\",\"male\",\"male\",\"female\",\"male\",\"female\",\"female\",\"female\",\"male\",\"female\"],\"xaxis\":\"x\",\"y\":[69,76,58,69,88,46,54,69,67,70,55,58,66,82,53,71,33,0,69,60,39,61,49,73,76,65,27,71,43,78,98,58,62,84,55,79,88,53,75,58,59,59,22,73,70,52,96,53,67,63,43,81,71,62,46,45,65,77,69,59,67,69,59,35,42,60,34,55,72,88,46,83,84,85,68,64,78,65,64,79,44,63,69,58,83,85,65,76,63,40,67,74,51,68,59,71,83,67,71,43,41,82,61,82,71,47,83,49,58,61,72,77,63,46,59,42,52,59,69,61,45,87,79,57,57,65,85,59,54,63,51,71,74,82,62,86,69,68,64,61,61,73,50,70,67,67,86,64,65,65,53,37,53,77,84,91,83,63,68,68,70,60,64,83,81,54,63,79,86,76,91,54,53,56,36,62,68,47,66,51,75,81,72,62,79,79,32,55,61,63,96,53,50,65,44,54,58,92,56,29,75,85,40,58,94,65,60,65,35,58,44,75,51,77,74,73,65,50,63,73,66,69,65,70,29,49,66,49,75,66,66,93,73,96,76,62,50,53,87,67,92,61,81,59,69,50,79,77,58,53,58,62,35,52,91,68,52,52,67,76,73,90,54,72,77,48,62,56,65,74,60,66,64,91,59,71,62,65,87,53,71,97,59,49,70,43,80,57,63,62,54,73,67,52,47,44,57,35,48,67,70,98,72,81,54,58,62,84,75,65,63,78,64,62,91,74,40,62,59],\"yaxis\":\"y\",\"type\":\"histogram\"},{\"alignmentgroup\":\"True\",\"bingroup\":\"x\",\"histfunc\":\"avg\",\"hovertemplate\":\"race\\u002fethnicity=group A\\u003cbr\\u003egender=%{x}\\u003cbr\\u003eavg of math score=%{y}\\u003cextra\\u003e\\u003c\\u002fextra\\u003e\",\"legendgroup\":\"group A\",\"marker\":{\"color\":\"#00cc96\",\"pattern\":{\"shape\":\"\"}},\"name\":\"group A\",\"offsetgroup\":\"group A\",\"orientation\":\"v\",\"showlegend\":true,\"x\":[\"male\",\"male\",\"female\",\"male\",\"female\",\"male\",\"male\",\"female\",\"male\",\"male\",\"female\",\"male\",\"female\",\"male\",\"male\",\"male\",\"male\",\"male\",\"male\",\"male\",\"male\",\"male\",\"male\",\"male\",\"male\",\"female\",\"female\",\"male\",\"female\",\"male\",\"male\",\"female\",\"female\",\"male\",\"female\",\"female\",\"male\",\"male\",\"male\",\"female\",\"male\",\"male\",\"female\",\"male\",\"male\",\"male\",\"female\",\"male\",\"male\",\"male\",\"female\",\"female\",\"male\",\"male\",\"female\",\"male\",\"male\",\"female\",\"female\",\"male\",\"female\",\"male\",\"male\",\"male\",\"female\",\"male\",\"female\",\"male\",\"male\",\"male\",\"female\",\"female\",\"female\",\"male\",\"female\",\"female\",\"female\",\"female\",\"female\",\"male\",\"male\",\"female\",\"male\",\"female\",\"female\",\"female\",\"male\",\"female\",\"male\"],\"xaxis\":\"x\",\"y\":[47,78,50,73,55,39,62,41,80,50,58,54,51,57,62,77,72,68,47,46,81,69,28,63,49,44,71,66,38,48,53,49,59,65,47,59,79,75,72,77,59,79,65,68,64,97,92,91,40,61,55,48,71,53,82,100,71,68,65,53,59,87,62,55,37,58,72,75,51,45,45,85,61,64,75,61,50,34,69,67,61,56,66,53,54,78,57,44,63],\"yaxis\":\"y\",\"type\":\"histogram\"},{\"alignmentgroup\":\"True\",\"bingroup\":\"x\",\"histfunc\":\"avg\",\"hovertemplate\":\"race\\u002fethnicity=group D\\u003cbr\\u003egender=%{x}\\u003cbr\\u003eavg of math score=%{y}\\u003cextra\\u003e\\u003c\\u002fextra\\u003e\",\"legendgroup\":\"group D\",\"marker\":{\"color\":\"#ab63fa\",\"pattern\":{\"shape\":\"\"}},\"name\":\"group D\",\"offsetgroup\":\"group D\",\"orientation\":\"v\",\"showlegend\":true,\"x\":[\"male\",\"male\",\"male\",\"male\",\"male\",\"female\",\"female\",\"male\",\"female\",\"female\",\"female\",\"female\",\"male\",\"male\",\"male\",\"female\",\"male\",\"female\",\"male\",\"female\",\"male\",\"female\",\"female\",\"female\",\"female\",\"male\",\"female\",\"female\",\"female\",\"female\",\"female\",\"female\",\"male\",\"male\",\"male\",\"male\",\"male\",\"male\",\"female\",\"male\",\"female\",\"male\",\"male\",\"male\",\"female\",\"female\",\"female\",\"male\",\"male\",\"male\",\"male\",\"female\",\"male\",\"male\",\"female\",\"male\",\"male\",\"male\",\"male\",\"male\",\"female\",\"male\",\"female\",\"male\",\"female\",\"male\",\"male\",\"male\",\"male\",\"female\",\"female\",\"female\",\"female\",\"male\",\"male\",\"female\",\"female\",\"male\",\"male\",\"male\",\"male\",\"female\",\"male\",\"female\",\"female\",\"male\",\"female\",\"male\",\"male\",\"male\",\"male\",\"female\",\"female\",\"female\",\"male\",\"female\",\"female\",\"female\",\"female\",\"female\",\"male\",\"female\",\"male\",\"female\",\"female\",\"male\",\"female\",\"male\",\"male\",\"female\",\"female\",\"male\",\"male\",\"male\",\"female\",\"male\",\"female\",\"male\",\"female\",\"female\",\"female\",\"male\",\"female\",\"female\",\"male\",\"male\",\"female\",\"female\",\"female\",\"male\",\"male\",\"female\",\"female\",\"male\",\"male\",\"female\",\"female\",\"male\",\"female\",\"female\",\"male\",\"male\",\"female\",\"female\",\"female\",\"male\",\"female\",\"female\",\"female\",\"female\",\"female\",\"female\",\"female\",\"female\",\"male\",\"male\",\"male\",\"male\",\"male\",\"male\",\"male\",\"male\",\"male\",\"male\",\"female\",\"female\",\"male\",\"female\",\"female\",\"female\",\"female\",\"male\",\"female\",\"male\",\"female\",\"male\",\"male\",\"male\",\"female\",\"male\",\"male\",\"female\",\"male\",\"female\",\"female\",\"female\",\"female\",\"male\",\"male\",\"female\",\"female\",\"male\",\"male\",\"female\",\"male\",\"male\",\"male\",\"male\",\"male\",\"male\",\"male\",\"female\",\"female\",\"male\",\"male\",\"female\",\"male\",\"female\",\"female\",\"male\",\"male\",\"female\",\"male\",\"female\",\"female\",\"female\",\"female\",\"male\",\"male\",\"male\",\"male\",\"male\",\"female\",\"female\",\"male\",\"female\",\"male\",\"male\",\"male\",\"female\",\"male\",\"female\",\"female\",\"male\",\"female\",\"male\",\"male\",\"male\",\"male\",\"female\",\"male\",\"male\",\"male\",\"male\",\"male\",\"female\",\"female\",\"female\",\"female\",\"female\",\"female\",\"male\",\"female\",\"female\",\"female\",\"male\",\"male\",\"female\",\"female\",\"female\",\"female\",\"female\"],\"xaxis\":\"x\",\"y\":[64,40,66,44,74,62,69,40,74,50,75,57,88,52,58,59,45,58,63,61,42,71,73,58,65,68,85,87,77,51,78,51,63,65,82,89,74,71,76,88,68,54,62,66,79,97,65,62,76,77,61,65,74,80,56,86,57,76,80,63,64,73,56,75,71,80,54,76,59,69,88,47,65,53,45,73,70,86,78,90,56,49,67,77,56,76,35,67,79,75,59,80,27,73,74,82,59,80,85,62,73,77,60,88,52,87,70,71,68,57,47,75,75,89,78,69,79,53,26,59,71,80,55,52,61,68,59,74,40,76,62,74,66,71,69,29,51,79,82,64,77,73,74,63,61,68,53,81,63,73,69,69,65,54,60,84,69,88,95,100,61,49,67,84,80,76,41,74,59,69,85,69,43,90,55,80,81,52,69,81,63,67,77,77,79,57,63,46,89,42,98,81,55,73,55,81,80,72,69,71,55,52,48,78,60,68,75,46,60,66,70,64,61,78,69,39,40,64,80,39,82,81,59,64,55,69,44,88,67,65,85,93,67,88,79,50,69,72,74,65,62,61,70,85,77,78,49,75,92,45,48,72,62,89,49,55,81,67,55,62,68,77],\"yaxis\":\"y\",\"type\":\"histogram\"},{\"alignmentgroup\":\"True\",\"bingroup\":\"x\",\"histfunc\":\"avg\",\"hovertemplate\":\"race\\u002fethnicity=group E\\u003cbr\\u003egender=%{x}\\u003cbr\\u003eavg of math score=%{y}\\u003cextra\\u003e\\u003c\\u002fextra\\u003e\",\"legendgroup\":\"group E\",\"marker\":{\"color\":\"#FFA15A\",\"pattern\":{\"shape\":\"\"}},\"name\":\"group E\",\"offsetgroup\":\"group E\",\"orientation\":\"v\",\"showlegend\":true,\"x\":[\"female\",\"male\",\"male\",\"female\",\"male\",\"male\",\"female\",\"male\",\"male\",\"female\",\"male\",\"female\",\"male\",\"female\",\"male\",\"male\",\"male\",\"female\",\"male\",\"female\",\"female\",\"female\",\"male\",\"female\",\"male\",\"female\",\"male\",\"male\",\"male\",\"male\",\"female\",\"female\",\"male\",\"female\",\"male\",\"male\",\"female\",\"female\",\"female\",\"female\",\"male\",\"male\",\"female\",\"male\",\"male\",\"female\",\"male\",\"male\",\"male\",\"male\",\"male\",\"female\",\"female\",\"female\",\"male\",\"male\",\"male\",\"male\",\"male\",\"female\",\"female\",\"female\",\"male\",\"male\",\"male\",\"female\",\"female\",\"male\",\"male\",\"female\",\"male\",\"male\",\"male\",\"female\",\"female\",\"female\",\"male\",\"female\",\"female\",\"female\",\"female\",\"female\",\"male\",\"female\",\"female\",\"female\",\"female\",\"male\",\"male\",\"female\",\"female\",\"female\",\"male\",\"male\",\"female\",\"male\",\"female\",\"male\",\"female\",\"male\",\"male\",\"female\",\"male\",\"female\",\"female\",\"male\",\"female\",\"female\",\"male\",\"male\",\"male\",\"male\",\"female\",\"male\",\"female\",\"male\",\"male\",\"female\",\"female\",\"female\",\"female\",\"female\",\"female\",\"female\",\"male\",\"female\",\"male\",\"male\",\"male\",\"male\",\"female\",\"female\",\"male\",\"female\",\"male\",\"female\",\"female\",\"male\",\"male\",\"female\"],\"xaxis\":\"x\",\"y\":[56,97,81,50,53,77,82,79,30,62,72,63,66,99,83,87,70,42,100,66,75,81,94,50,80,66,55,82,81,87,83,45,92,80,59,89,62,99,71,59,97,77,65,71,99,75,62,87,66,84,46,38,67,64,73,76,84,84,57,100,100,71,76,76,76,95,66,68,62,79,85,78,53,92,74,77,68,74,76,61,37,61,86,74,64,73,94,85,93,73,79,80,91,81,65,68,53,68,84,70,94,72,89,57,70,69,87,41,87,49,73,90,87,82,81,78,90,71,51,93,86,85,59,32,70,68,100,74,64,46,57,57,94,74,72,100,68,81,86,88],\"yaxis\":\"y\",\"type\":\"histogram\"}],                        {\"template\":{\"data\":{\"histogram2dcontour\":[{\"type\":\"histogram2dcontour\",\"colorbar\":{\"outlinewidth\":0,\"ticks\":\"\"},\"colorscale\":[[0.0,\"#0d0887\"],[0.1111111111111111,\"#46039f\"],[0.2222222222222222,\"#7201a8\"],[0.3333333333333333,\"#9c179e\"],[0.4444444444444444,\"#bd3786\"],[0.5555555555555556,\"#d8576b\"],[0.6666666666666666,\"#ed7953\"],[0.7777777777777778,\"#fb9f3a\"],[0.8888888888888888,\"#fdca26\"],[1.0,\"#f0f921\"]]}],\"choropleth\":[{\"type\":\"choropleth\",\"colorbar\":{\"outlinewidth\":0,\"ticks\":\"\"}}],\"histogram2d\":[{\"type\":\"histogram2d\",\"colorbar\":{\"outlinewidth\":0,\"ticks\":\"\"},\"colorscale\":[[0.0,\"#0d0887\"],[0.1111111111111111,\"#46039f\"],[0.2222222222222222,\"#7201a8\"],[0.3333333333333333,\"#9c179e\"],[0.4444444444444444,\"#bd3786\"],[0.5555555555555556,\"#d8576b\"],[0.6666666666666666,\"#ed7953\"],[0.7777777777777778,\"#fb9f3a\"],[0.8888888888888888,\"#fdca26\"],[1.0,\"#f0f921\"]]}],\"heatmap\":[{\"type\":\"heatmap\",\"colorbar\":{\"outlinewidth\":0,\"ticks\":\"\"},\"colorscale\":[[0.0,\"#0d0887\"],[0.1111111111111111,\"#46039f\"],[0.2222222222222222,\"#7201a8\"],[0.3333333333333333,\"#9c179e\"],[0.4444444444444444,\"#bd3786\"],[0.5555555555555556,\"#d8576b\"],[0.6666666666666666,\"#ed7953\"],[0.7777777777777778,\"#fb9f3a\"],[0.8888888888888888,\"#fdca26\"],[1.0,\"#f0f921\"]]}],\"heatmapgl\":[{\"type\":\"heatmapgl\",\"colorbar\":{\"outlinewidth\":0,\"ticks\":\"\"},\"colorscale\":[[0.0,\"#0d0887\"],[0.1111111111111111,\"#46039f\"],[0.2222222222222222,\"#7201a8\"],[0.3333333333333333,\"#9c179e\"],[0.4444444444444444,\"#bd3786\"],[0.5555555555555556,\"#d8576b\"],[0.6666666666666666,\"#ed7953\"],[0.7777777777777778,\"#fb9f3a\"],[0.8888888888888888,\"#fdca26\"],[1.0,\"#f0f921\"]]}],\"contourcarpet\":[{\"type\":\"contourcarpet\",\"colorbar\":{\"outlinewidth\":0,\"ticks\":\"\"}}],\"contour\":[{\"type\":\"contour\",\"colorbar\":{\"outlinewidth\":0,\"ticks\":\"\"},\"colorscale\":[[0.0,\"#0d0887\"],[0.1111111111111111,\"#46039f\"],[0.2222222222222222,\"#7201a8\"],[0.3333333333333333,\"#9c179e\"],[0.4444444444444444,\"#bd3786\"],[0.5555555555555556,\"#d8576b\"],[0.6666666666666666,\"#ed7953\"],[0.7777777777777778,\"#fb9f3a\"],[0.8888888888888888,\"#fdca26\"],[1.0,\"#f0f921\"]]}],\"surface\":[{\"type\":\"surface\",\"colorbar\":{\"outlinewidth\":0,\"ticks\":\"\"},\"colorscale\":[[0.0,\"#0d0887\"],[0.1111111111111111,\"#46039f\"],[0.2222222222222222,\"#7201a8\"],[0.3333333333333333,\"#9c179e\"],[0.4444444444444444,\"#bd3786\"],[0.5555555555555556,\"#d8576b\"],[0.6666666666666666,\"#ed7953\"],[0.7777777777777778,\"#fb9f3a\"],[0.8888888888888888,\"#fdca26\"],[1.0,\"#f0f921\"]]}],\"mesh3d\":[{\"type\":\"mesh3d\",\"colorbar\":{\"outlinewidth\":0,\"ticks\":\"\"}}],\"scatter\":[{\"fillpattern\":{\"fillmode\":\"overlay\",\"size\":10,\"solidity\":0.2},\"type\":\"scatter\"}],\"parcoords\":[{\"type\":\"parcoords\",\"line\":{\"colorbar\":{\"outlinewidth\":0,\"ticks\":\"\"}}}],\"scatterpolargl\":[{\"type\":\"scatterpolargl\",\"marker\":{\"colorbar\":{\"outlinewidth\":0,\"ticks\":\"\"}}}],\"bar\":[{\"error_x\":{\"color\":\"#2a3f5f\"},\"error_y\":{\"color\":\"#2a3f5f\"},\"marker\":{\"line\":{\"color\":\"#E5ECF6\",\"width\":0.5},\"pattern\":{\"fillmode\":\"overlay\",\"size\":10,\"solidity\":0.2}},\"type\":\"bar\"}],\"scattergeo\":[{\"type\":\"scattergeo\",\"marker\":{\"colorbar\":{\"outlinewidth\":0,\"ticks\":\"\"}}}],\"scatterpolar\":[{\"type\":\"scatterpolar\",\"marker\":{\"colorbar\":{\"outlinewidth\":0,\"ticks\":\"\"}}}],\"histogram\":[{\"marker\":{\"pattern\":{\"fillmode\":\"overlay\",\"size\":10,\"solidity\":0.2}},\"type\":\"histogram\"}],\"scattergl\":[{\"type\":\"scattergl\",\"marker\":{\"colorbar\":{\"outlinewidth\":0,\"ticks\":\"\"}}}],\"scatter3d\":[{\"type\":\"scatter3d\",\"line\":{\"colorbar\":{\"outlinewidth\":0,\"ticks\":\"\"}},\"marker\":{\"colorbar\":{\"outlinewidth\":0,\"ticks\":\"\"}}}],\"scattermapbox\":[{\"type\":\"scattermapbox\",\"marker\":{\"colorbar\":{\"outlinewidth\":0,\"ticks\":\"\"}}}],\"scatterternary\":[{\"type\":\"scatterternary\",\"marker\":{\"colorbar\":{\"outlinewidth\":0,\"ticks\":\"\"}}}],\"scattercarpet\":[{\"type\":\"scattercarpet\",\"marker\":{\"colorbar\":{\"outlinewidth\":0,\"ticks\":\"\"}}}],\"carpet\":[{\"aaxis\":{\"endlinecolor\":\"#2a3f5f\",\"gridcolor\":\"white\",\"linecolor\":\"white\",\"minorgridcolor\":\"white\",\"startlinecolor\":\"#2a3f5f\"},\"baxis\":{\"endlinecolor\":\"#2a3f5f\",\"gridcolor\":\"white\",\"linecolor\":\"white\",\"minorgridcolor\":\"white\",\"startlinecolor\":\"#2a3f5f\"},\"type\":\"carpet\"}],\"table\":[{\"cells\":{\"fill\":{\"color\":\"#EBF0F8\"},\"line\":{\"color\":\"white\"}},\"header\":{\"fill\":{\"color\":\"#C8D4E3\"},\"line\":{\"color\":\"white\"}},\"type\":\"table\"}],\"barpolar\":[{\"marker\":{\"line\":{\"color\":\"#E5ECF6\",\"width\":0.5},\"pattern\":{\"fillmode\":\"overlay\",\"size\":10,\"solidity\":0.2}},\"type\":\"barpolar\"}],\"pie\":[{\"automargin\":true,\"type\":\"pie\"}]},\"layout\":{\"autotypenumbers\":\"strict\",\"colorway\":[\"#636efa\",\"#EF553B\",\"#00cc96\",\"#ab63fa\",\"#FFA15A\",\"#19d3f3\",\"#FF6692\",\"#B6E880\",\"#FF97FF\",\"#FECB52\"],\"font\":{\"color\":\"#2a3f5f\"},\"hovermode\":\"closest\",\"hoverlabel\":{\"align\":\"left\"},\"paper_bgcolor\":\"white\",\"plot_bgcolor\":\"#E5ECF6\",\"polar\":{\"bgcolor\":\"#E5ECF6\",\"angularaxis\":{\"gridcolor\":\"white\",\"linecolor\":\"white\",\"ticks\":\"\"},\"radialaxis\":{\"gridcolor\":\"white\",\"linecolor\":\"white\",\"ticks\":\"\"}},\"ternary\":{\"bgcolor\":\"#E5ECF6\",\"aaxis\":{\"gridcolor\":\"white\",\"linecolor\":\"white\",\"ticks\":\"\"},\"baxis\":{\"gridcolor\":\"white\",\"linecolor\":\"white\",\"ticks\":\"\"},\"caxis\":{\"gridcolor\":\"white\",\"linecolor\":\"white\",\"ticks\":\"\"}},\"coloraxis\":{\"colorbar\":{\"outlinewidth\":0,\"ticks\":\"\"}},\"colorscale\":{\"sequential\":[[0.0,\"#0d0887\"],[0.1111111111111111,\"#46039f\"],[0.2222222222222222,\"#7201a8\"],[0.3333333333333333,\"#9c179e\"],[0.4444444444444444,\"#bd3786\"],[0.5555555555555556,\"#d8576b\"],[0.6666666666666666,\"#ed7953\"],[0.7777777777777778,\"#fb9f3a\"],[0.8888888888888888,\"#fdca26\"],[1.0,\"#f0f921\"]],\"sequentialminus\":[[0.0,\"#0d0887\"],[0.1111111111111111,\"#46039f\"],[0.2222222222222222,\"#7201a8\"],[0.3333333333333333,\"#9c179e\"],[0.4444444444444444,\"#bd3786\"],[0.5555555555555556,\"#d8576b\"],[0.6666666666666666,\"#ed7953\"],[0.7777777777777778,\"#fb9f3a\"],[0.8888888888888888,\"#fdca26\"],[1.0,\"#f0f921\"]],\"diverging\":[[0,\"#8e0152\"],[0.1,\"#c51b7d\"],[0.2,\"#de77ae\"],[0.3,\"#f1b6da\"],[0.4,\"#fde0ef\"],[0.5,\"#f7f7f7\"],[0.6,\"#e6f5d0\"],[0.7,\"#b8e186\"],[0.8,\"#7fbc41\"],[0.9,\"#4d9221\"],[1,\"#276419\"]]},\"xaxis\":{\"gridcolor\":\"white\",\"linecolor\":\"white\",\"ticks\":\"\",\"title\":{\"standoff\":15},\"zerolinecolor\":\"white\",\"automargin\":true,\"zerolinewidth\":2},\"yaxis\":{\"gridcolor\":\"white\",\"linecolor\":\"white\",\"ticks\":\"\",\"title\":{\"standoff\":15},\"zerolinecolor\":\"white\",\"automargin\":true,\"zerolinewidth\":2},\"scene\":{\"xaxis\":{\"backgroundcolor\":\"#E5ECF6\",\"gridcolor\":\"white\",\"linecolor\":\"white\",\"showbackground\":true,\"ticks\":\"\",\"zerolinecolor\":\"white\",\"gridwidth\":2},\"yaxis\":{\"backgroundcolor\":\"#E5ECF6\",\"gridcolor\":\"white\",\"linecolor\":\"white\",\"showbackground\":true,\"ticks\":\"\",\"zerolinecolor\":\"white\",\"gridwidth\":2},\"zaxis\":{\"backgroundcolor\":\"#E5ECF6\",\"gridcolor\":\"white\",\"linecolor\":\"white\",\"showbackground\":true,\"ticks\":\"\",\"zerolinecolor\":\"white\",\"gridwidth\":2}},\"shapedefaults\":{\"line\":{\"color\":\"#2a3f5f\"}},\"annotationdefaults\":{\"arrowcolor\":\"#2a3f5f\",\"arrowhead\":0,\"arrowwidth\":1},\"geo\":{\"bgcolor\":\"white\",\"landcolor\":\"#E5ECF6\",\"subunitcolor\":\"white\",\"showland\":true,\"showlakes\":true,\"lakecolor\":\"white\"},\"title\":{\"x\":0.05},\"mapbox\":{\"style\":\"light\"}}},\"xaxis\":{\"anchor\":\"y\",\"domain\":[0.0,1.0],\"title\":{\"text\":\"gender\"}},\"yaxis\":{\"anchor\":\"x\",\"domain\":[0.0,1.0],\"title\":{\"text\":\"avg of math score\"}},\"legend\":{\"title\":{\"text\":\"race\\u002fethnicity\"},\"tracegroupgap\":0},\"title\":{\"text\":\"Average Math Scores\"},\"barmode\":\"group\"},                        {\"responsive\": true}                    ).then(function(){\n",
              "                            \n",
              "var gd = document.getElementById('1dce8b5f-ce81-426c-ae37-40c0855493ec');\n",
              "var x = new MutationObserver(function (mutations, observer) {{\n",
              "        var display = window.getComputedStyle(gd).display;\n",
              "        if (!display || display === 'none') {{\n",
              "            console.log([gd, 'removed!']);\n",
              "            Plotly.purge(gd);\n",
              "            observer.disconnect();\n",
              "        }}\n",
              "}});\n",
              "\n",
              "// Listen for the removal of the full notebook cells\n",
              "var notebookContainer = gd.closest('#notebook-container');\n",
              "if (notebookContainer) {{\n",
              "    x.observe(notebookContainer, {childList: true});\n",
              "}}\n",
              "\n",
              "// Listen for the clearing of the current output cell\n",
              "var outputEl = gd.closest('.output');\n",
              "if (outputEl) {{\n",
              "    x.observe(outputEl, {childList: true});\n",
              "}}\n",
              "\n",
              "                        })                };                            </script>        </div>\n",
              "</body>\n",
              "</html>"
            ]
          },
          "metadata": {}
        },
        {
          "output_type": "display_data",
          "data": {
            "text/html": [
              "<html>\n",
              "<head><meta charset=\"utf-8\" /></head>\n",
              "<body>\n",
              "    <div>            <script src=\"https://cdnjs.cloudflare.com/ajax/libs/mathjax/2.7.5/MathJax.js?config=TeX-AMS-MML_SVG\"></script><script type=\"text/javascript\">if (window.MathJax && window.MathJax.Hub && window.MathJax.Hub.Config) {window.MathJax.Hub.Config({SVG: {font: \"STIX-Web\"}});}</script>                <script type=\"text/javascript\">window.PlotlyConfig = {MathJaxConfig: 'local'};</script>\n",
              "        <script charset=\"utf-8\" src=\"https://cdn.plot.ly/plotly-2.24.1.min.js\"></script>                <div id=\"da5b70ce-1ffc-4eb7-a989-a3f77e58e377\" class=\"plotly-graph-div\" style=\"height:525px; width:100%;\"></div>            <script type=\"text/javascript\">                                    window.PLOTLYENV=window.PLOTLYENV || {};                                    if (document.getElementById(\"da5b70ce-1ffc-4eb7-a989-a3f77e58e377\")) {                    Plotly.newPlot(                        \"da5b70ce-1ffc-4eb7-a989-a3f77e58e377\",                        [{\"alignmentgroup\":\"True\",\"bingroup\":\"x\",\"histfunc\":\"avg\",\"hovertemplate\":\"race\\u002fethnicity=group B\\u003cbr\\u003egender=%{x}\\u003cbr\\u003eavg of reading score=%{y}\\u003cextra\\u003e\\u003c\\u002fextra\\u003e\",\"legendgroup\":\"group B\",\"marker\":{\"color\":\"#636efa\",\"pattern\":{\"shape\":\"\"}},\"name\":\"group B\",\"offsetgroup\":\"group B\",\"orientation\":\"v\",\"showlegend\":true,\"x\":[\"female\",\"female\",\"female\",\"female\",\"male\",\"female\",\"female\",\"female\",\"female\",\"male\",\"female\",\"male\",\"female\",\"male\",\"male\",\"male\",\"male\",\"male\",\"female\",\"male\",\"female\",\"male\",\"male\",\"male\",\"female\",\"female\",\"female\",\"male\",\"female\",\"male\",\"male\",\"male\",\"female\",\"male\",\"female\",\"male\",\"male\",\"female\",\"female\",\"female\",\"female\",\"male\",\"female\",\"female\",\"female\",\"female\",\"female\",\"female\",\"male\",\"male\",\"male\",\"male\",\"female\",\"female\",\"male\",\"female\",\"female\",\"female\",\"female\",\"male\",\"male\",\"female\",\"male\",\"female\",\"male\",\"male\",\"male\",\"female\",\"female\",\"male\",\"male\",\"female\",\"male\",\"female\",\"female\",\"female\",\"male\",\"female\",\"female\",\"female\",\"male\",\"female\",\"female\",\"male\",\"male\",\"female\",\"male\",\"male\",\"female\",\"male\",\"male\",\"male\",\"male\",\"female\",\"male\",\"female\",\"male\",\"female\",\"female\",\"female\",\"female\",\"male\",\"female\",\"female\",\"female\",\"male\",\"male\",\"female\",\"female\",\"male\",\"male\",\"male\",\"male\",\"female\",\"female\",\"male\",\"female\",\"male\",\"male\",\"male\",\"female\",\"female\",\"female\",\"male\",\"female\",\"female\",\"female\",\"female\",\"female\",\"female\",\"male\",\"male\",\"male\",\"female\",\"female\",\"female\",\"female\",\"female\",\"male\",\"female\",\"female\",\"male\",\"male\",\"male\",\"female\",\"female\",\"male\",\"male\",\"female\",\"male\",\"female\",\"female\",\"female\",\"female\",\"female\",\"female\",\"female\",\"female\",\"female\",\"male\",\"male\",\"female\",\"female\",\"male\",\"female\",\"male\",\"male\",\"female\",\"male\",\"female\",\"male\",\"male\",\"male\",\"male\",\"male\",\"female\",\"male\",\"female\",\"male\",\"female\",\"male\",\"female\",\"female\",\"male\",\"male\",\"female\",\"male\",\"female\",\"male\",\"female\"],\"xaxis\":\"x\",\"y\":[72,95,83,95,43,60,81,32,75,54,65,56,58,65,54,64,58,41,49,45,86,66,67,44,76,64,85,89,95,68,54,84,70,60,86,78,53,76,83,54,70,52,64,53,79,69,81,61,83,77,56,85,66,86,52,70,64,70,75,85,56,46,82,89,75,62,76,71,76,60,71,55,78,68,38,76,61,65,72,62,84,86,67,63,65,80,67,39,83,46,73,65,54,90,71,52,53,64,69,87,82,59,61,97,78,69,90,48,70,51,43,48,75,91,56,24,63,63,70,60,74,80,81,65,81,53,79,67,85,64,68,55,66,67,63,70,94,90,43,77,66,55,84,77,62,72,62,48,67,65,58,72,90,85,51,38,62,52,85,54,86,72,87,54,82,50,57,44,77,97,68,49,42,58,84,73,29,78,48,61,96,65,68,82,50,84,62,24,85,82],\"yaxis\":\"y\",\"type\":\"histogram\"},{\"alignmentgroup\":\"True\",\"bingroup\":\"x\",\"histfunc\":\"avg\",\"hovertemplate\":\"race\\u002fethnicity=group C\\u003cbr\\u003egender=%{x}\\u003cbr\\u003eavg of reading score=%{y}\\u003cextra\\u003e\\u003c\\u002fextra\\u003e\",\"legendgroup\":\"group C\",\"marker\":{\"color\":\"#EF553B\",\"pattern\":{\"shape\":\"\"}},\"name\":\"group C\",\"offsetgroup\":\"group C\",\"orientation\":\"v\",\"showlegend\":true,\"x\":[\"female\",\"male\",\"male\",\"female\",\"male\",\"male\",\"female\",\"female\",\"female\",\"male\",\"male\",\"female\",\"female\",\"male\",\"male\",\"female\",\"female\",\"female\",\"female\",\"female\",\"female\",\"male\",\"male\",\"female\",\"female\",\"female\",\"male\",\"male\",\"male\",\"male\",\"male\",\"female\",\"male\",\"male\",\"female\",\"female\",\"female\",\"male\",\"female\",\"male\",\"female\",\"female\",\"female\",\"male\",\"female\",\"male\",\"female\",\"male\",\"female\",\"female\",\"female\",\"female\",\"female\",\"male\",\"female\",\"male\",\"male\",\"female\",\"female\",\"male\",\"female\",\"male\",\"male\",\"male\",\"female\",\"male\",\"female\",\"female\",\"female\",\"female\",\"male\",\"male\",\"male\",\"male\",\"male\",\"female\",\"male\",\"female\",\"female\",\"male\",\"female\",\"female\",\"male\",\"male\",\"male\",\"female\",\"female\",\"male\",\"male\",\"male\",\"female\",\"female\",\"male\",\"female\",\"female\",\"male\",\"male\",\"female\",\"female\",\"female\",\"female\",\"female\",\"male\",\"male\",\"male\",\"male\",\"female\",\"male\",\"male\",\"female\",\"female\",\"female\",\"female\",\"female\",\"female\",\"female\",\"female\",\"male\",\"male\",\"male\",\"female\",\"male\",\"male\",\"female\",\"male\",\"female\",\"female\",\"female\",\"female\",\"female\",\"female\",\"male\",\"male\",\"female\",\"female\",\"male\",\"male\",\"male\",\"male\",\"female\",\"male\",\"male\",\"male\",\"male\",\"female\",\"female\",\"male\",\"female\",\"female\",\"male\",\"female\",\"male\",\"male\",\"female\",\"female\",\"male\",\"female\",\"female\",\"female\",\"male\",\"male\",\"female\",\"female\",\"female\",\"female\",\"female\",\"male\",\"male\",\"female\",\"female\",\"female\",\"male\",\"male\",\"male\",\"female\",\"female\",\"female\",\"female\",\"female\",\"male\",\"male\",\"female\",\"male\",\"female\",\"male\",\"male\",\"female\",\"female\",\"male\",\"female\",\"male\",\"female\",\"female\",\"female\",\"female\",\"female\",\"male\",\"female\",\"female\",\"female\",\"male\",\"female\",\"female\",\"female\",\"male\",\"female\",\"female\",\"male\",\"female\",\"male\",\"female\",\"female\",\"male\",\"male\",\"male\",\"male\",\"female\",\"female\",\"female\",\"male\",\"female\",\"female\",\"female\",\"female\",\"female\",\"female\",\"female\",\"female\",\"female\",\"male\",\"male\",\"male\",\"male\",\"female\",\"female\",\"female\",\"male\",\"male\",\"female\",\"male\",\"male\",\"male\",\"female\",\"female\",\"male\",\"female\",\"male\",\"female\",\"male\",\"female\",\"female\",\"female\",\"female\",\"female\",\"male\",\"male\",\"female\",\"female\",\"male\",\"male\",\"female\",\"male\",\"female\",\"female\",\"female\",\"female\",\"male\",\"female\",\"female\",\"female\",\"female\",\"female\",\"male\",\"male\",\"female\",\"male\",\"male\",\"female\",\"male\",\"female\",\"female\",\"male\",\"male\",\"male\",\"female\",\"female\",\"male\",\"male\",\"male\",\"female\",\"male\",\"female\",\"female\",\"female\",\"female\",\"female\",\"female\",\"female\",\"female\",\"male\",\"male\",\"male\",\"male\",\"male\",\"female\",\"male\",\"female\",\"male\",\"male\",\"female\",\"male\",\"male\",\"female\",\"male\",\"female\",\"female\",\"female\",\"male\",\"female\"],\"xaxis\":\"x\",\"y\":[90,78,54,75,89,42,58,73,69,70,61,73,71,84,44,84,41,17,80,72,64,57,49,80,83,72,34,79,45,81,86,67,55,77,69,92,93,37,81,55,66,62,39,68,89,53,100,51,75,67,51,91,77,68,64,52,67,88,84,69,84,77,41,28,62,51,42,65,72,95,43,82,80,76,60,73,77,81,79,79,50,75,63,49,78,92,86,70,60,46,84,75,52,67,64,66,72,79,81,53,46,90,61,75,60,37,93,51,61,73,80,94,78,58,71,66,58,60,58,66,73,100,81,78,54,74,89,54,59,73,72,74,73,93,67,83,71,63,66,72,56,66,48,56,81,74,81,85,77,58,61,56,58,90,87,74,85,69,86,68,74,75,64,83,88,48,61,78,92,87,86,59,52,61,53,74,67,54,83,60,69,77,67,67,72,76,39,72,67,74,90,62,66,76,63,64,57,100,79,29,72,84,58,59,90,77,68,73,61,51,51,88,56,67,77,66,69,60,73,74,76,78,84,82,40,53,74,63,82,66,59,84,78,96,76,72,48,39,89,57,79,60,84,73,64,60,77,90,55,72,75,78,44,59,81,65,65,55,73,80,76,75,64,80,91,58,67,68,69,86,64,77,58,85,72,67,64,79,73,62,71,93,53,51,72,62,64,61,64,76,72,78,75,61,62,61,77,53,56,74,75,87,66,66,61,52,69,87,81,76,63,72,82,65,95,75,59,55,71],\"yaxis\":\"y\",\"type\":\"histogram\"},{\"alignmentgroup\":\"True\",\"bingroup\":\"x\",\"histfunc\":\"avg\",\"hovertemplate\":\"race\\u002fethnicity=group A\\u003cbr\\u003egender=%{x}\\u003cbr\\u003eavg of reading score=%{y}\\u003cextra\\u003e\\u003c\\u002fextra\\u003e\",\"legendgroup\":\"group A\",\"marker\":{\"color\":\"#00cc96\",\"pattern\":{\"shape\":\"\"}},\"name\":\"group A\",\"offsetgroup\":\"group A\",\"orientation\":\"v\",\"showlegend\":true,\"x\":[\"male\",\"male\",\"female\",\"male\",\"female\",\"male\",\"male\",\"female\",\"male\",\"male\",\"female\",\"male\",\"female\",\"male\",\"male\",\"male\",\"male\",\"male\",\"male\",\"male\",\"male\",\"male\",\"male\",\"male\",\"male\",\"female\",\"female\",\"male\",\"female\",\"male\",\"male\",\"female\",\"female\",\"male\",\"female\",\"female\",\"male\",\"male\",\"male\",\"female\",\"male\",\"male\",\"female\",\"male\",\"male\",\"male\",\"female\",\"male\",\"male\",\"male\",\"female\",\"female\",\"male\",\"male\",\"female\",\"male\",\"male\",\"female\",\"female\",\"male\",\"female\",\"male\",\"male\",\"male\",\"female\",\"male\",\"female\",\"male\",\"male\",\"male\",\"female\",\"female\",\"female\",\"male\",\"female\",\"female\",\"female\",\"female\",\"female\",\"male\",\"male\",\"female\",\"male\",\"female\",\"female\",\"female\",\"male\",\"female\",\"male\"],\"xaxis\":\"x\",\"y\":[57,72,53,74,65,39,61,51,78,47,70,53,49,43,67,67,73,72,49,41,78,67,23,61,58,64,83,64,43,45,43,65,85,59,59,73,82,58,67,88,52,82,85,70,50,92,100,96,55,51,73,66,62,54,93,96,74,80,70,58,72,84,72,46,57,60,79,81,31,47,59,90,60,60,82,68,67,48,84,57,62,58,68,50,63,87,51,45,63],\"yaxis\":\"y\",\"type\":\"histogram\"},{\"alignmentgroup\":\"True\",\"bingroup\":\"x\",\"histfunc\":\"avg\",\"hovertemplate\":\"race\\u002fethnicity=group D\\u003cbr\\u003egender=%{x}\\u003cbr\\u003eavg of reading score=%{y}\\u003cextra\\u003e\\u003c\\u002fextra\\u003e\",\"legendgroup\":\"group D\",\"marker\":{\"color\":\"#ab63fa\",\"pattern\":{\"shape\":\"\"}},\"name\":\"group D\",\"offsetgroup\":\"group D\",\"orientation\":\"v\",\"showlegend\":true,\"x\":[\"male\",\"male\",\"male\",\"male\",\"male\",\"female\",\"female\",\"male\",\"female\",\"female\",\"female\",\"female\",\"male\",\"male\",\"male\",\"female\",\"male\",\"female\",\"male\",\"female\",\"male\",\"female\",\"female\",\"female\",\"female\",\"male\",\"female\",\"female\",\"female\",\"female\",\"female\",\"female\",\"male\",\"male\",\"male\",\"male\",\"male\",\"male\",\"female\",\"male\",\"female\",\"male\",\"male\",\"male\",\"female\",\"female\",\"female\",\"male\",\"male\",\"male\",\"male\",\"female\",\"male\",\"male\",\"female\",\"male\",\"male\",\"male\",\"male\",\"male\",\"female\",\"male\",\"female\",\"male\",\"female\",\"male\",\"male\",\"male\",\"male\",\"female\",\"female\",\"female\",\"female\",\"male\",\"male\",\"female\",\"female\",\"male\",\"male\",\"male\",\"male\",\"female\",\"male\",\"female\",\"female\",\"male\",\"female\",\"male\",\"male\",\"male\",\"male\",\"female\",\"female\",\"female\",\"male\",\"female\",\"female\",\"female\",\"female\",\"female\",\"male\",\"female\",\"male\",\"female\",\"female\",\"male\",\"female\",\"male\",\"male\",\"female\",\"female\",\"male\",\"male\",\"male\",\"female\",\"male\",\"female\",\"male\",\"female\",\"female\",\"female\",\"male\",\"female\",\"female\",\"male\",\"male\",\"female\",\"female\",\"female\",\"male\",\"male\",\"female\",\"female\",\"male\",\"male\",\"female\",\"female\",\"male\",\"female\",\"female\",\"male\",\"male\",\"female\",\"female\",\"female\",\"male\",\"female\",\"female\",\"female\",\"female\",\"female\",\"female\",\"female\",\"female\",\"male\",\"male\",\"male\",\"male\",\"male\",\"male\",\"male\",\"male\",\"male\",\"male\",\"female\",\"female\",\"male\",\"female\",\"female\",\"female\",\"female\",\"male\",\"female\",\"male\",\"female\",\"male\",\"male\",\"male\",\"female\",\"male\",\"male\",\"female\",\"male\",\"female\",\"female\",\"female\",\"female\",\"male\",\"male\",\"female\",\"female\",\"male\",\"male\",\"female\",\"male\",\"male\",\"male\",\"male\",\"male\",\"male\",\"male\",\"female\",\"female\",\"male\",\"male\",\"female\",\"male\",\"female\",\"female\",\"male\",\"male\",\"female\",\"male\",\"female\",\"female\",\"female\",\"female\",\"male\",\"male\",\"male\",\"male\",\"male\",\"female\",\"female\",\"male\",\"female\",\"male\",\"male\",\"male\",\"female\",\"male\",\"female\",\"female\",\"male\",\"female\",\"male\",\"male\",\"male\",\"male\",\"female\",\"male\",\"male\",\"male\",\"male\",\"male\",\"female\",\"female\",\"female\",\"female\",\"female\",\"female\",\"male\",\"female\",\"female\",\"female\",\"male\",\"male\",\"female\",\"female\",\"female\",\"female\",\"female\"],\"xaxis\":\"x\",\"y\":[64,52,69,54,71,70,74,42,81,64,90,74,78,55,59,58,37,63,55,74,39,71,86,67,67,74,91,100,89,58,82,63,57,77,82,84,79,61,72,73,75,49,67,62,86,100,69,66,83,62,55,81,71,79,68,80,50,64,75,66,60,68,52,74,83,80,52,73,42,72,92,53,70,52,48,79,78,73,77,87,54,57,61,82,65,70,55,72,73,74,62,90,34,84,74,97,70,90,95,64,70,68,59,99,57,84,71,66,59,58,58,68,66,88,81,66,89,54,31,67,76,68,64,59,47,64,78,79,59,71,49,89,78,49,58,41,66,82,95,63,62,66,75,80,71,68,61,97,73,75,77,77,82,60,57,89,60,78,81,97,48,57,64,84,92,74,52,88,70,79,86,66,60,87,71,63,72,57,77,75,61,72,78,77,89,78,64,34,87,61,100,81,59,92,47,71,73,79,75,69,58,59,58,81,63,71,73,56,66,74,70,74,70,90,86,52,65,54,75,42,82,82,72,76,46,65,51,74,54,78,84,100,84,77,84,42,70,66,70,61,57,71,63,81,68,91,58,77,100,63,54,57,70,100,65,41,78,86,76,72,78,86],\"yaxis\":\"y\",\"type\":\"histogram\"},{\"alignmentgroup\":\"True\",\"bingroup\":\"x\",\"histfunc\":\"avg\",\"hovertemplate\":\"race\\u002fethnicity=group E\\u003cbr\\u003egender=%{x}\\u003cbr\\u003eavg of reading score=%{y}\\u003cextra\\u003e\\u003c\\u002fextra\\u003e\",\"legendgroup\":\"group E\",\"marker\":{\"color\":\"#FFA15A\",\"pattern\":{\"shape\":\"\"}},\"name\":\"group E\",\"offsetgroup\":\"group E\",\"orientation\":\"v\",\"showlegend\":true,\"x\":[\"female\",\"male\",\"male\",\"female\",\"male\",\"male\",\"female\",\"male\",\"male\",\"female\",\"male\",\"female\",\"male\",\"female\",\"male\",\"male\",\"male\",\"female\",\"male\",\"female\",\"female\",\"female\",\"male\",\"female\",\"male\",\"female\",\"male\",\"male\",\"male\",\"male\",\"female\",\"female\",\"male\",\"female\",\"male\",\"male\",\"female\",\"female\",\"female\",\"female\",\"male\",\"male\",\"female\",\"male\",\"male\",\"female\",\"male\",\"male\",\"male\",\"male\",\"male\",\"female\",\"female\",\"female\",\"male\",\"male\",\"male\",\"male\",\"male\",\"female\",\"female\",\"female\",\"male\",\"male\",\"male\",\"female\",\"female\",\"male\",\"male\",\"female\",\"male\",\"male\",\"male\",\"female\",\"female\",\"female\",\"male\",\"female\",\"female\",\"female\",\"female\",\"female\",\"male\",\"female\",\"female\",\"female\",\"female\",\"male\",\"male\",\"female\",\"female\",\"female\",\"male\",\"male\",\"female\",\"male\",\"female\",\"male\",\"female\",\"male\",\"male\",\"female\",\"male\",\"female\",\"female\",\"male\",\"female\",\"female\",\"male\",\"male\",\"male\",\"male\",\"female\",\"male\",\"female\",\"male\",\"male\",\"female\",\"female\",\"female\",\"female\",\"female\",\"female\",\"female\",\"male\",\"female\",\"male\",\"male\",\"male\",\"male\",\"female\",\"female\",\"male\",\"female\",\"male\",\"female\",\"female\",\"male\",\"male\",\"female\"],\"xaxis\":\"x\",\"y\":[72,87,81,56,55,69,85,74,26,68,64,72,63,100,80,74,55,55,100,74,88,92,88,50,76,65,56,62,80,91,86,56,87,83,51,76,73,93,76,63,82,76,73,74,87,86,56,74,57,77,43,49,76,73,67,67,83,73,56,92,100,70,62,71,71,89,74,60,61,88,66,83,45,100,81,79,68,76,78,64,45,58,76,79,62,78,99,75,90,76,81,85,73,74,75,51,58,72,95,68,85,79,84,68,84,60,94,45,84,52,64,85,85,67,86,74,90,70,51,100,85,92,62,34,64,70,100,64,56,43,58,75,73,74,57,100,76,75,81,99],\"yaxis\":\"y\",\"type\":\"histogram\"}],                        {\"template\":{\"data\":{\"histogram2dcontour\":[{\"type\":\"histogram2dcontour\",\"colorbar\":{\"outlinewidth\":0,\"ticks\":\"\"},\"colorscale\":[[0.0,\"#0d0887\"],[0.1111111111111111,\"#46039f\"],[0.2222222222222222,\"#7201a8\"],[0.3333333333333333,\"#9c179e\"],[0.4444444444444444,\"#bd3786\"],[0.5555555555555556,\"#d8576b\"],[0.6666666666666666,\"#ed7953\"],[0.7777777777777778,\"#fb9f3a\"],[0.8888888888888888,\"#fdca26\"],[1.0,\"#f0f921\"]]}],\"choropleth\":[{\"type\":\"choropleth\",\"colorbar\":{\"outlinewidth\":0,\"ticks\":\"\"}}],\"histogram2d\":[{\"type\":\"histogram2d\",\"colorbar\":{\"outlinewidth\":0,\"ticks\":\"\"},\"colorscale\":[[0.0,\"#0d0887\"],[0.1111111111111111,\"#46039f\"],[0.2222222222222222,\"#7201a8\"],[0.3333333333333333,\"#9c179e\"],[0.4444444444444444,\"#bd3786\"],[0.5555555555555556,\"#d8576b\"],[0.6666666666666666,\"#ed7953\"],[0.7777777777777778,\"#fb9f3a\"],[0.8888888888888888,\"#fdca26\"],[1.0,\"#f0f921\"]]}],\"heatmap\":[{\"type\":\"heatmap\",\"colorbar\":{\"outlinewidth\":0,\"ticks\":\"\"},\"colorscale\":[[0.0,\"#0d0887\"],[0.1111111111111111,\"#46039f\"],[0.2222222222222222,\"#7201a8\"],[0.3333333333333333,\"#9c179e\"],[0.4444444444444444,\"#bd3786\"],[0.5555555555555556,\"#d8576b\"],[0.6666666666666666,\"#ed7953\"],[0.7777777777777778,\"#fb9f3a\"],[0.8888888888888888,\"#fdca26\"],[1.0,\"#f0f921\"]]}],\"heatmapgl\":[{\"type\":\"heatmapgl\",\"colorbar\":{\"outlinewidth\":0,\"ticks\":\"\"},\"colorscale\":[[0.0,\"#0d0887\"],[0.1111111111111111,\"#46039f\"],[0.2222222222222222,\"#7201a8\"],[0.3333333333333333,\"#9c179e\"],[0.4444444444444444,\"#bd3786\"],[0.5555555555555556,\"#d8576b\"],[0.6666666666666666,\"#ed7953\"],[0.7777777777777778,\"#fb9f3a\"],[0.8888888888888888,\"#fdca26\"],[1.0,\"#f0f921\"]]}],\"contourcarpet\":[{\"type\":\"contourcarpet\",\"colorbar\":{\"outlinewidth\":0,\"ticks\":\"\"}}],\"contour\":[{\"type\":\"contour\",\"colorbar\":{\"outlinewidth\":0,\"ticks\":\"\"},\"colorscale\":[[0.0,\"#0d0887\"],[0.1111111111111111,\"#46039f\"],[0.2222222222222222,\"#7201a8\"],[0.3333333333333333,\"#9c179e\"],[0.4444444444444444,\"#bd3786\"],[0.5555555555555556,\"#d8576b\"],[0.6666666666666666,\"#ed7953\"],[0.7777777777777778,\"#fb9f3a\"],[0.8888888888888888,\"#fdca26\"],[1.0,\"#f0f921\"]]}],\"surface\":[{\"type\":\"surface\",\"colorbar\":{\"outlinewidth\":0,\"ticks\":\"\"},\"colorscale\":[[0.0,\"#0d0887\"],[0.1111111111111111,\"#46039f\"],[0.2222222222222222,\"#7201a8\"],[0.3333333333333333,\"#9c179e\"],[0.4444444444444444,\"#bd3786\"],[0.5555555555555556,\"#d8576b\"],[0.6666666666666666,\"#ed7953\"],[0.7777777777777778,\"#fb9f3a\"],[0.8888888888888888,\"#fdca26\"],[1.0,\"#f0f921\"]]}],\"mesh3d\":[{\"type\":\"mesh3d\",\"colorbar\":{\"outlinewidth\":0,\"ticks\":\"\"}}],\"scatter\":[{\"fillpattern\":{\"fillmode\":\"overlay\",\"size\":10,\"solidity\":0.2},\"type\":\"scatter\"}],\"parcoords\":[{\"type\":\"parcoords\",\"line\":{\"colorbar\":{\"outlinewidth\":0,\"ticks\":\"\"}}}],\"scatterpolargl\":[{\"type\":\"scatterpolargl\",\"marker\":{\"colorbar\":{\"outlinewidth\":0,\"ticks\":\"\"}}}],\"bar\":[{\"error_x\":{\"color\":\"#2a3f5f\"},\"error_y\":{\"color\":\"#2a3f5f\"},\"marker\":{\"line\":{\"color\":\"#E5ECF6\",\"width\":0.5},\"pattern\":{\"fillmode\":\"overlay\",\"size\":10,\"solidity\":0.2}},\"type\":\"bar\"}],\"scattergeo\":[{\"type\":\"scattergeo\",\"marker\":{\"colorbar\":{\"outlinewidth\":0,\"ticks\":\"\"}}}],\"scatterpolar\":[{\"type\":\"scatterpolar\",\"marker\":{\"colorbar\":{\"outlinewidth\":0,\"ticks\":\"\"}}}],\"histogram\":[{\"marker\":{\"pattern\":{\"fillmode\":\"overlay\",\"size\":10,\"solidity\":0.2}},\"type\":\"histogram\"}],\"scattergl\":[{\"type\":\"scattergl\",\"marker\":{\"colorbar\":{\"outlinewidth\":0,\"ticks\":\"\"}}}],\"scatter3d\":[{\"type\":\"scatter3d\",\"line\":{\"colorbar\":{\"outlinewidth\":0,\"ticks\":\"\"}},\"marker\":{\"colorbar\":{\"outlinewidth\":0,\"ticks\":\"\"}}}],\"scattermapbox\":[{\"type\":\"scattermapbox\",\"marker\":{\"colorbar\":{\"outlinewidth\":0,\"ticks\":\"\"}}}],\"scatterternary\":[{\"type\":\"scatterternary\",\"marker\":{\"colorbar\":{\"outlinewidth\":0,\"ticks\":\"\"}}}],\"scattercarpet\":[{\"type\":\"scattercarpet\",\"marker\":{\"colorbar\":{\"outlinewidth\":0,\"ticks\":\"\"}}}],\"carpet\":[{\"aaxis\":{\"endlinecolor\":\"#2a3f5f\",\"gridcolor\":\"white\",\"linecolor\":\"white\",\"minorgridcolor\":\"white\",\"startlinecolor\":\"#2a3f5f\"},\"baxis\":{\"endlinecolor\":\"#2a3f5f\",\"gridcolor\":\"white\",\"linecolor\":\"white\",\"minorgridcolor\":\"white\",\"startlinecolor\":\"#2a3f5f\"},\"type\":\"carpet\"}],\"table\":[{\"cells\":{\"fill\":{\"color\":\"#EBF0F8\"},\"line\":{\"color\":\"white\"}},\"header\":{\"fill\":{\"color\":\"#C8D4E3\"},\"line\":{\"color\":\"white\"}},\"type\":\"table\"}],\"barpolar\":[{\"marker\":{\"line\":{\"color\":\"#E5ECF6\",\"width\":0.5},\"pattern\":{\"fillmode\":\"overlay\",\"size\":10,\"solidity\":0.2}},\"type\":\"barpolar\"}],\"pie\":[{\"automargin\":true,\"type\":\"pie\"}]},\"layout\":{\"autotypenumbers\":\"strict\",\"colorway\":[\"#636efa\",\"#EF553B\",\"#00cc96\",\"#ab63fa\",\"#FFA15A\",\"#19d3f3\",\"#FF6692\",\"#B6E880\",\"#FF97FF\",\"#FECB52\"],\"font\":{\"color\":\"#2a3f5f\"},\"hovermode\":\"closest\",\"hoverlabel\":{\"align\":\"left\"},\"paper_bgcolor\":\"white\",\"plot_bgcolor\":\"#E5ECF6\",\"polar\":{\"bgcolor\":\"#E5ECF6\",\"angularaxis\":{\"gridcolor\":\"white\",\"linecolor\":\"white\",\"ticks\":\"\"},\"radialaxis\":{\"gridcolor\":\"white\",\"linecolor\":\"white\",\"ticks\":\"\"}},\"ternary\":{\"bgcolor\":\"#E5ECF6\",\"aaxis\":{\"gridcolor\":\"white\",\"linecolor\":\"white\",\"ticks\":\"\"},\"baxis\":{\"gridcolor\":\"white\",\"linecolor\":\"white\",\"ticks\":\"\"},\"caxis\":{\"gridcolor\":\"white\",\"linecolor\":\"white\",\"ticks\":\"\"}},\"coloraxis\":{\"colorbar\":{\"outlinewidth\":0,\"ticks\":\"\"}},\"colorscale\":{\"sequential\":[[0.0,\"#0d0887\"],[0.1111111111111111,\"#46039f\"],[0.2222222222222222,\"#7201a8\"],[0.3333333333333333,\"#9c179e\"],[0.4444444444444444,\"#bd3786\"],[0.5555555555555556,\"#d8576b\"],[0.6666666666666666,\"#ed7953\"],[0.7777777777777778,\"#fb9f3a\"],[0.8888888888888888,\"#fdca26\"],[1.0,\"#f0f921\"]],\"sequentialminus\":[[0.0,\"#0d0887\"],[0.1111111111111111,\"#46039f\"],[0.2222222222222222,\"#7201a8\"],[0.3333333333333333,\"#9c179e\"],[0.4444444444444444,\"#bd3786\"],[0.5555555555555556,\"#d8576b\"],[0.6666666666666666,\"#ed7953\"],[0.7777777777777778,\"#fb9f3a\"],[0.8888888888888888,\"#fdca26\"],[1.0,\"#f0f921\"]],\"diverging\":[[0,\"#8e0152\"],[0.1,\"#c51b7d\"],[0.2,\"#de77ae\"],[0.3,\"#f1b6da\"],[0.4,\"#fde0ef\"],[0.5,\"#f7f7f7\"],[0.6,\"#e6f5d0\"],[0.7,\"#b8e186\"],[0.8,\"#7fbc41\"],[0.9,\"#4d9221\"],[1,\"#276419\"]]},\"xaxis\":{\"gridcolor\":\"white\",\"linecolor\":\"white\",\"ticks\":\"\",\"title\":{\"standoff\":15},\"zerolinecolor\":\"white\",\"automargin\":true,\"zerolinewidth\":2},\"yaxis\":{\"gridcolor\":\"white\",\"linecolor\":\"white\",\"ticks\":\"\",\"title\":{\"standoff\":15},\"zerolinecolor\":\"white\",\"automargin\":true,\"zerolinewidth\":2},\"scene\":{\"xaxis\":{\"backgroundcolor\":\"#E5ECF6\",\"gridcolor\":\"white\",\"linecolor\":\"white\",\"showbackground\":true,\"ticks\":\"\",\"zerolinecolor\":\"white\",\"gridwidth\":2},\"yaxis\":{\"backgroundcolor\":\"#E5ECF6\",\"gridcolor\":\"white\",\"linecolor\":\"white\",\"showbackground\":true,\"ticks\":\"\",\"zerolinecolor\":\"white\",\"gridwidth\":2},\"zaxis\":{\"backgroundcolor\":\"#E5ECF6\",\"gridcolor\":\"white\",\"linecolor\":\"white\",\"showbackground\":true,\"ticks\":\"\",\"zerolinecolor\":\"white\",\"gridwidth\":2}},\"shapedefaults\":{\"line\":{\"color\":\"#2a3f5f\"}},\"annotationdefaults\":{\"arrowcolor\":\"#2a3f5f\",\"arrowhead\":0,\"arrowwidth\":1},\"geo\":{\"bgcolor\":\"white\",\"landcolor\":\"#E5ECF6\",\"subunitcolor\":\"white\",\"showland\":true,\"showlakes\":true,\"lakecolor\":\"white\"},\"title\":{\"x\":0.05},\"mapbox\":{\"style\":\"light\"}}},\"xaxis\":{\"anchor\":\"y\",\"domain\":[0.0,1.0],\"title\":{\"text\":\"gender\"}},\"yaxis\":{\"anchor\":\"x\",\"domain\":[0.0,1.0],\"title\":{\"text\":\"avg of reading score\"}},\"legend\":{\"title\":{\"text\":\"race\\u002fethnicity\"},\"tracegroupgap\":0},\"title\":{\"text\":\"Average Reading Scores\"},\"barmode\":\"group\"},                        {\"responsive\": true}                    ).then(function(){\n",
              "                            \n",
              "var gd = document.getElementById('da5b70ce-1ffc-4eb7-a989-a3f77e58e377');\n",
              "var x = new MutationObserver(function (mutations, observer) {{\n",
              "        var display = window.getComputedStyle(gd).display;\n",
              "        if (!display || display === 'none') {{\n",
              "            console.log([gd, 'removed!']);\n",
              "            Plotly.purge(gd);\n",
              "            observer.disconnect();\n",
              "        }}\n",
              "}});\n",
              "\n",
              "// Listen for the removal of the full notebook cells\n",
              "var notebookContainer = gd.closest('#notebook-container');\n",
              "if (notebookContainer) {{\n",
              "    x.observe(notebookContainer, {childList: true});\n",
              "}}\n",
              "\n",
              "// Listen for the clearing of the current output cell\n",
              "var outputEl = gd.closest('.output');\n",
              "if (outputEl) {{\n",
              "    x.observe(outputEl, {childList: true});\n",
              "}}\n",
              "\n",
              "                        })                };                            </script>        </div>\n",
              "</body>\n",
              "</html>"
            ]
          },
          "metadata": {}
        },
        {
          "output_type": "display_data",
          "data": {
            "text/html": [
              "<html>\n",
              "<head><meta charset=\"utf-8\" /></head>\n",
              "<body>\n",
              "    <div>            <script src=\"https://cdnjs.cloudflare.com/ajax/libs/mathjax/2.7.5/MathJax.js?config=TeX-AMS-MML_SVG\"></script><script type=\"text/javascript\">if (window.MathJax && window.MathJax.Hub && window.MathJax.Hub.Config) {window.MathJax.Hub.Config({SVG: {font: \"STIX-Web\"}});}</script>                <script type=\"text/javascript\">window.PlotlyConfig = {MathJaxConfig: 'local'};</script>\n",
              "        <script charset=\"utf-8\" src=\"https://cdn.plot.ly/plotly-2.24.1.min.js\"></script>                <div id=\"832e2a7f-9127-4efa-a6d3-8f131c5c855e\" class=\"plotly-graph-div\" style=\"height:525px; width:100%;\"></div>            <script type=\"text/javascript\">                                    window.PLOTLYENV=window.PLOTLYENV || {};                                    if (document.getElementById(\"832e2a7f-9127-4efa-a6d3-8f131c5c855e\")) {                    Plotly.newPlot(                        \"832e2a7f-9127-4efa-a6d3-8f131c5c855e\",                        [{\"alignmentgroup\":\"True\",\"bingroup\":\"x\",\"histfunc\":\"avg\",\"hovertemplate\":\"race\\u002fethnicity=group B\\u003cbr\\u003egender=%{x}\\u003cbr\\u003eavg of writing score=%{y}\\u003cextra\\u003e\\u003c\\u002fextra\\u003e\",\"legendgroup\":\"group B\",\"marker\":{\"color\":\"#636efa\",\"pattern\":{\"shape\":\"\"}},\"name\":\"group B\",\"offsetgroup\":\"group B\",\"orientation\":\"v\",\"showlegend\":true,\"x\":[\"female\",\"female\",\"female\",\"female\",\"male\",\"female\",\"female\",\"female\",\"female\",\"male\",\"female\",\"male\",\"female\",\"male\",\"male\",\"male\",\"male\",\"male\",\"female\",\"male\",\"female\",\"male\",\"male\",\"male\",\"female\",\"female\",\"female\",\"male\",\"female\",\"male\",\"male\",\"male\",\"female\",\"male\",\"female\",\"male\",\"male\",\"female\",\"female\",\"female\",\"female\",\"male\",\"female\",\"female\",\"female\",\"female\",\"female\",\"female\",\"male\",\"male\",\"male\",\"male\",\"female\",\"female\",\"male\",\"female\",\"female\",\"female\",\"female\",\"male\",\"male\",\"female\",\"male\",\"female\",\"male\",\"male\",\"male\",\"female\",\"female\",\"male\",\"male\",\"female\",\"male\",\"female\",\"female\",\"female\",\"male\",\"female\",\"female\",\"female\",\"male\",\"female\",\"female\",\"male\",\"male\",\"female\",\"male\",\"male\",\"female\",\"male\",\"male\",\"male\",\"male\",\"female\",\"male\",\"female\",\"male\",\"female\",\"female\",\"female\",\"female\",\"male\",\"female\",\"female\",\"female\",\"male\",\"male\",\"female\",\"female\",\"male\",\"male\",\"male\",\"male\",\"female\",\"female\",\"male\",\"female\",\"male\",\"male\",\"male\",\"female\",\"female\",\"female\",\"male\",\"female\",\"female\",\"female\",\"female\",\"female\",\"female\",\"male\",\"male\",\"male\",\"female\",\"female\",\"female\",\"female\",\"female\",\"male\",\"female\",\"female\",\"male\",\"male\",\"male\",\"female\",\"female\",\"male\",\"male\",\"female\",\"male\",\"female\",\"female\",\"female\",\"female\",\"female\",\"female\",\"female\",\"female\",\"female\",\"male\",\"male\",\"female\",\"female\",\"male\",\"female\",\"male\",\"male\",\"female\",\"male\",\"female\",\"male\",\"male\",\"male\",\"male\",\"male\",\"female\",\"male\",\"female\",\"male\",\"female\",\"male\",\"female\",\"female\",\"male\",\"male\",\"female\",\"male\",\"female\",\"male\",\"female\"],\"xaxis\":\"x\",\"y\":[74,93,78,92,39,50,73,28,70,55,61,57,65,66,57,61,56,38,50,45,92,62,67,47,70,72,82,92,86,67,41,75,66,60,87,74,52,78,78,58,62,45,66,55,76,68,76,66,75,70,56,73,73,83,51,68,62,70,78,76,57,46,82,82,76,60,64,67,80,57,69,51,81,66,27,74,57,69,70,59,78,83,63,57,63,77,67,34,76,42,72,68,45,91,68,54,57,68,68,92,80,54,62,94,79,68,88,50,70,46,45,47,70,89,58,15,65,56,63,65,81,81,79,60,81,55,79,67,87,66,60,54,68,72,64,74,87,88,41,80,73,47,86,77,63,72,60,49,72,60,55,70,84,82,44,32,60,51,87,51,87,68,82,53,89,45,53,36,76,96,65,46,41,47,78,71,27,79,51,55,91,65,61,80,52,80,60,23,86,78],\"yaxis\":\"y\",\"type\":\"histogram\"},{\"alignmentgroup\":\"True\",\"bingroup\":\"x\",\"histfunc\":\"avg\",\"hovertemplate\":\"race\\u002fethnicity=group C\\u003cbr\\u003egender=%{x}\\u003cbr\\u003eavg of writing score=%{y}\\u003cextra\\u003e\\u003c\\u002fextra\\u003e\",\"legendgroup\":\"group C\",\"marker\":{\"color\":\"#EF553B\",\"pattern\":{\"shape\":\"\"}},\"name\":\"group C\",\"offsetgroup\":\"group C\",\"orientation\":\"v\",\"showlegend\":true,\"x\":[\"female\",\"male\",\"male\",\"female\",\"male\",\"male\",\"female\",\"female\",\"female\",\"male\",\"male\",\"female\",\"female\",\"male\",\"male\",\"female\",\"female\",\"female\",\"female\",\"female\",\"female\",\"male\",\"male\",\"female\",\"female\",\"female\",\"male\",\"male\",\"male\",\"male\",\"male\",\"female\",\"male\",\"male\",\"female\",\"female\",\"female\",\"male\",\"female\",\"male\",\"female\",\"female\",\"female\",\"male\",\"female\",\"male\",\"female\",\"male\",\"female\",\"female\",\"female\",\"female\",\"female\",\"male\",\"female\",\"male\",\"male\",\"female\",\"female\",\"male\",\"female\",\"male\",\"male\",\"male\",\"female\",\"male\",\"female\",\"female\",\"female\",\"female\",\"male\",\"male\",\"male\",\"male\",\"male\",\"female\",\"male\",\"female\",\"female\",\"male\",\"female\",\"female\",\"male\",\"male\",\"male\",\"female\",\"female\",\"male\",\"male\",\"male\",\"female\",\"female\",\"male\",\"female\",\"female\",\"male\",\"male\",\"female\",\"female\",\"female\",\"female\",\"female\",\"male\",\"male\",\"male\",\"male\",\"female\",\"male\",\"male\",\"female\",\"female\",\"female\",\"female\",\"female\",\"female\",\"female\",\"female\",\"male\",\"male\",\"male\",\"female\",\"male\",\"male\",\"female\",\"male\",\"female\",\"female\",\"female\",\"female\",\"female\",\"female\",\"male\",\"male\",\"female\",\"female\",\"male\",\"male\",\"male\",\"male\",\"female\",\"male\",\"male\",\"male\",\"male\",\"female\",\"female\",\"male\",\"female\",\"female\",\"male\",\"female\",\"male\",\"male\",\"female\",\"female\",\"male\",\"female\",\"female\",\"female\",\"male\",\"male\",\"female\",\"female\",\"female\",\"female\",\"female\",\"male\",\"male\",\"female\",\"female\",\"female\",\"male\",\"male\",\"male\",\"female\",\"female\",\"female\",\"female\",\"female\",\"male\",\"male\",\"female\",\"male\",\"female\",\"male\",\"male\",\"female\",\"female\",\"male\",\"female\",\"male\",\"female\",\"female\",\"female\",\"female\",\"female\",\"male\",\"female\",\"female\",\"female\",\"male\",\"female\",\"female\",\"female\",\"male\",\"female\",\"female\",\"male\",\"female\",\"male\",\"female\",\"female\",\"male\",\"male\",\"male\",\"male\",\"female\",\"female\",\"female\",\"male\",\"female\",\"female\",\"female\",\"female\",\"female\",\"female\",\"female\",\"female\",\"female\",\"male\",\"male\",\"male\",\"male\",\"female\",\"female\",\"female\",\"male\",\"male\",\"female\",\"male\",\"male\",\"male\",\"female\",\"female\",\"male\",\"female\",\"male\",\"female\",\"male\",\"female\",\"female\",\"female\",\"female\",\"female\",\"male\",\"male\",\"female\",\"female\",\"male\",\"male\",\"female\",\"male\",\"female\",\"female\",\"female\",\"female\",\"male\",\"female\",\"female\",\"female\",\"female\",\"female\",\"male\",\"male\",\"female\",\"male\",\"male\",\"female\",\"male\",\"female\",\"female\",\"male\",\"male\",\"male\",\"female\",\"female\",\"male\",\"male\",\"male\",\"female\",\"male\",\"female\",\"female\",\"female\",\"female\",\"female\",\"female\",\"female\",\"female\",\"male\",\"male\",\"male\",\"male\",\"male\",\"female\",\"male\",\"female\",\"male\",\"male\",\"female\",\"male\",\"male\",\"female\",\"male\",\"female\",\"female\",\"female\",\"male\",\"female\"],\"xaxis\":\"x\",\"y\":[88,75,52,78,86,46,61,73,75,65,54,68,76,82,42,87,43,10,71,74,57,56,41,82,88,74,36,71,50,82,90,72,49,74,65,89,93,40,84,48,67,64,33,66,88,49,100,51,70,70,54,87,77,75,66,49,65,87,85,65,86,69,42,27,60,56,39,62,71,94,42,84,80,71,53,68,77,81,77,78,51,81,61,42,73,93,80,68,57,50,81,83,44,69,75,65,78,84,80,53,43,94,62,77,61,35,95,43,52,63,75,95,80,57,70,69,58,58,53,61,70,95,71,67,56,77,95,67,62,68,79,68,67,93,62,86,65,54,59,70,55,66,53,51,79,77,80,85,74,49,62,47,55,91,91,76,90,74,84,61,71,74,70,90,90,52,54,77,87,85,84,50,49,60,43,70,73,53,83,58,68,79,64,64,69,65,33,79,66,74,92,56,64,76,62,65,54,99,72,30,62,82,54,66,91,74,72,68,54,52,55,85,53,64,73,63,67,60,71,61,68,76,84,76,44,53,81,56,90,59,52,90,72,99,74,70,42,37,94,59,84,55,82,72,68,59,75,85,53,64,77,79,43,62,79,61,61,57,68,73,78,69,67,83,88,52,58,70,76,89,74,73,51,85,68,67,55,81,72,53,80,91,52,51,76,61,66,54,66,80,59,74,72,66,66,52,80,46,51,70,74,90,72,64,58,54,69,81,71,75,60,69,77,58,94,82,51,55,65],\"yaxis\":\"y\",\"type\":\"histogram\"},{\"alignmentgroup\":\"True\",\"bingroup\":\"x\",\"histfunc\":\"avg\",\"hovertemplate\":\"race\\u002fethnicity=group A\\u003cbr\\u003egender=%{x}\\u003cbr\\u003eavg of writing score=%{y}\\u003cextra\\u003e\\u003c\\u002fextra\\u003e\",\"legendgroup\":\"group A\",\"marker\":{\"color\":\"#00cc96\",\"pattern\":{\"shape\":\"\"}},\"name\":\"group A\",\"offsetgroup\":\"group A\",\"orientation\":\"v\",\"showlegend\":true,\"x\":[\"male\",\"male\",\"female\",\"male\",\"female\",\"male\",\"male\",\"female\",\"male\",\"male\",\"female\",\"male\",\"female\",\"male\",\"male\",\"male\",\"male\",\"male\",\"male\",\"male\",\"male\",\"male\",\"male\",\"male\",\"male\",\"female\",\"female\",\"male\",\"female\",\"male\",\"male\",\"female\",\"female\",\"male\",\"female\",\"female\",\"male\",\"male\",\"male\",\"female\",\"male\",\"male\",\"female\",\"male\",\"male\",\"male\",\"female\",\"male\",\"male\",\"male\",\"female\",\"female\",\"male\",\"male\",\"female\",\"male\",\"male\",\"female\",\"female\",\"male\",\"female\",\"male\",\"male\",\"male\",\"female\",\"male\",\"female\",\"male\",\"male\",\"male\",\"female\",\"female\",\"female\",\"male\",\"female\",\"female\",\"female\",\"female\",\"female\",\"male\",\"male\",\"female\",\"male\",\"female\",\"female\",\"female\",\"male\",\"female\",\"male\"],\"xaxis\":\"x\",\"y\":[44,70,58,72,62,34,55,48,81,54,67,47,51,47,69,68,74,64,49,43,81,69,19,61,60,58,77,62,43,41,43,55,80,53,50,69,73,62,65,85,46,82,76,66,43,86,97,92,53,52,73,65,50,48,93,86,64,76,74,44,70,87,65,43,56,57,82,74,36,49,64,92,57,58,79,63,73,41,82,53,61,64,64,60,67,91,54,45,62],\"yaxis\":\"y\",\"type\":\"histogram\"},{\"alignmentgroup\":\"True\",\"bingroup\":\"x\",\"histfunc\":\"avg\",\"hovertemplate\":\"race\\u002fethnicity=group D\\u003cbr\\u003egender=%{x}\\u003cbr\\u003eavg of writing score=%{y}\\u003cextra\\u003e\\u003c\\u002fextra\\u003e\",\"legendgroup\":\"group D\",\"marker\":{\"color\":\"#ab63fa\",\"pattern\":{\"shape\":\"\"}},\"name\":\"group D\",\"offsetgroup\":\"group D\",\"orientation\":\"v\",\"showlegend\":true,\"x\":[\"male\",\"male\",\"male\",\"male\",\"male\",\"female\",\"female\",\"male\",\"female\",\"female\",\"female\",\"female\",\"male\",\"male\",\"male\",\"female\",\"male\",\"female\",\"male\",\"female\",\"male\",\"female\",\"female\",\"female\",\"female\",\"male\",\"female\",\"female\",\"female\",\"female\",\"female\",\"female\",\"male\",\"male\",\"male\",\"male\",\"male\",\"male\",\"female\",\"male\",\"female\",\"male\",\"male\",\"male\",\"female\",\"female\",\"female\",\"male\",\"male\",\"male\",\"male\",\"female\",\"male\",\"male\",\"female\",\"male\",\"male\",\"male\",\"male\",\"male\",\"female\",\"male\",\"female\",\"male\",\"female\",\"male\",\"male\",\"male\",\"male\",\"female\",\"female\",\"female\",\"female\",\"male\",\"male\",\"female\",\"female\",\"male\",\"male\",\"male\",\"male\",\"female\",\"male\",\"female\",\"female\",\"male\",\"female\",\"male\",\"male\",\"male\",\"male\",\"female\",\"female\",\"female\",\"male\",\"female\",\"female\",\"female\",\"female\",\"female\",\"male\",\"female\",\"male\",\"female\",\"female\",\"male\",\"female\",\"male\",\"male\",\"female\",\"female\",\"male\",\"male\",\"male\",\"female\",\"male\",\"female\",\"male\",\"female\",\"female\",\"female\",\"male\",\"female\",\"female\",\"male\",\"male\",\"female\",\"female\",\"female\",\"male\",\"male\",\"female\",\"female\",\"male\",\"male\",\"female\",\"female\",\"male\",\"female\",\"female\",\"male\",\"male\",\"female\",\"female\",\"female\",\"male\",\"female\",\"female\",\"female\",\"female\",\"female\",\"female\",\"female\",\"female\",\"male\",\"male\",\"male\",\"male\",\"male\",\"male\",\"male\",\"male\",\"male\",\"male\",\"female\",\"female\",\"male\",\"female\",\"female\",\"female\",\"female\",\"male\",\"female\",\"male\",\"female\",\"male\",\"male\",\"male\",\"female\",\"male\",\"male\",\"female\",\"male\",\"female\",\"female\",\"female\",\"female\",\"male\",\"male\",\"female\",\"female\",\"male\",\"male\",\"female\",\"male\",\"male\",\"male\",\"male\",\"male\",\"male\",\"male\",\"female\",\"female\",\"male\",\"male\",\"female\",\"male\",\"female\",\"female\",\"male\",\"male\",\"female\",\"male\",\"female\",\"female\",\"female\",\"female\",\"male\",\"male\",\"male\",\"male\",\"male\",\"female\",\"female\",\"male\",\"female\",\"male\",\"male\",\"male\",\"female\",\"male\",\"female\",\"female\",\"male\",\"female\",\"male\",\"male\",\"male\",\"male\",\"female\",\"male\",\"male\",\"male\",\"male\",\"male\",\"female\",\"female\",\"female\",\"female\",\"female\",\"female\",\"male\",\"female\",\"female\",\"female\",\"male\",\"male\",\"female\",\"female\",\"female\",\"female\",\"female\"],\"xaxis\":\"x\",\"y\":[67,43,63,53,80,75,74,38,83,59,88,76,75,49,58,59,37,73,63,72,34,74,82,62,62,74,89,100,98,54,79,61,56,74,74,82,75,69,71,78,81,47,61,64,81,100,70,68,79,62,52,77,78,79,74,75,54,66,77,67,74,66,55,69,83,72,52,68,41,77,95,58,71,42,46,84,78,70,80,75,52,52,68,91,63,69,60,67,67,66,61,89,32,85,72,96,73,82,100,64,75,77,54,100,56,85,74,60,62,64,67,64,73,82,80,60,89,48,38,61,83,72,70,56,56,66,76,82,54,73,52,84,78,52,57,47,62,80,89,66,64,62,79,80,78,67,68,96,78,80,77,73,81,63,51,90,63,83,84,99,46,46,70,80,88,73,51,90,65,81,98,61,58,85,69,63,77,50,78,78,60,74,73,73,86,79,67,36,79,58,99,84,59,84,44,73,72,74,71,68,52,65,54,86,59,75,74,57,70,69,70,75,76,93,81,46,64,50,69,38,88,84,80,74,44,74,48,75,63,82,89,100,84,77,91,48,67,66,69,71,62,73,58,85,69,96,60,83,100,59,53,58,72,100,61,48,78,83,76,74,77,86],\"yaxis\":\"y\",\"type\":\"histogram\"},{\"alignmentgroup\":\"True\",\"bingroup\":\"x\",\"histfunc\":\"avg\",\"hovertemplate\":\"race\\u002fethnicity=group E\\u003cbr\\u003egender=%{x}\\u003cbr\\u003eavg of writing score=%{y}\\u003cextra\\u003e\\u003c\\u002fextra\\u003e\",\"legendgroup\":\"group E\",\"marker\":{\"color\":\"#FFA15A\",\"pattern\":{\"shape\":\"\"}},\"name\":\"group E\",\"offsetgroup\":\"group E\",\"orientation\":\"v\",\"showlegend\":true,\"x\":[\"female\",\"male\",\"male\",\"female\",\"male\",\"male\",\"female\",\"male\",\"male\",\"female\",\"male\",\"female\",\"male\",\"female\",\"male\",\"male\",\"male\",\"female\",\"male\",\"female\",\"female\",\"female\",\"male\",\"female\",\"male\",\"female\",\"male\",\"male\",\"male\",\"male\",\"female\",\"female\",\"male\",\"female\",\"male\",\"male\",\"female\",\"female\",\"female\",\"female\",\"male\",\"male\",\"female\",\"male\",\"male\",\"female\",\"male\",\"male\",\"male\",\"male\",\"male\",\"female\",\"female\",\"female\",\"male\",\"male\",\"male\",\"male\",\"male\",\"female\",\"female\",\"female\",\"male\",\"male\",\"male\",\"female\",\"female\",\"male\",\"male\",\"female\",\"male\",\"male\",\"male\",\"female\",\"female\",\"female\",\"male\",\"female\",\"female\",\"female\",\"female\",\"female\",\"male\",\"female\",\"female\",\"female\",\"female\",\"male\",\"male\",\"female\",\"female\",\"female\",\"male\",\"male\",\"female\",\"male\",\"female\",\"male\",\"female\",\"male\",\"male\",\"female\",\"male\",\"female\",\"female\",\"male\",\"female\",\"female\",\"male\",\"male\",\"male\",\"male\",\"female\",\"male\",\"female\",\"male\",\"male\",\"female\",\"female\",\"female\",\"female\",\"female\",\"female\",\"female\",\"male\",\"female\",\"male\",\"male\",\"male\",\"male\",\"female\",\"female\",\"male\",\"female\",\"male\",\"female\",\"female\",\"male\",\"male\",\"female\"],\"xaxis\":\"x\",\"y\":[65,82,79,54,48,68,86,72,22,68,63,70,64,100,73,70,56,54,93,78,85,91,78,47,65,69,51,62,76,81,88,54,78,83,43,74,70,90,70,75,88,77,75,68,81,79,53,76,52,71,41,45,75,70,59,67,78,69,54,97,100,76,66,67,72,92,73,59,58,94,71,80,40,100,71,80,64,73,80,62,38,62,74,80,68,76,100,68,83,78,82,85,80,71,77,57,57,65,92,72,82,77,77,73,81,54,95,40,76,51,57,84,93,61,87,72,82,70,54,95,91,85,69,38,70,66,100,60,52,44,57,73,71,72,62,100,67,76,75,95],\"yaxis\":\"y\",\"type\":\"histogram\"}],                        {\"template\":{\"data\":{\"histogram2dcontour\":[{\"type\":\"histogram2dcontour\",\"colorbar\":{\"outlinewidth\":0,\"ticks\":\"\"},\"colorscale\":[[0.0,\"#0d0887\"],[0.1111111111111111,\"#46039f\"],[0.2222222222222222,\"#7201a8\"],[0.3333333333333333,\"#9c179e\"],[0.4444444444444444,\"#bd3786\"],[0.5555555555555556,\"#d8576b\"],[0.6666666666666666,\"#ed7953\"],[0.7777777777777778,\"#fb9f3a\"],[0.8888888888888888,\"#fdca26\"],[1.0,\"#f0f921\"]]}],\"choropleth\":[{\"type\":\"choropleth\",\"colorbar\":{\"outlinewidth\":0,\"ticks\":\"\"}}],\"histogram2d\":[{\"type\":\"histogram2d\",\"colorbar\":{\"outlinewidth\":0,\"ticks\":\"\"},\"colorscale\":[[0.0,\"#0d0887\"],[0.1111111111111111,\"#46039f\"],[0.2222222222222222,\"#7201a8\"],[0.3333333333333333,\"#9c179e\"],[0.4444444444444444,\"#bd3786\"],[0.5555555555555556,\"#d8576b\"],[0.6666666666666666,\"#ed7953\"],[0.7777777777777778,\"#fb9f3a\"],[0.8888888888888888,\"#fdca26\"],[1.0,\"#f0f921\"]]}],\"heatmap\":[{\"type\":\"heatmap\",\"colorbar\":{\"outlinewidth\":0,\"ticks\":\"\"},\"colorscale\":[[0.0,\"#0d0887\"],[0.1111111111111111,\"#46039f\"],[0.2222222222222222,\"#7201a8\"],[0.3333333333333333,\"#9c179e\"],[0.4444444444444444,\"#bd3786\"],[0.5555555555555556,\"#d8576b\"],[0.6666666666666666,\"#ed7953\"],[0.7777777777777778,\"#fb9f3a\"],[0.8888888888888888,\"#fdca26\"],[1.0,\"#f0f921\"]]}],\"heatmapgl\":[{\"type\":\"heatmapgl\",\"colorbar\":{\"outlinewidth\":0,\"ticks\":\"\"},\"colorscale\":[[0.0,\"#0d0887\"],[0.1111111111111111,\"#46039f\"],[0.2222222222222222,\"#7201a8\"],[0.3333333333333333,\"#9c179e\"],[0.4444444444444444,\"#bd3786\"],[0.5555555555555556,\"#d8576b\"],[0.6666666666666666,\"#ed7953\"],[0.7777777777777778,\"#fb9f3a\"],[0.8888888888888888,\"#fdca26\"],[1.0,\"#f0f921\"]]}],\"contourcarpet\":[{\"type\":\"contourcarpet\",\"colorbar\":{\"outlinewidth\":0,\"ticks\":\"\"}}],\"contour\":[{\"type\":\"contour\",\"colorbar\":{\"outlinewidth\":0,\"ticks\":\"\"},\"colorscale\":[[0.0,\"#0d0887\"],[0.1111111111111111,\"#46039f\"],[0.2222222222222222,\"#7201a8\"],[0.3333333333333333,\"#9c179e\"],[0.4444444444444444,\"#bd3786\"],[0.5555555555555556,\"#d8576b\"],[0.6666666666666666,\"#ed7953\"],[0.7777777777777778,\"#fb9f3a\"],[0.8888888888888888,\"#fdca26\"],[1.0,\"#f0f921\"]]}],\"surface\":[{\"type\":\"surface\",\"colorbar\":{\"outlinewidth\":0,\"ticks\":\"\"},\"colorscale\":[[0.0,\"#0d0887\"],[0.1111111111111111,\"#46039f\"],[0.2222222222222222,\"#7201a8\"],[0.3333333333333333,\"#9c179e\"],[0.4444444444444444,\"#bd3786\"],[0.5555555555555556,\"#d8576b\"],[0.6666666666666666,\"#ed7953\"],[0.7777777777777778,\"#fb9f3a\"],[0.8888888888888888,\"#fdca26\"],[1.0,\"#f0f921\"]]}],\"mesh3d\":[{\"type\":\"mesh3d\",\"colorbar\":{\"outlinewidth\":0,\"ticks\":\"\"}}],\"scatter\":[{\"fillpattern\":{\"fillmode\":\"overlay\",\"size\":10,\"solidity\":0.2},\"type\":\"scatter\"}],\"parcoords\":[{\"type\":\"parcoords\",\"line\":{\"colorbar\":{\"outlinewidth\":0,\"ticks\":\"\"}}}],\"scatterpolargl\":[{\"type\":\"scatterpolargl\",\"marker\":{\"colorbar\":{\"outlinewidth\":0,\"ticks\":\"\"}}}],\"bar\":[{\"error_x\":{\"color\":\"#2a3f5f\"},\"error_y\":{\"color\":\"#2a3f5f\"},\"marker\":{\"line\":{\"color\":\"#E5ECF6\",\"width\":0.5},\"pattern\":{\"fillmode\":\"overlay\",\"size\":10,\"solidity\":0.2}},\"type\":\"bar\"}],\"scattergeo\":[{\"type\":\"scattergeo\",\"marker\":{\"colorbar\":{\"outlinewidth\":0,\"ticks\":\"\"}}}],\"scatterpolar\":[{\"type\":\"scatterpolar\",\"marker\":{\"colorbar\":{\"outlinewidth\":0,\"ticks\":\"\"}}}],\"histogram\":[{\"marker\":{\"pattern\":{\"fillmode\":\"overlay\",\"size\":10,\"solidity\":0.2}},\"type\":\"histogram\"}],\"scattergl\":[{\"type\":\"scattergl\",\"marker\":{\"colorbar\":{\"outlinewidth\":0,\"ticks\":\"\"}}}],\"scatter3d\":[{\"type\":\"scatter3d\",\"line\":{\"colorbar\":{\"outlinewidth\":0,\"ticks\":\"\"}},\"marker\":{\"colorbar\":{\"outlinewidth\":0,\"ticks\":\"\"}}}],\"scattermapbox\":[{\"type\":\"scattermapbox\",\"marker\":{\"colorbar\":{\"outlinewidth\":0,\"ticks\":\"\"}}}],\"scatterternary\":[{\"type\":\"scatterternary\",\"marker\":{\"colorbar\":{\"outlinewidth\":0,\"ticks\":\"\"}}}],\"scattercarpet\":[{\"type\":\"scattercarpet\",\"marker\":{\"colorbar\":{\"outlinewidth\":0,\"ticks\":\"\"}}}],\"carpet\":[{\"aaxis\":{\"endlinecolor\":\"#2a3f5f\",\"gridcolor\":\"white\",\"linecolor\":\"white\",\"minorgridcolor\":\"white\",\"startlinecolor\":\"#2a3f5f\"},\"baxis\":{\"endlinecolor\":\"#2a3f5f\",\"gridcolor\":\"white\",\"linecolor\":\"white\",\"minorgridcolor\":\"white\",\"startlinecolor\":\"#2a3f5f\"},\"type\":\"carpet\"}],\"table\":[{\"cells\":{\"fill\":{\"color\":\"#EBF0F8\"},\"line\":{\"color\":\"white\"}},\"header\":{\"fill\":{\"color\":\"#C8D4E3\"},\"line\":{\"color\":\"white\"}},\"type\":\"table\"}],\"barpolar\":[{\"marker\":{\"line\":{\"color\":\"#E5ECF6\",\"width\":0.5},\"pattern\":{\"fillmode\":\"overlay\",\"size\":10,\"solidity\":0.2}},\"type\":\"barpolar\"}],\"pie\":[{\"automargin\":true,\"type\":\"pie\"}]},\"layout\":{\"autotypenumbers\":\"strict\",\"colorway\":[\"#636efa\",\"#EF553B\",\"#00cc96\",\"#ab63fa\",\"#FFA15A\",\"#19d3f3\",\"#FF6692\",\"#B6E880\",\"#FF97FF\",\"#FECB52\"],\"font\":{\"color\":\"#2a3f5f\"},\"hovermode\":\"closest\",\"hoverlabel\":{\"align\":\"left\"},\"paper_bgcolor\":\"white\",\"plot_bgcolor\":\"#E5ECF6\",\"polar\":{\"bgcolor\":\"#E5ECF6\",\"angularaxis\":{\"gridcolor\":\"white\",\"linecolor\":\"white\",\"ticks\":\"\"},\"radialaxis\":{\"gridcolor\":\"white\",\"linecolor\":\"white\",\"ticks\":\"\"}},\"ternary\":{\"bgcolor\":\"#E5ECF6\",\"aaxis\":{\"gridcolor\":\"white\",\"linecolor\":\"white\",\"ticks\":\"\"},\"baxis\":{\"gridcolor\":\"white\",\"linecolor\":\"white\",\"ticks\":\"\"},\"caxis\":{\"gridcolor\":\"white\",\"linecolor\":\"white\",\"ticks\":\"\"}},\"coloraxis\":{\"colorbar\":{\"outlinewidth\":0,\"ticks\":\"\"}},\"colorscale\":{\"sequential\":[[0.0,\"#0d0887\"],[0.1111111111111111,\"#46039f\"],[0.2222222222222222,\"#7201a8\"],[0.3333333333333333,\"#9c179e\"],[0.4444444444444444,\"#bd3786\"],[0.5555555555555556,\"#d8576b\"],[0.6666666666666666,\"#ed7953\"],[0.7777777777777778,\"#fb9f3a\"],[0.8888888888888888,\"#fdca26\"],[1.0,\"#f0f921\"]],\"sequentialminus\":[[0.0,\"#0d0887\"],[0.1111111111111111,\"#46039f\"],[0.2222222222222222,\"#7201a8\"],[0.3333333333333333,\"#9c179e\"],[0.4444444444444444,\"#bd3786\"],[0.5555555555555556,\"#d8576b\"],[0.6666666666666666,\"#ed7953\"],[0.7777777777777778,\"#fb9f3a\"],[0.8888888888888888,\"#fdca26\"],[1.0,\"#f0f921\"]],\"diverging\":[[0,\"#8e0152\"],[0.1,\"#c51b7d\"],[0.2,\"#de77ae\"],[0.3,\"#f1b6da\"],[0.4,\"#fde0ef\"],[0.5,\"#f7f7f7\"],[0.6,\"#e6f5d0\"],[0.7,\"#b8e186\"],[0.8,\"#7fbc41\"],[0.9,\"#4d9221\"],[1,\"#276419\"]]},\"xaxis\":{\"gridcolor\":\"white\",\"linecolor\":\"white\",\"ticks\":\"\",\"title\":{\"standoff\":15},\"zerolinecolor\":\"white\",\"automargin\":true,\"zerolinewidth\":2},\"yaxis\":{\"gridcolor\":\"white\",\"linecolor\":\"white\",\"ticks\":\"\",\"title\":{\"standoff\":15},\"zerolinecolor\":\"white\",\"automargin\":true,\"zerolinewidth\":2},\"scene\":{\"xaxis\":{\"backgroundcolor\":\"#E5ECF6\",\"gridcolor\":\"white\",\"linecolor\":\"white\",\"showbackground\":true,\"ticks\":\"\",\"zerolinecolor\":\"white\",\"gridwidth\":2},\"yaxis\":{\"backgroundcolor\":\"#E5ECF6\",\"gridcolor\":\"white\",\"linecolor\":\"white\",\"showbackground\":true,\"ticks\":\"\",\"zerolinecolor\":\"white\",\"gridwidth\":2},\"zaxis\":{\"backgroundcolor\":\"#E5ECF6\",\"gridcolor\":\"white\",\"linecolor\":\"white\",\"showbackground\":true,\"ticks\":\"\",\"zerolinecolor\":\"white\",\"gridwidth\":2}},\"shapedefaults\":{\"line\":{\"color\":\"#2a3f5f\"}},\"annotationdefaults\":{\"arrowcolor\":\"#2a3f5f\",\"arrowhead\":0,\"arrowwidth\":1},\"geo\":{\"bgcolor\":\"white\",\"landcolor\":\"#E5ECF6\",\"subunitcolor\":\"white\",\"showland\":true,\"showlakes\":true,\"lakecolor\":\"white\"},\"title\":{\"x\":0.05},\"mapbox\":{\"style\":\"light\"}}},\"xaxis\":{\"anchor\":\"y\",\"domain\":[0.0,1.0],\"title\":{\"text\":\"gender\"}},\"yaxis\":{\"anchor\":\"x\",\"domain\":[0.0,1.0],\"title\":{\"text\":\"avg of writing score\"}},\"legend\":{\"title\":{\"text\":\"race\\u002fethnicity\"},\"tracegroupgap\":0},\"title\":{\"text\":\"Average Writing Scores\"},\"barmode\":\"group\"},                        {\"responsive\": true}                    ).then(function(){\n",
              "                            \n",
              "var gd = document.getElementById('832e2a7f-9127-4efa-a6d3-8f131c5c855e');\n",
              "var x = new MutationObserver(function (mutations, observer) {{\n",
              "        var display = window.getComputedStyle(gd).display;\n",
              "        if (!display || display === 'none') {{\n",
              "            console.log([gd, 'removed!']);\n",
              "            Plotly.purge(gd);\n",
              "            observer.disconnect();\n",
              "        }}\n",
              "}});\n",
              "\n",
              "// Listen for the removal of the full notebook cells\n",
              "var notebookContainer = gd.closest('#notebook-container');\n",
              "if (notebookContainer) {{\n",
              "    x.observe(notebookContainer, {childList: true});\n",
              "}}\n",
              "\n",
              "// Listen for the clearing of the current output cell\n",
              "var outputEl = gd.closest('.output');\n",
              "if (outputEl) {{\n",
              "    x.observe(outputEl, {childList: true});\n",
              "}}\n",
              "\n",
              "                        })                };                            </script>        </div>\n",
              "</body>\n",
              "</html>"
            ]
          },
          "metadata": {}
        }
      ]
    },
    {
      "cell_type": "markdown",
      "source": [
        "This shows us a much more detailed breakdown of the scores (again, averages, but only one level of average).  It shows that, slightly, generally female samples have higher reading and writing scores, but male samples have higher math scores.  It also shows us that the average scores of the ethnicity groups aren't quite as clear-cut as the average scores histogram may imply."
      ],
      "metadata": {
        "id": "RUGqVA8Wvfh8"
      }
    },
    {
      "cell_type": "markdown",
      "source": [
        "Now let's do one more!  It's probably time to involve the other categories, and parental level of education is much more interesting (to me).  Also we've done a lot of histograms, so let's do something different."
      ],
      "metadata": {
        "id": "NEZNFsO7v3Hv"
      }
    },
    {
      "cell_type": "code",
      "source": [
        "# First, let's get all the different parental levels\n",
        "data_clean['parental level of education'].unique()"
      ],
      "metadata": {
        "colab": {
          "base_uri": "https://localhost:8080/"
        },
        "id": "tmjNTe2gwDYO",
        "outputId": "3317049e-9a7d-417a-e508-a13239270335"
      },
      "execution_count": 14,
      "outputs": [
        {
          "output_type": "execute_result",
          "data": {
            "text/plain": [
              "array([\"bachelor's degree\", 'some college', \"master's degree\",\n",
              "       \"associate's degree\", 'high school', 'some high school'],\n",
              "      dtype=object)"
            ]
          },
          "metadata": {},
          "execution_count": 14
        }
      ]
    },
    {
      "cell_type": "code",
      "source": [
        "# Then, let's manually make an array ordering these in ascending order, because pandas/plotly aren't smart enough to know that \"master's degree\" is > \"some high school\"\n",
        "parental_degrees = ['some high school', 'high school', 'some college', \"associate's degree\", \"bachelor's degree\", \"master's degree\"]\n",
        "\n",
        "# Now that we have these in some order, we can do a line plot!\n",
        "#Define the line figure\n",
        "line_fig = px.line(data_clean, x=parental_degrees, y=data_clean.groupby('parental level of education')['average score'].mean(), title='Average Scores vs Parental Level of Education')\n",
        "\n",
        "# So that we don't forget these later\n",
        "fig_list.update({'line_fig':line_fig})\n",
        "\n",
        "# Show the figure\n",
        "line_fig.show()"
      ],
      "metadata": {
        "colab": {
          "base_uri": "https://localhost:8080/",
          "height": 542
        },
        "id": "6YLL6ax0wZqC",
        "outputId": "2a68c16f-12bd-4b59-db43-9b70b1bf942b"
      },
      "execution_count": 30,
      "outputs": [
        {
          "output_type": "display_data",
          "data": {
            "text/html": [
              "<html>\n",
              "<head><meta charset=\"utf-8\" /></head>\n",
              "<body>\n",
              "    <div>            <script src=\"https://cdnjs.cloudflare.com/ajax/libs/mathjax/2.7.5/MathJax.js?config=TeX-AMS-MML_SVG\"></script><script type=\"text/javascript\">if (window.MathJax && window.MathJax.Hub && window.MathJax.Hub.Config) {window.MathJax.Hub.Config({SVG: {font: \"STIX-Web\"}});}</script>                <script type=\"text/javascript\">window.PlotlyConfig = {MathJaxConfig: 'local'};</script>\n",
              "        <script charset=\"utf-8\" src=\"https://cdn.plot.ly/plotly-2.24.1.min.js\"></script>                <div id=\"8557f688-3bf3-40f8-b520-8d4cd2bc4c3b\" class=\"plotly-graph-div\" style=\"height:525px; width:100%;\"></div>            <script type=\"text/javascript\">                                    window.PLOTLYENV=window.PLOTLYENV || {};                                    if (document.getElementById(\"8557f688-3bf3-40f8-b520-8d4cd2bc4c3b\")) {                    Plotly.newPlot(                        \"8557f688-3bf3-40f8-b520-8d4cd2bc4c3b\",                        [{\"hovertemplate\":\"x=%{x}\\u003cbr\\u003ey=%{y}\\u003cextra\\u003e\\u003c\\u002fextra\\u003e\",\"legendgroup\":\"\",\"line\":{\"color\":\"#636efa\",\"dash\":\"solid\"},\"marker\":{\"symbol\":\"circle\"},\"mode\":\"lines\",\"name\":\"\",\"orientation\":\"v\",\"showlegend\":false,\"x\":[\"some high school\",\"high school\",\"some college\",\"associate's degree\",\"bachelor's degree\",\"master's degree\"],\"xaxis\":\"x\",\"y\":[69.56906906906907,71.92372881355932,63.0969387755102,73.59887005649718,68.476401179941,65.10800744878958],\"yaxis\":\"y\",\"type\":\"scatter\"}],                        {\"template\":{\"data\":{\"histogram2dcontour\":[{\"type\":\"histogram2dcontour\",\"colorbar\":{\"outlinewidth\":0,\"ticks\":\"\"},\"colorscale\":[[0.0,\"#0d0887\"],[0.1111111111111111,\"#46039f\"],[0.2222222222222222,\"#7201a8\"],[0.3333333333333333,\"#9c179e\"],[0.4444444444444444,\"#bd3786\"],[0.5555555555555556,\"#d8576b\"],[0.6666666666666666,\"#ed7953\"],[0.7777777777777778,\"#fb9f3a\"],[0.8888888888888888,\"#fdca26\"],[1.0,\"#f0f921\"]]}],\"choropleth\":[{\"type\":\"choropleth\",\"colorbar\":{\"outlinewidth\":0,\"ticks\":\"\"}}],\"histogram2d\":[{\"type\":\"histogram2d\",\"colorbar\":{\"outlinewidth\":0,\"ticks\":\"\"},\"colorscale\":[[0.0,\"#0d0887\"],[0.1111111111111111,\"#46039f\"],[0.2222222222222222,\"#7201a8\"],[0.3333333333333333,\"#9c179e\"],[0.4444444444444444,\"#bd3786\"],[0.5555555555555556,\"#d8576b\"],[0.6666666666666666,\"#ed7953\"],[0.7777777777777778,\"#fb9f3a\"],[0.8888888888888888,\"#fdca26\"],[1.0,\"#f0f921\"]]}],\"heatmap\":[{\"type\":\"heatmap\",\"colorbar\":{\"outlinewidth\":0,\"ticks\":\"\"},\"colorscale\":[[0.0,\"#0d0887\"],[0.1111111111111111,\"#46039f\"],[0.2222222222222222,\"#7201a8\"],[0.3333333333333333,\"#9c179e\"],[0.4444444444444444,\"#bd3786\"],[0.5555555555555556,\"#d8576b\"],[0.6666666666666666,\"#ed7953\"],[0.7777777777777778,\"#fb9f3a\"],[0.8888888888888888,\"#fdca26\"],[1.0,\"#f0f921\"]]}],\"heatmapgl\":[{\"type\":\"heatmapgl\",\"colorbar\":{\"outlinewidth\":0,\"ticks\":\"\"},\"colorscale\":[[0.0,\"#0d0887\"],[0.1111111111111111,\"#46039f\"],[0.2222222222222222,\"#7201a8\"],[0.3333333333333333,\"#9c179e\"],[0.4444444444444444,\"#bd3786\"],[0.5555555555555556,\"#d8576b\"],[0.6666666666666666,\"#ed7953\"],[0.7777777777777778,\"#fb9f3a\"],[0.8888888888888888,\"#fdca26\"],[1.0,\"#f0f921\"]]}],\"contourcarpet\":[{\"type\":\"contourcarpet\",\"colorbar\":{\"outlinewidth\":0,\"ticks\":\"\"}}],\"contour\":[{\"type\":\"contour\",\"colorbar\":{\"outlinewidth\":0,\"ticks\":\"\"},\"colorscale\":[[0.0,\"#0d0887\"],[0.1111111111111111,\"#46039f\"],[0.2222222222222222,\"#7201a8\"],[0.3333333333333333,\"#9c179e\"],[0.4444444444444444,\"#bd3786\"],[0.5555555555555556,\"#d8576b\"],[0.6666666666666666,\"#ed7953\"],[0.7777777777777778,\"#fb9f3a\"],[0.8888888888888888,\"#fdca26\"],[1.0,\"#f0f921\"]]}],\"surface\":[{\"type\":\"surface\",\"colorbar\":{\"outlinewidth\":0,\"ticks\":\"\"},\"colorscale\":[[0.0,\"#0d0887\"],[0.1111111111111111,\"#46039f\"],[0.2222222222222222,\"#7201a8\"],[0.3333333333333333,\"#9c179e\"],[0.4444444444444444,\"#bd3786\"],[0.5555555555555556,\"#d8576b\"],[0.6666666666666666,\"#ed7953\"],[0.7777777777777778,\"#fb9f3a\"],[0.8888888888888888,\"#fdca26\"],[1.0,\"#f0f921\"]]}],\"mesh3d\":[{\"type\":\"mesh3d\",\"colorbar\":{\"outlinewidth\":0,\"ticks\":\"\"}}],\"scatter\":[{\"fillpattern\":{\"fillmode\":\"overlay\",\"size\":10,\"solidity\":0.2},\"type\":\"scatter\"}],\"parcoords\":[{\"type\":\"parcoords\",\"line\":{\"colorbar\":{\"outlinewidth\":0,\"ticks\":\"\"}}}],\"scatterpolargl\":[{\"type\":\"scatterpolargl\",\"marker\":{\"colorbar\":{\"outlinewidth\":0,\"ticks\":\"\"}}}],\"bar\":[{\"error_x\":{\"color\":\"#2a3f5f\"},\"error_y\":{\"color\":\"#2a3f5f\"},\"marker\":{\"line\":{\"color\":\"#E5ECF6\",\"width\":0.5},\"pattern\":{\"fillmode\":\"overlay\",\"size\":10,\"solidity\":0.2}},\"type\":\"bar\"}],\"scattergeo\":[{\"type\":\"scattergeo\",\"marker\":{\"colorbar\":{\"outlinewidth\":0,\"ticks\":\"\"}}}],\"scatterpolar\":[{\"type\":\"scatterpolar\",\"marker\":{\"colorbar\":{\"outlinewidth\":0,\"ticks\":\"\"}}}],\"histogram\":[{\"marker\":{\"pattern\":{\"fillmode\":\"overlay\",\"size\":10,\"solidity\":0.2}},\"type\":\"histogram\"}],\"scattergl\":[{\"type\":\"scattergl\",\"marker\":{\"colorbar\":{\"outlinewidth\":0,\"ticks\":\"\"}}}],\"scatter3d\":[{\"type\":\"scatter3d\",\"line\":{\"colorbar\":{\"outlinewidth\":0,\"ticks\":\"\"}},\"marker\":{\"colorbar\":{\"outlinewidth\":0,\"ticks\":\"\"}}}],\"scattermapbox\":[{\"type\":\"scattermapbox\",\"marker\":{\"colorbar\":{\"outlinewidth\":0,\"ticks\":\"\"}}}],\"scatterternary\":[{\"type\":\"scatterternary\",\"marker\":{\"colorbar\":{\"outlinewidth\":0,\"ticks\":\"\"}}}],\"scattercarpet\":[{\"type\":\"scattercarpet\",\"marker\":{\"colorbar\":{\"outlinewidth\":0,\"ticks\":\"\"}}}],\"carpet\":[{\"aaxis\":{\"endlinecolor\":\"#2a3f5f\",\"gridcolor\":\"white\",\"linecolor\":\"white\",\"minorgridcolor\":\"white\",\"startlinecolor\":\"#2a3f5f\"},\"baxis\":{\"endlinecolor\":\"#2a3f5f\",\"gridcolor\":\"white\",\"linecolor\":\"white\",\"minorgridcolor\":\"white\",\"startlinecolor\":\"#2a3f5f\"},\"type\":\"carpet\"}],\"table\":[{\"cells\":{\"fill\":{\"color\":\"#EBF0F8\"},\"line\":{\"color\":\"white\"}},\"header\":{\"fill\":{\"color\":\"#C8D4E3\"},\"line\":{\"color\":\"white\"}},\"type\":\"table\"}],\"barpolar\":[{\"marker\":{\"line\":{\"color\":\"#E5ECF6\",\"width\":0.5},\"pattern\":{\"fillmode\":\"overlay\",\"size\":10,\"solidity\":0.2}},\"type\":\"barpolar\"}],\"pie\":[{\"automargin\":true,\"type\":\"pie\"}]},\"layout\":{\"autotypenumbers\":\"strict\",\"colorway\":[\"#636efa\",\"#EF553B\",\"#00cc96\",\"#ab63fa\",\"#FFA15A\",\"#19d3f3\",\"#FF6692\",\"#B6E880\",\"#FF97FF\",\"#FECB52\"],\"font\":{\"color\":\"#2a3f5f\"},\"hovermode\":\"closest\",\"hoverlabel\":{\"align\":\"left\"},\"paper_bgcolor\":\"white\",\"plot_bgcolor\":\"#E5ECF6\",\"polar\":{\"bgcolor\":\"#E5ECF6\",\"angularaxis\":{\"gridcolor\":\"white\",\"linecolor\":\"white\",\"ticks\":\"\"},\"radialaxis\":{\"gridcolor\":\"white\",\"linecolor\":\"white\",\"ticks\":\"\"}},\"ternary\":{\"bgcolor\":\"#E5ECF6\",\"aaxis\":{\"gridcolor\":\"white\",\"linecolor\":\"white\",\"ticks\":\"\"},\"baxis\":{\"gridcolor\":\"white\",\"linecolor\":\"white\",\"ticks\":\"\"},\"caxis\":{\"gridcolor\":\"white\",\"linecolor\":\"white\",\"ticks\":\"\"}},\"coloraxis\":{\"colorbar\":{\"outlinewidth\":0,\"ticks\":\"\"}},\"colorscale\":{\"sequential\":[[0.0,\"#0d0887\"],[0.1111111111111111,\"#46039f\"],[0.2222222222222222,\"#7201a8\"],[0.3333333333333333,\"#9c179e\"],[0.4444444444444444,\"#bd3786\"],[0.5555555555555556,\"#d8576b\"],[0.6666666666666666,\"#ed7953\"],[0.7777777777777778,\"#fb9f3a\"],[0.8888888888888888,\"#fdca26\"],[1.0,\"#f0f921\"]],\"sequentialminus\":[[0.0,\"#0d0887\"],[0.1111111111111111,\"#46039f\"],[0.2222222222222222,\"#7201a8\"],[0.3333333333333333,\"#9c179e\"],[0.4444444444444444,\"#bd3786\"],[0.5555555555555556,\"#d8576b\"],[0.6666666666666666,\"#ed7953\"],[0.7777777777777778,\"#fb9f3a\"],[0.8888888888888888,\"#fdca26\"],[1.0,\"#f0f921\"]],\"diverging\":[[0,\"#8e0152\"],[0.1,\"#c51b7d\"],[0.2,\"#de77ae\"],[0.3,\"#f1b6da\"],[0.4,\"#fde0ef\"],[0.5,\"#f7f7f7\"],[0.6,\"#e6f5d0\"],[0.7,\"#b8e186\"],[0.8,\"#7fbc41\"],[0.9,\"#4d9221\"],[1,\"#276419\"]]},\"xaxis\":{\"gridcolor\":\"white\",\"linecolor\":\"white\",\"ticks\":\"\",\"title\":{\"standoff\":15},\"zerolinecolor\":\"white\",\"automargin\":true,\"zerolinewidth\":2},\"yaxis\":{\"gridcolor\":\"white\",\"linecolor\":\"white\",\"ticks\":\"\",\"title\":{\"standoff\":15},\"zerolinecolor\":\"white\",\"automargin\":true,\"zerolinewidth\":2},\"scene\":{\"xaxis\":{\"backgroundcolor\":\"#E5ECF6\",\"gridcolor\":\"white\",\"linecolor\":\"white\",\"showbackground\":true,\"ticks\":\"\",\"zerolinecolor\":\"white\",\"gridwidth\":2},\"yaxis\":{\"backgroundcolor\":\"#E5ECF6\",\"gridcolor\":\"white\",\"linecolor\":\"white\",\"showbackground\":true,\"ticks\":\"\",\"zerolinecolor\":\"white\",\"gridwidth\":2},\"zaxis\":{\"backgroundcolor\":\"#E5ECF6\",\"gridcolor\":\"white\",\"linecolor\":\"white\",\"showbackground\":true,\"ticks\":\"\",\"zerolinecolor\":\"white\",\"gridwidth\":2}},\"shapedefaults\":{\"line\":{\"color\":\"#2a3f5f\"}},\"annotationdefaults\":{\"arrowcolor\":\"#2a3f5f\",\"arrowhead\":0,\"arrowwidth\":1},\"geo\":{\"bgcolor\":\"white\",\"landcolor\":\"#E5ECF6\",\"subunitcolor\":\"white\",\"showland\":true,\"showlakes\":true,\"lakecolor\":\"white\"},\"title\":{\"x\":0.05},\"mapbox\":{\"style\":\"light\"}}},\"xaxis\":{\"anchor\":\"y\",\"domain\":[0.0,1.0],\"title\":{\"text\":\"x\"}},\"yaxis\":{\"anchor\":\"x\",\"domain\":[0.0,1.0],\"title\":{\"text\":\"y\"}},\"legend\":{\"tracegroupgap\":0},\"title\":{\"text\":\"Average Scores vs Parental Level of Education\"}},                        {\"responsive\": true}                    ).then(function(){\n",
              "                            \n",
              "var gd = document.getElementById('8557f688-3bf3-40f8-b520-8d4cd2bc4c3b');\n",
              "var x = new MutationObserver(function (mutations, observer) {{\n",
              "        var display = window.getComputedStyle(gd).display;\n",
              "        if (!display || display === 'none') {{\n",
              "            console.log([gd, 'removed!']);\n",
              "            Plotly.purge(gd);\n",
              "            observer.disconnect();\n",
              "        }}\n",
              "}});\n",
              "\n",
              "// Listen for the removal of the full notebook cells\n",
              "var notebookContainer = gd.closest('#notebook-container');\n",
              "if (notebookContainer) {{\n",
              "    x.observe(notebookContainer, {childList: true});\n",
              "}}\n",
              "\n",
              "// Listen for the clearing of the current output cell\n",
              "var outputEl = gd.closest('.output');\n",
              "if (outputEl) {{\n",
              "    x.observe(outputEl, {childList: true});\n",
              "}}\n",
              "\n",
              "                        })                };                            </script>        </div>\n",
              "</body>\n",
              "</html>"
            ]
          },
          "metadata": {}
        }
      ]
    },
    {
      "cell_type": "markdown",
      "source": [
        "While again keeping in mind that \"average score\" is being averaged (so an average of an average), this shows us something unexpected, at least to me.  I (silently) hypothesized that students whose parents had higher levels of education would have higher scores, but that's not necessarily the case!  Now, where this dataset comes from is not given in the assignment nor the dataset itself, so I do not know if this dataset shows college scores, high school scores, etc. This is important for reaching any conclustion.  For example, it's always possible that a parent that has had too high of an education is not able help with simpler concepts presented in high school, or something similar."
      ],
      "metadata": {
        "id": "jMLAK6vZx970"
      }
    },
    {
      "cell_type": "markdown",
      "source": [
        "Unrelated: I lied.  One more!  Boxplot!"
      ],
      "metadata": {
        "id": "5ka4ucVwzNWJ"
      }
    },
    {
      "cell_type": "code",
      "source": [
        "# Define the boxplot\n",
        "box_fig = px.box(data_clean, x=\"test preparation course\", y=\"average score\")\n",
        "\n",
        "# So that we don't forget these later\n",
        "fig_list.update({'box_fig':box_fig})\n",
        "\n",
        "# Show the boxplot\n",
        "box_fig.show()"
      ],
      "metadata": {
        "colab": {
          "base_uri": "https://localhost:8080/",
          "height": 542
        },
        "id": "iYcOgE_EzQT9",
        "outputId": "e7aaa1ec-925c-464b-f4cc-b8da356e963f"
      },
      "execution_count": 43,
      "outputs": [
        {
          "output_type": "display_data",
          "data": {
            "text/html": [
              "<html>\n",
              "<head><meta charset=\"utf-8\" /></head>\n",
              "<body>\n",
              "    <div>            <script src=\"https://cdnjs.cloudflare.com/ajax/libs/mathjax/2.7.5/MathJax.js?config=TeX-AMS-MML_SVG\"></script><script type=\"text/javascript\">if (window.MathJax && window.MathJax.Hub && window.MathJax.Hub.Config) {window.MathJax.Hub.Config({SVG: {font: \"STIX-Web\"}});}</script>                <script type=\"text/javascript\">window.PlotlyConfig = {MathJaxConfig: 'local'};</script>\n",
              "        <script charset=\"utf-8\" src=\"https://cdn.plot.ly/plotly-2.24.1.min.js\"></script>                <div id=\"4d7b3bf8-b87d-42f4-8171-409dcbf9956d\" class=\"plotly-graph-div\" style=\"height:525px; width:100%;\"></div>            <script type=\"text/javascript\">                                    window.PLOTLYENV=window.PLOTLYENV || {};                                    if (document.getElementById(\"4d7b3bf8-b87d-42f4-8171-409dcbf9956d\")) {                    Plotly.newPlot(                        \"4d7b3bf8-b87d-42f4-8171-409dcbf9956d\",                        [{\"alignmentgroup\":\"True\",\"hovertemplate\":\"test preparation course=%{x}\\u003cbr\\u003eaverage score=%{y}\\u003cextra\\u003e\\u003c\\u002fextra\\u003e\",\"legendgroup\":\"\",\"marker\":{\"color\":\"#636efa\"},\"name\":\"\",\"notched\":false,\"offsetgroup\":\"\",\"orientation\":\"v\",\"showlegend\":false,\"x\":[\"none\",\"completed\",\"none\",\"none\",\"none\",\"none\",\"completed\",\"none\",\"completed\",\"none\",\"none\",\"none\",\"none\",\"completed\",\"none\",\"none\",\"none\",\"none\",\"completed\",\"none\",\"none\",\"completed\",\"none\",\"none\",\"completed\",\"none\",\"none\",\"none\",\"none\",\"none\",\"none\",\"none\",\"none\",\"none\",\"none\",\"completed\",\"none\",\"none\",\"completed\",\"none\",\"none\",\"none\",\"none\",\"completed\",\"none\",\"none\",\"completed\",\"none\",\"completed\",\"completed\",\"none\",\"completed\",\"none\",\"none\",\"completed\",\"none\",\"completed\",\"none\",\"completed\",\"none\",\"completed\",\"none\",\"none\",\"none\",\"none\",\"none\",\"none\",\"none\",\"none\",\"none\",\"completed\",\"completed\",\"none\",\"none\",\"none\",\"none\",\"none\",\"completed\",\"completed\",\"none\",\"none\",\"none\",\"completed\",\"none\",\"none\",\"none\",\"none\",\"none\",\"none\",\"none\",\"none\",\"none\",\"none\",\"completed\",\"none\",\"completed\",\"completed\",\"completed\",\"none\",\"none\",\"none\",\"completed\",\"none\",\"completed\",\"completed\",\"none\",\"none\",\"completed\",\"none\",\"none\",\"completed\",\"none\",\"none\",\"none\",\"completed\",\"none\",\"none\",\"none\",\"none\",\"none\",\"completed\",\"completed\",\"completed\",\"none\",\"none\",\"none\",\"none\",\"completed\",\"none\",\"none\",\"none\",\"completed\",\"completed\",\"completed\",\"completed\",\"none\",\"completed\",\"none\",\"none\",\"completed\",\"none\",\"none\",\"completed\",\"none\",\"none\",\"none\",\"none\",\"none\",\"completed\",\"completed\",\"completed\",\"none\",\"completed\",\"none\",\"none\",\"completed\",\"completed\",\"none\",\"completed\",\"none\",\"completed\",\"completed\",\"none\",\"none\",\"none\",\"completed\",\"completed\",\"completed\",\"completed\",\"completed\",\"completed\",\"none\",\"none\",\"none\",\"completed\",\"completed\",\"completed\",\"completed\",\"completed\",\"completed\",\"completed\",\"none\",\"none\",\"none\",\"completed\",\"completed\",\"none\",\"completed\",\"none\",\"none\",\"none\",\"completed\",\"none\",\"completed\",\"completed\",\"none\",\"completed\",\"none\",\"none\",\"none\",\"completed\",\"none\",\"none\",\"none\",\"none\",\"completed\",\"none\",\"completed\",\"none\",\"none\",\"completed\",\"none\",\"none\",\"completed\",\"completed\",\"completed\",\"completed\",\"none\",\"none\",\"completed\",\"completed\",\"none\",\"none\",\"none\",\"completed\",\"none\",\"none\",\"none\",\"none\",\"completed\",\"none\",\"none\",\"none\",\"none\",\"completed\",\"none\",\"none\",\"completed\",\"none\",\"none\",\"completed\",\"none\",\"none\",\"none\",\"none\",\"none\",\"none\",\"completed\",\"none\",\"none\",\"completed\",\"none\",\"completed\",\"none\",\"none\",\"none\",\"none\",\"completed\",\"none\",\"completed\",\"completed\",\"completed\",\"none\",\"none\",\"none\",\"none\",\"none\",\"none\",\"completed\",\"none\",\"none\",\"none\",\"none\",\"none\",\"completed\",\"none\",\"completed\",\"completed\",\"none\",\"none\",\"none\",\"none\",\"none\",\"completed\",\"none\",\"completed\",\"completed\",\"none\",\"none\",\"completed\",\"none\",\"none\",\"completed\",\"none\",\"completed\",\"none\",\"completed\",\"completed\",\"completed\",\"none\",\"completed\",\"none\",\"completed\",\"none\",\"completed\",\"none\",\"completed\",\"none\",\"none\",\"none\",\"none\",\"none\",\"completed\",\"completed\",\"completed\",\"none\",\"completed\",\"none\",\"none\",\"none\",\"completed\",\"none\",\"none\",\"none\",\"none\",\"none\",\"none\",\"none\",\"completed\",\"none\",\"none\",\"none\",\"completed\",\"none\",\"none\",\"none\",\"completed\",\"none\",\"none\",\"completed\",\"none\",\"none\",\"completed\",\"completed\",\"none\",\"none\",\"none\",\"completed\",\"none\",\"none\",\"none\",\"none\",\"completed\",\"none\",\"none\",\"none\",\"none\",\"completed\",\"none\",\"none\",\"none\",\"completed\",\"none\",\"none\",\"none\",\"completed\",\"completed\",\"none\",\"none\",\"none\",\"none\",\"completed\",\"none\",\"completed\",\"none\",\"none\",\"none\",\"completed\",\"none\",\"none\",\"none\",\"completed\",\"none\",\"none\",\"none\",\"none\",\"none\",\"none\",\"none\",\"none\",\"completed\",\"none\",\"none\",\"completed\",\"completed\",\"none\",\"none\",\"none\",\"none\",\"none\",\"completed\",\"none\",\"none\",\"completed\",\"none\",\"none\",\"completed\",\"none\",\"completed\",\"completed\",\"completed\",\"completed\",\"none\",\"completed\",\"completed\",\"none\",\"completed\",\"none\",\"none\",\"completed\",\"completed\",\"completed\",\"completed\",\"completed\",\"none\",\"none\",\"none\",\"none\",\"none\",\"none\",\"none\",\"none\",\"none\",\"none\",\"none\",\"completed\",\"none\",\"none\",\"none\",\"completed\",\"completed\",\"none\",\"none\",\"none\",\"none\",\"completed\",\"none\",\"completed\",\"none\",\"none\",\"completed\",\"none\",\"none\",\"none\",\"none\",\"none\",\"none\",\"none\",\"none\",\"completed\",\"none\",\"none\",\"none\",\"none\",\"completed\",\"none\",\"none\",\"completed\",\"completed\",\"none\",\"completed\",\"none\",\"completed\",\"none\",\"completed\",\"completed\",\"completed\",\"none\",\"none\",\"none\",\"completed\",\"none\",\"none\",\"none\",\"none\",\"none\",\"none\",\"none\",\"completed\",\"completed\",\"none\",\"none\",\"none\",\"none\",\"none\",\"completed\",\"none\",\"completed\",\"none\",\"none\",\"none\",\"completed\",\"none\",\"completed\",\"none\",\"none\",\"none\",\"none\",\"none\",\"none\",\"none\",\"none\",\"none\",\"completed\",\"completed\",\"completed\",\"none\",\"completed\",\"completed\",\"completed\",\"none\",\"none\",\"none\",\"none\",\"completed\",\"none\",\"completed\",\"none\",\"none\",\"none\",\"completed\",\"none\",\"completed\",\"completed\",\"completed\",\"completed\",\"completed\",\"none\",\"completed\",\"completed\",\"completed\",\"completed\",\"none\",\"none\",\"none\",\"completed\",\"completed\",\"completed\",\"none\",\"none\",\"none\",\"completed\",\"none\",\"none\",\"none\",\"none\",\"completed\",\"none\",\"none\",\"none\",\"completed\",\"none\",\"completed\",\"completed\",\"none\",\"none\",\"completed\",\"completed\",\"none\",\"none\",\"completed\",\"none\",\"none\",\"completed\",\"none\",\"completed\",\"completed\",\"none\",\"completed\",\"none\",\"none\",\"none\",\"none\",\"completed\",\"none\",\"none\",\"none\",\"none\",\"none\",\"none\",\"none\",\"none\",\"none\",\"none\",\"completed\",\"completed\",\"none\",\"none\",\"none\",\"none\",\"none\",\"none\",\"none\",\"none\",\"completed\",\"none\",\"none\",\"none\",\"none\",\"none\",\"completed\",\"none\",\"completed\",\"none\",\"none\",\"none\",\"none\",\"none\",\"none\",\"completed\",\"none\",\"none\",\"completed\",\"completed\",\"none\",\"completed\",\"completed\",\"none\",\"none\",\"completed\",\"none\",\"none\",\"completed\",\"none\",\"none\",\"none\",\"completed\",\"completed\",\"none\",\"none\",\"none\",\"completed\",\"none\",\"completed\",\"none\",\"completed\",\"none\",\"none\",\"none\",\"completed\",\"completed\",\"completed\",\"completed\",\"completed\",\"none\",\"none\",\"none\",\"none\",\"none\",\"none\",\"none\",\"none\",\"none\",\"none\",\"none\",\"completed\",\"completed\",\"none\",\"none\",\"completed\",\"none\",\"none\",\"none\",\"completed\",\"completed\",\"completed\",\"completed\",\"completed\",\"none\",\"none\",\"none\",\"none\",\"none\",\"completed\",\"completed\",\"completed\",\"completed\",\"none\",\"none\",\"none\",\"none\",\"none\",\"completed\",\"none\",\"none\",\"none\",\"completed\",\"none\",\"completed\",\"none\",\"completed\",\"none\",\"completed\",\"none\",\"completed\",\"none\",\"none\",\"none\",\"none\",\"completed\",\"completed\",\"completed\",\"none\",\"none\",\"completed\",\"completed\",\"completed\",\"completed\",\"none\",\"completed\",\"none\",\"completed\",\"completed\",\"none\",\"none\",\"completed\",\"completed\",\"completed\",\"none\",\"none\",\"completed\",\"none\",\"completed\",\"none\",\"none\",\"none\",\"none\",\"completed\",\"none\",\"none\",\"none\",\"none\",\"none\",\"completed\",\"none\",\"none\",\"none\",\"none\",\"none\",\"completed\",\"completed\",\"none\",\"completed\",\"completed\",\"none\",\"none\",\"none\",\"completed\",\"completed\",\"completed\",\"none\",\"none\",\"completed\",\"none\",\"none\",\"none\",\"completed\",\"completed\",\"none\",\"none\",\"none\",\"none\",\"completed\",\"none\",\"none\",\"none\",\"none\",\"none\",\"completed\",\"completed\",\"none\",\"none\",\"completed\",\"completed\",\"completed\",\"completed\",\"none\",\"none\",\"none\",\"none\",\"none\",\"none\",\"none\",\"completed\",\"none\",\"completed\",\"none\",\"none\",\"none\",\"none\",\"completed\",\"completed\",\"none\",\"none\",\"none\",\"none\",\"none\",\"none\",\"none\",\"none\",\"none\",\"none\",\"completed\",\"completed\",\"none\",\"completed\",\"none\",\"completed\",\"none\",\"none\",\"completed\",\"none\",\"completed\",\"none\",\"none\",\"none\",\"completed\",\"none\",\"completed\",\"none\",\"none\",\"completed\",\"none\",\"completed\",\"none\",\"completed\",\"none\",\"completed\",\"completed\",\"none\",\"none\",\"none\",\"completed\",\"completed\",\"completed\",\"none\",\"completed\",\"none\",\"none\",\"none\",\"none\",\"none\",\"none\",\"none\",\"none\",\"none\",\"none\",\"none\",\"completed\",\"none\",\"none\",\"none\",\"completed\",\"completed\",\"none\",\"completed\",\"none\",\"none\",\"completed\",\"none\",\"none\",\"completed\",\"completed\",\"none\",\"none\",\"none\",\"none\",\"none\",\"none\",\"none\",\"completed\",\"completed\",\"none\",\"none\",\"none\",\"completed\",\"completed\",\"none\",\"none\",\"none\",\"completed\",\"none\",\"none\",\"completed\",\"none\",\"none\",\"none\",\"completed\",\"completed\",\"completed\",\"none\",\"none\",\"completed\",\"completed\",\"none\",\"none\",\"none\",\"completed\",\"none\",\"completed\",\"none\",\"none\",\"completed\",\"completed\",\"none\",\"none\",\"completed\",\"none\",\"completed\",\"completed\",\"none\",\"none\",\"none\",\"none\",\"none\",\"completed\",\"none\",\"completed\",\"completed\",\"none\",\"completed\",\"none\",\"completed\",\"completed\",\"completed\",\"none\",\"none\",\"none\",\"completed\",\"completed\",\"completed\",\"none\",\"none\",\"completed\",\"none\",\"none\",\"none\",\"none\",\"completed\",\"completed\",\"none\",\"completed\",\"none\",\"completed\",\"none\",\"none\",\"none\",\"none\",\"none\",\"none\",\"none\",\"none\",\"none\",\"completed\",\"none\",\"none\",\"completed\",\"none\",\"none\",\"none\",\"none\",\"completed\",\"completed\",\"none\",\"none\",\"completed\",\"completed\",\"none\",\"completed\",\"none\",\"none\",\"none\",\"completed\",\"completed\",\"none\",\"none\",\"none\",\"completed\",\"none\",\"completed\",\"completed\",\"completed\",\"none\",\"none\",\"none\",\"completed\",\"none\",\"completed\",\"completed\",\"none\"],\"x0\":\" \",\"xaxis\":\"x\",\"y\":[72.66666666666667,82.33333333333333,92.66666666666667,49.333333333333336,76.33333333333333,77.33333333333333,91.66666666666667,40.666666666666664,65.0,49.333333333333336,54.666666666666664,45.0,73.0,73.33333333333333,53.666666666666664,74.0,87.66666666666667,26.0,44.666666666666664,57.666666666666664,66.0,70.0,50.333333333333336,71.66666666666667,75.0,73.0,59.333333333333336,70.33333333333333,68.33333333333333,69.0,72.33333333333333,63.0,64.33333333333333,40.0,88.66666666666667,80.33333333333333,79.33333333333333,57.666666666666664,84.33333333333333,56.666666666666664,56.666666666666664,66.33333333333333,58.666666666666664,63.333333333333336,53.333333333333336,58.666666666666664,60.666666666666664,71.0,69.0,82.66666666666667,52.0,71.33333333333333,46.333333333333336,80.33333333333333,80.66666666666667,39.0,84.33333333333333,52.0,58.333333333333336,9.0,75.0,37.333333333333336,59.333333333333336,73.33333333333333,58.666666666666664,64.0,39.666666666666664,68.66666666666667,58.333333333333336,53.333333333333336,64.66666666666667,60.333333333333336,46.666666666666664,58.0,46.333333333333336,41.0,26.0,79.66666666666667,69.0,66.0,48.666666666666664,46.333333333333336,50.333333333333336,66.33333333333333,38.333333333333336,78.33333333333333,82.33333333333333,72.0,65.0,80.33333333333333,70.33333333333333,32.333333333333336,73.66666666666667,46.0,85.66666666666667,80.33333333333333,64.33333333333333,68.33333333333333,62.333333333333336,64.66666666666667,71.0,72.0,88.33333333333333,50.333333333333336,91.33333333333333,65.66666666666667,95.66666666666667,64.33333333333333,66.0,68.66666666666667,88.0,55.333333333333336,51.333333333333336,54.333333333333336,99.66666666666667,78.33333333333333,80.66666666666667,79.66666666666667,58.333333333333336,63.0,86.66666666666667,90.66666666666667,91.33333333333333,58.666666666666664,78.66666666666667,89.33333333333333,69.0,72.0,79.33333333333333,50.333333333333336,85.0,43.333333333333336,77.0,80.0,76.0,53.666666666666664,48.666666666666664,60.333333333333336,64.0,67.0,73.0,61.666666666666664,50.333333333333336,49.0,79.66666666666667,31.333333333333332,82.33333333333333,69.0,74.66666666666667,97.66666666666667,66.0,70.66666666666667,65.0,50.0,63.333333333333336,82.33333333333333,72.66666666666667,60.0,78.0,64.0,78.0,82.66666666666667,51.333333333333336,51.333333333333336,88.0,98.66666666666667,51.666666666666664,70.66666666666667,76.33333333333333,70.66666666666667,73.0,86.66666666666667,82.0,66.66666666666667,49.333333333333336,86.33333333333333,52.666666666666664,75.0,61.333333333333336,99.0,68.33333333333333,58.666666666666664,49.0,68.0,48.666666666666664,65.66666666666667,73.66666666666667,65.33333333333333,48.333333333333336,84.0,66.66666666666667,79.33333333333333,64.0,67.0,79.33333333333333,56.0,64.33333333333333,54.0,51.0,77.66666666666667,79.0,74.33333333333333,71.66666666666667,64.66666666666667,47.333333333333336,74.33333333333333,68.66666666666667,79.0,77.0,61.666666666666664,79.33333333333333,30.0,54.666666666666664,55.666666666666664,86.33333333333333,80.66666666666667,85.66666666666667,38.333333333333336,71.0,57.666666666666664,66.0,81.66666666666667,60.666666666666664,80.33333333333333,63.666666666666664,51.666666666666664,71.66666666666667,53.666666666666664,68.0,92.33333333333333,68.66666666666667,43.666666666666664,78.66666666666667,85.66666666666667,83.0,77.33333333333333,65.33333333333333,66.0,52.333333333333336,81.33333333333333,69.0,82.0,54.333333333333336,51.0,72.66666666666667,77.33333333333333,79.66666666666667,65.33333333333333,63.666666666666664,60.333333333333336,48.333333333333336,79.0,66.66666666666667,77.33333333333333,52.666666666666664,68.33333333333333,68.33333333333333,77.33333333333333,74.33333333333333,75.66666666666667,73.33333333333333,78.66666666666667,48.333333333333336,94.0,72.33333333333333,47.333333333333336,73.0,72.66666666666667,91.66666666666667,72.33333333333333,64.33333333333333,49.666666666666664,52.666666666666664,68.66666666666667,83.0,78.0,90.0,65.66666666666667,77.0,62.0,49.0,46.333333333333336,78.66666666666667,75.33333333333333,43.0,81.66666666666667,89.0,79.33333333333333,79.66666666666667,76.66666666666667,71.33333333333333,76.33333333333333,60.0,71.0,78.33333333333333,63.0,43.333333333333336,71.0,45.333333333333336,84.0,80.0,54.0,77.33333333333333,73.33333333333333,77.33333333333333,68.33333333333333,89.0,49.0,63.666666666666664,52.666666666666664,76.33333333333333,61.0,65.33333333333333,68.0,66.0,67.33333333333333,83.33333333333333,77.66666666666667,67.66666666666667,61.333333333333336,76.66666666666667,80.0,77.33333333333333,49.666666666666664,43.333333333333336,88.66666666666667,61.333333333333336,23.333333333333332,78.0,49.0,64.0,39.666666666666664,57.0,83.0,90.33333333333333,65.0,71.66666666666667,47.666666666666664,29.666666666666668,50.0,57.0,65.66666666666667,73.0,68.66666666666667,73.0,75.66666666666667,60.0,88.66666666666667,71.66666666666667,79.0,62.0,58.333333333333336,73.66666666666667,53.666666666666664,66.66666666666667,67.66666666666667,61.666666666666664,59.0,60.666666666666664,86.33333333333333,59.666666666666664,82.33333333333333,56.0,31.0,59.0,55.666666666666664,60.0,62.666666666666664,55.333333333333336,80.66666666666667,77.33333333333333,62.666666666666664,73.33333333333333,91.66666666666667,67.33333333333333,43.333333333333336,84.0,93.33333333333333,77.0,64.0,83.0,94.0,77.0,44.0,41.333333333333336,72.66666666666667,69.0,67.33333333333333,63.333333333333336,72.66666666666667,66.33333333333333,74.0,70.0,55.666666666666664,72.0,44.666666666666664,60.0,89.66666666666667,64.66666666666667,57.666666666666664,60.0,46.333333333333336,56.333333333333336,95.66666666666667,58.333333333333336,68.0,64.33333333333333,79.66666666666667,55.0,85.33333333333333,71.66666666666667,81.66666666666667,65.66666666666667,65.66666666666667,67.33333333333333,75.33333333333333,71.0,71.33333333333333,63.0,55.666666666666664,89.33333333333333,59.666666666666664,57.333333333333336,74.66666666666667,38.0,63.666666666666664,85.0,68.33333333333333,59.0,61.666666666666664,63.0,67.66666666666667,57.333333333333336,52.0,68.33333333333333,50.333333333333336,69.0,71.33333333333333,59.0,86.33333333333333,75.66666666666667,79.66666666666667,67.0,77.33333333333333,78.0,72.66666666666667,65.0,82.33333333333333,45.0,75.33333333333333,78.0,96.33333333333333,72.0,57.333333333333336,58.666666666666664,46.666666666666664,85.66666666666667,51.666666666666664,100.0,68.33333333333333,55.333333333333336,51.0,72.33333333333333,86.0,65.0,87.33333333333333,31.666666666666668,68.0,83.33333333333333,80.33333333333333,86.0,68.66666666666667,79.33333333333333,62.333333333333336,90.33333333333333,76.66666666666667,68.0,73.33333333333333,63.0,71.33333333333333,70.66666666666667,55.666666666666664,65.66666666666667,52.333333333333336,51.666666666666664,71.66666666666667,54.666666666666664,69.66666666666667,58.0,81.0,75.33333333333333,66.0,85.33333333333333,86.33333333333333,62.0,66.0,51.333333333333336,71.0,67.66666666666667,73.0,78.33333333333333,91.0,59.333333333333336,92.0,51.0,81.33333333333333,68.0,56.0,78.0,88.33333333333333,73.33333333333333,52.333333333333336,54.333333333333336,59.0,89.33333333333333,82.66666666666667,82.33333333333333,71.0,74.0,74.66666666666667,57.333333333333336,87.0,61.333333333333336,54.333333333333336,51.333333333333336,62.333333333333336,59.0,44.0,39.0,68.66666666666667,69.33333333333333,51.333333333333336,60.333333333333336,87.0,70.0,77.33333333333333,56.333333333333336,59.666666666666664,74.0,91.66666666666667,70.66666666666667,80.33333333333333,79.0,88.66666666666667,64.33333333333333,80.33333333333333,96.33333333333333,67.66666666666667,64.33333333333333,73.33333333333333,73.33333333333333,88.33333333333333,46.0,67.66666666666667,46.0,34.666666666666664,68.66666666666667,64.66666666666667,64.33333333333333,67.0,76.0,70.33333333333333,92.66666666666667,74.33333333333333,48.333333333333336,45.333333333333336,97.33333333333333,70.0,52.666666666666664,67.66666666666667,72.0,93.0,57.0,60.0,75.33333333333333,49.333333333333336,54.666666666666664,87.0,54.0,60.666666666666664,91.33333333333333,78.66666666666667,71.33333333333333,76.0,74.33333333333333,72.33333333333333,67.0,56.333333333333336,61.0,59.666666666666664,56.333333333333336,61.0,66.66666666666667,74.33333333333333,97.0,69.0,23.0,51.666666666666664,73.0,76.0,59.0,29.333333333333332,78.0,56.0,87.66666666666667,69.66666666666667,83.66666666666667,50.666666666666664,62.333333333333336,62.0,64.0,61.0,91.66666666666667,72.0,89.33333333333333,66.66666666666667,40.0,83.0,86.66666666666667,68.66666666666667,50.0,60.333333333333336,53.666666666666664,94.0,60.333333333333336,98.66666666666667,67.33333333333333,51.666666666666664,50.666666666666664,50.0,67.0,68.0,73.66666666666667,82.66666666666667,82.66666666666667,69.66666666666667,76.0,86.66666666666667,78.66666666666667,74.33333333333333,48.0,84.0,77.33333333333333,77.66666666666667,65.0,75.66666666666667,64.66666666666667,64.66666666666667,52.666666666666664,76.33333333333333,53.333333333333336,74.66666666666667,89.66666666666667,69.66666666666667,77.0,65.33333333333333,69.33333333333333,65.33333333333333,53.666666666666664,87.33333333333333,74.66666666666667,67.33333333333333,65.0,67.0,68.66666666666667,56.666666666666664,69.0,83.0,69.33333333333333,76.66666666666667,70.0,53.0,74.33333333333333,77.66666666666667,74.66666666666667,60.0,75.66666666666667,76.0,78.0,61.333333333333336,71.0,62.666666666666664,57.0,37.666666666666664,65.33333333333333,97.66666666666667,76.0,76.0,51.666666666666664,88.66666666666667,51.666666666666664,75.66666666666667,73.66666666666667,75.66666666666667,56.0,84.66666666666667,82.33333333333333,67.0,71.33333333333333,63.666666666666664,80.66666666666667,65.33333333333333,86.0,64.66666666666667,62.0,66.33333333333333,38.666666666666664,59.0,85.0,53.666666666666664,89.0,83.33333333333333,99.0,82.0,68.0,85.66666666666667,74.33333333333333,97.0,75.33333333333333,81.33333333333333,68.0,57.666666666666664,84.0,46.666666666666664,43.666666666666664,75.33333333333333,72.33333333333333,58.666666666666664,83.0,43.0,75.0,48.0,90.0,48.666666666666664,56.0,61.0,85.0,64.0,75.0,58.666666666666664,75.0,50.0,82.33333333333333,68.0,52.333333333333336,75.0,71.66666666666667,67.0,56.333333333333336,85.66666666666667,69.33333333333333,68.33333333333333,77.0,84.0,55.333333333333336,90.33333333333333,55.0,70.0,58.666666666666664,74.33333333333333,63.0,53.333333333333336,81.66666666666667,62.333333333333336,60.666666666666664,72.66666666666667,70.0,66.0,71.33333333333333,58.333333333333336,49.666666666666664,74.0,63.666666666666664,73.0,63.666666666666664,54.0,69.33333333333333,40.666666666666664,77.66666666666667,87.0,53.0,83.66666666666667,81.0,57.666666666666664,83.66666666666667,42.333333333333336,76.0,29.666666666666668,64.66666666666667,59.333333333333336,56.666666666666664,65.33333333333333,69.66666666666667,83.33333333333333,48.333333333333336,66.0,70.0,78.33333333333333,61.0,54.666666666666664,69.33333333333333,76.33333333333333,92.0,84.66666666666667,75.66666666666667,76.66666666666667,71.0,42.0,78.0,54.666666666666664,39.333333333333336,47.0,61.666666666666664,82.33333333333333,78.33333333333333,89.0,56.0,69.0,66.66666666666667,85.33333333333333,89.0,87.0,50.666666666666664,80.0,52.666666666666664,62.333333333333336,64.66666666666667,70.0,78.66666666666667,58.333333333333336,59.333333333333336,83.0,60.666666666666664,82.66666666666667,51.0,66.0,64.66666666666667,78.66666666666667,56.0,72.0,45.666666666666664,57.666666666666664,34.333333333333336,75.66666666666667,56.333333333333336,86.33333333333333,87.0,56.0,66.33333333333333,74.66666666666667,68.33333333333333,64.0,88.33333333333333,70.0,60.333333333333336,96.66666666666667,69.33333333333333,75.0,49.0,77.33333333333333,56.0,84.66666666666667,39.666666666666664,74.0,93.66666666666667,84.0,54.666666666666664,48.0,74.66666666666667,50.333333333333336,54.666666666666664,72.66666666666667,81.33333333333333,87.33333333333333,55.333333333333336,70.0,82.33333333333333,57.333333333333336,70.33333333333333,71.33333333333333,64.33333333333333,70.33333333333333,69.33333333333333,48.333333333333336,52.0,72.66666666666667,96.0,61.666666666666664,69.33333333333333,47.666666666666664,87.33333333333333,87.33333333333333,63.333333333333336,79.0,63.333333333333336,34.666666666666664,30.666666666666668,73.33333333333333,61.333333333333336,75.0,86.0,75.0,41.0,97.66666666666667,78.33333333333333,80.66666666666667,52.0,84.66666666666667,71.33333333333333,68.0,46.666666666666664,78.33333333333333,59.666666666666664,58.333333333333336,54.0,68.0,100.0,52.333333333333336,71.33333333333333,92.66666666666667,68.66666666666667,44.666666666666664,68.0,61.333333333333336,71.0,66.0,57.333333333333336,65.66666666666667,44.333333333333336,51.666666666666664,70.33333333333333,60.333333333333336,68.33333333333333,73.0,91.66666666666667,63.666666666666664,59.0,57.333333333333336,83.66666666666667,71.33333333333333,70.0,88.33333333333333,70.33333333333333,61.333333333333336,62.333333333333336,57.666666666666664,81.33333333333333,55.666666666666664,50.333333333333336,68.33333333333333,79.33333333333333,78.33333333333333,73.33333333333333,54.666666666666664,66.66666666666667,63.666666666666664,84.0,97.33333333333333,55.666666666666664,75.66666666666667,59.333333333333336,51.666666666666664,100.0,72.0,62.333333333333336,68.0,66.0,62.0,70.33333333333333,79.66666666666667,96.33333333333333,73.0,54.333333333333336,58.333333333333336,61.333333333333336,74.33333333333333,60.666666666666664,61.666666666666664,48.0,93.33333333333333,18.333333333333332,79.0,83.33333333333333,85.33333333333333,77.0,54.0,50.0,77.33333333333333,44.666666666666664,78.66666666666667,80.66666666666667,75.0,69.0,69.33333333333333,62.666666666666664,94.0,57.333333333333336,65.0,74.33333333333333,83.0],\"y0\":\" \",\"yaxis\":\"y\",\"type\":\"box\"}],                        {\"template\":{\"data\":{\"histogram2dcontour\":[{\"type\":\"histogram2dcontour\",\"colorbar\":{\"outlinewidth\":0,\"ticks\":\"\"},\"colorscale\":[[0.0,\"#0d0887\"],[0.1111111111111111,\"#46039f\"],[0.2222222222222222,\"#7201a8\"],[0.3333333333333333,\"#9c179e\"],[0.4444444444444444,\"#bd3786\"],[0.5555555555555556,\"#d8576b\"],[0.6666666666666666,\"#ed7953\"],[0.7777777777777778,\"#fb9f3a\"],[0.8888888888888888,\"#fdca26\"],[1.0,\"#f0f921\"]]}],\"choropleth\":[{\"type\":\"choropleth\",\"colorbar\":{\"outlinewidth\":0,\"ticks\":\"\"}}],\"histogram2d\":[{\"type\":\"histogram2d\",\"colorbar\":{\"outlinewidth\":0,\"ticks\":\"\"},\"colorscale\":[[0.0,\"#0d0887\"],[0.1111111111111111,\"#46039f\"],[0.2222222222222222,\"#7201a8\"],[0.3333333333333333,\"#9c179e\"],[0.4444444444444444,\"#bd3786\"],[0.5555555555555556,\"#d8576b\"],[0.6666666666666666,\"#ed7953\"],[0.7777777777777778,\"#fb9f3a\"],[0.8888888888888888,\"#fdca26\"],[1.0,\"#f0f921\"]]}],\"heatmap\":[{\"type\":\"heatmap\",\"colorbar\":{\"outlinewidth\":0,\"ticks\":\"\"},\"colorscale\":[[0.0,\"#0d0887\"],[0.1111111111111111,\"#46039f\"],[0.2222222222222222,\"#7201a8\"],[0.3333333333333333,\"#9c179e\"],[0.4444444444444444,\"#bd3786\"],[0.5555555555555556,\"#d8576b\"],[0.6666666666666666,\"#ed7953\"],[0.7777777777777778,\"#fb9f3a\"],[0.8888888888888888,\"#fdca26\"],[1.0,\"#f0f921\"]]}],\"heatmapgl\":[{\"type\":\"heatmapgl\",\"colorbar\":{\"outlinewidth\":0,\"ticks\":\"\"},\"colorscale\":[[0.0,\"#0d0887\"],[0.1111111111111111,\"#46039f\"],[0.2222222222222222,\"#7201a8\"],[0.3333333333333333,\"#9c179e\"],[0.4444444444444444,\"#bd3786\"],[0.5555555555555556,\"#d8576b\"],[0.6666666666666666,\"#ed7953\"],[0.7777777777777778,\"#fb9f3a\"],[0.8888888888888888,\"#fdca26\"],[1.0,\"#f0f921\"]]}],\"contourcarpet\":[{\"type\":\"contourcarpet\",\"colorbar\":{\"outlinewidth\":0,\"ticks\":\"\"}}],\"contour\":[{\"type\":\"contour\",\"colorbar\":{\"outlinewidth\":0,\"ticks\":\"\"},\"colorscale\":[[0.0,\"#0d0887\"],[0.1111111111111111,\"#46039f\"],[0.2222222222222222,\"#7201a8\"],[0.3333333333333333,\"#9c179e\"],[0.4444444444444444,\"#bd3786\"],[0.5555555555555556,\"#d8576b\"],[0.6666666666666666,\"#ed7953\"],[0.7777777777777778,\"#fb9f3a\"],[0.8888888888888888,\"#fdca26\"],[1.0,\"#f0f921\"]]}],\"surface\":[{\"type\":\"surface\",\"colorbar\":{\"outlinewidth\":0,\"ticks\":\"\"},\"colorscale\":[[0.0,\"#0d0887\"],[0.1111111111111111,\"#46039f\"],[0.2222222222222222,\"#7201a8\"],[0.3333333333333333,\"#9c179e\"],[0.4444444444444444,\"#bd3786\"],[0.5555555555555556,\"#d8576b\"],[0.6666666666666666,\"#ed7953\"],[0.7777777777777778,\"#fb9f3a\"],[0.8888888888888888,\"#fdca26\"],[1.0,\"#f0f921\"]]}],\"mesh3d\":[{\"type\":\"mesh3d\",\"colorbar\":{\"outlinewidth\":0,\"ticks\":\"\"}}],\"scatter\":[{\"fillpattern\":{\"fillmode\":\"overlay\",\"size\":10,\"solidity\":0.2},\"type\":\"scatter\"}],\"parcoords\":[{\"type\":\"parcoords\",\"line\":{\"colorbar\":{\"outlinewidth\":0,\"ticks\":\"\"}}}],\"scatterpolargl\":[{\"type\":\"scatterpolargl\",\"marker\":{\"colorbar\":{\"outlinewidth\":0,\"ticks\":\"\"}}}],\"bar\":[{\"error_x\":{\"color\":\"#2a3f5f\"},\"error_y\":{\"color\":\"#2a3f5f\"},\"marker\":{\"line\":{\"color\":\"#E5ECF6\",\"width\":0.5},\"pattern\":{\"fillmode\":\"overlay\",\"size\":10,\"solidity\":0.2}},\"type\":\"bar\"}],\"scattergeo\":[{\"type\":\"scattergeo\",\"marker\":{\"colorbar\":{\"outlinewidth\":0,\"ticks\":\"\"}}}],\"scatterpolar\":[{\"type\":\"scatterpolar\",\"marker\":{\"colorbar\":{\"outlinewidth\":0,\"ticks\":\"\"}}}],\"histogram\":[{\"marker\":{\"pattern\":{\"fillmode\":\"overlay\",\"size\":10,\"solidity\":0.2}},\"type\":\"histogram\"}],\"scattergl\":[{\"type\":\"scattergl\",\"marker\":{\"colorbar\":{\"outlinewidth\":0,\"ticks\":\"\"}}}],\"scatter3d\":[{\"type\":\"scatter3d\",\"line\":{\"colorbar\":{\"outlinewidth\":0,\"ticks\":\"\"}},\"marker\":{\"colorbar\":{\"outlinewidth\":0,\"ticks\":\"\"}}}],\"scattermapbox\":[{\"type\":\"scattermapbox\",\"marker\":{\"colorbar\":{\"outlinewidth\":0,\"ticks\":\"\"}}}],\"scatterternary\":[{\"type\":\"scatterternary\",\"marker\":{\"colorbar\":{\"outlinewidth\":0,\"ticks\":\"\"}}}],\"scattercarpet\":[{\"type\":\"scattercarpet\",\"marker\":{\"colorbar\":{\"outlinewidth\":0,\"ticks\":\"\"}}}],\"carpet\":[{\"aaxis\":{\"endlinecolor\":\"#2a3f5f\",\"gridcolor\":\"white\",\"linecolor\":\"white\",\"minorgridcolor\":\"white\",\"startlinecolor\":\"#2a3f5f\"},\"baxis\":{\"endlinecolor\":\"#2a3f5f\",\"gridcolor\":\"white\",\"linecolor\":\"white\",\"minorgridcolor\":\"white\",\"startlinecolor\":\"#2a3f5f\"},\"type\":\"carpet\"}],\"table\":[{\"cells\":{\"fill\":{\"color\":\"#EBF0F8\"},\"line\":{\"color\":\"white\"}},\"header\":{\"fill\":{\"color\":\"#C8D4E3\"},\"line\":{\"color\":\"white\"}},\"type\":\"table\"}],\"barpolar\":[{\"marker\":{\"line\":{\"color\":\"#E5ECF6\",\"width\":0.5},\"pattern\":{\"fillmode\":\"overlay\",\"size\":10,\"solidity\":0.2}},\"type\":\"barpolar\"}],\"pie\":[{\"automargin\":true,\"type\":\"pie\"}]},\"layout\":{\"autotypenumbers\":\"strict\",\"colorway\":[\"#636efa\",\"#EF553B\",\"#00cc96\",\"#ab63fa\",\"#FFA15A\",\"#19d3f3\",\"#FF6692\",\"#B6E880\",\"#FF97FF\",\"#FECB52\"],\"font\":{\"color\":\"#2a3f5f\"},\"hovermode\":\"closest\",\"hoverlabel\":{\"align\":\"left\"},\"paper_bgcolor\":\"white\",\"plot_bgcolor\":\"#E5ECF6\",\"polar\":{\"bgcolor\":\"#E5ECF6\",\"angularaxis\":{\"gridcolor\":\"white\",\"linecolor\":\"white\",\"ticks\":\"\"},\"radialaxis\":{\"gridcolor\":\"white\",\"linecolor\":\"white\",\"ticks\":\"\"}},\"ternary\":{\"bgcolor\":\"#E5ECF6\",\"aaxis\":{\"gridcolor\":\"white\",\"linecolor\":\"white\",\"ticks\":\"\"},\"baxis\":{\"gridcolor\":\"white\",\"linecolor\":\"white\",\"ticks\":\"\"},\"caxis\":{\"gridcolor\":\"white\",\"linecolor\":\"white\",\"ticks\":\"\"}},\"coloraxis\":{\"colorbar\":{\"outlinewidth\":0,\"ticks\":\"\"}},\"colorscale\":{\"sequential\":[[0.0,\"#0d0887\"],[0.1111111111111111,\"#46039f\"],[0.2222222222222222,\"#7201a8\"],[0.3333333333333333,\"#9c179e\"],[0.4444444444444444,\"#bd3786\"],[0.5555555555555556,\"#d8576b\"],[0.6666666666666666,\"#ed7953\"],[0.7777777777777778,\"#fb9f3a\"],[0.8888888888888888,\"#fdca26\"],[1.0,\"#f0f921\"]],\"sequentialminus\":[[0.0,\"#0d0887\"],[0.1111111111111111,\"#46039f\"],[0.2222222222222222,\"#7201a8\"],[0.3333333333333333,\"#9c179e\"],[0.4444444444444444,\"#bd3786\"],[0.5555555555555556,\"#d8576b\"],[0.6666666666666666,\"#ed7953\"],[0.7777777777777778,\"#fb9f3a\"],[0.8888888888888888,\"#fdca26\"],[1.0,\"#f0f921\"]],\"diverging\":[[0,\"#8e0152\"],[0.1,\"#c51b7d\"],[0.2,\"#de77ae\"],[0.3,\"#f1b6da\"],[0.4,\"#fde0ef\"],[0.5,\"#f7f7f7\"],[0.6,\"#e6f5d0\"],[0.7,\"#b8e186\"],[0.8,\"#7fbc41\"],[0.9,\"#4d9221\"],[1,\"#276419\"]]},\"xaxis\":{\"gridcolor\":\"white\",\"linecolor\":\"white\",\"ticks\":\"\",\"title\":{\"standoff\":15},\"zerolinecolor\":\"white\",\"automargin\":true,\"zerolinewidth\":2},\"yaxis\":{\"gridcolor\":\"white\",\"linecolor\":\"white\",\"ticks\":\"\",\"title\":{\"standoff\":15},\"zerolinecolor\":\"white\",\"automargin\":true,\"zerolinewidth\":2},\"scene\":{\"xaxis\":{\"backgroundcolor\":\"#E5ECF6\",\"gridcolor\":\"white\",\"linecolor\":\"white\",\"showbackground\":true,\"ticks\":\"\",\"zerolinecolor\":\"white\",\"gridwidth\":2},\"yaxis\":{\"backgroundcolor\":\"#E5ECF6\",\"gridcolor\":\"white\",\"linecolor\":\"white\",\"showbackground\":true,\"ticks\":\"\",\"zerolinecolor\":\"white\",\"gridwidth\":2},\"zaxis\":{\"backgroundcolor\":\"#E5ECF6\",\"gridcolor\":\"white\",\"linecolor\":\"white\",\"showbackground\":true,\"ticks\":\"\",\"zerolinecolor\":\"white\",\"gridwidth\":2}},\"shapedefaults\":{\"line\":{\"color\":\"#2a3f5f\"}},\"annotationdefaults\":{\"arrowcolor\":\"#2a3f5f\",\"arrowhead\":0,\"arrowwidth\":1},\"geo\":{\"bgcolor\":\"white\",\"landcolor\":\"#E5ECF6\",\"subunitcolor\":\"white\",\"showland\":true,\"showlakes\":true,\"lakecolor\":\"white\"},\"title\":{\"x\":0.05},\"mapbox\":{\"style\":\"light\"}}},\"xaxis\":{\"anchor\":\"y\",\"domain\":[0.0,1.0],\"title\":{\"text\":\"test preparation course\"}},\"yaxis\":{\"anchor\":\"x\",\"domain\":[0.0,1.0],\"title\":{\"text\":\"average score\"}},\"legend\":{\"tracegroupgap\":0},\"margin\":{\"t\":60},\"boxmode\":\"group\"},                        {\"responsive\": true}                    ).then(function(){\n",
              "                            \n",
              "var gd = document.getElementById('4d7b3bf8-b87d-42f4-8171-409dcbf9956d');\n",
              "var x = new MutationObserver(function (mutations, observer) {{\n",
              "        var display = window.getComputedStyle(gd).display;\n",
              "        if (!display || display === 'none') {{\n",
              "            console.log([gd, 'removed!']);\n",
              "            Plotly.purge(gd);\n",
              "            observer.disconnect();\n",
              "        }}\n",
              "}});\n",
              "\n",
              "// Listen for the removal of the full notebook cells\n",
              "var notebookContainer = gd.closest('#notebook-container');\n",
              "if (notebookContainer) {{\n",
              "    x.observe(notebookContainer, {childList: true});\n",
              "}}\n",
              "\n",
              "// Listen for the clearing of the current output cell\n",
              "var outputEl = gd.closest('.output');\n",
              "if (outputEl) {{\n",
              "    x.observe(outputEl, {childList: true});\n",
              "}}\n",
              "\n",
              "                        })                };                            </script>        </div>\n",
              "</body>\n",
              "</html>"
            ]
          },
          "metadata": {}
        }
      ]
    },
    {
      "cell_type": "markdown",
      "source": [
        "I did not need to do this, I just wanted to.  Boxplots are a significantly better way of obtaining an overview of a dataset, as they show the median/min/max/outliers/etc.  This one shows that students that have completed a test preparation course generally have higher scores, and higher minimums and outliers."
      ],
      "metadata": {
        "id": "nf0zA2lQzl1s"
      }
    },
    {
      "cell_type": "markdown",
      "source": [
        "Finally, let's save all of these."
      ],
      "metadata": {
        "id": "jF2yuNa30B-l"
      }
    },
    {
      "cell_type": "code",
      "source": [
        "for figure in fig_list:\n",
        "  fig_list[figure].write_image(f'./{parent_dir}/{results_dir}/{figure}.png')"
      ],
      "metadata": {
        "id": "ZGGmYu9DIXJl"
      },
      "execution_count": 44,
      "outputs": []
    },
    {
      "cell_type": "markdown",
      "source": [
        "### Cleanup"
      ],
      "metadata": {
        "id": "7Wu4tgFNI-Z5"
      }
    },
    {
      "cell_type": "code",
      "source": [
        "!zip -r './{parent_dir}.zip' './{parent_dir}' # Zip up the directory to be downloaded"
      ],
      "metadata": {
        "colab": {
          "base_uri": "https://localhost:8080/"
        },
        "id": "OcrfWTKlI_w9",
        "outputId": "7b9e4230-bd64-4ffe-ffcb-3370e4444820"
      },
      "execution_count": 38,
      "outputs": [
        {
          "output_type": "stream",
          "name": "stdout",
          "text": [
            "  adding: Assignment_1-2_Student-Performance-Visualizations/ (stored 0%)\n",
            "  adding: Assignment_1-2_Student-Performance-Visualizations/src/ (stored 0%)\n",
            "  adding: Assignment_1-2_Student-Performance-Visualizations/data_raw/ (stored 0%)\n",
            "  adding: Assignment_1-2_Student-Performance-Visualizations/data_raw/README.md (stored 0%)\n",
            "  adding: Assignment_1-2_Student-Performance-Visualizations/data_raw/StudentsPerformance.csv (deflated 89%)\n",
            "  adding: Assignment_1-2_Student-Performance-Visualizations/data_clean/ (stored 0%)\n",
            "  adding: Assignment_1-2_Student-Performance-Visualizations/data_clean/StudentsPerformance_clean.csv (deflated 84%)\n",
            "  adding: Assignment_1-2_Student-Performance-Visualizations/results/ (stored 0%)\n",
            "  adding: Assignment_1-2_Student-Performance-Visualizations/results/hist_fig.png (deflated 32%)\n",
            "  adding: Assignment_1-2_Student-Performance-Visualizations/results/line_fig.png (deflated 15%)\n",
            "  adding: Assignment_1-2_Student-Performance-Visualizations/results/write_hist_fig.png (deflated 28%)\n",
            "  adding: Assignment_1-2_Student-Performance-Visualizations/results/read_hist_fig.png (deflated 28%)\n",
            "  adding: Assignment_1-2_Student-Performance-Visualizations/results/box_fig.png (deflated 36%)\n",
            "  adding: Assignment_1-2_Student-Performance-Visualizations/results/math_hist_fig.png (deflated 27%)\n",
            "  adding: Assignment_1-2_Student-Performance-Visualizations/results/pie_fig.png (deflated 9%)\n",
            "  adding: Assignment_1-2_Student-Performance-Visualizations/results/scatter_fig.png (deflated 9%)\n"
          ]
        }
      ]
    },
    {
      "cell_type": "markdown",
      "source": [
        "Finally, don't forget to save this notebook in:"
      ],
      "metadata": {
        "id": "Ae-h5Y-nIux1"
      }
    },
    {
      "cell_type": "code",
      "source": [
        "print(f'./{parent_dir}/{source_dir}')"
      ],
      "metadata": {
        "colab": {
          "base_uri": "https://localhost:8080/"
        },
        "id": "UwbrXfA0Ixvd",
        "outputId": "2146f850-cdc2-4cd2-d2b2-52b985b0b5b2"
      },
      "execution_count": 37,
      "outputs": [
        {
          "output_type": "stream",
          "name": "stdout",
          "text": [
            "./Assignment_1-2_Student-Performance-Visualizations/src\n"
          ]
        }
      ]
    }
  ]
}